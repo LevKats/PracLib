{
 "cells": [
  {
   "cell_type": "code",
   "execution_count": null,
   "metadata": {},
   "outputs": [],
   "source": [
    "from tables import start\n",
    "start()"
   ]
  },
  {
   "cell_type": "code",
   "execution_count": 1,
   "metadata": {},
   "outputs": [
    {
     "data": {
      "text/html": [
       "<div>\n",
       "<style scoped>\n",
       "    .dataframe tbody tr th:only-of-type {\n",
       "        vertical-align: middle;\n",
       "    }\n",
       "\n",
       "    .dataframe tbody tr th {\n",
       "        vertical-align: top;\n",
       "    }\n",
       "\n",
       "    .dataframe thead th {\n",
       "        text-align: right;\n",
       "    }\n",
       "</style>\n",
       "<table border=\"1\" class=\"dataframe\">\n",
       "  <thead>\n",
       "    <tr style=\"text-align: right;\">\n",
       "      <th></th>\n",
       "      <th>0</th>\n",
       "      <th>1</th>\n",
       "      <th>2</th>\n",
       "    </tr>\n",
       "  </thead>\n",
       "  <tbody>\n",
       "    <tr>\n",
       "      <th>0</th>\n",
       "      <td>204 ± 5</td>\n",
       "      <td>5.6 ± 0.5</td>\n",
       "      <td>0.179 ± 0.016</td>\n",
       "    </tr>\n",
       "    <tr>\n",
       "      <th>1</th>\n",
       "      <td>180 ± 5</td>\n",
       "      <td>6.3 ± 0.5</td>\n",
       "      <td>0.159 ± 0.013</td>\n",
       "    </tr>\n",
       "    <tr>\n",
       "      <th>2</th>\n",
       "      <td>160 ± 5</td>\n",
       "      <td>7.0 ± 0.5</td>\n",
       "      <td>0.143 ± 0.010</td>\n",
       "    </tr>\n",
       "    <tr>\n",
       "      <th>3</th>\n",
       "      <td>140 ± 5</td>\n",
       "      <td>7.8 ± 0.5</td>\n",
       "      <td>0.128 ± 0.008</td>\n",
       "    </tr>\n",
       "    <tr>\n",
       "      <th>4</th>\n",
       "      <td>120 ± 5</td>\n",
       "      <td>8.4 ± 0.5</td>\n",
       "      <td>0.119 ± 0.007</td>\n",
       "    </tr>\n",
       "    <tr>\n",
       "      <th>5</th>\n",
       "      <td>100 ± 5</td>\n",
       "      <td>9.5 ± 0.5</td>\n",
       "      <td>0.105 ± 0.006</td>\n",
       "    </tr>\n",
       "    <tr>\n",
       "      <th>6</th>\n",
       "      <td>80 ± 5</td>\n",
       "      <td>10.3 ± 0.5</td>\n",
       "      <td>0.097 ± 0.005</td>\n",
       "    </tr>\n",
       "    <tr>\n",
       "      <th>7</th>\n",
       "      <td>60 ± 5</td>\n",
       "      <td>11.8 ± 0.5</td>\n",
       "      <td>0.085 ± 0.004</td>\n",
       "    </tr>\n",
       "    <tr>\n",
       "      <th>8</th>\n",
       "      <td>40 ± 5</td>\n",
       "      <td>12.9 ± 0.5</td>\n",
       "      <td>0.078 ± 0.003</td>\n",
       "    </tr>\n",
       "  </tbody>\n",
       "</table>\n",
       "</div>"
      ],
      "text/plain": [
       "         0           1              2\n",
       "0  204 ± 5   5.6 ± 0.5  0.179 ± 0.016\n",
       "1  180 ± 5   6.3 ± 0.5  0.159 ± 0.013\n",
       "2  160 ± 5   7.0 ± 0.5  0.143 ± 0.010\n",
       "3  140 ± 5   7.8 ± 0.5  0.128 ± 0.008\n",
       "4  120 ± 5   8.4 ± 0.5  0.119 ± 0.007\n",
       "5  100 ± 5   9.5 ± 0.5  0.105 ± 0.006\n",
       "6   80 ± 5  10.3 ± 0.5  0.097 ± 0.005\n",
       "7   60 ± 5  11.8 ± 0.5  0.085 ± 0.004\n",
       "8   40 ± 5  12.9 ± 0.5  0.078 ± 0.003"
      ]
     },
     "execution_count": 1,
     "metadata": {},
     "output_type": "execute_result"
    }
   ],
   "source": [
    "import pandas as pd\n",
    "from value import Value\n",
    "df = pd.read_csv(\"tables/218.tab\", sep=\"\\t\", header=None)\n",
    "# df = df.applymap(lambda x: Value(values=[x], syst=5), axis=1)\n",
    "df[0] = df[0].apply(lambda x: Value(values=[x], syst=5))\n",
    "df[1] = df[1].apply(lambda x: Value(values=[x], syst=0.5))\n",
    "df[2] = df[1].apply(lambda x: x ** -1)\n",
    "df"
   ]
  },
  {
   "cell_type": "code",
   "execution_count": 3,
   "metadata": {},
   "outputs": [
    {
     "data": {
      "image/png": "[encoded data removed]",
      "text/plain": [
       "<Figure size 576x432 with 1 Axes>"
      ]
     },
     "metadata": {
      "needs_background": "light"
     },
     "output_type": "display_data"
    }
   ],
   "source": [
    "from plotter import Plotter\n",
    "%matplotlib inline\n",
    "\n",
    "fit = Plotter(draw_legend=False).set_name(\"218\").set_title(\"\").set_y_name(\"$1 / \\\\Delta T, 1 / K$\").set_x_name(\n",
    "        \"$\\\\Delta p, Pa$\"). \\\n",
    "        add_line(Plotter.get_new_line(y_value=df[2], x_value=df[0],\n",
    "                                      draw_error=True, legend='$P_1$', fit=True, color='black', marker=\"s\")).\\\n",
    "        plot(show=True, save=True)"
   ]
  },
  {
   "cell_type": "code",
   "execution_count": 7,
   "metadata": {},
   "outputs": [
    {
     "name": "stdout",
     "output_type": "stream",
     "text": [
      "5.0 ± 0.4\n"
     ]
    }
   ],
   "source": [
    "A = Value(values=[float(fit[0].a)], syst=float(fit[0].sigma_a))\n",
    "W = Value(values=[3.77, 3.73, 3.72], syst=0.1)\n",
    "p = Value(values=[101192], syst=100)\n",
    "beta = Value(values=[1.91 * 10**-6], syst=0.08 * 10 ** -6)\n",
    "R = Value(const=8.31)\n",
    "T0 = Value(values=[298], syst=1)\n",
    "print(((A * W * T0) / (beta * p) - 1) * 2)"
   ]
  },
  {
   "cell_type": "code",
   "execution_count": null,
   "metadata": {},
   "outputs": [],
   "source": []
  }
 ],
 "metadata": {
  "kernelspec": {
   "display_name": "Python 3",
   "language": "python",
   "name": "python3"
  },
  "language_info": {
   "codemirror_mode": {
    "name": "ipython",
    "version": 3
   },
   "file_extension": ".py",
   "mimetype": "text/x-python",
   "name": "python",
   "nbconvert_exporter": "python",
   "pygments_lexer": "ipython3",
   "version": "3.6.7"
  }
 },
 "nbformat": 4,
 "nbformat_minor": 1
}
