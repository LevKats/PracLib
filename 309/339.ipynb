{
 "cells": [
  {
   "cell_type": "code",
   "execution_count": 1,
   "metadata": {},
   "outputs": [],
   "source": [
    "from prac_code.value import Value\n",
    "from prac_code.plotter import Plotter\n",
    "from prac_code.tables import start"
   ]
  },
  {
   "cell_type": "code",
   "execution_count": 2,
   "metadata": {},
   "outputs": [],
   "source": [
    "import pandas as pd\n",
    "import numpy as np"
   ]
  },
  {
   "cell_type": "markdown",
   "metadata": {},
   "source": [
    "Упражнение 2"
   ]
  },
  {
   "cell_type": "code",
   "execution_count": 3,
   "metadata": {},
   "outputs": [
    {
     "name": "stdout",
     "output_type": "stream",
     "text": [
      "C1 = 1.08e-7 ± 6e-9 C2 = 5.5e-7 ± 3e-8 C3 = 9.4e-7 ± 5e-8\n"
     ]
    }
   ],
   "source": [
    "R3 = 2.0e3\n",
    "R3 = Value(values=[R3], syst=R3 * 0.05)\n",
    "t1 = Value(values=[0.2152], syst=0.0049) / 1000\n",
    "t2 = Value(values=[1.1070], syst=0.0080) / 1000\n",
    "t3 = Value(values=[1.8770], syst=0.014) / 1000\n",
    "C1 = t1 / R3\n",
    "C2 = t2 / R3\n",
    "C3 = t3 / R3\n",
    "print(\"C1 = {} C2 = {} C3 = {}\".format(C1, C2, C3))"
   ]
  },
  {
   "cell_type": "markdown",
   "metadata": {},
   "source": [
    "Упражнение 3"
   ]
  },
  {
   "cell_type": "code",
   "execution_count": 4,
   "metadata": {},
   "outputs": [
    {
     "name": "stdout",
     "output_type": "stream",
     "text": [
      "R4 = 3.5e+3 ± 2e+2 | 3.71e+3 ± 1.9e+2 | 3.91e+3 ± 2.0e+2\n",
      "R2 = 217 ± 12 R5 = 1.07e+4 ± 5e+2\n"
     ]
    }
   ],
   "source": [
    "t1 = Value(values=[0.3770], syst=0.0059) / 1000\n",
    "t2 = Value(values=[2.053], syst=0.0101) / 1000\n",
    "t3 = Value(values=[3.6683], syst=0.0134) / 1000\n",
    "R41 = t1 / C1\n",
    "R42 = t2 / C2\n",
    "R43 = t3 / C3\n",
    "print(\"R4 = {} | {} | {}\".format(R41, R42, R43))\n",
    "t4 = Value(values=[0.2036], syst=0.0037) / 1000\n",
    "t5 = Value(values=[10.0098], syst=0.0352) / 1000\n",
    "R2 = t4 / C3\n",
    "R5 = t5 / C3\n",
    "print(\"R2 = {} R5 = {}\".format(R2, R5))"
   ]
  },
  {
   "cell_type": "markdown",
   "metadata": {},
   "source": [
    "Упражнение 4"
   ]
  },
  {
   "cell_type": "code",
   "execution_count": 5,
   "metadata": {},
   "outputs": [
    {
     "name": "stdout",
     "output_type": "stream",
     "text": [
      "L = 0.363 ± 0.018 | 0.358 ± 0.019 | 0.335 ± 0.020\n"
     ]
    }
   ],
   "source": [
    "t1 = Value(values=[3.0234], syst=0.0284) / 1000\n",
    "t2 = Value(values=[1.6524], syst=0.0123) / 1000\n",
    "t3 = Value(values=[0.1673], syst=0.0053) / 1000\n",
    "R1 = 120\n",
    "R1 = Value(values=[R1], syst=R1 * 0.05)\n",
    "L1 = t1 * R1\n",
    "L2 = t2 * R2\n",
    "L3 = t3 * R3\n",
    "print(\"L = {} | {} | {}\".format(L1, L2, L3))"
   ]
  },
  {
   "cell_type": "markdown",
   "metadata": {},
   "source": [
    "Упражнение 5"
   ]
  },
  {
   "cell_type": "code",
   "execution_count": null,
   "metadata": {},
   "outputs": [],
   "source": [
    "start()"
   ]
  },
  {
   "cell_type": "code",
   "execution_count": 48,
   "metadata": {},
   "outputs": [
    {
     "data": {
      "text/html": [
       "<div>\n",
       "<style scoped>\n",
       "    .dataframe tbody tr th:only-of-type {\n",
       "        vertical-align: middle;\n",
       "    }\n",
       "\n",
       "    .dataframe tbody tr th {\n",
       "        vertical-align: top;\n",
       "    }\n",
       "\n",
       "    .dataframe thead th {\n",
       "        text-align: right;\n",
       "    }\n",
       "</style>\n",
       "<table border=\"1\" class=\"dataframe\">\n",
       "  <thead>\n",
       "    <tr style=\"text-align: right;\">\n",
       "      <th></th>\n",
       "      <th>t1</th>\n",
       "      <th>t2</th>\n",
       "      <th>U1</th>\n",
       "      <th>U2</th>\n",
       "      <th>U3</th>\n",
       "      <th>mU</th>\n",
       "    </tr>\n",
       "  </thead>\n",
       "  <tbody>\n",
       "    <tr>\n",
       "      <td>0</td>\n",
       "      <td>2.11</td>\n",
       "      <td>0.96</td>\n",
       "      <td>4.00</td>\n",
       "      <td>3.56</td>\n",
       "      <td>3.11</td>\n",
       "      <td>5</td>\n",
       "    </tr>\n",
       "    <tr>\n",
       "      <td>1</td>\n",
       "      <td>4.42</td>\n",
       "      <td>1.73</td>\n",
       "      <td>9.32</td>\n",
       "      <td>8.42</td>\n",
       "      <td>7.76</td>\n",
       "      <td>5</td>\n",
       "    </tr>\n",
       "    <tr>\n",
       "      <td>2</td>\n",
       "      <td>5.84</td>\n",
       "      <td>2.18</td>\n",
       "      <td>9.33</td>\n",
       "      <td>8.39</td>\n",
       "      <td>7.33</td>\n",
       "      <td>5</td>\n",
       "    </tr>\n",
       "  </tbody>\n",
       "</table>\n",
       "</div>"
      ],
      "text/plain": [
       "     t1    t2    U1    U2    U3  mU\n",
       "0  2.11  0.96  4.00  3.56  3.11   5\n",
       "1  4.42  1.73  9.32  8.42  7.76   5\n",
       "2  5.84  2.18  9.33  8.39  7.33   5"
      ]
     },
     "execution_count": 48,
     "metadata": {},
     "output_type": "execute_result"
    }
   ],
   "source": [
    "tab1 = pd.read_csv(\"tables/1.tab\", sep=\"\\t\")\n",
    "tab1"
   ]
  },
  {
   "cell_type": "code",
   "execution_count": 49,
   "metadata": {},
   "outputs": [
    {
     "data": {
      "text/html": [
       "<div>\n",
       "<style scoped>\n",
       "    .dataframe tbody tr th:only-of-type {\n",
       "        vertical-align: middle;\n",
       "    }\n",
       "\n",
       "    .dataframe tbody tr th {\n",
       "        vertical-align: top;\n",
       "    }\n",
       "\n",
       "    .dataframe thead th {\n",
       "        text-align: right;\n",
       "    }\n",
       "</style>\n",
       "<table border=\"1\" class=\"dataframe\">\n",
       "  <thead>\n",
       "    <tr style=\"text-align: right;\">\n",
       "      <th></th>\n",
       "      <th>t1</th>\n",
       "      <th>t2</th>\n",
       "      <th>U1</th>\n",
       "      <th>U2</th>\n",
       "      <th>U3</th>\n",
       "      <th>mU</th>\n",
       "      <th>T</th>\n",
       "      <th>theta</th>\n",
       "      <th>Q</th>\n",
       "    </tr>\n",
       "  </thead>\n",
       "  <tbody>\n",
       "    <tr>\n",
       "      <td>0</td>\n",
       "      <td>2.11</td>\n",
       "      <td>0.96</td>\n",
       "      <td>4.00 ± 0.05</td>\n",
       "      <td>3.56 ± 0.05</td>\n",
       "      <td>3.11 ± 0.05</td>\n",
       "      <td>5</td>\n",
       "      <td>1.15 ± 0.05</td>\n",
       "      <td>0.117 ± 0.019</td>\n",
       "      <td>27 ± 4</td>\n",
       "    </tr>\n",
       "    <tr>\n",
       "      <td>1</td>\n",
       "      <td>4.42</td>\n",
       "      <td>1.73</td>\n",
       "      <td>9.32 ± 0.05</td>\n",
       "      <td>8.42 ± 0.05</td>\n",
       "      <td>7.76 ± 0.05</td>\n",
       "      <td>5</td>\n",
       "      <td>2.69 ± 0.05</td>\n",
       "      <td>0.102 ± 0.008</td>\n",
       "      <td>31 ± 2</td>\n",
       "    </tr>\n",
       "    <tr>\n",
       "      <td>2</td>\n",
       "      <td>5.84</td>\n",
       "      <td>2.18</td>\n",
       "      <td>9.33 ± 0.05</td>\n",
       "      <td>8.39 ± 0.05</td>\n",
       "      <td>7.33 ± 0.05</td>\n",
       "      <td>5</td>\n",
       "      <td>3.66 ± 0.05</td>\n",
       "      <td>0.106 ± 0.008</td>\n",
       "      <td>30 ± 2</td>\n",
       "    </tr>\n",
       "  </tbody>\n",
       "</table>\n",
       "</div>"
      ],
      "text/plain": [
       "     t1    t2           U1           U2           U3  mU            T  \\\n",
       "0  2.11  0.96  4.00 ± 0.05  3.56 ± 0.05  3.11 ± 0.05   5  1.15 ± 0.05   \n",
       "1  4.42  1.73  9.32 ± 0.05  8.42 ± 0.05  7.76 ± 0.05   5  2.69 ± 0.05   \n",
       "2  5.84  2.18  9.33 ± 0.05  8.39 ± 0.05  7.33 ± 0.05   5  3.66 ± 0.05   \n",
       "\n",
       "           theta       Q  \n",
       "0  0.117 ± 0.019  27 ± 4  \n",
       "1  0.102 ± 0.008  31 ± 2  \n",
       "2  0.106 ± 0.008  30 ± 2  "
      ]
     },
     "execution_count": 49,
     "metadata": {},
     "output_type": "execute_result"
    }
   ],
   "source": [
    "tab1[\"T\"] = (tab1[\"t1\"] - tab1[\"t2\"]).apply(Value) + Value(values=[0.0], syst=0.05)\n",
    "tab1[\"U1\"] = tab1[\"U1\"].apply(Value) + Value(values=[0.0], syst=0.05)\n",
    "tab1[\"U2\"] = tab1[\"U2\"].apply(Value) + Value(values=[0.0], syst=0.05)\n",
    "tab1[\"U3\"] = tab1[\"U3\"].apply(Value) + Value(values=[0.0], syst=0.05)\n",
    "from sympy import log\n",
    "tab1[\"theta\"] = ((tab1[\"U1\"] / tab1[\"U2\"]).apply(lambda v: v.use_func(log)) + (tab1[\"U1\"] / tab1[\"U2\"]).apply(lambda v: v.use_func(log))) / 2.0\n",
    "from math import pi\n",
    "tab1[\"Q\"] = pi / tab1[\"theta\"]\n",
    "tab1"
   ]
  },
  {
   "cell_type": "code",
   "execution_count": 40,
   "metadata": {},
   "outputs": [
    {
     "data": {
      "image/png": "[encoded data removed]",
      "text/plain": [
       "<Figure size 576x432 with 1 Axes>"
      ]
     },
     "metadata": {
      "needs_background": "light"
     },
     "output_type": "display_data"
    }
   ],
   "source": [
    "fit, *_ = Plotter(draw_legend=False).set_name(\"309_1\").set_title(\"\").set_y_name(\"$T^2, ms^2$\").set_x_name(\n",
    "        \"$C, \\mu F$\"). \\\n",
    "        add_line(Plotter.get_new_line(y_value=(tab1[\"T\"]) ** 2, x_value=np.array([C1, C2, C3]) * 10 ** 6,\n",
    "                                      draw_error=True, legend='$P_1$', fit=True, color='black', marker=\"s\")).\\\n",
    "        plot(show=True, save=True)"
   ]
  },
  {
   "cell_type": "code",
   "execution_count": 44,
   "metadata": {},
   "outputs": [
    {
     "name": "stdout",
     "output_type": "stream",
     "text": [
      "L = 0.358 ± 0.016\n"
     ]
    }
   ],
   "source": [
    "a = Value(values=[fit.a], syst=fit.sigma_a)\n",
    "print(\"L = {}\".format(a / (4 * pi ** 2)))"
   ]
  },
  {
   "cell_type": "markdown",
   "metadata": {},
   "source": [
    "Удивительное совпадение!"
   ]
  },
  {
   "cell_type": "code",
   "execution_count": 45,
   "metadata": {},
   "outputs": [],
   "source": [
    "start()"
   ]
  },
  {
   "cell_type": "code",
   "execution_count": 60,
   "metadata": {},
   "outputs": [
    {
     "data": {
      "text/html": [
       "<div>\n",
       "<style scoped>\n",
       "    .dataframe tbody tr th:only-of-type {\n",
       "        vertical-align: middle;\n",
       "    }\n",
       "\n",
       "    .dataframe tbody tr th {\n",
       "        vertical-align: top;\n",
       "    }\n",
       "\n",
       "    .dataframe thead th {\n",
       "        text-align: right;\n",
       "    }\n",
       "</style>\n",
       "<table border=\"1\" class=\"dataframe\">\n",
       "  <thead>\n",
       "    <tr style=\"text-align: right;\">\n",
       "      <th></th>\n",
       "      <th>t1</th>\n",
       "      <th>t2</th>\n",
       "      <th>U1</th>\n",
       "      <th>U2</th>\n",
       "      <th>U3</th>\n",
       "      <th>mU</th>\n",
       "      <th>T</th>\n",
       "      <th>theta</th>\n",
       "      <th>Q</th>\n",
       "    </tr>\n",
       "  </thead>\n",
       "  <tbody>\n",
       "    <tr>\n",
       "      <td>0</td>\n",
       "      <td>2.04</td>\n",
       "      <td>0.92</td>\n",
       "      <td>8.81 ± 0.05</td>\n",
       "      <td>7.69 ± 0.05</td>\n",
       "      <td>6.85 ± 0.05</td>\n",
       "      <td>5</td>\n",
       "      <td>1.12 ± 0.05</td>\n",
       "      <td>0.136 ± 0.009</td>\n",
       "      <td>23.1 ± 1.5</td>\n",
       "    </tr>\n",
       "    <tr>\n",
       "      <td>1</td>\n",
       "      <td>4.34</td>\n",
       "      <td>1.65</td>\n",
       "      <td>8.41 ± 0.05</td>\n",
       "      <td>6.65 ± 0.05</td>\n",
       "      <td>5.69 ± 0.05</td>\n",
       "      <td>5</td>\n",
       "      <td>2.69 ± 0.05</td>\n",
       "      <td>0.235 ± 0.010</td>\n",
       "      <td>13.4 ± 0.5</td>\n",
       "    </tr>\n",
       "    <tr>\n",
       "      <td>2</td>\n",
       "      <td>5.69</td>\n",
       "      <td>2.04</td>\n",
       "      <td>8.08 ± 0.05</td>\n",
       "      <td>6.14 ± 0.05</td>\n",
       "      <td>5.39 ± 0.05</td>\n",
       "      <td>5</td>\n",
       "      <td>3.65 ± 0.05</td>\n",
       "      <td>0.275 ± 0.010</td>\n",
       "      <td>11.4 ± 0.4</td>\n",
       "    </tr>\n",
       "  </tbody>\n",
       "</table>\n",
       "</div>"
      ],
      "text/plain": [
       "     t1    t2           U1           U2           U3  mU            T  \\\n",
       "0  2.04  0.92  8.81 ± 0.05  7.69 ± 0.05  6.85 ± 0.05   5  1.12 ± 0.05   \n",
       "1  4.34  1.65  8.41 ± 0.05  6.65 ± 0.05  5.69 ± 0.05   5  2.69 ± 0.05   \n",
       "2  5.69  2.04  8.08 ± 0.05  6.14 ± 0.05  5.39 ± 0.05   5  3.65 ± 0.05   \n",
       "\n",
       "           theta           Q  \n",
       "0  0.136 ± 0.009  23.1 ± 1.5  \n",
       "1  0.235 ± 0.010  13.4 ± 0.5  \n",
       "2  0.275 ± 0.010  11.4 ± 0.4  "
      ]
     },
     "execution_count": 60,
     "metadata": {},
     "output_type": "execute_result"
    }
   ],
   "source": [
    "tab2 = pd.read_csv(\"tables/2.tab\", sep=\"\\t\")\n",
    "tab2[\"T\"] = (tab2[\"t1\"] - tab2[\"t2\"]).apply(Value) + Value(values=[0.0], syst=0.05)\n",
    "tab2[\"U1\"] = tab2[\"U1\"].apply(Value) + Value(values=[0.0], syst=0.05)\n",
    "tab2[\"U2\"] = tab2[\"U2\"].apply(Value) + Value(values=[0.0], syst=0.05)\n",
    "tab2[\"U3\"] = tab2[\"U3\"].apply(Value) + Value(values=[0.0], syst=0.05)\n",
    "tab2[\"theta\"] = ((tab2[\"U1\"] / tab2[\"U2\"]).apply(lambda v: v.use_func(log)) + (tab2[\"U1\"] / tab2[\"U2\"]).apply(lambda v: v.use_func(log))) / 2.0\n",
    "tab2[\"Q\"] = pi / tab2[\"theta\"]\n",
    "tab2"
   ]
  },
  {
   "cell_type": "code",
   "execution_count": 50,
   "metadata": {},
   "outputs": [
    {
     "data": {
      "text/html": [
       "<div>\n",
       "<style scoped>\n",
       "    .dataframe tbody tr th:only-of-type {\n",
       "        vertical-align: middle;\n",
       "    }\n",
       "\n",
       "    .dataframe tbody tr th {\n",
       "        vertical-align: top;\n",
       "    }\n",
       "\n",
       "    .dataframe thead th {\n",
       "        text-align: right;\n",
       "    }\n",
       "</style>\n",
       "<table border=\"1\" class=\"dataframe\">\n",
       "  <thead>\n",
       "    <tr style=\"text-align: right;\">\n",
       "      <th></th>\n",
       "      <th>t1</th>\n",
       "      <th>t2</th>\n",
       "      <th>U1</th>\n",
       "      <th>U2</th>\n",
       "      <th>U3</th>\n",
       "      <th>mU</th>\n",
       "      <th>T</th>\n",
       "      <th>theta</th>\n",
       "      <th>Q</th>\n",
       "    </tr>\n",
       "  </thead>\n",
       "  <tbody>\n",
       "    <tr>\n",
       "      <td>0</td>\n",
       "      <td>2.08</td>\n",
       "      <td>0.92</td>\n",
       "      <td>8.52 ± 0.05</td>\n",
       "      <td>7.09 ± 0.05</td>\n",
       "      <td>6.25 ± 0.05</td>\n",
       "      <td>5</td>\n",
       "      <td>1.16 ± 0.05</td>\n",
       "      <td>0.184 ± 0.009</td>\n",
       "      <td>17.1 ± 0.9</td>\n",
       "    </tr>\n",
       "    <tr>\n",
       "      <td>1</td>\n",
       "      <td>4.34</td>\n",
       "      <td>1.61</td>\n",
       "      <td>7.89 ± 0.05</td>\n",
       "      <td>5.88 ± 0.05</td>\n",
       "      <td>5.26 ± 0.05</td>\n",
       "      <td>5</td>\n",
       "      <td>2.73 ± 0.05</td>\n",
       "      <td>0.294 ± 0.011</td>\n",
       "      <td>10.7 ± 0.4</td>\n",
       "    </tr>\n",
       "    <tr>\n",
       "      <td>2</td>\n",
       "      <td>5.57</td>\n",
       "      <td>1.96</td>\n",
       "      <td>7.50 ± 0.05</td>\n",
       "      <td>5.52 ± 0.05</td>\n",
       "      <td>5.04 ± 0.05</td>\n",
       "      <td>5</td>\n",
       "      <td>3.61 ± 0.05</td>\n",
       "      <td>0.307 ± 0.011</td>\n",
       "      <td>10.2 ± 0.4</td>\n",
       "    </tr>\n",
       "  </tbody>\n",
       "</table>\n",
       "</div>"
      ],
      "text/plain": [
       "     t1    t2           U1           U2           U3  mU            T  \\\n",
       "0  2.08  0.92  8.52 ± 0.05  7.09 ± 0.05  6.25 ± 0.05   5  1.16 ± 0.05   \n",
       "1  4.34  1.61  7.89 ± 0.05  5.88 ± 0.05  5.26 ± 0.05   5  2.73 ± 0.05   \n",
       "2  5.57  1.96  7.50 ± 0.05  5.52 ± 0.05  5.04 ± 0.05   5  3.61 ± 0.05   \n",
       "\n",
       "           theta           Q  \n",
       "0  0.184 ± 0.009  17.1 ± 0.9  \n",
       "1  0.294 ± 0.011  10.7 ± 0.4  \n",
       "2  0.307 ± 0.011  10.2 ± 0.4  "
      ]
     },
     "execution_count": 50,
     "metadata": {},
     "output_type": "execute_result"
    }
   ],
   "source": [
    "tab3 = pd.read_csv(\"tables/3.tab\", sep=\"\\t\")\n",
    "tab3[\"T\"] = (tab3[\"t1\"] - tab3[\"t2\"]).apply(Value) + Value(values=[0.0], syst=0.05)\n",
    "tab3[\"U1\"] = tab3[\"U1\"].apply(Value) + Value(values=[0.0], syst=0.05)\n",
    "tab3[\"U2\"] = tab3[\"U2\"].apply(Value) + Value(values=[0.0], syst=0.05)\n",
    "tab3[\"U3\"] = tab3[\"U3\"].apply(Value) + Value(values=[0.0], syst=0.05)\n",
    "tab3[\"theta\"] = ((tab3[\"U1\"] / tab3[\"U2\"]).apply(lambda v: v.use_func(log)) + (tab3[\"U1\"] / tab3[\"U2\"]).apply(lambda v: v.use_func(log))) / 2.0\n",
    "tab3[\"Q\"] = pi / tab3[\"theta\"]\n",
    "tab3"
   ]
  },
  {
   "cell_type": "code",
   "execution_count": 67,
   "metadata": {},
   "outputs": [
    {
     "data": {
      "text/html": [
       "<div>\n",
       "<style scoped>\n",
       "    .dataframe tbody tr th:only-of-type {\n",
       "        vertical-align: middle;\n",
       "    }\n",
       "\n",
       "    .dataframe tbody tr th {\n",
       "        vertical-align: top;\n",
       "    }\n",
       "\n",
       "    .dataframe thead th {\n",
       "        text-align: right;\n",
       "    }\n",
       "</style>\n",
       "<table border=\"1\" class=\"dataframe\">\n",
       "  <thead>\n",
       "    <tr style=\"text-align: right;\">\n",
       "      <th></th>\n",
       "      <th>t1</th>\n",
       "      <th>t2</th>\n",
       "      <th>U1</th>\n",
       "      <th>U2</th>\n",
       "      <th>U3</th>\n",
       "      <th>mU</th>\n",
       "      <th>T</th>\n",
       "      <th>theta</th>\n",
       "      <th>Q</th>\n",
       "      <th>Q_theory</th>\n",
       "      <th>theta_theory</th>\n",
       "      <th>T_theory</th>\n",
       "    </tr>\n",
       "  </thead>\n",
       "  <tbody>\n",
       "    <tr>\n",
       "      <td>0</td>\n",
       "      <td>2.04</td>\n",
       "      <td>0.92</td>\n",
       "      <td>8.81 ± 0.05</td>\n",
       "      <td>7.69 ± 0.05</td>\n",
       "      <td>6.85 ± 0.05</td>\n",
       "      <td>5</td>\n",
       "      <td>1.12 ± 0.05</td>\n",
       "      <td>0.136 ± 0.009</td>\n",
       "      <td>23.1 ± 1.5</td>\n",
       "      <td>15.3 ± 0.6</td>\n",
       "      <td>0.205 ± 0.008</td>\n",
       "      <td>1.24 ± 0.05</td>\n",
       "    </tr>\n",
       "    <tr>\n",
       "      <td>1</td>\n",
       "      <td>4.34</td>\n",
       "      <td>1.65</td>\n",
       "      <td>8.41 ± 0.05</td>\n",
       "      <td>6.65 ± 0.05</td>\n",
       "      <td>5.69 ± 0.05</td>\n",
       "      <td>5</td>\n",
       "      <td>2.69 ± 0.05</td>\n",
       "      <td>0.235 ± 0.010</td>\n",
       "      <td>13.4 ± 0.5</td>\n",
       "      <td>6.7 ± 0.2</td>\n",
       "      <td>0.466 ± 0.017</td>\n",
       "      <td>2.82 ± 0.10</td>\n",
       "    </tr>\n",
       "    <tr>\n",
       "      <td>2</td>\n",
       "      <td>5.69</td>\n",
       "      <td>2.04</td>\n",
       "      <td>8.08 ± 0.05</td>\n",
       "      <td>6.14 ± 0.05</td>\n",
       "      <td>5.39 ± 0.05</td>\n",
       "      <td>5</td>\n",
       "      <td>3.65 ± 0.05</td>\n",
       "      <td>0.275 ± 0.010</td>\n",
       "      <td>11.4 ± 0.4</td>\n",
       "      <td>5.18 ± 0.19</td>\n",
       "      <td>0.61 ± 0.02</td>\n",
       "      <td>3.67 ± 0.13</td>\n",
       "    </tr>\n",
       "  </tbody>\n",
       "</table>\n",
       "</div>"
      ],
      "text/plain": [
       "     t1    t2           U1           U2           U3  mU            T  \\\n",
       "0  2.04  0.92  8.81 ± 0.05  7.69 ± 0.05  6.85 ± 0.05   5  1.12 ± 0.05   \n",
       "1  4.34  1.65  8.41 ± 0.05  6.65 ± 0.05  5.69 ± 0.05   5  2.69 ± 0.05   \n",
       "2  5.69  2.04  8.08 ± 0.05  6.14 ± 0.05  5.39 ± 0.05   5  3.65 ± 0.05   \n",
       "\n",
       "           theta           Q     Q_theory   theta_theory     T_theory  \n",
       "0  0.136 ± 0.009  23.1 ± 1.5   15.3 ± 0.6  0.205 ± 0.008  1.24 ± 0.05  \n",
       "1  0.235 ± 0.010  13.4 ± 0.5    6.7 ± 0.2  0.466 ± 0.017  2.82 ± 0.10  \n",
       "2  0.275 ± 0.010  11.4 ± 0.4  5.18 ± 0.19    0.61 ± 0.02  3.67 ± 0.13  "
      ]
     },
     "execution_count": 67,
     "metadata": {},
     "output_type": "execute_result"
    }
   ],
   "source": [
    "tab2[\"T_theory\"] = pd.Series(2 * pi * np.array([C1, C2, C3]) ** 0.5 * L1 ** 0.5 * 1000)\n",
    "tab2[\"theta_theory\"] = pd.Series(np.array([1, 1, 1]) / L1) * tab2[\"T_theory\"] * R1 / 2000 \n",
    "tab2[\"Q_theory\"] = pi / tab2[\"theta_theory\"]\n",
    "tab2"
   ]
  },
  {
   "cell_type": "code",
   "execution_count": 68,
   "metadata": {},
   "outputs": [
    {
     "data": {
      "text/html": [
       "<div>\n",
       "<style scoped>\n",
       "    .dataframe tbody tr th:only-of-type {\n",
       "        vertical-align: middle;\n",
       "    }\n",
       "\n",
       "    .dataframe tbody tr th {\n",
       "        vertical-align: top;\n",
       "    }\n",
       "\n",
       "    .dataframe thead th {\n",
       "        text-align: right;\n",
       "    }\n",
       "</style>\n",
       "<table border=\"1\" class=\"dataframe\">\n",
       "  <thead>\n",
       "    <tr style=\"text-align: right;\">\n",
       "      <th></th>\n",
       "      <th>t1</th>\n",
       "      <th>t2</th>\n",
       "      <th>U1</th>\n",
       "      <th>U2</th>\n",
       "      <th>U3</th>\n",
       "      <th>mU</th>\n",
       "      <th>T</th>\n",
       "      <th>theta</th>\n",
       "      <th>Q</th>\n",
       "      <th>Q_theory</th>\n",
       "      <th>theta_theory</th>\n",
       "      <th>T_theory</th>\n",
       "    </tr>\n",
       "  </thead>\n",
       "  <tbody>\n",
       "    <tr>\n",
       "      <td>0</td>\n",
       "      <td>2.08</td>\n",
       "      <td>0.92</td>\n",
       "      <td>8.52 ± 0.05</td>\n",
       "      <td>7.09 ± 0.05</td>\n",
       "      <td>6.25 ± 0.05</td>\n",
       "      <td>5</td>\n",
       "      <td>1.16 ± 0.05</td>\n",
       "      <td>0.184 ± 0.009</td>\n",
       "      <td>17.1 ± 0.9</td>\n",
       "      <td>8.5 ± 0.4</td>\n",
       "      <td>0.371 ± 0.016</td>\n",
       "      <td>1.24 ± 0.05</td>\n",
       "    </tr>\n",
       "    <tr>\n",
       "      <td>1</td>\n",
       "      <td>4.34</td>\n",
       "      <td>1.61</td>\n",
       "      <td>7.89 ± 0.05</td>\n",
       "      <td>5.88 ± 0.05</td>\n",
       "      <td>5.26 ± 0.05</td>\n",
       "      <td>5</td>\n",
       "      <td>2.73 ± 0.05</td>\n",
       "      <td>0.294 ± 0.011</td>\n",
       "      <td>10.7 ± 0.4</td>\n",
       "      <td>3.73 ± 0.15</td>\n",
       "      <td>0.84 ± 0.03</td>\n",
       "      <td>2.82 ± 0.10</td>\n",
       "    </tr>\n",
       "    <tr>\n",
       "      <td>2</td>\n",
       "      <td>5.57</td>\n",
       "      <td>1.96</td>\n",
       "      <td>7.50 ± 0.05</td>\n",
       "      <td>5.52 ± 0.05</td>\n",
       "      <td>5.04 ± 0.05</td>\n",
       "      <td>5</td>\n",
       "      <td>3.61 ± 0.05</td>\n",
       "      <td>0.307 ± 0.011</td>\n",
       "      <td>10.2 ± 0.4</td>\n",
       "      <td>2.87 ± 0.12</td>\n",
       "      <td>1.10 ± 0.04</td>\n",
       "      <td>3.67 ± 0.13</td>\n",
       "    </tr>\n",
       "  </tbody>\n",
       "</table>\n",
       "</div>"
      ],
      "text/plain": [
       "     t1    t2           U1           U2           U3  mU            T  \\\n",
       "0  2.08  0.92  8.52 ± 0.05  7.09 ± 0.05  6.25 ± 0.05   5  1.16 ± 0.05   \n",
       "1  4.34  1.61  7.89 ± 0.05  5.88 ± 0.05  5.26 ± 0.05   5  2.73 ± 0.05   \n",
       "2  5.57  1.96  7.50 ± 0.05  5.52 ± 0.05  5.04 ± 0.05   5  3.61 ± 0.05   \n",
       "\n",
       "           theta           Q     Q_theory   theta_theory     T_theory  \n",
       "0  0.184 ± 0.009  17.1 ± 0.9    8.5 ± 0.4  0.371 ± 0.016  1.24 ± 0.05  \n",
       "1  0.294 ± 0.011  10.7 ± 0.4  3.73 ± 0.15    0.84 ± 0.03  2.82 ± 0.10  \n",
       "2  0.307 ± 0.011  10.2 ± 0.4  2.87 ± 0.12    1.10 ± 0.04  3.67 ± 0.13  "
      ]
     },
     "execution_count": 68,
     "metadata": {},
     "output_type": "execute_result"
    }
   ],
   "source": [
    "tab3[\"T_theory\"] = pd.Series(2 * pi * np.array([C1, C2, C3]) ** 0.5 * L1 ** 0.5 * 1000)\n",
    "tab3[\"theta_theory\"] = pd.Series(np.array([1, 1, 1]) / L1) * tab3[\"T_theory\"] * R2 / 2000 \n",
    "tab3[\"Q_theory\"] = pi / tab3[\"theta_theory\"]\n",
    "tab3"
   ]
  },
  {
   "cell_type": "code",
   "execution_count": 73,
   "metadata": {},
   "outputs": [
    {
     "name": "stdout",
     "output_type": "stream",
     "text": [
      ",t1,t2,U1,U2,U3,mU,T,theta,Q\n",
      "0,2.11,0.96,4.00 ± 0.05,3.56 ± 0.05,3.11 ± 0.05,5,1.15 ± 0.05,0.117 ± 0.019,27 ± 4\n",
      "1,4.42,1.73,9.32 ± 0.05,8.42 ± 0.05,7.76 ± 0.05,5,2.69 ± 0.05,0.102 ± 0.008,31 ± 2\n",
      "2,5.84,2.18,9.33 ± 0.05,8.39 ± 0.05,7.33 ± 0.05,5,3.66 ± 0.05,0.106 ± 0.008,30 ± 2\n",
      "\n"
     ]
    }
   ],
   "source": [
    "print(tab1.to_csv())"
   ]
  },
  {
   "cell_type": "code",
   "execution_count": 74,
   "metadata": {},
   "outputs": [
    {
     "name": "stdout",
     "output_type": "stream",
     "text": [
      ",t1,t2,U1,U2,U3,mU,T,theta,Q,Q_theory,theta_theory,T_theory\n",
      "0,2.04,0.92,8.81 ± 0.05,7.69 ± 0.05,6.85 ± 0.05,5,1.12 ± 0.05,0.136 ± 0.009,23.1 ± 1.5,15.3 ± 0.6,0.205 ± 0.008,1.24 ± 0.05\n",
      "1,4.34,1.65,8.41 ± 0.05,6.65 ± 0.05,5.69 ± 0.05,5,2.69 ± 0.05,0.235 ± 0.010,13.4 ± 0.5,6.7 ± 0.2,0.466 ± 0.017,2.82 ± 0.10\n",
      "2,5.69,2.04,8.08 ± 0.05,6.14 ± 0.05,5.39 ± 0.05,5,3.65 ± 0.05,0.275 ± 0.010,11.4 ± 0.4,5.18 ± 0.19,0.61 ± 0.02,3.67 ± 0.13\n",
      "\n"
     ]
    }
   ],
   "source": [
    "print(tab2.to_csv())"
   ]
  },
  {
   "cell_type": "code",
   "execution_count": 75,
   "metadata": {},
   "outputs": [
    {
     "name": "stdout",
     "output_type": "stream",
     "text": [
      ",t1,t2,U1,U2,U3,mU,T,theta,Q,Q_theory,theta_theory,T_theory\n",
      "0,2.08,0.92,8.52 ± 0.05,7.09 ± 0.05,6.25 ± 0.05,5,1.16 ± 0.05,0.184 ± 0.009,17.1 ± 0.9,8.5 ± 0.4,0.371 ± 0.016,1.24 ± 0.05\n",
      "1,4.34,1.61,7.89 ± 0.05,5.88 ± 0.05,5.26 ± 0.05,5,2.73 ± 0.05,0.294 ± 0.011,10.7 ± 0.4,3.73 ± 0.15,0.84 ± 0.03,2.82 ± 0.10\n",
      "2,5.57,1.96,7.50 ± 0.05,5.52 ± 0.05,5.04 ± 0.05,5,3.61 ± 0.05,0.307 ± 0.011,10.2 ± 0.4,2.87 ± 0.12,1.10 ± 0.04,3.67 ± 0.13\n",
      "\n"
     ]
    }
   ],
   "source": [
    "print(tab3.to_csv())"
   ]
  },
  {
   "cell_type": "code",
   "execution_count": null,
   "metadata": {},
   "outputs": [],
   "source": []
  }
 ],
 "metadata": {
  "kernelspec": {
   "display_name": "praclib",
   "language": "python",
   "name": "praclib"
  },
  "language_info": {
   "codemirror_mode": {
    "name": "ipython",
    "version": 3
   },
   "file_extension": ".py",
   "mimetype": "text/x-python",
   "name": "python",
   "nbconvert_exporter": "python",
   "pygments_lexer": "ipython3",
   "version": "3.7.3"
  }
 },
 "nbformat": 4,
 "nbformat_minor": 4
}
