{
 "cells": [
  {
   "cell_type": "code",
   "execution_count": 1,
   "metadata": {},
   "outputs": [],
   "source": [
    "from prac_code.value import Value"
   ]
  },
  {
   "cell_type": "code",
   "execution_count": 4,
   "metadata": {},
   "outputs": [
    {
     "name": "stdout",
     "output_type": "stream",
     "text": [
      "13.8 ± 0.3\n",
      "6.41 ± 0.08\n"
     ]
    }
   ],
   "source": [
    "b = Value(values=[14.1, 13.7, 13.5], syst=0.1)\n",
    "a = Value(values=[12], syst=0.1)\n",
    "F = a * b / (a + b)\n",
    "print(b)\n",
    "print(F)"
   ]
  },
  {
   "cell_type": "code",
   "execution_count": 5,
   "metadata": {},
   "outputs": [
    {
     "name": "stdout",
     "output_type": "stream",
     "text": [
      "8.93 ± 0.12\n",
      "6.35 ± 0.06\n"
     ]
    }
   ],
   "source": [
    "b = Value(values=[8.9, 9.0, 8.9], syst=0.1)\n",
    "a = Value(values=[22], syst=0.1)\n",
    "F = a * b / (a + b)\n",
    "print(b)\n",
    "print(F)"
   ]
  },
  {
   "cell_type": "code",
   "execution_count": 29,
   "metadata": {},
   "outputs": [
    {
     "name": "stdout",
     "output_type": "stream",
     "text": [
      "41.13 ± 0.12\n",
      "6.45 ± 0.06\n"
     ]
    }
   ],
   "source": [
    "L = Value(values=[56], syst=0.1)\n",
    "s = Value(values=[41.1, 41.1, 41.2], syst=0.1)\n",
    "F = (L - s) * (L + s) / (4 * L)\n",
    "print(s)\n",
    "print(F)"
   ]
  },
  {
   "cell_type": "code",
   "execution_count": 34,
   "metadata": {},
   "outputs": [
    {
     "name": "stdout",
     "output_type": "stream",
     "text": [
      "7.74 ± 0.07\n",
      "38.7 ± 0.3\n",
      "5.00 ± 0.06\n",
      "0.08 ± 0.02\n"
     ]
    }
   ],
   "source": [
    "a = 1.2 * F\n",
    "print(a)\n",
    "b = 5 * a\n",
    "print(b)\n",
    "b = Value(values=[38.7], syst=0.3)\n",
    "d = b / a\n",
    "print(d)\n",
    "print(Value(values=[0.4], syst=0.1) / d)"
   ]
  },
  {
   "cell_type": "code",
   "execution_count": 7,
   "metadata": {},
   "outputs": [
    {
     "name": "stdout",
     "output_type": "stream",
     "text": [
      "24.93 ± 0.15\n",
      "6.46 ± 0.06\n"
     ]
    }
   ],
   "source": [
    "L = Value(values=[41], syst=0.1)\n",
    "s = Value(values=[25, 25, 24.8], syst=0.1)\n",
    "F = (L - s) * (L + s) / (4 * L)\n",
    "print(s)\n",
    "print(F)"
   ]
  },
  {
   "cell_type": "code",
   "execution_count": 8,
   "metadata": {},
   "outputs": [
    {
     "name": "stdout",
     "output_type": "stream",
     "text": [
      "25.8 ± 0.3\n",
      "6.46 ± 0.07\n"
     ]
    }
   ],
   "source": [
    "x = Value(values=[61.2, 61.4, 60.9], syst=0.1)\n",
    "L = 87 - x\n",
    "F = L / 4\n",
    "print(L)\n",
    "print(F)"
   ]
  },
  {
   "cell_type": "code",
   "execution_count": 20,
   "metadata": {},
   "outputs": [
    {
     "name": "stdout",
     "output_type": "stream",
     "text": [
      "44.9 ± 0.2\n",
      "10.08 ± 0.06\n"
     ]
    }
   ],
   "source": [
    "b = Value(values=[45.1, 45.0, 44.7], syst=0.1)\n",
    "a = Value(values=[13], syst=0.1)\n",
    "F1 = a * b / (a + b)\n",
    "print(b)\n",
    "print(F1)"
   ]
  },
  {
   "cell_type": "code",
   "execution_count": 21,
   "metadata": {},
   "outputs": [
    {
     "name": "stdout",
     "output_type": "stream",
     "text": [
      "39.73 ± 0.15\n",
      "9.80 ± 0.06\n"
     ]
    }
   ],
   "source": [
    "b = Value(values=[39.6, 39.8, 39.8], syst=0.1)\n",
    "a = Value(values=[13], syst=0.1)\n",
    "F2 = a * b / (a + b)\n",
    "print(b)\n",
    "print(F2)"
   ]
  },
  {
   "cell_type": "code",
   "execution_count": 22,
   "metadata": {},
   "outputs": [
    {
     "name": "stdout",
     "output_type": "stream",
     "text": [
      "0.29 ± 0.08\n"
     ]
    }
   ],
   "source": [
    "print(F1 - F2)"
   ]
  },
  {
   "cell_type": "code",
   "execution_count": 17,
   "metadata": {},
   "outputs": [
    {
     "name": "stdout",
     "output_type": "stream",
     "text": [
      "27.43 ± 0.18\n",
      "10.02 ± 0.06\n"
     ]
    }
   ],
   "source": [
    "L = Value(values=[54], syst=0.1)\n",
    "s = Value(values=[27.6, 27.3, 27.4], syst=0.1)\n",
    "F1 = (L - s) * (L + s) / (4 * L)\n",
    "print(s)\n",
    "print(F1)"
   ]
  },
  {
   "cell_type": "code",
   "execution_count": 18,
   "metadata": {},
   "outputs": [
    {
     "name": "stdout",
     "output_type": "stream",
     "text": [
      "27.03 ± 0.12\n",
      "10.12 ± 0.04\n"
     ]
    }
   ],
   "source": [
    "L = Value(values=[54], syst=0.1)\n",
    "s = Value(values=[27, 27, 27.1], syst=0.1)\n",
    "F2 = (L - s) * (L + s) / (4 * L)\n",
    "print(s)\n",
    "print(F2)"
   ]
  },
  {
   "cell_type": "code",
   "execution_count": 19,
   "metadata": {},
   "outputs": [
    {
     "name": "stdout",
     "output_type": "stream",
     "text": [
      "0.10 ± 0.07\n"
     ]
    }
   ],
   "source": [
    "print(F2 - F1)"
   ]
  },
  {
   "cell_type": "code",
   "execution_count": 23,
   "metadata": {},
   "outputs": [
    {
     "name": "stdout",
     "output_type": "stream",
     "text": [
      "38.10 ± 0.10\n",
      "-7.98 ± 0.15\n"
     ]
    }
   ],
   "source": [
    "b = Value(values=[38.1], syst=0.1)\n",
    "a = Value(values=[-6.6], syst=0.1)\n",
    "F2 = a * b / (a + b)\n",
    "print(b)\n",
    "print(F2)"
   ]
  },
  {
   "cell_type": "code",
   "execution_count": 28,
   "metadata": {},
   "outputs": [
    {
     "name": "stdout",
     "output_type": "stream",
     "text": [
      "32.50 ± 0.10\n",
      "-7.36 ± 0.15\n"
     ]
    }
   ],
   "source": [
    "b = Value(values=[32.5], syst=0.1)\n",
    "a = Value(values=[-6], syst=0.1)\n",
    "F2 = a * b / (a + b)\n",
    "print(b)\n",
    "print(F2)"
   ]
  },
  {
   "cell_type": "code",
   "execution_count": 41,
   "metadata": {},
   "outputs": [
    {
     "name": "stdout",
     "output_type": "stream",
     "text": [
      "9.7 ± 0.9\n",
      "-5.8 ± 0.2\n",
      "29.2 ± 1.2\n"
     ]
    }
   ],
   "source": [
    "F1 = Value(values=[6.45], syst=0.6)\n",
    "F2 = Value(values=[-7.3], syst=0.3)\n",
    "print(F1 * 1.5)\n",
    "print(F2 * 0.8)\n",
    "print(F2 * 0.8 * -5) "
   ]
  },
  {
   "cell_type": "code",
   "execution_count": null,
   "metadata": {},
   "outputs": [],
   "source": []
  }
 ],
 "metadata": {
  "kernelspec": {
   "display_name": "praclib",
   "language": "python",
   "name": "praclib"
  },
  "language_info": {
   "codemirror_mode": {
    "name": "ipython",
    "version": 3
   },
   "file_extension": ".py",
   "mimetype": "text/x-python",
   "name": "python",
   "nbconvert_exporter": "python",
   "pygments_lexer": "ipython3",
   "version": "3.7.5rc1"
  }
 },
 "nbformat": 4,
 "nbformat_minor": 4
}
