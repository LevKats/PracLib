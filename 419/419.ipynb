{
 "cells": [
  {
   "cell_type": "code",
   "execution_count": 3,
   "metadata": {},
   "outputs": [],
   "source": [
    "from prac_code.value import Value\n",
    "from prac_code.plotter import Plotter\n",
    "\n",
    "import numpy as np\n",
    "import pandas as pd"
   ]
  },
  {
   "cell_type": "markdown",
   "metadata": {},
   "source": [
    "## Упражнение 1"
   ]
  },
  {
   "cell_type": "markdown",
   "metadata": {},
   "source": [
    "Увеличение"
   ]
  },
  {
   "cell_type": "code",
   "execution_count": 4,
   "metadata": {},
   "outputs": [],
   "source": [
    "V = Value(values=[395], syst=5) / 2"
   ]
  },
  {
   "cell_type": "code",
   "execution_count": 5,
   "metadata": {},
   "outputs": [
    {
     "name": "stdout",
     "output_type": "stream",
     "text": [
      "198 ± 2\n"
     ]
    }
   ],
   "source": [
    "print(V)"
   ]
  },
  {
   "cell_type": "code",
   "execution_count": 6,
   "metadata": {},
   "outputs": [],
   "source": [
    "tab1 = pd.read_csv(\"1.csv\", '\\t')"
   ]
  },
  {
   "cell_type": "code",
   "execution_count": 7,
   "metadata": {},
   "outputs": [
    {
     "data": {
      "text/html": [
       "<div>\n",
       "<style scoped>\n",
       "    .dataframe tbody tr th:only-of-type {\n",
       "        vertical-align: middle;\n",
       "    }\n",
       "\n",
       "    .dataframe tbody tr th {\n",
       "        vertical-align: top;\n",
       "    }\n",
       "\n",
       "    .dataframe thead th {\n",
       "        text-align: right;\n",
       "    }\n",
       "</style>\n",
       "<table border=\"1\" class=\"dataframe\">\n",
       "  <thead>\n",
       "    <tr style=\"text-align: right;\">\n",
       "      <th></th>\n",
       "      <th>y0</th>\n",
       "      <th>y1</th>\n",
       "      <th>x0</th>\n",
       "    </tr>\n",
       "  </thead>\n",
       "  <tbody>\n",
       "    <tr>\n",
       "      <th>0</th>\n",
       "      <td>1852</td>\n",
       "      <td>2355</td>\n",
       "      <td>2124</td>\n",
       "    </tr>\n",
       "  </tbody>\n",
       "</table>\n",
       "</div>"
      ],
      "text/plain": [
       "     y0    y1    x0\n",
       "0  1852  2355  2124"
      ]
     },
     "execution_count": 7,
     "metadata": {},
     "output_type": "execute_result"
    }
   ],
   "source": [
    "tab1"
   ]
  },
  {
   "cell_type": "code",
   "execution_count": 8,
   "metadata": {},
   "outputs": [],
   "source": [
    "y0, *_ = tab1.y0\n",
    "y1, *_ = tab1.y1\n",
    "x0, *_ = tab1.x0\n",
    "y0 = Value(values=[y0], syst=1)\n",
    "y1 = Value(values=[y1], syst=1)\n",
    "x0 = Value(values=[x0], syst=1)\n",
    "a0 = y1 - y0\n",
    "lambd = 0.0006328"
   ]
  },
  {
   "cell_type": "code",
   "execution_count": 9,
   "metadata": {},
   "outputs": [
    {
     "data": {
      "text/html": [
       "<div>\n",
       "<style scoped>\n",
       "    .dataframe tbody tr th:only-of-type {\n",
       "        vertical-align: middle;\n",
       "    }\n",
       "\n",
       "    .dataframe tbody tr th {\n",
       "        vertical-align: top;\n",
       "    }\n",
       "\n",
       "    .dataframe thead th {\n",
       "        text-align: right;\n",
       "    }\n",
       "</style>\n",
       "<table border=\"1\" class=\"dataframe\">\n",
       "  <thead>\n",
       "    <tr style=\"text-align: right;\">\n",
       "      <th></th>\n",
       "      <th>xi</th>\n",
       "      <th>N</th>\n",
       "      <th>xe</th>\n",
       "      <th>dxe</th>\n",
       "      <th>dx</th>\n",
       "      <th>b</th>\n",
       "      <th>a</th>\n",
       "      <th>d</th>\n",
       "    </tr>\n",
       "  </thead>\n",
       "  <tbody>\n",
       "    <tr>\n",
       "      <th>0</th>\n",
       "      <td>2110.0 ± 1.0</td>\n",
       "      <td>3</td>\n",
       "      <td>31 ± 5</td>\n",
       "      <td>10.3 ± 1.7</td>\n",
       "      <td>0.052 ± 0.008</td>\n",
       "      <td>14.0 ± 1.4</td>\n",
       "      <td>489 ± 2</td>\n",
       "      <td>6.1 ± 1.0</td>\n",
       "    </tr>\n",
       "    <tr>\n",
       "      <th>1</th>\n",
       "      <td>2080.0 ± 1.0</td>\n",
       "      <td>8</td>\n",
       "      <td>86 ± 5</td>\n",
       "      <td>10.8 ± 0.6</td>\n",
       "      <td>0.054 ± 0.003</td>\n",
       "      <td>44.0 ± 1.4</td>\n",
       "      <td>459 ± 2</td>\n",
       "      <td>5.8 ± 0.3</td>\n",
       "    </tr>\n",
       "    <tr>\n",
       "      <th>2</th>\n",
       "      <td>2050.0 ± 1.0</td>\n",
       "      <td>13</td>\n",
       "      <td>147 ± 5</td>\n",
       "      <td>11.3 ± 0.4</td>\n",
       "      <td>0.057 ± 0.002</td>\n",
       "      <td>74.0 ± 1.4</td>\n",
       "      <td>429 ± 2</td>\n",
       "      <td>5.6 ± 0.2</td>\n",
       "    </tr>\n",
       "    <tr>\n",
       "      <th>3</th>\n",
       "      <td>2020.0 ± 1.0</td>\n",
       "      <td>16</td>\n",
       "      <td>195 ± 5</td>\n",
       "      <td>12.2 ± 0.3</td>\n",
       "      <td>0.0617 ± 0.0018</td>\n",
       "      <td>104.0 ± 1.4</td>\n",
       "      <td>399 ± 2</td>\n",
       "      <td>5.16 ± 0.15</td>\n",
       "    </tr>\n",
       "    <tr>\n",
       "      <th>4</th>\n",
       "      <td>1980.0 ± 1.0</td>\n",
       "      <td>19</td>\n",
       "      <td>241 ± 5</td>\n",
       "      <td>12.7 ± 0.3</td>\n",
       "      <td>0.0642 ± 0.0016</td>\n",
       "      <td>144.0 ± 1.4</td>\n",
       "      <td>359 ± 2</td>\n",
       "      <td>4.96 ± 0.12</td>\n",
       "    </tr>\n",
       "    <tr>\n",
       "      <th>5</th>\n",
       "      <td>1960.0 ± 1.0</td>\n",
       "      <td>18</td>\n",
       "      <td>251 ± 5</td>\n",
       "      <td>13.9 ± 0.3</td>\n",
       "      <td>0.0706 ± 0.0017</td>\n",
       "      <td>164.0 ± 1.4</td>\n",
       "      <td>339 ± 2</td>\n",
       "      <td>4.51 ± 0.11</td>\n",
       "    </tr>\n",
       "    <tr>\n",
       "      <th>6</th>\n",
       "      <td>1930.0 ± 1.0</td>\n",
       "      <td>18</td>\n",
       "      <td>277 ± 5</td>\n",
       "      <td>15.4 ± 0.3</td>\n",
       "      <td>0.0779 ± 0.0017</td>\n",
       "      <td>194.0 ± 1.4</td>\n",
       "      <td>309 ± 2</td>\n",
       "      <td>4.09 ± 0.09</td>\n",
       "    </tr>\n",
       "    <tr>\n",
       "      <th>7</th>\n",
       "      <td>1897.0 ± 1.0</td>\n",
       "      <td>17</td>\n",
       "      <td>289 ± 5</td>\n",
       "      <td>17.0 ± 0.3</td>\n",
       "      <td>0.0861 ± 0.0018</td>\n",
       "      <td>227.0 ± 1.4</td>\n",
       "      <td>276 ± 2</td>\n",
       "      <td>3.70 ± 0.08</td>\n",
       "    </tr>\n",
       "    <tr>\n",
       "      <th>8</th>\n",
       "      <td>1970.0 ± 1.0</td>\n",
       "      <td>19</td>\n",
       "      <td>260 ± 5</td>\n",
       "      <td>13.7 ± 0.3</td>\n",
       "      <td>0.0693 ± 0.0016</td>\n",
       "      <td>154.0 ± 1.4</td>\n",
       "      <td>349 ± 2</td>\n",
       "      <td>4.59 ± 0.11</td>\n",
       "    </tr>\n",
       "  </tbody>\n",
       "</table>\n",
       "</div>"
      ],
      "text/plain": [
       "             xi   N       xe         dxe               dx            b  \\\n",
       "0  2110.0 ± 1.0   3   31 ± 5  10.3 ± 1.7    0.052 ± 0.008   14.0 ± 1.4   \n",
       "1  2080.0 ± 1.0   8   86 ± 5  10.8 ± 0.6    0.054 ± 0.003   44.0 ± 1.4   \n",
       "2  2050.0 ± 1.0  13  147 ± 5  11.3 ± 0.4    0.057 ± 0.002   74.0 ± 1.4   \n",
       "3  2020.0 ± 1.0  16  195 ± 5  12.2 ± 0.3  0.0617 ± 0.0018  104.0 ± 1.4   \n",
       "4  1980.0 ± 1.0  19  241 ± 5  12.7 ± 0.3  0.0642 ± 0.0016  144.0 ± 1.4   \n",
       "5  1960.0 ± 1.0  18  251 ± 5  13.9 ± 0.3  0.0706 ± 0.0017  164.0 ± 1.4   \n",
       "6  1930.0 ± 1.0  18  277 ± 5  15.4 ± 0.3  0.0779 ± 0.0017  194.0 ± 1.4   \n",
       "7  1897.0 ± 1.0  17  289 ± 5  17.0 ± 0.3  0.0861 ± 0.0018  227.0 ± 1.4   \n",
       "8  1970.0 ± 1.0  19  260 ± 5  13.7 ± 0.3  0.0693 ± 0.0016  154.0 ± 1.4   \n",
       "\n",
       "         a            d  \n",
       "0  489 ± 2    6.1 ± 1.0  \n",
       "1  459 ± 2    5.8 ± 0.3  \n",
       "2  429 ± 2    5.6 ± 0.2  \n",
       "3  399 ± 2  5.16 ± 0.15  \n",
       "4  359 ± 2  4.96 ± 0.12  \n",
       "5  339 ± 2  4.51 ± 0.11  \n",
       "6  309 ± 2  4.09 ± 0.09  \n",
       "7  276 ± 2  3.70 ± 0.08  \n",
       "8  349 ± 2  4.59 ± 0.11  "
      ]
     },
     "execution_count": 9,
     "metadata": {},
     "output_type": "execute_result"
    }
   ],
   "source": [
    "tab2 = pd.read_csv(\"2.csv\", '\\t')\n",
    "tab2.xi = tab2.xi.apply(Value) + Value(values=[0], syst=1)\n",
    "temp = tab2.N.copy()\n",
    "tab2.N = tab2.xe\n",
    "tab2.xe = temp\n",
    "tab2.xe = tab2.xe.apply(Value) + Value(values=[0], syst=5)\n",
    "tab2[\"dxe\"] = tab2.xe / tab2.N\n",
    "tab2[\"dx\"] = tab2.dxe / V\n",
    "tab2[\"b\"] = -tab2.xi + x0\n",
    "tab2[\"a\"] = -tab2.b + a0\n",
    "tab2[\"d\"] = (tab2.a + tab2.b) / tab2.dx * lambd\n",
    "tab2"
   ]
  },
  {
   "cell_type": "code",
   "execution_count": 10,
   "metadata": {},
   "outputs": [],
   "source": [
    "with open(\"res1.csv\", \"w\") as file:\n",
    "    file.write(tab2.to_csv())"
   ]
  },
  {
   "cell_type": "code",
   "execution_count": 11,
   "metadata": {},
   "outputs": [
    {
     "data": {
      "image/png": "[encoded data removed]",
      "text/plain": [
       "<Figure size 576x432 with 1 Axes>"
      ]
     },
     "metadata": {
      "needs_background": "light"
     },
     "output_type": "display_data"
    }
   ],
   "source": [
    "line, *_ = Plotter(draw_legend=False).set_name(\"1diva\").set_title(\"\").set_y_name(\"$\\Delta x, mm$\").set_x_name(\n",
    "        \"$1/a, mm^-1$\"). \\\n",
    "        add_line(Plotter.get_new_line(y_value=tab2.dx, x_value=tab2.a**-1,\n",
    "                                      draw_error=True, legend='$f_1 = 300Hz$', fit=True, color='black', marker=\"s\")). \\\n",
    "        plot(show=True, save=True, xlim=(0.002, 0.00375))"
   ]
  },
  {
   "cell_type": "code",
   "execution_count": 15,
   "metadata": {},
   "outputs": [
    {
     "name": "stdout",
     "output_type": "stream",
     "text": [
      "FitParameters(legend='$f_1 = 300Hz$', a=0.04490379446380102, sigma_a=0.0022946319389723384, b=0.048930022518024266, sigma_b=0.0011261765976590045, r=0.9943123385424892)\n",
      "8.1e+2 ± 4e+1\n"
     ]
    }
   ],
   "source": [
    "n = 1.5\n",
    "A = Value(values=[line.a], syst=line.sigma_a)\n",
    "print(line)\n",
    "teta = a0 * lambd / (A * (n - 1))\n",
    "print(teta * 57.2958)"
   ]
  },
  {
   "cell_type": "code",
   "execution_count": 16,
   "metadata": {},
   "outputs": [
    {
     "data": {
      "image/png": "[encoded data removed]",
      "text/plain": [
       "<Figure size 576x432 with 1 Axes>"
      ]
     },
     "metadata": {
      "needs_background": "light"
     },
     "output_type": "display_data"
    }
   ],
   "source": [
    "line, *_ = Plotter(draw_legend=False).set_name(\"bdiva\").set_title(\"\").set_y_name(\"$\\Delta x, mm$\").set_x_name(\n",
    "        \"$b/a$\"). \\\n",
    "        add_line(Plotter.get_new_line(y_value=tab2.dx, x_value=tab2.b / tab2.a,\n",
    "                                      draw_error=True, legend='$f_1 = 300Hz$', fit=True, color='black', marker=\"s\")). \\\n",
    "        plot(show=True, save=True)"
   ]
  },
  {
   "cell_type": "code",
   "execution_count": 17,
   "metadata": {},
   "outputs": [
    {
     "name": "stdout",
     "output_type": "stream",
     "text": [
      "FitParameters(legend='$f_1 = 300Hz$', a=0.04490379446380102, sigma_a=0.0022946319389723384, b=0.048930022518024266, sigma_b=0.0011261765976590045, r=0.9943123385424892)\n",
      "1.61 ± 0.08\n"
     ]
    }
   ],
   "source": [
    "print(line)\n",
    "A = Value(values=[line.a], syst=line.sigma_a)\n",
    "teta = lambd / (A * (n - 1))\n",
    "print(teta * 57.2958)"
   ]
  },
  {
   "cell_type": "code",
   "execution_count": 18,
   "metadata": {},
   "outputs": [
    {
     "data": {
      "image/png": "[encoded data removed]",
      "text/plain": [
       "<Figure size 576x432 with 1 Axes>"
      ]
     },
     "metadata": {
      "needs_background": "light"
     },
     "output_type": "display_data"
    }
   ],
   "source": [
    "line, *_ = Plotter(draw_legend=False).set_name(\"dofa\").set_title(\"\").set_y_name(\"$d, mm$\").set_x_name(\n",
    "        \"$a, mm$\"). \\\n",
    "        add_line(Plotter.get_new_line(y_value=tab2.d, x_value=tab2.a,\n",
    "                                      draw_error=True, legend='$f_1 = 300Hz$', fit=True, color='black', marker=\"s\")). \\\n",
    "        plot(show=True, save=True)"
   ]
  },
  {
   "cell_type": "code",
   "execution_count": 19,
   "metadata": {},
   "outputs": [
    {
     "name": "stdout",
     "output_type": "stream",
     "text": [
      "FitParameters(legend='$f_1 = 300Hz$', a=0.012424479848651804, sigma_a=0.000689779175969633, b=0.2860013271117982, sigma_b=0.23034095615265662, r=0.9914522698150858)\n",
      "1.42 ± 0.08\n"
     ]
    }
   ],
   "source": [
    "print(line)\n",
    "A = Value(values=[line.a], syst=line.sigma_a)\n",
    "teta = A / (n - 1)\n",
    "print(teta * 57.2958)"
   ]
  },
  {
   "cell_type": "markdown",
   "metadata": {},
   "source": [
    "## Упражнение 2"
   ]
  },
  {
   "cell_type": "code",
   "execution_count": 20,
   "metadata": {},
   "outputs": [
    {
     "data": {
      "text/html": [
       "<div>\n",
       "<style scoped>\n",
       "    .dataframe tbody tr th:only-of-type {\n",
       "        vertical-align: middle;\n",
       "    }\n",
       "\n",
       "    .dataframe tbody tr th {\n",
       "        vertical-align: top;\n",
       "    }\n",
       "\n",
       "    .dataframe thead th {\n",
       "        text-align: right;\n",
       "    }\n",
       "</style>\n",
       "<table border=\"1\" class=\"dataframe\">\n",
       "  <thead>\n",
       "    <tr style=\"text-align: right;\">\n",
       "      <th></th>\n",
       "      <th>yi</th>\n",
       "      <th>xi</th>\n",
       "      <th>ai</th>\n",
       "    </tr>\n",
       "  </thead>\n",
       "  <tbody>\n",
       "    <tr>\n",
       "      <th>0</th>\n",
       "      <td>4</td>\n",
       "      <td>1930.0 ± 1.0</td>\n",
       "      <td>309 ± 2</td>\n",
       "    </tr>\n",
       "    <tr>\n",
       "      <th>1</th>\n",
       "      <td>6</td>\n",
       "      <td>2000.0 ± 1.0</td>\n",
       "      <td>379 ± 2</td>\n",
       "    </tr>\n",
       "    <tr>\n",
       "      <th>2</th>\n",
       "      <td>8</td>\n",
       "      <td>2065.0 ± 1.0</td>\n",
       "      <td>444 ± 2</td>\n",
       "    </tr>\n",
       "    <tr>\n",
       "      <th>3</th>\n",
       "      <td>2</td>\n",
       "      <td>1846.0 ± 1.0</td>\n",
       "      <td>225 ± 2</td>\n",
       "    </tr>\n",
       "    <tr>\n",
       "      <th>4</th>\n",
       "      <td>5</td>\n",
       "      <td>1970.0 ± 1.0</td>\n",
       "      <td>349 ± 2</td>\n",
       "    </tr>\n",
       "  </tbody>\n",
       "</table>\n",
       "</div>"
      ],
      "text/plain": [
       "   yi            xi       ai\n",
       "0   4  1930.0 ± 1.0  309 ± 2\n",
       "1   6  2000.0 ± 1.0  379 ± 2\n",
       "2   8  2065.0 ± 1.0  444 ± 2\n",
       "3   2  1846.0 ± 1.0  225 ± 2\n",
       "4   5  1970.0 ± 1.0  349 ± 2"
      ]
     },
     "execution_count": 20,
     "metadata": {},
     "output_type": "execute_result"
    }
   ],
   "source": [
    "tab3 = pd.read_csv(\"3.csv\", '\\t')\n",
    "tab3.xi = tab3.xi.apply(Value) + Value(values=[0], syst=1)\n",
    "tab3[\"ai\"] = tab3.xi - (x0 - a0)\n",
    "tab3"
   ]
  },
  {
   "cell_type": "code",
   "execution_count": 21,
   "metadata": {},
   "outputs": [],
   "source": [
    "with open(\"res2.csv\", \"w\") as file:\n",
    "    file.write(tab3.to_csv())"
   ]
  },
  {
   "cell_type": "code",
   "execution_count": 22,
   "metadata": {},
   "outputs": [
    {
     "data": {
      "image/png": "[encoded data removed]",
      "text/plain": [
       "<Figure size 576x432 with 1 Axes>"
      ]
     },
     "metadata": {
      "needs_background": "light"
     },
     "output_type": "display_data"
    }
   ],
   "source": [
    "line, *_ = Plotter(draw_legend=False).set_name(\"ycai\").set_title(\"\").set_y_name(\"$y, cm$\").set_x_name(\n",
    "        \"$a^2, cm^2$\"). \\\n",
    "        add_line(Plotter.get_new_line(y_value=tab3.yi.apply(Value) + Value(values=[0], syst=0.01), x_value=(tab3.ai / 10) ** 2,\n",
    "                                      draw_error=True, legend='$f_1 = 300Hz$', fit=True, color='black', marker=\"s\")). \\\n",
    "        plot(show=True, save=True)\n",
    "B = Value(values=[line.a], syst=line.sigma_a)"
   ]
  },
  {
   "cell_type": "code",
   "execution_count": 23,
   "metadata": {},
   "outputs": [
    {
     "data": {
      "text/html": [
       "<div>\n",
       "<style scoped>\n",
       "    .dataframe tbody tr th:only-of-type {\n",
       "        vertical-align: middle;\n",
       "    }\n",
       "\n",
       "    .dataframe tbody tr th {\n",
       "        vertical-align: top;\n",
       "    }\n",
       "\n",
       "    .dataframe thead th {\n",
       "        text-align: right;\n",
       "    }\n",
       "</style>\n",
       "<table border=\"1\" class=\"dataframe\">\n",
       "  <thead>\n",
       "    <tr style=\"text-align: right;\">\n",
       "      <th></th>\n",
       "      <th>m</th>\n",
       "      <th>ri</th>\n",
       "      <th>Ri</th>\n",
       "    </tr>\n",
       "  </thead>\n",
       "  <tbody>\n",
       "    <tr>\n",
       "      <th>0</th>\n",
       "      <td>1</td>\n",
       "      <td>31 ± 5</td>\n",
       "      <td>0.45 ± 0.07</td>\n",
       "    </tr>\n",
       "    <tr>\n",
       "      <th>1</th>\n",
       "      <td>2</td>\n",
       "      <td>62 ± 5</td>\n",
       "      <td>0.91 ± 0.07</td>\n",
       "    </tr>\n",
       "    <tr>\n",
       "      <th>2</th>\n",
       "      <td>3</td>\n",
       "      <td>87 ± 5</td>\n",
       "      <td>1.27 ± 0.07</td>\n",
       "    </tr>\n",
       "    <tr>\n",
       "      <th>3</th>\n",
       "      <td>4</td>\n",
       "      <td>106 ± 5</td>\n",
       "      <td>1.55 ± 0.07</td>\n",
       "    </tr>\n",
       "    <tr>\n",
       "      <th>4</th>\n",
       "      <td>5</td>\n",
       "      <td>122 ± 5</td>\n",
       "      <td>1.78 ± 0.07</td>\n",
       "    </tr>\n",
       "  </tbody>\n",
       "</table>\n",
       "</div>"
      ],
      "text/plain": [
       "   m       ri           Ri\n",
       "0  1   31 ± 5  0.45 ± 0.07\n",
       "1  2   62 ± 5  0.91 ± 0.07\n",
       "2  3   87 ± 5  1.27 ± 0.07\n",
       "3  4  106 ± 5  1.55 ± 0.07\n",
       "4  5  122 ± 5  1.78 ± 0.07"
      ]
     },
     "execution_count": 23,
     "metadata": {},
     "output_type": "execute_result"
    }
   ],
   "source": [
    "V = 68.5\n",
    "tab4 = pd.read_csv(\"4.csv\", \"\\t\")\n",
    "tab4.ri = tab4.ri.apply(Value) + Value(values=[0], syst=5)\n",
    "tab4[\"Ri\"] = tab4.ri / V\n",
    "xn = Value(values=[2001], syst=1)\n",
    "an = xn - (x0 - a0)\n",
    "tab4"
   ]
  },
  {
   "cell_type": "code",
   "execution_count": 24,
   "metadata": {},
   "outputs": [
    {
     "data": {
      "image/png": "[encoded data removed]",
      "text/plain": [
       "<Figure size 576x432 with 1 Axes>"
      ]
     },
     "metadata": {
      "needs_background": "light"
     },
     "output_type": "display_data"
    }
   ],
   "source": [
    "line, *_ = Plotter(draw_legend=False).set_name(\"Rsofi\").set_title(\"\").set_y_name(\"$R^2, cm^2$\").set_x_name(\n",
    "        \"$i$\"). \\\n",
    "        add_line(Plotter.get_new_line(y_value=tab4.Ri ** 2, x_value=tab4.m.apply(Value),\n",
    "                                      draw_error=True, legend='$f_1 = 300Hz$', fit=True, color='black', marker=\"s\")). \\\n",
    "        plot(show=True, save=True)"
   ]
  },
  {
   "cell_type": "code",
   "execution_count": 26,
   "metadata": {},
   "outputs": [
    {
     "name": "stdout",
     "output_type": "stream",
     "text": [
      "0.73 ± 0.02\n",
      "0.75 ± 0.03\n"
     ]
    }
   ],
   "source": [
    "A = Value(values=[line.a], syst=line.sigma_a)\n",
    "print(A)\n",
    "h = (4 * n * lambd/10 * (an ** 2)/100) / A\n",
    "print(h)"
   ]
  },
  {
   "cell_type": "code",
   "execution_count": 28,
   "metadata": {},
   "outputs": [
    {
     "name": "stdout",
     "output_type": "stream",
     "text": [
      "0.00410 ± 0.00009\n",
      "0.0392 ± 0.0016\n"
     ]
    }
   ],
   "source": [
    "alpha = B  * h / (2 * n ** 2)\n",
    "print(B)\n",
    "print(alpha * 57.2958)"
   ]
  },
  {
   "cell_type": "code",
   "execution_count": 23,
   "metadata": {},
   "outputs": [
    {
     "data": {
      "text/plain": [
       "0.035048222831999994"
      ]
     },
     "execution_count": 23,
     "metadata": {},
     "output_type": "execute_result"
    }
   ],
   "source": [
    "29 * lambd / (2 * 10 * n) * 57.2958"
   ]
  },
  {
   "cell_type": "code",
   "execution_count": null,
   "metadata": {},
   "outputs": [],
   "source": []
  }
 ],
 "metadata": {
  "kernelspec": {
   "display_name": "praclib",
   "language": "python",
   "name": "praclib"
  },
  "language_info": {
   "codemirror_mode": {
    "name": "ipython",
    "version": 3
   },
   "file_extension": ".py",
   "mimetype": "text/x-python",
   "name": "python",
   "nbconvert_exporter": "python",
   "pygments_lexer": "ipython3",
   "version": "3.7.5rc1"
  }
 },
 "nbformat": 4,
 "nbformat_minor": 4
}
