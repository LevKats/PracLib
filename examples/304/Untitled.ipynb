{
 "cells": [
  {
   "cell_type": "code",
   "execution_count": 1,
   "metadata": {},
   "outputs": [],
   "source": [
    "import pandas as pd"
   ]
  },
  {
   "cell_type": "code",
   "execution_count": 2,
   "metadata": {},
   "outputs": [],
   "source": [
    "from prac_code.value import Value\n",
    "from prac_code.plotter import Plotter"
   ]
  },
  {
   "cell_type": "markdown",
   "metadata": {},
   "source": [
    "## Упражнение 1"
   ]
  },
  {
   "cell_type": "code",
   "execution_count": 4,
   "metadata": {},
   "outputs": [],
   "source": [
    "tab1 = pd.read_csv(\"tables/1.csv\", sep='\\t')"
   ]
  },
  {
   "cell_type": "code",
   "execution_count": 5,
   "metadata": {},
   "outputs": [
    {
     "data": {
      "text/html": [
       "<div>\n",
       "<style scoped>\n",
       "    .dataframe tbody tr th:only-of-type {\n",
       "        vertical-align: middle;\n",
       "    }\n",
       "\n",
       "    .dataframe tbody tr th {\n",
       "        vertical-align: top;\n",
       "    }\n",
       "\n",
       "    .dataframe thead th {\n",
       "        text-align: right;\n",
       "    }\n",
       "</style>\n",
       "<table border=\"1\" class=\"dataframe\">\n",
       "  <thead>\n",
       "    <tr style=\"text-align: right;\">\n",
       "      <th></th>\n",
       "      <th>I</th>\n",
       "      <th>U</th>\n",
       "    </tr>\n",
       "  </thead>\n",
       "  <tbody>\n",
       "    <tr>\n",
       "      <th>0</th>\n",
       "      <td>0.0</td>\n",
       "      <td>0.0</td>\n",
       "    </tr>\n",
       "    <tr>\n",
       "      <th>1</th>\n",
       "      <td>0.5</td>\n",
       "      <td>12.8</td>\n",
       "    </tr>\n",
       "    <tr>\n",
       "      <th>2</th>\n",
       "      <td>1.0</td>\n",
       "      <td>25.3</td>\n",
       "    </tr>\n",
       "    <tr>\n",
       "      <th>3</th>\n",
       "      <td>1.5</td>\n",
       "      <td>37.7</td>\n",
       "    </tr>\n",
       "    <tr>\n",
       "      <th>4</th>\n",
       "      <td>2.0</td>\n",
       "      <td>50.5</td>\n",
       "    </tr>\n",
       "  </tbody>\n",
       "</table>\n",
       "</div>"
      ],
      "text/plain": [
       "     I     U\n",
       "0  0.0   0.0\n",
       "1  0.5  12.8\n",
       "2  1.0  25.3\n",
       "3  1.5  37.7\n",
       "4  2.0  50.5"
      ]
     },
     "execution_count": 5,
     "metadata": {},
     "output_type": "execute_result"
    }
   ],
   "source": [
    "tab1"
   ]
  },
  {
   "cell_type": "code",
   "execution_count": 7,
   "metadata": {},
   "outputs": [],
   "source": [
    "tab1.I = tab1.I.apply(Value) + Value(values=[0.0], syst=0.05)\n",
    "tab1.U = tab1.U.apply(Value) + Value(values=[0.0], syst=0.05)"
   ]
  },
  {
   "cell_type": "code",
   "execution_count": 6,
   "metadata": {},
   "outputs": [],
   "source": [
    "l1 = Value(values=[13.6], syst=0.2) * 10**-2\n",
    "l2 = Value(values=[6.5], syst=0.2) * 10**-2"
   ]
  },
  {
   "cell_type": "code",
   "execution_count": 8,
   "metadata": {},
   "outputs": [
    {
     "data": {
      "image/png": "[encoded data removed]",
      "text/plain": [
       "<Figure size 576x432 with 1 Axes>"
      ]
     },
     "metadata": {
      "needs_background": "light"
     },
     "output_type": "display_data"
    }
   ],
   "source": [
    "fit, *_ = Plotter(draw_legend=False).set_name(\"304_1\").set_title(\"\").set_y_name(\"$U, V$\").set_x_name(\n",
    "        \"$I, A$\"). \\\n",
    "        add_line(Plotter.get_new_line(y_value=tab1.U / 1000, x_value=tab1.I,\n",
    "                                      draw_error=True, legend='$P_1$', fit=True, color='black', marker=\"s\")).\\\n",
    "        plot(show=True, save=True)"
   ]
  },
  {
   "cell_type": "code",
   "execution_count": 10,
   "metadata": {},
   "outputs": [],
   "source": [
    "from math import pi"
   ]
  },
  {
   "cell_type": "code",
   "execution_count": 13,
   "metadata": {},
   "outputs": [
    {
     "name": "stdout",
     "output_type": "stream",
     "text": [
      "k = 0.0588 ± 0.0009\n"
     ]
    }
   ],
   "source": [
    "kui = Value(values=[fit.a], syst=fit.sigma_a)\n",
    "mu0 = 4 * pi * 10**-7\n",
    "n = 237 / (l1 + l2)\n",
    "kbi = mu0 * n\n",
    "k = kbi / kui\n",
    "print(\"k = {}\".format(k))"
   ]
  },
  {
   "cell_type": "markdown",
   "metadata": {},
   "source": [
    "## Упражнение 2"
   ]
  },
  {
   "cell_type": "code",
   "execution_count": 21,
   "metadata": {},
   "outputs": [],
   "source": [
    "tab2 = pd.read_csv('tables/2.csv', sep='\\t')"
   ]
  },
  {
   "cell_type": "code",
   "execution_count": 22,
   "metadata": {},
   "outputs": [
    {
     "data": {
      "text/html": [
       "<div>\n",
       "<style scoped>\n",
       "    .dataframe tbody tr th:only-of-type {\n",
       "        vertical-align: middle;\n",
       "    }\n",
       "\n",
       "    .dataframe tbody tr th {\n",
       "        vertical-align: top;\n",
       "    }\n",
       "\n",
       "    .dataframe thead th {\n",
       "        text-align: right;\n",
       "    }\n",
       "</style>\n",
       "<table border=\"1\" class=\"dataframe\">\n",
       "  <thead>\n",
       "    <tr style=\"text-align: right;\">\n",
       "      <th></th>\n",
       "      <th>z</th>\n",
       "      <th>U</th>\n",
       "    </tr>\n",
       "  </thead>\n",
       "  <tbody>\n",
       "    <tr>\n",
       "      <th>0</th>\n",
       "      <td>0</td>\n",
       "      <td>51.0</td>\n",
       "    </tr>\n",
       "    <tr>\n",
       "      <th>1</th>\n",
       "      <td>1</td>\n",
       "      <td>51.2</td>\n",
       "    </tr>\n",
       "    <tr>\n",
       "      <th>2</th>\n",
       "      <td>2</td>\n",
       "      <td>51.4</td>\n",
       "    </tr>\n",
       "    <tr>\n",
       "      <th>3</th>\n",
       "      <td>3</td>\n",
       "      <td>51.6</td>\n",
       "    </tr>\n",
       "    <tr>\n",
       "      <th>4</th>\n",
       "      <td>4</td>\n",
       "      <td>51.6</td>\n",
       "    </tr>\n",
       "    <tr>\n",
       "      <th>5</th>\n",
       "      <td>5</td>\n",
       "      <td>51.6</td>\n",
       "    </tr>\n",
       "    <tr>\n",
       "      <th>6</th>\n",
       "      <td>6</td>\n",
       "      <td>51.4</td>\n",
       "    </tr>\n",
       "    <tr>\n",
       "      <th>7</th>\n",
       "      <td>7</td>\n",
       "      <td>51.1</td>\n",
       "    </tr>\n",
       "    <tr>\n",
       "      <th>8</th>\n",
       "      <td>8</td>\n",
       "      <td>50.1</td>\n",
       "    </tr>\n",
       "    <tr>\n",
       "      <th>9</th>\n",
       "      <td>9</td>\n",
       "      <td>46.8</td>\n",
       "    </tr>\n",
       "    <tr>\n",
       "      <th>10</th>\n",
       "      <td>10</td>\n",
       "      <td>31.8</td>\n",
       "    </tr>\n",
       "    <tr>\n",
       "      <th>11</th>\n",
       "      <td>11</td>\n",
       "      <td>9.8</td>\n",
       "    </tr>\n",
       "    <tr>\n",
       "      <th>12</th>\n",
       "      <td>12</td>\n",
       "      <td>3.5</td>\n",
       "    </tr>\n",
       "  </tbody>\n",
       "</table>\n",
       "</div>"
      ],
      "text/plain": [
       "     z     U\n",
       "0    0  51.0\n",
       "1    1  51.2\n",
       "2    2  51.4\n",
       "3    3  51.6\n",
       "4    4  51.6\n",
       "5    5  51.6\n",
       "6    6  51.4\n",
       "7    7  51.1\n",
       "8    8  50.1\n",
       "9    9  46.8\n",
       "10  10  31.8\n",
       "11  11   9.8\n",
       "12  12   3.5"
      ]
     },
     "execution_count": 22,
     "metadata": {},
     "output_type": "execute_result"
    }
   ],
   "source": [
    "tab2"
   ]
  },
  {
   "cell_type": "code",
   "execution_count": 23,
   "metadata": {},
   "outputs": [],
   "source": [
    "tab2.z = (tab2.z.apply(Value) + Value(values=[0.0], syst=0.2)) / 100.0\n",
    "tab2[\"B\"] = tab2.U * k / 1000.0"
   ]
  },
  {
   "cell_type": "markdown",
   "metadata": {},
   "source": [
    "тут z отсчитывается от середины"
   ]
  },
  {
   "cell_type": "code",
   "execution_count": 27,
   "metadata": {},
   "outputs": [
    {
     "data": {
      "image/png": "[encoded data removed]",
      "text/plain": [
       "<Figure size 576x432 with 1 Axes>"
      ]
     },
     "metadata": {
      "needs_background": "light"
     },
     "output_type": "display_data"
    }
   ],
   "source": [
    "fit = Plotter(draw_legend=False).set_name(\"304_2\").set_title(\"\").set_y_name(\"$B, T$\").set_x_name(\n",
    "        \"$z, m$\"). \\\n",
    "        add_line(Plotter.get_new_line(y_value=tab2.B, x_value=tab2.z,\n",
    "                                      draw_error=True, legend='$P_1$', fit=False, color='black', marker=\"s\")).\\\n",
    "        plot(show=True, save=True, ylim=(0.0, 0.004))"
   ]
  },
  {
   "cell_type": "code",
   "execution_count": 36,
   "metadata": {},
   "outputs": [],
   "source": [
    "tab3 = pd.read_csv(\"tables/3.csv\", sep='\\t')"
   ]
  },
  {
   "cell_type": "code",
   "execution_count": 37,
   "metadata": {},
   "outputs": [
    {
     "data": {
      "text/html": [
       "<div>\n",
       "<style scoped>\n",
       "    .dataframe tbody tr th:only-of-type {\n",
       "        vertical-align: middle;\n",
       "    }\n",
       "\n",
       "    .dataframe tbody tr th {\n",
       "        vertical-align: top;\n",
       "    }\n",
       "\n",
       "    .dataframe thead th {\n",
       "        text-align: right;\n",
       "    }\n",
       "</style>\n",
       "<table border=\"1\" class=\"dataframe\">\n",
       "  <thead>\n",
       "    <tr style=\"text-align: right;\">\n",
       "      <th></th>\n",
       "      <th>z</th>\n",
       "      <th>U</th>\n",
       "    </tr>\n",
       "  </thead>\n",
       "  <tbody>\n",
       "    <tr>\n",
       "      <th>0</th>\n",
       "      <td>-4</td>\n",
       "      <td>1.0</td>\n",
       "    </tr>\n",
       "    <tr>\n",
       "      <th>1</th>\n",
       "      <td>-3</td>\n",
       "      <td>1.3</td>\n",
       "    </tr>\n",
       "    <tr>\n",
       "      <th>2</th>\n",
       "      <td>-2</td>\n",
       "      <td>2.1</td>\n",
       "    </tr>\n",
       "    <tr>\n",
       "      <th>3</th>\n",
       "      <td>-1</td>\n",
       "      <td>4.6</td>\n",
       "    </tr>\n",
       "    <tr>\n",
       "      <th>4</th>\n",
       "      <td>0</td>\n",
       "      <td>15.3</td>\n",
       "    </tr>\n",
       "    <tr>\n",
       "      <th>5</th>\n",
       "      <td>1</td>\n",
       "      <td>39.1</td>\n",
       "    </tr>\n",
       "    <tr>\n",
       "      <th>6</th>\n",
       "      <td>2</td>\n",
       "      <td>48.0</td>\n",
       "    </tr>\n",
       "    <tr>\n",
       "      <th>7</th>\n",
       "      <td>3</td>\n",
       "      <td>49.7</td>\n",
       "    </tr>\n",
       "    <tr>\n",
       "      <th>8</th>\n",
       "      <td>4</td>\n",
       "      <td>49.9</td>\n",
       "    </tr>\n",
       "    <tr>\n",
       "      <th>9</th>\n",
       "      <td>5</td>\n",
       "      <td>49.0</td>\n",
       "    </tr>\n",
       "    <tr>\n",
       "      <th>10</th>\n",
       "      <td>6</td>\n",
       "      <td>45.7</td>\n",
       "    </tr>\n",
       "    <tr>\n",
       "      <th>11</th>\n",
       "      <td>7</td>\n",
       "      <td>30.2</td>\n",
       "    </tr>\n",
       "    <tr>\n",
       "      <th>12</th>\n",
       "      <td>8</td>\n",
       "      <td>9.1</td>\n",
       "    </tr>\n",
       "    <tr>\n",
       "      <th>13</th>\n",
       "      <td>9</td>\n",
       "      <td>3.3</td>\n",
       "    </tr>\n",
       "    <tr>\n",
       "      <th>14</th>\n",
       "      <td>10</td>\n",
       "      <td>1.8</td>\n",
       "    </tr>\n",
       "    <tr>\n",
       "      <th>15</th>\n",
       "      <td>11</td>\n",
       "      <td>1.3</td>\n",
       "    </tr>\n",
       "  </tbody>\n",
       "</table>\n",
       "</div>"
      ],
      "text/plain": [
       "     z     U\n",
       "0   -4   1.0\n",
       "1   -3   1.3\n",
       "2   -2   2.1\n",
       "3   -1   4.6\n",
       "4    0  15.3\n",
       "5    1  39.1\n",
       "6    2  48.0\n",
       "7    3  49.7\n",
       "8    4  49.9\n",
       "9    5  49.0\n",
       "10   6  45.7\n",
       "11   7  30.2\n",
       "12   8   9.1\n",
       "13   9   3.3\n",
       "14  10   1.8\n",
       "15  11   1.3"
      ]
     },
     "execution_count": 37,
     "metadata": {},
     "output_type": "execute_result"
    }
   ],
   "source": [
    "tab3"
   ]
  },
  {
   "cell_type": "markdown",
   "metadata": {},
   "source": [
    "тут z отсчитывается как раз от торца"
   ]
  },
  {
   "cell_type": "code",
   "execution_count": 38,
   "metadata": {},
   "outputs": [],
   "source": [
    "tab3.z = (tab3.z.apply(Value) + Value(values=[0.0], syst=0.2)) / 100.0\n",
    "tab3[\"B\"] = tab3.U * k / 1000.0"
   ]
  },
  {
   "cell_type": "code",
   "execution_count": 39,
   "metadata": {},
   "outputs": [],
   "source": [
    "I = 2.0\n",
    "D = 0.0194\n",
    "l = l2\n",
    "z = tab3.z\n",
    "tab3[\"B_t\"] = (-(z - l) / ((z - l)**2 + (D / 2)**2)**0.5 + z / (z**2 + (D / 2)**2)**0.5) * 0.5 * mu0 * n * I"
   ]
  },
  {
   "cell_type": "code",
   "execution_count": 40,
   "metadata": {},
   "outputs": [
    {
     "data": {
      "text/html": [
       "<div>\n",
       "<style scoped>\n",
       "    .dataframe tbody tr th:only-of-type {\n",
       "        vertical-align: middle;\n",
       "    }\n",
       "\n",
       "    .dataframe tbody tr th {\n",
       "        vertical-align: top;\n",
       "    }\n",
       "\n",
       "    .dataframe thead th {\n",
       "        text-align: right;\n",
       "    }\n",
       "</style>\n",
       "<table border=\"1\" class=\"dataframe\">\n",
       "  <thead>\n",
       "    <tr style=\"text-align: right;\">\n",
       "      <th></th>\n",
       "      <th>z</th>\n",
       "      <th>U</th>\n",
       "      <th>B</th>\n",
       "      <th>B_t</th>\n",
       "    </tr>\n",
       "  </thead>\n",
       "  <tbody>\n",
       "    <tr>\n",
       "      <th>0</th>\n",
       "      <td>-0.040 ± 0.002</td>\n",
       "      <td>1.0</td>\n",
       "      <td>0.0000588 ± 9e-7</td>\n",
       "      <td>0.000035 ± 0.000004</td>\n",
       "    </tr>\n",
       "    <tr>\n",
       "      <th>1</th>\n",
       "      <td>-0.030 ± 0.002</td>\n",
       "      <td>1.3</td>\n",
       "      <td>0.0000765 ± 0.0000011</td>\n",
       "      <td>0.000064 ± 0.000009</td>\n",
       "    </tr>\n",
       "    <tr>\n",
       "      <th>2</th>\n",
       "      <td>-0.020 ± 0.002</td>\n",
       "      <td>2.1</td>\n",
       "      <td>0.0001236 ± 0.0000018</td>\n",
       "      <td>0.00014 ± 0.00002</td>\n",
       "    </tr>\n",
       "    <tr>\n",
       "      <th>3</th>\n",
       "      <td>-0.010 ± 0.002</td>\n",
       "      <td>4.6</td>\n",
       "      <td>0.000271 ± 0.000004</td>\n",
       "      <td>0.00041 ± 0.00010</td>\n",
       "    </tr>\n",
       "    <tr>\n",
       "      <th>4</th>\n",
       "      <td>0.000 ± 0.002</td>\n",
       "      <td>15.3</td>\n",
       "      <td>0.000900 ± 0.000013</td>\n",
       "      <td>0.0015 ± 0.0003</td>\n",
       "    </tr>\n",
       "    <tr>\n",
       "      <th>5</th>\n",
       "      <td>0.010 ± 0.002</td>\n",
       "      <td>39.1</td>\n",
       "      <td>0.00230 ± 0.00003</td>\n",
       "      <td>0.00252 ± 0.00011</td>\n",
       "    </tr>\n",
       "    <tr>\n",
       "      <th>6</th>\n",
       "      <td>0.020 ± 0.002</td>\n",
       "      <td>48.0</td>\n",
       "      <td>0.00282 ± 0.00004</td>\n",
       "      <td>0.00278 ± 0.00004</td>\n",
       "    </tr>\n",
       "    <tr>\n",
       "      <th>7</th>\n",
       "      <td>0.030 ± 0.002</td>\n",
       "      <td>49.7</td>\n",
       "      <td>0.00292 ± 0.00004</td>\n",
       "      <td>0.00284 ± 0.00004</td>\n",
       "    </tr>\n",
       "    <tr>\n",
       "      <th>8</th>\n",
       "      <td>0.040 ± 0.002</td>\n",
       "      <td>49.9</td>\n",
       "      <td>0.00294 ± 0.00004</td>\n",
       "      <td>0.00282 ± 0.00003</td>\n",
       "    </tr>\n",
       "    <tr>\n",
       "      <th>9</th>\n",
       "      <td>0.050 ± 0.002</td>\n",
       "      <td>49.0</td>\n",
       "      <td>0.00288 ± 0.00004</td>\n",
       "      <td>0.00270 ± 0.00006</td>\n",
       "    </tr>\n",
       "    <tr>\n",
       "      <th>10</th>\n",
       "      <td>0.060 ± 0.002</td>\n",
       "      <td>45.7</td>\n",
       "      <td>0.00269 ± 0.00004</td>\n",
       "      <td>0.0021 ± 0.0003</td>\n",
       "    </tr>\n",
       "    <tr>\n",
       "      <th>11</th>\n",
       "      <td>0.070 ± 0.002</td>\n",
       "      <td>30.2</td>\n",
       "      <td>0.00178 ± 0.00003</td>\n",
       "      <td>0.0008 ± 0.0003</td>\n",
       "    </tr>\n",
       "    <tr>\n",
       "      <th>12</th>\n",
       "      <td>0.080 ± 0.002</td>\n",
       "      <td>9.1</td>\n",
       "      <td>0.000535 ± 0.000008</td>\n",
       "      <td>0.00023 ± 0.00007</td>\n",
       "    </tr>\n",
       "    <tr>\n",
       "      <th>13</th>\n",
       "      <td>0.090 ± 0.002</td>\n",
       "      <td>3.3</td>\n",
       "      <td>0.000194 ± 0.000003</td>\n",
       "      <td>0.000092 ± 0.000020</td>\n",
       "    </tr>\n",
       "    <tr>\n",
       "      <th>14</th>\n",
       "      <td>0.100 ± 0.002</td>\n",
       "      <td>1.8</td>\n",
       "      <td>0.0001059 ± 0.0000015</td>\n",
       "      <td>0.000047 ± 0.000008</td>\n",
       "    </tr>\n",
       "    <tr>\n",
       "      <th>15</th>\n",
       "      <td>0.110 ± 0.002</td>\n",
       "      <td>1.3</td>\n",
       "      <td>0.0000765 ± 0.0000011</td>\n",
       "      <td>0.000028 ± 0.000004</td>\n",
       "    </tr>\n",
       "  </tbody>\n",
       "</table>\n",
       "</div>"
      ],
      "text/plain": [
       "                 z     U                      B                  B_t\n",
       "0   -0.040 ± 0.002   1.0       0.0000588 ± 9e-7  0.000035 ± 0.000004\n",
       "1   -0.030 ± 0.002   1.3  0.0000765 ± 0.0000011  0.000064 ± 0.000009\n",
       "2   -0.020 ± 0.002   2.1  0.0001236 ± 0.0000018    0.00014 ± 0.00002\n",
       "3   -0.010 ± 0.002   4.6    0.000271 ± 0.000004    0.00041 ± 0.00010\n",
       "4    0.000 ± 0.002  15.3    0.000900 ± 0.000013      0.0015 ± 0.0003\n",
       "5    0.010 ± 0.002  39.1      0.00230 ± 0.00003    0.00252 ± 0.00011\n",
       "6    0.020 ± 0.002  48.0      0.00282 ± 0.00004    0.00278 ± 0.00004\n",
       "7    0.030 ± 0.002  49.7      0.00292 ± 0.00004    0.00284 ± 0.00004\n",
       "8    0.040 ± 0.002  49.9      0.00294 ± 0.00004    0.00282 ± 0.00003\n",
       "9    0.050 ± 0.002  49.0      0.00288 ± 0.00004    0.00270 ± 0.00006\n",
       "10   0.060 ± 0.002  45.7      0.00269 ± 0.00004      0.0021 ± 0.0003\n",
       "11   0.070 ± 0.002  30.2      0.00178 ± 0.00003      0.0008 ± 0.0003\n",
       "12   0.080 ± 0.002   9.1    0.000535 ± 0.000008    0.00023 ± 0.00007\n",
       "13   0.090 ± 0.002   3.3    0.000194 ± 0.000003  0.000092 ± 0.000020\n",
       "14   0.100 ± 0.002   1.8  0.0001059 ± 0.0000015  0.000047 ± 0.000008\n",
       "15   0.110 ± 0.002   1.3  0.0000765 ± 0.0000011  0.000028 ± 0.000004"
      ]
     },
     "execution_count": 40,
     "metadata": {},
     "output_type": "execute_result"
    }
   ],
   "source": [
    "tab3"
   ]
  },
  {
   "cell_type": "code",
   "execution_count": 50,
   "metadata": {},
   "outputs": [
    {
     "data": {
      "image/png": "[encoded data removed]",
      "text/plain": [
       "<Figure size 576x432 with 1 Axes>"
      ]
     },
     "metadata": {
      "needs_background": "light"
     },
     "output_type": "display_data"
    }
   ],
   "source": [
    "import matplotlib.pyplot as plt\n",
    "fit = Plotter(draw_legend=True).set_name(\"304_3\").set_title(\"\").set_y_name(\"$B, T$\").set_x_name(\n",
    "        \"$z, m$\"). \\\n",
    "        add_line(Plotter.get_new_line(y_value=tab3.B, x_value=tab3.z,\n",
    "                                      draw_error=True, legend='$experiment$', fit=False, color='blue', marker=\"s\")).\\\n",
    "        add_line(Plotter.get_new_line(y_value=tab3.B_t, x_value=tab3.z,\n",
    "                                      draw_error=True, legend='$theory$', fit=False, color='green', marker=\"s\")).\\\n",
    "        plot(show=False, save=False, ylim=(0.0, 0.0035))\n",
    "\n",
    "b_val = [b.get_value_error()[0] for b in tab3.B_t]\n",
    "z_val = [z.get_value_error()[0] for z in tab3.z]\n",
    "plt.plot(z_val, b_val, color='green')\n",
    "plt.savefig(\"images/304_3.png\", format='png', dpi=300)\n",
    "plt.show()"
   ]
  },
  {
   "cell_type": "markdown",
   "metadata": {},
   "source": [
    "## Упражнение 3"
   ]
  },
  {
   "cell_type": "code",
   "execution_count": 66,
   "metadata": {},
   "outputs": [],
   "source": [
    "tab4 = pd.read_csv(\"tables/4.csv\", sep='\\t')"
   ]
  },
  {
   "cell_type": "code",
   "execution_count": 67,
   "metadata": {},
   "outputs": [
    {
     "data": {
      "text/html": [
       "<div>\n",
       "<style scoped>\n",
       "    .dataframe tbody tr th:only-of-type {\n",
       "        vertical-align: middle;\n",
       "    }\n",
       "\n",
       "    .dataframe tbody tr th {\n",
       "        vertical-align: top;\n",
       "    }\n",
       "\n",
       "    .dataframe thead th {\n",
       "        text-align: right;\n",
       "    }\n",
       "</style>\n",
       "<table border=\"1\" class=\"dataframe\">\n",
       "  <thead>\n",
       "    <tr style=\"text-align: right;\">\n",
       "      <th></th>\n",
       "      <th>z</th>\n",
       "      <th>U</th>\n",
       "    </tr>\n",
       "  </thead>\n",
       "  <tbody>\n",
       "    <tr>\n",
       "      <th>0</th>\n",
       "      <td>0</td>\n",
       "      <td>58.5</td>\n",
       "    </tr>\n",
       "    <tr>\n",
       "      <th>1</th>\n",
       "      <td>1</td>\n",
       "      <td>56.2</td>\n",
       "    </tr>\n",
       "    <tr>\n",
       "      <th>2</th>\n",
       "      <td>2</td>\n",
       "      <td>52.3</td>\n",
       "    </tr>\n",
       "    <tr>\n",
       "      <th>3</th>\n",
       "      <td>3</td>\n",
       "      <td>47.3</td>\n",
       "    </tr>\n",
       "    <tr>\n",
       "      <th>4</th>\n",
       "      <td>4</td>\n",
       "      <td>41.8</td>\n",
       "    </tr>\n",
       "    <tr>\n",
       "      <th>5</th>\n",
       "      <td>5</td>\n",
       "      <td>38.3</td>\n",
       "    </tr>\n",
       "    <tr>\n",
       "      <th>6</th>\n",
       "      <td>6</td>\n",
       "      <td>31.0</td>\n",
       "    </tr>\n",
       "    <tr>\n",
       "      <th>7</th>\n",
       "      <td>7</td>\n",
       "      <td>27.0</td>\n",
       "    </tr>\n",
       "    <tr>\n",
       "      <th>8</th>\n",
       "      <td>8</td>\n",
       "      <td>22.9</td>\n",
       "    </tr>\n",
       "    <tr>\n",
       "      <th>9</th>\n",
       "      <td>9</td>\n",
       "      <td>19.6</td>\n",
       "    </tr>\n",
       "    <tr>\n",
       "      <th>10</th>\n",
       "      <td>10</td>\n",
       "      <td>16.4</td>\n",
       "    </tr>\n",
       "    <tr>\n",
       "      <th>11</th>\n",
       "      <td>11</td>\n",
       "      <td>14.0</td>\n",
       "    </tr>\n",
       "    <tr>\n",
       "      <th>12</th>\n",
       "      <td>12</td>\n",
       "      <td>12.0</td>\n",
       "    </tr>\n",
       "    <tr>\n",
       "      <th>13</th>\n",
       "      <td>13</td>\n",
       "      <td>10.0</td>\n",
       "    </tr>\n",
       "    <tr>\n",
       "      <th>14</th>\n",
       "      <td>14</td>\n",
       "      <td>8.7</td>\n",
       "    </tr>\n",
       "    <tr>\n",
       "      <th>15</th>\n",
       "      <td>15</td>\n",
       "      <td>7.5</td>\n",
       "    </tr>\n",
       "    <tr>\n",
       "      <th>16</th>\n",
       "      <td>16</td>\n",
       "      <td>6.4</td>\n",
       "    </tr>\n",
       "    <tr>\n",
       "      <th>17</th>\n",
       "      <td>17</td>\n",
       "      <td>3.7</td>\n",
       "    </tr>\n",
       "  </tbody>\n",
       "</table>\n",
       "</div>"
      ],
      "text/plain": [
       "     z     U\n",
       "0    0  58.5\n",
       "1    1  56.2\n",
       "2    2  52.3\n",
       "3    3  47.3\n",
       "4    4  41.8\n",
       "5    5  38.3\n",
       "6    6  31.0\n",
       "7    7  27.0\n",
       "8    8  22.9\n",
       "9    9  19.6\n",
       "10  10  16.4\n",
       "11  11  14.0\n",
       "12  12  12.0\n",
       "13  13  10.0\n",
       "14  14   8.7\n",
       "15  15   7.5\n",
       "16  16   6.4\n",
       "17  17   3.7"
      ]
     },
     "execution_count": 67,
     "metadata": {},
     "output_type": "execute_result"
    }
   ],
   "source": [
    "tab4"
   ]
  },
  {
   "cell_type": "code",
   "execution_count": 68,
   "metadata": {},
   "outputs": [],
   "source": [
    "tab4.z = (tab4.z.apply(Value) + Value(values=[0.0], syst=0.2)) / 100.0\n",
    "tab4[\"B\"] = tab4.U * k / 1000.0"
   ]
  },
  {
   "cell_type": "code",
   "execution_count": 69,
   "metadata": {},
   "outputs": [],
   "source": [
    "R0 = 0.092\n",
    "N = Value(values=[265], syst=5)\n",
    "z_val = pd.Series([float(z.get_value_error()[0]) for z in tab4.z])\n",
    "tab4[\"B_t\"] = (z_val**2 + R0**2)**(-3/2) * 0.5 * mu0 * N * I * R0**2"
   ]
  },
  {
   "cell_type": "code",
   "execution_count": 73,
   "metadata": {},
   "outputs": [
    {
     "data": {
      "image/png": "[encoded data removed]",
      "text/plain": [
       "<Figure size 576x432 with 1 Axes>"
      ]
     },
     "metadata": {
      "needs_background": "light"
     },
     "output_type": "display_data"
    }
   ],
   "source": [
    "import matplotlib.pyplot as plt\n",
    "fit = Plotter(draw_legend=True).set_name(\"304_4\").set_title(\"\").set_y_name(\"$B, T$\").set_x_name(\n",
    "        \"$z, m$\"). \\\n",
    "        add_line(Plotter.get_new_line(y_value=tab4.B, x_value=tab4.z,\n",
    "                                      draw_error=True, legend='$experiment$', fit=False, color='blue', marker=\"s\")).\\\n",
    "        add_line(Plotter.get_new_line(y_value=tab4.B_t, x_value=tab4.z,\n",
    "                                      draw_error=True, legend='$theory$', fit=False, color='green', marker=\"s\")).\\\n",
    "        plot(show=False, save=False, ylim=(0.0, 0.004))\n",
    "\n",
    "b_val = [b.get_value_error()[0] for b in tab4.B_t]\n",
    "z_val = [z.get_value_error()[0] for z in tab4.z]\n",
    "plt.plot(z_val, b_val, color='green')\n",
    "plt.savefig(\"images/304_4.png\", format='png', dpi=300)\n",
    "plt.show()"
   ]
  },
  {
   "cell_type": "markdown",
   "metadata": {},
   "source": [
    "интересный лаг в 0.5 см. Кажется я систематически намерил что-то не то :)"
   ]
  },
  {
   "cell_type": "code",
   "execution_count": 86,
   "metadata": {},
   "outputs": [],
   "source": [
    "tab5 = pd.read_csv(\"tables/5.csv\", sep='\\t')"
   ]
  },
  {
   "cell_type": "code",
   "execution_count": 87,
   "metadata": {},
   "outputs": [
    {
     "data": {
      "text/html": [
       "<div>\n",
       "<style scoped>\n",
       "    .dataframe tbody tr th:only-of-type {\n",
       "        vertical-align: middle;\n",
       "    }\n",
       "\n",
       "    .dataframe tbody tr th {\n",
       "        vertical-align: top;\n",
       "    }\n",
       "\n",
       "    .dataframe thead th {\n",
       "        text-align: right;\n",
       "    }\n",
       "</style>\n",
       "<table border=\"1\" class=\"dataframe\">\n",
       "  <thead>\n",
       "    <tr style=\"text-align: right;\">\n",
       "      <th></th>\n",
       "      <th>z</th>\n",
       "      <th>U1</th>\n",
       "      <th>U2</th>\n",
       "      <th>U3</th>\n",
       "    </tr>\n",
       "  </thead>\n",
       "  <tbody>\n",
       "    <tr>\n",
       "      <th>0</th>\n",
       "      <td>0.5</td>\n",
       "      <td>80.3</td>\n",
       "      <td>74.3</td>\n",
       "      <td>87.3</td>\n",
       "    </tr>\n",
       "    <tr>\n",
       "      <th>1</th>\n",
       "      <td>1.0</td>\n",
       "      <td>81.7</td>\n",
       "      <td>75.1</td>\n",
       "      <td>89.2</td>\n",
       "    </tr>\n",
       "    <tr>\n",
       "      <th>2</th>\n",
       "      <td>1.5</td>\n",
       "      <td>82.7</td>\n",
       "      <td>75.8</td>\n",
       "      <td>90.1</td>\n",
       "    </tr>\n",
       "    <tr>\n",
       "      <th>3</th>\n",
       "      <td>2.0</td>\n",
       "      <td>83.5</td>\n",
       "      <td>75.9</td>\n",
       "      <td>92.1</td>\n",
       "    </tr>\n",
       "    <tr>\n",
       "      <th>4</th>\n",
       "      <td>2.5</td>\n",
       "      <td>83.9</td>\n",
       "      <td>75.7</td>\n",
       "      <td>93.3</td>\n",
       "    </tr>\n",
       "    <tr>\n",
       "      <th>5</th>\n",
       "      <td>3.0</td>\n",
       "      <td>84.0</td>\n",
       "      <td>75.5</td>\n",
       "      <td>94.0</td>\n",
       "    </tr>\n",
       "    <tr>\n",
       "      <th>6</th>\n",
       "      <td>3.5</td>\n",
       "      <td>84.5</td>\n",
       "      <td>75.0</td>\n",
       "      <td>94.2</td>\n",
       "    </tr>\n",
       "    <tr>\n",
       "      <th>7</th>\n",
       "      <td>4.0</td>\n",
       "      <td>84.6</td>\n",
       "      <td>74.6</td>\n",
       "      <td>94.6</td>\n",
       "    </tr>\n",
       "    <tr>\n",
       "      <th>8</th>\n",
       "      <td>4.5</td>\n",
       "      <td>84.0</td>\n",
       "      <td>74.0</td>\n",
       "      <td>94.7</td>\n",
       "    </tr>\n",
       "    <tr>\n",
       "      <th>9</th>\n",
       "      <td>5.0</td>\n",
       "      <td>84.6</td>\n",
       "      <td>73.7</td>\n",
       "      <td>94.6</td>\n",
       "    </tr>\n",
       "    <tr>\n",
       "      <th>10</th>\n",
       "      <td>5.5</td>\n",
       "      <td>84.6</td>\n",
       "      <td>73.4</td>\n",
       "      <td>94.0</td>\n",
       "    </tr>\n",
       "    <tr>\n",
       "      <th>11</th>\n",
       "      <td>6.0</td>\n",
       "      <td>84.7</td>\n",
       "      <td>75.3</td>\n",
       "      <td>93.5</td>\n",
       "    </tr>\n",
       "    <tr>\n",
       "      <th>12</th>\n",
       "      <td>6.5</td>\n",
       "      <td>84.8</td>\n",
       "      <td>73.4</td>\n",
       "      <td>92.4</td>\n",
       "    </tr>\n",
       "    <tr>\n",
       "      <th>13</th>\n",
       "      <td>7.0</td>\n",
       "      <td>84.8</td>\n",
       "      <td>73.7</td>\n",
       "      <td>91.0</td>\n",
       "    </tr>\n",
       "    <tr>\n",
       "      <th>14</th>\n",
       "      <td>7.5</td>\n",
       "      <td>84.7</td>\n",
       "      <td>74.0</td>\n",
       "      <td>89.2</td>\n",
       "    </tr>\n",
       "    <tr>\n",
       "      <th>15</th>\n",
       "      <td>8.0</td>\n",
       "      <td>84.3</td>\n",
       "      <td>74.5</td>\n",
       "      <td>86.8</td>\n",
       "    </tr>\n",
       "    <tr>\n",
       "      <th>16</th>\n",
       "      <td>8.5</td>\n",
       "      <td>84.0</td>\n",
       "      <td>75.0</td>\n",
       "      <td>84.2</td>\n",
       "    </tr>\n",
       "    <tr>\n",
       "      <th>17</th>\n",
       "      <td>9.0</td>\n",
       "      <td>83.0</td>\n",
       "      <td>75.4</td>\n",
       "      <td>81.4</td>\n",
       "    </tr>\n",
       "    <tr>\n",
       "      <th>18</th>\n",
       "      <td>9.5</td>\n",
       "      <td>81.4</td>\n",
       "      <td>76.0</td>\n",
       "      <td>78.2</td>\n",
       "    </tr>\n",
       "  </tbody>\n",
       "</table>\n",
       "</div>"
      ],
      "text/plain": [
       "      z    U1    U2    U3\n",
       "0   0.5  80.3  74.3  87.3\n",
       "1   1.0  81.7  75.1  89.2\n",
       "2   1.5  82.7  75.8  90.1\n",
       "3   2.0  83.5  75.9  92.1\n",
       "4   2.5  83.9  75.7  93.3\n",
       "5   3.0  84.0  75.5  94.0\n",
       "6   3.5  84.5  75.0  94.2\n",
       "7   4.0  84.6  74.6  94.6\n",
       "8   4.5  84.0  74.0  94.7\n",
       "9   5.0  84.6  73.7  94.6\n",
       "10  5.5  84.6  73.4  94.0\n",
       "11  6.0  84.7  75.3  93.5\n",
       "12  6.5  84.8  73.4  92.4\n",
       "13  7.0  84.8  73.7  91.0\n",
       "14  7.5  84.7  74.0  89.2\n",
       "15  8.0  84.3  74.5  86.8\n",
       "16  8.5  84.0  75.0  84.2\n",
       "17  9.0  83.0  75.4  81.4\n",
       "18  9.5  81.4  76.0  78.2"
      ]
     },
     "execution_count": 87,
     "metadata": {},
     "output_type": "execute_result"
    }
   ],
   "source": [
    "tab5"
   ]
  },
  {
   "cell_type": "code",
   "execution_count": 88,
   "metadata": {},
   "outputs": [],
   "source": [
    "tab5.z = (tab5.z.apply(Value) + Value(values=[0.0], syst=0.2)) / 100.0\n",
    "tab5[\"B1\"] = tab5.U1 * k / 1000.0\n",
    "tab5[\"B2\"] = tab5.U2 * k / 1000.0\n",
    "tab5[\"B3\"] = tab5.U3 * k / 1000.0"
   ]
  },
  {
   "cell_type": "code",
   "execution_count": 97,
   "metadata": {},
   "outputs": [
    {
     "data": {
      "image/png": "[encoded data removed]",
      "text/plain": [
       "<Figure size 576x432 with 1 Axes>"
      ]
     },
     "metadata": {
      "needs_background": "light"
     },
     "output_type": "display_data"
    }
   ],
   "source": [
    "fit = Plotter(draw_legend=True).set_name(\"304_5\").set_title(\"\").set_y_name(\"$B, T$\").set_x_name(\n",
    "        \"$z, m$\"). \\\n",
    "        add_line(Plotter.get_new_line(y_value=tab5.B1, x_value=tab5.z,\n",
    "                                      draw_error=True, legend='$d=R_0$', fit=False, color='blue', marker=\"s\")).\\\n",
    "        add_line(Plotter.get_new_line(y_value=tab5.B2, x_value=tab5.z,\n",
    "                                      draw_error=True, legend='$d=R_0 + 2cm$', fit=False, color='green', marker=\"s\")).\\\n",
    "        add_line(Plotter.get_new_line(y_value=tab5.B3, x_value=tab5.z,\n",
    "                                      draw_error=True, legend='$d=R_0 - 2cm$', fit=False, color='red', marker=\"s\")).\\\n",
    "        plot(show=True, save=True, ylim=(0.004, 0.006))\n"
   ]
  },
  {
   "cell_type": "code",
   "execution_count": 92,
   "metadata": {},
   "outputs": [],
   "source": [
    "R0 = 0.092\n",
    "N = Value(values=[265], syst=5)\n",
    "z_val = pd.Series([float(z.get_value_error()[0]) for z in tab5.z])\n",
    "\n",
    "tab5[\"B_t_1\"] = (z_val**2 + R0**2)**(-3/2) * 0.5 * mu0 * N * I * R0**2\n",
    "tab5[\"B_t_2\"] = ((R0 - z_val)**2 + R0**2)**(-3/2) * 0.5 * mu0 * N * I * R0**2\n",
    "tab5[\"B_t\"] = tab5.B_t_1 + tab5.B_t_2"
   ]
  },
  {
   "cell_type": "code",
   "execution_count": 98,
   "metadata": {},
   "outputs": [
    {
     "data": {
      "image/png": "[encoded data removed]",
      "text/plain": [
       "<Figure size 576x432 with 1 Axes>"
      ]
     },
     "metadata": {
      "needs_background": "light"
     },
     "output_type": "display_data"
    }
   ],
   "source": [
    "fit = Plotter(draw_legend=True).set_name(\"304_6\").set_title(\"\").set_y_name(\"$B, T$\").set_x_name(\n",
    "        \"$z, m$\"). \\\n",
    "        add_line(Plotter.get_new_line(y_value=tab5.B1, x_value=tab5.z,\n",
    "                                      draw_error=True, legend='$experiment$', fit=False, color='black', marker=\"s\")).\\\n",
    "        add_line(Plotter.get_new_line(y_value=tab5.B_t, x_value=tab5.z,\n",
    "                                      draw_error=True, legend='$theory\\:B$', fit=False, color='blue', marker=\"s\")).\\\n",
    "        add_line(Plotter.get_new_line(y_value=tab5.B_t_1, x_value=tab5.z,\n",
    "                                      draw_error=True, legend='$theory\\:B_1$', fit=False, color='red', marker=\"s\")).\\\n",
    "        add_line(Plotter.get_new_line(y_value=tab5.B_t_2, x_value=tab5.z,\n",
    "                                      draw_error=True, legend='$theory\\:B_2$', fit=False, color='green', marker=\"s\")).\\\n",
    "        plot(show=False, save=False, ylim=(0.000, 0.006))\n",
    "\n",
    "b_val = [b.get_value_error()[0] for b in tab5.B_t]\n",
    "b1_val = [b.get_value_error()[0] for b in tab5.B_t_1]\n",
    "b2_val = [b.get_value_error()[0] for b in tab5.B_t_2]\n",
    "\n",
    "z_val = [z.get_value_error()[0] for z in tab5.z]\n",
    "plt.plot(z_val, b_val, color='blue')\n",
    "plt.plot(z_val, b1_val, color='red')\n",
    "plt.plot(z_val, b2_val, color='green')\n",
    "plt.savefig(\"images/304_6.png\", format='png', dpi=300)\n",
    "plt.show()"
   ]
  },
  {
   "cell_type": "code",
   "execution_count": 99,
   "metadata": {},
   "outputs": [],
   "source": [
    "tab6 = pd.read_csv(\"tables/6.csv\", sep='\\t')"
   ]
  },
  {
   "cell_type": "code",
   "execution_count": 100,
   "metadata": {},
   "outputs": [
    {
     "data": {
      "text/html": [
       "<div>\n",
       "<style scoped>\n",
       "    .dataframe tbody tr th:only-of-type {\n",
       "        vertical-align: middle;\n",
       "    }\n",
       "\n",
       "    .dataframe tbody tr th {\n",
       "        vertical-align: top;\n",
       "    }\n",
       "\n",
       "    .dataframe thead th {\n",
       "        text-align: right;\n",
       "    }\n",
       "</style>\n",
       "<table border=\"1\" class=\"dataframe\">\n",
       "  <thead>\n",
       "    <tr style=\"text-align: right;\">\n",
       "      <th></th>\n",
       "      <th>z</th>\n",
       "      <th>U</th>\n",
       "    </tr>\n",
       "  </thead>\n",
       "  <tbody>\n",
       "    <tr>\n",
       "      <th>0</th>\n",
       "      <td>0.0</td>\n",
       "      <td>84.6</td>\n",
       "    </tr>\n",
       "    <tr>\n",
       "      <th>1</th>\n",
       "      <td>0.5</td>\n",
       "      <td>84.3</td>\n",
       "    </tr>\n",
       "    <tr>\n",
       "      <th>2</th>\n",
       "      <td>1.0</td>\n",
       "      <td>84.2</td>\n",
       "    </tr>\n",
       "    <tr>\n",
       "      <th>3</th>\n",
       "      <td>1.5</td>\n",
       "      <td>84.0</td>\n",
       "    </tr>\n",
       "    <tr>\n",
       "      <th>4</th>\n",
       "      <td>2.0</td>\n",
       "      <td>83.7</td>\n",
       "    </tr>\n",
       "    <tr>\n",
       "      <th>5</th>\n",
       "      <td>2.5</td>\n",
       "      <td>83.2</td>\n",
       "    </tr>\n",
       "    <tr>\n",
       "      <th>6</th>\n",
       "      <td>3.0</td>\n",
       "      <td>82.7</td>\n",
       "    </tr>\n",
       "    <tr>\n",
       "      <th>7</th>\n",
       "      <td>3.5</td>\n",
       "      <td>81.8</td>\n",
       "    </tr>\n",
       "    <tr>\n",
       "      <th>8</th>\n",
       "      <td>4.0</td>\n",
       "      <td>86.0</td>\n",
       "    </tr>\n",
       "    <tr>\n",
       "      <th>9</th>\n",
       "      <td>4.5</td>\n",
       "      <td>78.6</td>\n",
       "    </tr>\n",
       "    <tr>\n",
       "      <th>10</th>\n",
       "      <td>5.0</td>\n",
       "      <td>77.0</td>\n",
       "    </tr>\n",
       "    <tr>\n",
       "      <th>11</th>\n",
       "      <td>5.5</td>\n",
       "      <td>73.7</td>\n",
       "    </tr>\n",
       "    <tr>\n",
       "      <th>12</th>\n",
       "      <td>6.0</td>\n",
       "      <td>69.8</td>\n",
       "    </tr>\n",
       "    <tr>\n",
       "      <th>13</th>\n",
       "      <td>6.5</td>\n",
       "      <td>65.2</td>\n",
       "    </tr>\n",
       "    <tr>\n",
       "      <th>14</th>\n",
       "      <td>7.0</td>\n",
       "      <td>58.7</td>\n",
       "    </tr>\n",
       "  </tbody>\n",
       "</table>\n",
       "</div>"
      ],
      "text/plain": [
       "      z     U\n",
       "0   0.0  84.6\n",
       "1   0.5  84.3\n",
       "2   1.0  84.2\n",
       "3   1.5  84.0\n",
       "4   2.0  83.7\n",
       "5   2.5  83.2\n",
       "6   3.0  82.7\n",
       "7   3.5  81.8\n",
       "8   4.0  86.0\n",
       "9   4.5  78.6\n",
       "10  5.0  77.0\n",
       "11  5.5  73.7\n",
       "12  6.0  69.8\n",
       "13  6.5  65.2\n",
       "14  7.0  58.7"
      ]
     },
     "execution_count": 100,
     "metadata": {},
     "output_type": "execute_result"
    }
   ],
   "source": [
    "tab6"
   ]
  },
  {
   "cell_type": "code",
   "execution_count": 101,
   "metadata": {},
   "outputs": [],
   "source": [
    "tab6.z = (tab6.z.apply(Value) + Value(values=[0.0], syst=0.2)) / 100.0\n",
    "tab6[\"B\"] = tab6.U * k / 1000.0"
   ]
  },
  {
   "cell_type": "code",
   "execution_count": 103,
   "metadata": {},
   "outputs": [
    {
     "data": {
      "image/png": "[encoded data removed]",
      "text/plain": [
       "<Figure size 576x432 with 1 Axes>"
      ]
     },
     "metadata": {
      "needs_background": "light"
     },
     "output_type": "display_data"
    }
   ],
   "source": [
    "fit = Plotter(draw_legend=False).set_name(\"304_7\").set_title(\"\").set_y_name(\"$B, T$\").set_x_name(\n",
    "        \"$y, m$\"). \\\n",
    "        add_line(Plotter.get_new_line(y_value=tab6.B, x_value=tab6.z,\n",
    "                                      draw_error=True, legend='$d=R_0$', fit=False, color='blue', marker=\"s\")).\\\n",
    "        plot(show=True, save=True, ylim=(0.0035, 0.0055))\n"
   ]
  },
  {
   "cell_type": "code",
   "execution_count": null,
   "metadata": {},
   "outputs": [],
   "source": []
  }
 ],
 "metadata": {
  "kernelspec": {
   "display_name": "praclib",
   "language": "python",
   "name": "praclib"
  },
  "language_info": {
   "codemirror_mode": {
    "name": "ipython",
    "version": 3
   },
   "file_extension": ".py",
   "mimetype": "text/x-python",
   "name": "python",
   "nbconvert_exporter": "python",
   "pygments_lexer": "ipython3",
   "version": "3.7.5rc1"
  }
 },
 "nbformat": 4,
 "nbformat_minor": 4
}
