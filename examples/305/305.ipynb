{
 "cells": [
  {
   "cell_type": "code",
   "execution_count": 2,
   "metadata": {},
   "outputs": [],
   "source": [
    "from prac_code.tables import start"
   ]
  },
  {
   "cell_type": "code",
   "execution_count": 7,
   "metadata": {},
   "outputs": [],
   "source": [
    "start()"
   ]
  },
  {
   "cell_type": "code",
   "execution_count": 3,
   "metadata": {},
   "outputs": [
    {
     "data": {
      "text/html": [
       "<div>\n",
       "<style scoped>\n",
       "    .dataframe tbody tr th:only-of-type {\n",
       "        vertical-align: middle;\n",
       "    }\n",
       "\n",
       "    .dataframe tbody tr th {\n",
       "        vertical-align: top;\n",
       "    }\n",
       "\n",
       "    .dataframe thead th {\n",
       "        text-align: right;\n",
       "    }\n",
       "</style>\n",
       "<table border=\"1\" class=\"dataframe\">\n",
       "  <thead>\n",
       "    <tr style=\"text-align: right;\">\n",
       "      <th></th>\n",
       "      <th>OB</th>\n",
       "      <th>OD</th>\n",
       "    </tr>\n",
       "  </thead>\n",
       "  <tbody>\n",
       "    <tr>\n",
       "      <td>0</td>\n",
       "      <td>0.0 ± 0.5</td>\n",
       "      <td>0.0 ± 0.5</td>\n",
       "    </tr>\n",
       "    <tr>\n",
       "      <td>1</td>\n",
       "      <td>4.0 ± 0.5</td>\n",
       "      <td>5.0 ± 0.5</td>\n",
       "    </tr>\n",
       "    <tr>\n",
       "      <td>2</td>\n",
       "      <td>5.0 ± 0.5</td>\n",
       "      <td>8.0 ± 0.5</td>\n",
       "    </tr>\n",
       "    <tr>\n",
       "      <td>3</td>\n",
       "      <td>6.0 ± 0.5</td>\n",
       "      <td>10.0 ± 0.5</td>\n",
       "    </tr>\n",
       "    <tr>\n",
       "      <td>4</td>\n",
       "      <td>7.0 ± 0.5</td>\n",
       "      <td>12.0 ± 0.5</td>\n",
       "    </tr>\n",
       "    <tr>\n",
       "      <td>5</td>\n",
       "      <td>8.0 ± 0.5</td>\n",
       "      <td>14.0 ± 0.5</td>\n",
       "    </tr>\n",
       "    <tr>\n",
       "      <td>6</td>\n",
       "      <td>9.0 ± 0.5</td>\n",
       "      <td>16.0 ± 0.5</td>\n",
       "    </tr>\n",
       "    <tr>\n",
       "      <td>7</td>\n",
       "      <td>10.0 ± 0.5</td>\n",
       "      <td>16.0 ± 0.5</td>\n",
       "    </tr>\n",
       "    <tr>\n",
       "      <td>8</td>\n",
       "      <td>11.0 ± 0.5</td>\n",
       "      <td>17.0 ± 0.5</td>\n",
       "    </tr>\n",
       "    <tr>\n",
       "      <td>9</td>\n",
       "      <td>15.0 ± 0.5</td>\n",
       "      <td>19.0 ± 0.5</td>\n",
       "    </tr>\n",
       "    <tr>\n",
       "      <td>10</td>\n",
       "      <td>20.0 ± 0.5</td>\n",
       "      <td>20.0 ± 0.5</td>\n",
       "    </tr>\n",
       "  </tbody>\n",
       "</table>\n",
       "</div>"
      ],
      "text/plain": [
       "            OB          OD\n",
       "0    0.0 ± 0.5   0.0 ± 0.5\n",
       "1    4.0 ± 0.5   5.0 ± 0.5\n",
       "2    5.0 ± 0.5   8.0 ± 0.5\n",
       "3    6.0 ± 0.5  10.0 ± 0.5\n",
       "4    7.0 ± 0.5  12.0 ± 0.5\n",
       "5    8.0 ± 0.5  14.0 ± 0.5\n",
       "6    9.0 ± 0.5  16.0 ± 0.5\n",
       "7   10.0 ± 0.5  16.0 ± 0.5\n",
       "8   11.0 ± 0.5  17.0 ± 0.5\n",
       "9   15.0 ± 0.5  19.0 ± 0.5\n",
       "10  20.0 ± 0.5  20.0 ± 0.5"
      ]
     },
     "execution_count": 3,
     "metadata": {},
     "output_type": "execute_result"
    }
   ],
   "source": [
    "import pandas as pd\n",
    "from prac_code.value import Value\n",
    "tab1 = pd.read_csv(\"tables/tab1.tab\", sep=\"\\t\")\n",
    "tab1.OB = tab1.OB.apply(Value) + Value(values=[0.0], syst=0.5)\n",
    "tab1.OD = tab1.OD.apply(Value) + Value(values=[0.0], syst=0.5)\n",
    "tab1"
   ]
  },
  {
   "cell_type": "code",
   "execution_count": 4,
   "metadata": {},
   "outputs": [
    {
     "data": {
      "text/html": [
       "<div>\n",
       "<style scoped>\n",
       "    .dataframe tbody tr th:only-of-type {\n",
       "        vertical-align: middle;\n",
       "    }\n",
       "\n",
       "    .dataframe tbody tr th {\n",
       "        vertical-align: top;\n",
       "    }\n",
       "\n",
       "    .dataframe thead th {\n",
       "        text-align: right;\n",
       "    }\n",
       "</style>\n",
       "<table border=\"1\" class=\"dataframe\">\n",
       "  <thead>\n",
       "    <tr style=\"text-align: right;\">\n",
       "      <th></th>\n",
       "      <th>OA</th>\n",
       "      <th>OB</th>\n",
       "      <th>OC</th>\n",
       "      <th>OD</th>\n",
       "      <th>f</th>\n",
       "    </tr>\n",
       "  </thead>\n",
       "  <tbody>\n",
       "    <tr>\n",
       "      <td>0</td>\n",
       "      <td>4.0 ± 0.5</td>\n",
       "      <td>40.0 ± 0.5</td>\n",
       "      <td>14.0 ± 0.5</td>\n",
       "      <td>22.0 ± 0.5</td>\n",
       "      <td>300</td>\n",
       "    </tr>\n",
       "    <tr>\n",
       "      <td>1</td>\n",
       "      <td>4.0 ± 0.5</td>\n",
       "      <td>40.0 ± 0.5</td>\n",
       "      <td>13.0 ± 0.5</td>\n",
       "      <td>21.0 ± 0.5</td>\n",
       "      <td>400</td>\n",
       "    </tr>\n",
       "  </tbody>\n",
       "</table>\n",
       "</div>"
      ],
      "text/plain": [
       "          OA          OB          OC          OD    f\n",
       "0  4.0 ± 0.5  40.0 ± 0.5  14.0 ± 0.5  22.0 ± 0.5  300\n",
       "1  4.0 ± 0.5  40.0 ± 0.5  13.0 ± 0.5  21.0 ± 0.5  400"
      ]
     },
     "execution_count": 4,
     "metadata": {},
     "output_type": "execute_result"
    }
   ],
   "source": [
    "tab2 = pd.read_csv(\"tables/tab2.tab\", sep=\"\\t\")\n",
    "tab2.OA = tab2.OA.apply(Value) + Value(values=[0.0], syst=0.5)\n",
    "tab2.OC = tab2.OC.apply(Value) + Value(values=[0.0], syst=0.5)\n",
    "tab2.OB = tab2.OB.apply(Value) + Value(values=[0.0], syst=0.5)\n",
    "tab2.OD = tab2.OD.apply(Value) + Value(values=[0.0], syst=0.5)\n",
    "tab2"
   ]
  },
  {
   "cell_type": "code",
   "execution_count": 5,
   "metadata": {},
   "outputs": [],
   "source": [
    "r1 = 10.5e-03\n",
    "r2 = 15.5e-03\n",
    "h = 6.5e-03\n",
    "R1 = 24\n",
    "R3 = 43e+03\n",
    "C = 4.0e-06\n",
    "N1 = N2 = 500\n",
    "Cx = 63\n",
    "Cy = 10\n",
    "S = h * (r2 - r1)\n",
    "from math import pi\n",
    "l = 2 * pi * (r1 + r2) / 2\n",
    "n1 = 500 / l"
   ]
  },
  {
   "cell_type": "markdown",
   "metadata": {},
   "source": [
    "Упражнение 1"
   ]
  },
  {
   "cell_type": "code",
   "execution_count": 6,
   "metadata": {},
   "outputs": [
    {
     "data": {
      "text/html": [
       "<div>\n",
       "<style scoped>\n",
       "    .dataframe tbody tr th:only-of-type {\n",
       "        vertical-align: middle;\n",
       "    }\n",
       "\n",
       "    .dataframe tbody tr th {\n",
       "        vertical-align: top;\n",
       "    }\n",
       "\n",
       "    .dataframe thead th {\n",
       "        text-align: right;\n",
       "    }\n",
       "</style>\n",
       "<table border=\"1\" class=\"dataframe\">\n",
       "  <thead>\n",
       "    <tr style=\"text-align: right;\">\n",
       "      <th></th>\n",
       "      <th>OA</th>\n",
       "      <th>OB</th>\n",
       "      <th>OC</th>\n",
       "      <th>OD</th>\n",
       "      <th>f</th>\n",
       "      <th>Hc</th>\n",
       "      <th>Bost</th>\n",
       "      <th>Bs</th>\n",
       "      <th>Hs</th>\n",
       "    </tr>\n",
       "  </thead>\n",
       "  <tbody>\n",
       "    <tr>\n",
       "      <td>0</td>\n",
       "      <td>4.0 ± 0.5</td>\n",
       "      <td>40.0 ± 0.5</td>\n",
       "      <td>14.0 ± 0.5</td>\n",
       "      <td>22.0 ± 0.5</td>\n",
       "      <td>300</td>\n",
       "      <td>64 ± 8</td>\n",
       "      <td>1.48 ± 0.05</td>\n",
       "      <td>2.33 ± 0.05</td>\n",
       "      <td>643 ± 8</td>\n",
       "    </tr>\n",
       "    <tr>\n",
       "      <td>1</td>\n",
       "      <td>4.0 ± 0.5</td>\n",
       "      <td>40.0 ± 0.5</td>\n",
       "      <td>13.0 ± 0.5</td>\n",
       "      <td>21.0 ± 0.5</td>\n",
       "      <td>400</td>\n",
       "      <td>64 ± 8</td>\n",
       "      <td>1.38 ± 0.05</td>\n",
       "      <td>2.22 ± 0.05</td>\n",
       "      <td>643 ± 8</td>\n",
       "    </tr>\n",
       "  </tbody>\n",
       "</table>\n",
       "</div>"
      ],
      "text/plain": [
       "          OA          OB          OC          OD    f      Hc         Bost  \\\n",
       "0  4.0 ± 0.5  40.0 ± 0.5  14.0 ± 0.5  22.0 ± 0.5  300  64 ± 8  1.48 ± 0.05   \n",
       "1  4.0 ± 0.5  40.0 ± 0.5  13.0 ± 0.5  21.0 ± 0.5  400  64 ± 8  1.38 ± 0.05   \n",
       "\n",
       "            Bs       Hs  \n",
       "0  2.33 ± 0.05  643 ± 8  \n",
       "1  2.22 ± 0.05  643 ± 8  "
      ]
     },
     "execution_count": 6,
     "metadata": {},
     "output_type": "execute_result"
    }
   ],
   "source": [
    "tab2[\"Hc\"] = n1 * Cx / R1 * tab2.OA / 1000\n",
    "tab2[\"Bost\"] = R3 * C * tab2.OC * Cy / N2 / S / 1000\n",
    "tab2[\"Bs\"] = R3 * C * tab2.OD * Cy / N2 / S / 1000\n",
    "tab2[\"Hs\"] = n1 * Cx / R1 * tab2.OB / 1000\n",
    "tab2"
   ]
  },
  {
   "cell_type": "markdown",
   "metadata": {},
   "source": [
    "Упражнение 2"
   ]
  },
  {
   "cell_type": "code",
   "execution_count": 7,
   "metadata": {},
   "outputs": [],
   "source": [
    "tab1[\"B\"] = R3 * C * tab1.OD * Cy / N2 / S / 1000\n",
    "tab1[\"H\"] = n1 * Cx / R1 * tab1.OB / 1000\n",
    "mu = tab1[\"B\"][1::] / (4 * pi * 10**-7 * tab1[\"H\"][1::])"
   ]
  },
  {
   "cell_type": "code",
   "execution_count": 8,
   "metadata": {},
   "outputs": [
    {
     "data": {
      "text/html": [
       "<div>\n",
       "<style scoped>\n",
       "    .dataframe tbody tr th:only-of-type {\n",
       "        vertical-align: middle;\n",
       "    }\n",
       "\n",
       "    .dataframe tbody tr th {\n",
       "        vertical-align: top;\n",
       "    }\n",
       "\n",
       "    .dataframe thead th {\n",
       "        text-align: right;\n",
       "    }\n",
       "</style>\n",
       "<table border=\"1\" class=\"dataframe\">\n",
       "  <thead>\n",
       "    <tr style=\"text-align: right;\">\n",
       "      <th></th>\n",
       "      <th>OB</th>\n",
       "      <th>OD</th>\n",
       "      <th>B</th>\n",
       "      <th>H</th>\n",
       "    </tr>\n",
       "  </thead>\n",
       "  <tbody>\n",
       "    <tr>\n",
       "      <td>0</td>\n",
       "      <td>0.0 ± 0.5</td>\n",
       "      <td>0.0 ± 0.5</td>\n",
       "      <td>0.00 ± 0.05</td>\n",
       "      <td>0 ± 8</td>\n",
       "    </tr>\n",
       "    <tr>\n",
       "      <td>1</td>\n",
       "      <td>4.0 ± 0.5</td>\n",
       "      <td>5.0 ± 0.5</td>\n",
       "      <td>0.53 ± 0.05</td>\n",
       "      <td>64 ± 8</td>\n",
       "    </tr>\n",
       "    <tr>\n",
       "      <td>2</td>\n",
       "      <td>5.0 ± 0.5</td>\n",
       "      <td>8.0 ± 0.5</td>\n",
       "      <td>0.85 ± 0.05</td>\n",
       "      <td>80 ± 8</td>\n",
       "    </tr>\n",
       "    <tr>\n",
       "      <td>3</td>\n",
       "      <td>6.0 ± 0.5</td>\n",
       "      <td>10.0 ± 0.5</td>\n",
       "      <td>1.06 ± 0.05</td>\n",
       "      <td>96 ± 8</td>\n",
       "    </tr>\n",
       "    <tr>\n",
       "      <td>4</td>\n",
       "      <td>7.0 ± 0.5</td>\n",
       "      <td>12.0 ± 0.5</td>\n",
       "      <td>1.27 ± 0.05</td>\n",
       "      <td>112 ± 8</td>\n",
       "    </tr>\n",
       "    <tr>\n",
       "      <td>5</td>\n",
       "      <td>8.0 ± 0.5</td>\n",
       "      <td>14.0 ± 0.5</td>\n",
       "      <td>1.48 ± 0.05</td>\n",
       "      <td>129 ± 8</td>\n",
       "    </tr>\n",
       "    <tr>\n",
       "      <td>6</td>\n",
       "      <td>9.0 ± 0.5</td>\n",
       "      <td>16.0 ± 0.5</td>\n",
       "      <td>1.69 ± 0.05</td>\n",
       "      <td>145 ± 8</td>\n",
       "    </tr>\n",
       "    <tr>\n",
       "      <td>7</td>\n",
       "      <td>10.0 ± 0.5</td>\n",
       "      <td>16.0 ± 0.5</td>\n",
       "      <td>1.69 ± 0.05</td>\n",
       "      <td>161 ± 8</td>\n",
       "    </tr>\n",
       "    <tr>\n",
       "      <td>8</td>\n",
       "      <td>11.0 ± 0.5</td>\n",
       "      <td>17.0 ± 0.5</td>\n",
       "      <td>1.80 ± 0.05</td>\n",
       "      <td>177 ± 8</td>\n",
       "    </tr>\n",
       "    <tr>\n",
       "      <td>9</td>\n",
       "      <td>15.0 ± 0.5</td>\n",
       "      <td>19.0 ± 0.5</td>\n",
       "      <td>2.01 ± 0.05</td>\n",
       "      <td>241 ± 8</td>\n",
       "    </tr>\n",
       "    <tr>\n",
       "      <td>10</td>\n",
       "      <td>20.0 ± 0.5</td>\n",
       "      <td>20.0 ± 0.5</td>\n",
       "      <td>2.12 ± 0.05</td>\n",
       "      <td>321 ± 8</td>\n",
       "    </tr>\n",
       "  </tbody>\n",
       "</table>\n",
       "</div>"
      ],
      "text/plain": [
       "            OB          OD            B        H\n",
       "0    0.0 ± 0.5   0.0 ± 0.5  0.00 ± 0.05    0 ± 8\n",
       "1    4.0 ± 0.5   5.0 ± 0.5  0.53 ± 0.05   64 ± 8\n",
       "2    5.0 ± 0.5   8.0 ± 0.5  0.85 ± 0.05   80 ± 8\n",
       "3    6.0 ± 0.5  10.0 ± 0.5  1.06 ± 0.05   96 ± 8\n",
       "4    7.0 ± 0.5  12.0 ± 0.5  1.27 ± 0.05  112 ± 8\n",
       "5    8.0 ± 0.5  14.0 ± 0.5  1.48 ± 0.05  129 ± 8\n",
       "6    9.0 ± 0.5  16.0 ± 0.5  1.69 ± 0.05  145 ± 8\n",
       "7   10.0 ± 0.5  16.0 ± 0.5  1.69 ± 0.05  161 ± 8\n",
       "8   11.0 ± 0.5  17.0 ± 0.5  1.80 ± 0.05  177 ± 8\n",
       "9   15.0 ± 0.5  19.0 ± 0.5  2.01 ± 0.05  241 ± 8\n",
       "10  20.0 ± 0.5  20.0 ± 0.5  2.12 ± 0.05  321 ± 8"
      ]
     },
     "execution_count": 8,
     "metadata": {},
     "output_type": "execute_result"
    }
   ],
   "source": [
    "tab1"
   ]
  },
  {
   "cell_type": "code",
   "execution_count": 9,
   "metadata": {},
   "outputs": [],
   "source": [
    "from prac_code.plotter import Plotter"
   ]
  },
  {
   "cell_type": "code",
   "execution_count": 10,
   "metadata": {},
   "outputs": [
    {
     "data": {
      "image/png": "[encoded data removed]",
      "text/plain": [
       "<Figure size 576x432 with 1 Axes>"
      ]
     },
     "metadata": {
      "needs_background": "light"
     },
     "output_type": "display_data"
    },
    {
     "data": {
      "text/plain": [
       "[]"
      ]
     },
     "execution_count": 10,
     "metadata": {},
     "output_type": "execute_result"
    }
   ],
   "source": [
    "Plotter(draw_legend=False).set_name(\"305B\").set_title(\"\").set_y_name(\"$B, T$\").set_x_name(\n",
    "        \"$H, A/m$\"). \\\n",
    "        add_line(Plotter.get_new_line(y_value=tab1.B, x_value=tab1.H,\n",
    "                                      draw_error=True, legend='$P_1$', fit=False, color='black', marker=\"s\")).\\\n",
    "        plot(show=True, save=True)"
   ]
  },
  {
   "cell_type": "code",
   "execution_count": 11,
   "metadata": {},
   "outputs": [
    {
     "data": {
      "image/png": "[encoded data removed]",
      "text/plain": [
       "<Figure size 576x432 with 1 Axes>"
      ]
     },
     "metadata": {
      "needs_background": "light"
     },
     "output_type": "display_data"
    },
    {
     "data": {
      "text/plain": [
       "[]"
      ]
     },
     "execution_count": 11,
     "metadata": {},
     "output_type": "execute_result"
    }
   ],
   "source": [
    "Plotter(draw_legend=False).set_name(\"305mu\").set_title(\"\").set_y_name(\"$\\mu$\").set_x_name(\n",
    "        \"$H, A/m$\"). \\\n",
    "        add_line(Plotter.get_new_line(y_value=mu, x_value=tab1.H[1::],\n",
    "                                      draw_error=True, legend='$P_1$', fit=False, color='black', marker=\"s\")).\\\n",
    "        plot(show=True, save=True)"
   ]
  },
  {
   "cell_type": "code",
   "execution_count": 12,
   "metadata": {},
   "outputs": [
    {
     "name": "stdout",
     "output_type": "stream",
     "text": [
      ",OB,OD,B,H\n",
      "0,0.0 ± 0.5,0.0 ± 0.5,0.00 ± 0.05,0 ± 8\n",
      "1,4.0 ± 0.5,5.0 ± 0.5,0.53 ± 0.05,64 ± 8\n",
      "2,5.0 ± 0.5,8.0 ± 0.5,0.85 ± 0.05,80 ± 8\n",
      "3,6.0 ± 0.5,10.0 ± 0.5,1.06 ± 0.05,96 ± 8\n",
      "4,7.0 ± 0.5,12.0 ± 0.5,1.27 ± 0.05,112 ± 8\n",
      "5,8.0 ± 0.5,14.0 ± 0.5,1.48 ± 0.05,129 ± 8\n",
      "6,9.0 ± 0.5,16.0 ± 0.5,1.69 ± 0.05,145 ± 8\n",
      "7,10.0 ± 0.5,16.0 ± 0.5,1.69 ± 0.05,161 ± 8\n",
      "8,11.0 ± 0.5,17.0 ± 0.5,1.80 ± 0.05,177 ± 8\n",
      "9,15.0 ± 0.5,19.0 ± 0.5,2.01 ± 0.05,241 ± 8\n",
      "10,20.0 ± 0.5,20.0 ± 0.5,2.12 ± 0.05,321 ± 8\n",
      "\n"
     ]
    }
   ],
   "source": [
    "print(tab1.to_csv())"
   ]
  },
  {
   "cell_type": "code",
   "execution_count": 13,
   "metadata": {},
   "outputs": [
    {
     "name": "stdout",
     "output_type": "stream",
     "text": [
      ",OA,OB,OC,OD,f,Hc,Bost,Bs,Hs\n",
      "0,4.0 ± 0.5,40.0 ± 0.5,14.0 ± 0.5,22.0 ± 0.5,300,64 ± 8,1.48 ± 0.05,2.33 ± 0.05,643 ± 8\n",
      "1,4.0 ± 0.5,40.0 ± 0.5,13.0 ± 0.5,21.0 ± 0.5,400,64 ± 8,1.38 ± 0.05,2.22 ± 0.05,643 ± 8\n",
      "\n"
     ]
    }
   ],
   "source": [
    "print(tab2.to_csv())"
   ]
  },
  {
   "cell_type": "code",
   "execution_count": null,
   "metadata": {},
   "outputs": [],
   "source": []
  }
 ],
 "metadata": {
  "kernelspec": {
   "display_name": "praclib",
   "language": "python",
   "name": "praclib"
  },
  "language_info": {
   "codemirror_mode": {
    "name": "ipython",
    "version": 3
   },
   "file_extension": ".py",
   "mimetype": "text/x-python",
   "name": "python",
   "nbconvert_exporter": "python",
   "pygments_lexer": "ipython3",
   "version": "3.7.3"
  }
 },
 "nbformat": 4,
 "nbformat_minor": 4
}
