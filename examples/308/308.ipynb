{
 "cells": [
  {
   "cell_type": "code",
   "execution_count": 1,
   "metadata": {},
   "outputs": [],
   "source": [
    "from prac_code.tables import start\n",
    "from prac_code.value import Value\n",
    "from prac_code.plotter import Plotter"
   ]
  },
  {
   "cell_type": "code",
   "execution_count": 2,
   "metadata": {},
   "outputs": [],
   "source": [
    "import pandas as pd\n",
    "import numpy as np"
   ]
  },
  {
   "cell_type": "markdown",
   "metadata": {},
   "source": [
    "это было написано на установке (характеристики образца и таблица перевода $I$ в $B$)"
   ]
  },
  {
   "cell_type": "code",
   "execution_count": 3,
   "metadata": {},
   "outputs": [],
   "source": [
    "b = 0.003\n",
    "d = 0.0002\n",
    "l = 0.005\n",
    "dl = 0.005"
   ]
  },
  {
   "cell_type": "code",
   "execution_count": 4,
   "metadata": {},
   "outputs": [
    {
     "data": {
      "text/html": [
       "<div>\n",
       "<style scoped>\n",
       "    .dataframe tbody tr th:only-of-type {\n",
       "        vertical-align: middle;\n",
       "    }\n",
       "\n",
       "    .dataframe tbody tr th {\n",
       "        vertical-align: top;\n",
       "    }\n",
       "\n",
       "    .dataframe thead th {\n",
       "        text-align: right;\n",
       "    }\n",
       "</style>\n",
       "<table border=\"1\" class=\"dataframe\">\n",
       "  <thead>\n",
       "    <tr style=\"text-align: right;\">\n",
       "      <th></th>\n",
       "      <th>I</th>\n",
       "      <th>B</th>\n",
       "    </tr>\n",
       "  </thead>\n",
       "  <tbody>\n",
       "    <tr>\n",
       "      <th>0</th>\n",
       "      <td>0.1</td>\n",
       "      <td>0.025</td>\n",
       "    </tr>\n",
       "    <tr>\n",
       "      <th>1</th>\n",
       "      <td>0.2</td>\n",
       "      <td>0.053</td>\n",
       "    </tr>\n",
       "    <tr>\n",
       "      <th>2</th>\n",
       "      <td>0.3</td>\n",
       "      <td>0.076</td>\n",
       "    </tr>\n",
       "    <tr>\n",
       "      <th>3</th>\n",
       "      <td>0.4</td>\n",
       "      <td>0.096</td>\n",
       "    </tr>\n",
       "    <tr>\n",
       "      <th>4</th>\n",
       "      <td>0.5</td>\n",
       "      <td>0.106</td>\n",
       "    </tr>\n",
       "    <tr>\n",
       "      <th>5</th>\n",
       "      <td>0.6</td>\n",
       "      <td>0.114</td>\n",
       "    </tr>\n",
       "    <tr>\n",
       "      <th>6</th>\n",
       "      <td>0.7</td>\n",
       "      <td>0.121</td>\n",
       "    </tr>\n",
       "  </tbody>\n",
       "</table>\n",
       "</div>"
      ],
      "text/plain": [
       "     I      B\n",
       "0  0.1  0.025\n",
       "1  0.2  0.053\n",
       "2  0.3  0.076\n",
       "3  0.4  0.096\n",
       "4  0.5  0.106\n",
       "5  0.6  0.114\n",
       "6  0.7  0.121"
      ]
     },
     "execution_count": 4,
     "metadata": {},
     "output_type": "execute_result"
    }
   ],
   "source": [
    "IB = pd.DataFrame({\n",
    "    \"I\": [0.1, 0.2, 0.3, 0.4, 0.5, 0.6, 0.7],\n",
    "    \"B\": [0.025, 0.053, 0.076, 0.096, 0.106, 0.114, 0.121]\n",
    "})\n",
    "IB"
   ]
  },
  {
   "cell_type": "markdown",
   "metadata": {},
   "source": [
    "заполним таблички экспериментальными данными"
   ]
  },
  {
   "cell_type": "code",
   "execution_count": 5,
   "metadata": {},
   "outputs": [],
   "source": [
    "# start()"
   ]
  },
  {
   "cell_type": "markdown",
   "metadata": {},
   "source": [
    "**Упражнение 1**"
   ]
  },
  {
   "cell_type": "code",
   "execution_count": 6,
   "metadata": {},
   "outputs": [
    {
     "data": {
      "text/html": [
       "<div>\n",
       "<style scoped>\n",
       "    .dataframe tbody tr th:only-of-type {\n",
       "        vertical-align: middle;\n",
       "    }\n",
       "\n",
       "    .dataframe tbody tr th {\n",
       "        vertical-align: top;\n",
       "    }\n",
       "\n",
       "    .dataframe thead th {\n",
       "        text-align: right;\n",
       "    }\n",
       "</style>\n",
       "<table border=\"1\" class=\"dataframe\">\n",
       "  <thead>\n",
       "    <tr style=\"text-align: right;\">\n",
       "      <th></th>\n",
       "      <th>I</th>\n",
       "      <th>U</th>\n",
       "    </tr>\n",
       "  </thead>\n",
       "  <tbody>\n",
       "    <tr>\n",
       "      <th>0</th>\n",
       "      <td>0.00050 ± 0.00010</td>\n",
       "      <td>0.153 ± 0.010</td>\n",
       "    </tr>\n",
       "    <tr>\n",
       "      <th>1</th>\n",
       "      <td>0.00100 ± 0.00010</td>\n",
       "      <td>0.303 ± 0.010</td>\n",
       "    </tr>\n",
       "    <tr>\n",
       "      <th>2</th>\n",
       "      <td>0.00200 ± 0.00010</td>\n",
       "      <td>0.607 ± 0.010</td>\n",
       "    </tr>\n",
       "    <tr>\n",
       "      <th>3</th>\n",
       "      <td>0.00300 ± 0.00010</td>\n",
       "      <td>0.912 ± 0.010</td>\n",
       "    </tr>\n",
       "  </tbody>\n",
       "</table>\n",
       "</div>"
      ],
      "text/plain": [
       "                   I              U\n",
       "0  0.00050 ± 0.00010  0.153 ± 0.010\n",
       "1  0.00100 ± 0.00010  0.303 ± 0.010\n",
       "2  0.00200 ± 0.00010  0.607 ± 0.010\n",
       "3  0.00300 ± 0.00010  0.912 ± 0.010"
      ]
     },
     "execution_count": 6,
     "metadata": {},
     "output_type": "execute_result"
    }
   ],
   "source": [
    "tab1 = pd.read_csv(\"tables/1.tab\", sep='\\t')\n",
    "tab1.I = (tab1.I.apply(Value) + Value(values=[0.0], syst=0.1)) / 1000\n",
    "tab1.U = tab1.U.apply(Value) + Value(values=[0.0], syst=0.01)\n",
    "tab1"
   ]
  },
  {
   "cell_type": "code",
   "execution_count": 7,
   "metadata": {},
   "outputs": [
    {
     "name": "stdout",
     "output_type": "stream",
     "text": [
      "0.036 ± 0.004\n"
     ]
    }
   ],
   "source": [
    "rho = tab1.U * b * d / (tab1.I * dl)\n",
    "rho = sum(rho) / len(rho)\n",
    "print(rho)"
   ]
  },
  {
   "cell_type": "markdown",
   "metadata": {},
   "source": [
    "а вот вопрос, что это за материал, что-то сложное это"
   ]
  },
  {
   "cell_type": "markdown",
   "metadata": {},
   "source": [
    "**Упражнение 2**"
   ]
  },
  {
   "cell_type": "code",
   "execution_count": 8,
   "metadata": {},
   "outputs": [
    {
     "data": {
      "text/html": [
       "<div>\n",
       "<style scoped>\n",
       "    .dataframe tbody tr th:only-of-type {\n",
       "        vertical-align: middle;\n",
       "    }\n",
       "\n",
       "    .dataframe tbody tr th {\n",
       "        vertical-align: top;\n",
       "    }\n",
       "\n",
       "    .dataframe thead th {\n",
       "        text-align: right;\n",
       "    }\n",
       "</style>\n",
       "<table border=\"1\" class=\"dataframe\">\n",
       "  <thead>\n",
       "    <tr style=\"text-align: right;\">\n",
       "      <th></th>\n",
       "      <th>I</th>\n",
       "      <th>U1</th>\n",
       "      <th>U2</th>\n",
       "      <th>B</th>\n",
       "    </tr>\n",
       "  </thead>\n",
       "  <tbody>\n",
       "    <tr>\n",
       "      <th>0</th>\n",
       "      <td>0.10 ± 0.10</td>\n",
       "      <td>0.00140 ± 0.00010</td>\n",
       "      <td>0.00100 ± 0.00010</td>\n",
       "      <td>0.0250 ± 0.0010</td>\n",
       "    </tr>\n",
       "    <tr>\n",
       "      <th>1</th>\n",
       "      <td>0.20 ± 0.10</td>\n",
       "      <td>0.00280 ± 0.00010</td>\n",
       "      <td>0.00230 ± 0.00010</td>\n",
       "      <td>0.0530 ± 0.0010</td>\n",
       "    </tr>\n",
       "    <tr>\n",
       "      <th>2</th>\n",
       "      <td>0.30 ± 0.10</td>\n",
       "      <td>0.00380 ± 0.00010</td>\n",
       "      <td>0.00340 ± 0.00010</td>\n",
       "      <td>0.0760 ± 0.0010</td>\n",
       "    </tr>\n",
       "    <tr>\n",
       "      <th>3</th>\n",
       "      <td>0.40 ± 0.10</td>\n",
       "      <td>0.00450 ± 0.00010</td>\n",
       "      <td>0.00410 ± 0.00010</td>\n",
       "      <td>0.0960 ± 0.0010</td>\n",
       "    </tr>\n",
       "    <tr>\n",
       "      <th>4</th>\n",
       "      <td>0.50 ± 0.10</td>\n",
       "      <td>0.00500 ± 0.00010</td>\n",
       "      <td>0.00470 ± 0.00010</td>\n",
       "      <td>0.1060 ± 0.0010</td>\n",
       "    </tr>\n",
       "  </tbody>\n",
       "</table>\n",
       "</div>"
      ],
      "text/plain": [
       "             I                 U1                 U2                B\n",
       "0  0.10 ± 0.10  0.00140 ± 0.00010  0.00100 ± 0.00010  0.0250 ± 0.0010\n",
       "1  0.20 ± 0.10  0.00280 ± 0.00010  0.00230 ± 0.00010  0.0530 ± 0.0010\n",
       "2  0.30 ± 0.10  0.00380 ± 0.00010  0.00340 ± 0.00010  0.0760 ± 0.0010\n",
       "3  0.40 ± 0.10  0.00450 ± 0.00010  0.00410 ± 0.00010  0.0960 ± 0.0010\n",
       "4  0.50 ± 0.10  0.00500 ± 0.00010  0.00470 ± 0.00010  0.1060 ± 0.0010"
      ]
     },
     "execution_count": 8,
     "metadata": {},
     "output_type": "execute_result"
    }
   ],
   "source": [
    "tab2 = pd.read_csv(\"tables/2.tab\", sep='\\t')\n",
    "tab2 = pd.merge(tab2, IB, on=\"I\")\n",
    "tab2.I = tab2.I.apply(Value) + Value(values=[0.0], syst=0.1)\n",
    "tab2.B = tab2.B.apply(Value) + Value(values=[0.0], syst=0.001)\n",
    "tab2.U1 = (tab2.U1.apply(Value) + Value(values=[0.0], syst=0.1)) / 1000\n",
    "tab2.U2 = (tab2.U2.apply(Value) + Value(values=[0.0], syst=0.1)) / 1000\n",
    "tab2"
   ]
  },
  {
   "cell_type": "code",
   "execution_count": 9,
   "metadata": {},
   "outputs": [],
   "source": [
    "epsilon_ = (tab2.U1 + tab2.U2) / 2\n",
    "epsilon = epsilon_ * d / 0.001"
   ]
  },
  {
   "cell_type": "code",
   "execution_count": 10,
   "metadata": {},
   "outputs": [
    {
     "data": {
      "image/png": "[encoded data removed]",
      "text/plain": [
       "<Figure size 576x432 with 1 Axes>"
      ]
     },
     "metadata": {
      "needs_background": "light"
     },
     "output_type": "display_data"
    }
   ],
   "source": [
    "fit, *_ = Plotter(draw_legend=False).set_name(\"1\").set_title(\"1 mA\").set_y_name(\"$\\epsilon^*,\\: 10^{-3}V m / A$\").set_x_name(\n",
    "        \"$B,\\: T$\"). \\\n",
    "        add_line(Plotter.get_new_line(y_value=epsilon[::] * 10 ** 3, x_value=tab2.B[::],\n",
    "                                      draw_error=False, legend='$f_1 = 300Hz$', fit=True, color='black', marker=\"s\")). \\\n",
    "        plot(show=True, save=True)"
   ]
  },
  {
   "cell_type": "code",
   "execution_count": 11,
   "metadata": {},
   "outputs": [
    {
     "name": "stdout",
     "output_type": "stream",
     "text": [
      "0.0088 ± 0.0003\n"
     ]
    }
   ],
   "source": [
    "R = Value(values=[fit.a], syst=fit.sigma_a) / 1000\n",
    "print(R)"
   ]
  },
  {
   "cell_type": "code",
   "execution_count": 12,
   "metadata": {},
   "outputs": [
    {
     "data": {
      "text/html": [
       "<div>\n",
       "<style scoped>\n",
       "    .dataframe tbody tr th:only-of-type {\n",
       "        vertical-align: middle;\n",
       "    }\n",
       "\n",
       "    .dataframe tbody tr th {\n",
       "        vertical-align: top;\n",
       "    }\n",
       "\n",
       "    .dataframe thead th {\n",
       "        text-align: right;\n",
       "    }\n",
       "</style>\n",
       "<table border=\"1\" class=\"dataframe\">\n",
       "  <thead>\n",
       "    <tr style=\"text-align: right;\">\n",
       "      <th></th>\n",
       "      <th>I</th>\n",
       "      <th>U1</th>\n",
       "      <th>U2</th>\n",
       "      <th>B</th>\n",
       "    </tr>\n",
       "  </thead>\n",
       "  <tbody>\n",
       "    <tr>\n",
       "      <th>0</th>\n",
       "      <td>0.10 ± 0.10</td>\n",
       "      <td>0.00400 ± 0.00010</td>\n",
       "      <td>0.00290 ± 0.00010</td>\n",
       "      <td>0.0250 ± 0.0010</td>\n",
       "    </tr>\n",
       "    <tr>\n",
       "      <th>1</th>\n",
       "      <td>0.20 ± 0.10</td>\n",
       "      <td>0.00750 ± 0.00010</td>\n",
       "      <td>0.00660 ± 0.00010</td>\n",
       "      <td>0.0530 ± 0.0010</td>\n",
       "    </tr>\n",
       "    <tr>\n",
       "      <th>2</th>\n",
       "      <td>0.30 ± 0.10</td>\n",
       "      <td>0.01020 ± 0.00010</td>\n",
       "      <td>0.01130 ± 0.00010</td>\n",
       "      <td>0.0760 ± 0.0010</td>\n",
       "    </tr>\n",
       "    <tr>\n",
       "      <th>3</th>\n",
       "      <td>0.40 ± 0.10</td>\n",
       "      <td>0.01350 ± 0.00010</td>\n",
       "      <td>0.01270 ± 0.00010</td>\n",
       "      <td>0.0960 ± 0.0010</td>\n",
       "    </tr>\n",
       "    <tr>\n",
       "      <th>4</th>\n",
       "      <td>0.50 ± 0.10</td>\n",
       "      <td>0.01490 ± 0.00010</td>\n",
       "      <td>0.01400 ± 0.00010</td>\n",
       "      <td>0.1060 ± 0.0010</td>\n",
       "    </tr>\n",
       "  </tbody>\n",
       "</table>\n",
       "</div>"
      ],
      "text/plain": [
       "             I                 U1                 U2                B\n",
       "0  0.10 ± 0.10  0.00400 ± 0.00010  0.00290 ± 0.00010  0.0250 ± 0.0010\n",
       "1  0.20 ± 0.10  0.00750 ± 0.00010  0.00660 ± 0.00010  0.0530 ± 0.0010\n",
       "2  0.30 ± 0.10  0.01020 ± 0.00010  0.01130 ± 0.00010  0.0760 ± 0.0010\n",
       "3  0.40 ± 0.10  0.01350 ± 0.00010  0.01270 ± 0.00010  0.0960 ± 0.0010\n",
       "4  0.50 ± 0.10  0.01490 ± 0.00010  0.01400 ± 0.00010  0.1060 ± 0.0010"
      ]
     },
     "execution_count": 12,
     "metadata": {},
     "output_type": "execute_result"
    }
   ],
   "source": [
    "tab3 = pd.read_csv(\"tables/3.tab\", sep='\\t')\n",
    "tab3 = pd.merge(tab3, IB, on=\"I\")\n",
    "tab3.I = tab3.I.apply(Value) + Value(values=[0.0], syst=0.1)\n",
    "tab3.B = tab3.B.apply(Value) + Value(values=[0.0], syst=0.001)\n",
    "tab3.U1 = (tab3.U1.apply(Value) + Value(values=[0.0], syst=0.1)) / 1000\n",
    "tab3.U2 = (tab3.U2.apply(Value) + Value(values=[0.0], syst=0.1)) / 1000\n",
    "tab3"
   ]
  },
  {
   "cell_type": "code",
   "execution_count": 13,
   "metadata": {},
   "outputs": [],
   "source": [
    "epsilon_ = (tab3.U1 + tab3.U2) / 2\n",
    "epsilon = epsilon_ * d / 0.003"
   ]
  },
  {
   "cell_type": "code",
   "execution_count": 14,
   "metadata": {},
   "outputs": [
    {
     "data": {
      "image/png": "[encoded data removed]",
      "text/plain": [
       "<Figure size 576x432 with 1 Axes>"
      ]
     },
     "metadata": {
      "needs_background": "light"
     },
     "output_type": "display_data"
    }
   ],
   "source": [
    "fit, *_ = Plotter(draw_legend=False).set_name(\"2\").set_title(\"1 mA\").set_y_name(\"$\\epsilon^*,\\: 10^{-3}V m / A$\").set_x_name(\n",
    "        \"$B,\\: T$\"). \\\n",
    "        add_line(Plotter.get_new_line(y_value=epsilon[::] * 10 ** 3, x_value=tab3.B[::],\n",
    "                                      draw_error=False, legend='$f_1 = 300Hz$', fit=True, color='black', marker=\"s\")). \\\n",
    "        plot(show=True, save=True)"
   ]
  },
  {
   "cell_type": "code",
   "execution_count": 15,
   "metadata": {},
   "outputs": [
    {
     "name": "stdout",
     "output_type": "stream",
     "text": [
      "0.0091 ± 0.0002\n"
     ]
    }
   ],
   "source": [
    "R2 = Value(values=[fit.a], syst=fit.sigma_a) / 1000\n",
    "print(R2)"
   ]
  },
  {
   "cell_type": "markdown",
   "metadata": {},
   "source": [
    "Нашли $R$"
   ]
  },
  {
   "cell_type": "markdown",
   "metadata": {},
   "source": [
    "Ура, сходится!"
   ]
  },
  {
   "cell_type": "code",
   "execution_count": 16,
   "metadata": {},
   "outputs": [
    {
     "name": "stdout",
     "output_type": "stream",
     "text": [
      "8.4e+20 ± 3e+19\n"
     ]
    }
   ],
   "source": [
    "n = 7.4 * 10 ** 18 / R\n",
    "print(n)"
   ]
  },
  {
   "cell_type": "markdown",
   "metadata": {},
   "source": [
    "нашли $n$"
   ]
  },
  {
   "cell_type": "code",
   "execution_count": 17,
   "metadata": {},
   "outputs": [
    {
     "name": "stdout",
     "output_type": "stream",
     "text": [
      "0.21 ± 0.02\n"
     ]
    }
   ],
   "source": [
    "mu = 0.85 * R / rho\n",
    "print(mu)"
   ]
  },
  {
   "cell_type": "markdown",
   "metadata": {},
   "source": [
    "нашли $\\mu$"
   ]
  },
  {
   "cell_type": "code",
   "execution_count": 18,
   "metadata": {},
   "outputs": [],
   "source": [
    "with open(\"tables_result/1.csv\", \"w\") as file:\n",
    "    file.write(tab1.to_csv())\n",
    "with open(\"tables_result/2.csv\", \"w\") as file:\n",
    "    file.write(tab2.to_csv())\n",
    "with open(\"tables_result/3.csv\", \"w\") as file:\n",
    "    file.write(tab3.to_csv())"
   ]
  },
  {
   "cell_type": "code",
   "execution_count": null,
   "metadata": {},
   "outputs": [],
   "source": []
  }
 ],
 "metadata": {
  "kernelspec": {
   "display_name": "praclib",
   "language": "python",
   "name": "praclib"
  },
  "language_info": {
   "codemirror_mode": {
    "name": "ipython",
    "version": 3
   },
   "file_extension": ".py",
   "mimetype": "text/x-python",
   "name": "python",
   "nbconvert_exporter": "python",
   "pygments_lexer": "ipython3",
   "version": "3.7.5rc1"
  }
 },
 "nbformat": 4,
 "nbformat_minor": 4
}
