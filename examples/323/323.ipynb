{
 "cells": [
  {
   "cell_type": "code",
   "execution_count": 24,
   "metadata": {},
   "outputs": [],
   "source": [
    "from prac_code.tables import start\n",
    "start()"
   ]
  },
  {
   "cell_type": "code",
   "execution_count": 25,
   "metadata": {},
   "outputs": [],
   "source": [
    "import pandas as pd\n",
    "tab1 = pd.read_csv(\"tables/323_1.tab\", sep=\"\\t\")\n",
    "tab2 = pd.read_csv(\"tables/323_2.tab\", sep=\"\\t\")\n",
    "tab3 = pd.read_csv(\"tables/323_3.tab\", sep=\"\\t\")\n",
    "tab4 = pd.read_csv(\"tables/323_4.tab\", sep=\"\\t\")"
   ]
  },
  {
   "cell_type": "code",
   "execution_count": 26,
   "metadata": {},
   "outputs": [],
   "source": [
    "from prac_code.value import Value\n",
    "tab1[\"U\"] = tab1[\"U\"].apply(Value)\n",
    "tab1[\"I\"] = tab1[\"I\"].apply(Value)\n",
    "tab1[\"U\"] += Value(values=[0.0], syst=0.0005)\n",
    "tab1[\"I\"] += Value(values=[0.0], syst=0.005)"
   ]
  },
  {
   "cell_type": "code",
   "execution_count": 27,
   "metadata": {},
   "outputs": [
    {
     "data": {
      "text/html": [
       "<div>\n",
       "<style scoped>\n",
       "    .dataframe tbody tr th:only-of-type {\n",
       "        vertical-align: middle;\n",
       "    }\n",
       "\n",
       "    .dataframe tbody tr th {\n",
       "        vertical-align: top;\n",
       "    }\n",
       "\n",
       "    .dataframe thead th {\n",
       "        text-align: right;\n",
       "    }\n",
       "</style>\n",
       "<table border=\"1\" class=\"dataframe\">\n",
       "  <thead>\n",
       "    <tr style=\"text-align: right;\">\n",
       "      <th></th>\n",
       "      <th>U</th>\n",
       "      <th>I</th>\n",
       "    </tr>\n",
       "  </thead>\n",
       "  <tbody>\n",
       "    <tr>\n",
       "      <td>0</td>\n",
       "      <td>0.0000 ± 0.0005</td>\n",
       "      <td>0.000 ± 0.005</td>\n",
       "    </tr>\n",
       "    <tr>\n",
       "      <td>1</td>\n",
       "      <td>0.3260 ± 0.0005</td>\n",
       "      <td>0.000 ± 0.005</td>\n",
       "    </tr>\n",
       "    <tr>\n",
       "      <td>2</td>\n",
       "      <td>0.6120 ± 0.0005</td>\n",
       "      <td>0.260 ± 0.005</td>\n",
       "    </tr>\n",
       "    <tr>\n",
       "      <td>3</td>\n",
       "      <td>0.6290 ± 0.0005</td>\n",
       "      <td>0.420 ± 0.005</td>\n",
       "    </tr>\n",
       "    <tr>\n",
       "      <td>4</td>\n",
       "      <td>0.6400 ± 0.0005</td>\n",
       "      <td>0.600 ± 0.005</td>\n",
       "    </tr>\n",
       "    <tr>\n",
       "      <td>5</td>\n",
       "      <td>0.6490 ± 0.0005</td>\n",
       "      <td>0.800 ± 0.005</td>\n",
       "    </tr>\n",
       "    <tr>\n",
       "      <td>6</td>\n",
       "      <td>0.6550 ± 0.0005</td>\n",
       "      <td>0.980 ± 0.005</td>\n",
       "    </tr>\n",
       "    <tr>\n",
       "      <td>7</td>\n",
       "      <td>0.6760 ± 0.0005</td>\n",
       "      <td>2.060 ± 0.005</td>\n",
       "    </tr>\n",
       "    <tr>\n",
       "      <td>8</td>\n",
       "      <td>0.6880 ± 0.0005</td>\n",
       "      <td>3.070 ± 0.005</td>\n",
       "    </tr>\n",
       "    <tr>\n",
       "      <td>9</td>\n",
       "      <td>0.6970 ± 0.0005</td>\n",
       "      <td>4.070 ± 0.005</td>\n",
       "    </tr>\n",
       "    <tr>\n",
       "      <td>10</td>\n",
       "      <td>0.7040 ± 0.0005</td>\n",
       "      <td>5.050 ± 0.005</td>\n",
       "    </tr>\n",
       "    <tr>\n",
       "      <td>11</td>\n",
       "      <td>0.7100 ± 0.0005</td>\n",
       "      <td>6.120 ± 0.005</td>\n",
       "    </tr>\n",
       "  </tbody>\n",
       "</table>\n",
       "</div>"
      ],
      "text/plain": [
       "                  U              I\n",
       "0   0.0000 ± 0.0005  0.000 ± 0.005\n",
       "1   0.3260 ± 0.0005  0.000 ± 0.005\n",
       "2   0.6120 ± 0.0005  0.260 ± 0.005\n",
       "3   0.6290 ± 0.0005  0.420 ± 0.005\n",
       "4   0.6400 ± 0.0005  0.600 ± 0.005\n",
       "5   0.6490 ± 0.0005  0.800 ± 0.005\n",
       "6   0.6550 ± 0.0005  0.980 ± 0.005\n",
       "7   0.6760 ± 0.0005  2.060 ± 0.005\n",
       "8   0.6880 ± 0.0005  3.070 ± 0.005\n",
       "9   0.6970 ± 0.0005  4.070 ± 0.005\n",
       "10  0.7040 ± 0.0005  5.050 ± 0.005\n",
       "11  0.7100 ± 0.0005  6.120 ± 0.005"
      ]
     },
     "execution_count": 27,
     "metadata": {},
     "output_type": "execute_result"
    }
   ],
   "source": [
    "tab1\n",
    "#прямая ветвь"
   ]
  },
  {
   "cell_type": "code",
   "execution_count": 28,
   "metadata": {},
   "outputs": [],
   "source": [
    "tab2[\"U\"] = tab2[\"U\"].apply(Value)\n",
    "tab2[\"I\"] = tab2[\"I\"].apply(Value)\n",
    "tab2[\"U\"] += Value(values=[0.0], syst=0.005)\n",
    "tab2[\"I\"] += Value(values=[0.0], syst=0.005)"
   ]
  },
  {
   "cell_type": "code",
   "execution_count": 29,
   "metadata": {},
   "outputs": [
    {
     "data": {
      "text/html": [
       "<div>\n",
       "<style scoped>\n",
       "    .dataframe tbody tr th:only-of-type {\n",
       "        vertical-align: middle;\n",
       "    }\n",
       "\n",
       "    .dataframe tbody tr th {\n",
       "        vertical-align: top;\n",
       "    }\n",
       "\n",
       "    .dataframe thead th {\n",
       "        text-align: right;\n",
       "    }\n",
       "</style>\n",
       "<table border=\"1\" class=\"dataframe\">\n",
       "  <thead>\n",
       "    <tr style=\"text-align: right;\">\n",
       "      <th></th>\n",
       "      <th>U</th>\n",
       "      <th>I</th>\n",
       "    </tr>\n",
       "  </thead>\n",
       "  <tbody>\n",
       "    <tr>\n",
       "      <td>0</td>\n",
       "      <td>-1.050 ± 0.005</td>\n",
       "      <td>0.000 ± 0.005</td>\n",
       "    </tr>\n",
       "    <tr>\n",
       "      <td>1</td>\n",
       "      <td>-2.050 ± 0.005</td>\n",
       "      <td>0.000 ± 0.005</td>\n",
       "    </tr>\n",
       "    <tr>\n",
       "      <td>2</td>\n",
       "      <td>-3.080 ± 0.005</td>\n",
       "      <td>0.000 ± 0.005</td>\n",
       "    </tr>\n",
       "    <tr>\n",
       "      <td>3</td>\n",
       "      <td>-4.090 ± 0.005</td>\n",
       "      <td>0.000 ± 0.005</td>\n",
       "    </tr>\n",
       "    <tr>\n",
       "      <td>4</td>\n",
       "      <td>-5.000 ± 0.005</td>\n",
       "      <td>0.000 ± 0.005</td>\n",
       "    </tr>\n",
       "    <tr>\n",
       "      <td>5</td>\n",
       "      <td>-6.090 ± 0.005</td>\n",
       "      <td>0.000 ± 0.005</td>\n",
       "    </tr>\n",
       "    <tr>\n",
       "      <td>6</td>\n",
       "      <td>-7.550 ± 0.005</td>\n",
       "      <td>0.000 ± 0.005</td>\n",
       "    </tr>\n",
       "    <tr>\n",
       "      <td>7</td>\n",
       "      <td>-7.930 ± 0.005</td>\n",
       "      <td>-2.080 ± 0.005</td>\n",
       "    </tr>\n",
       "    <tr>\n",
       "      <td>8</td>\n",
       "      <td>-7.940 ± 0.005</td>\n",
       "      <td>-4.150 ± 0.005</td>\n",
       "    </tr>\n",
       "    <tr>\n",
       "      <td>9</td>\n",
       "      <td>-7.960 ± 0.005</td>\n",
       "      <td>-6.650 ± 0.005</td>\n",
       "    </tr>\n",
       "    <tr>\n",
       "      <td>10</td>\n",
       "      <td>-7.970 ± 0.005</td>\n",
       "      <td>-9.110 ± 0.005</td>\n",
       "    </tr>\n",
       "    <tr>\n",
       "      <td>11</td>\n",
       "      <td>-7.980 ± 0.005</td>\n",
       "      <td>-12.650 ± 0.005</td>\n",
       "    </tr>\n",
       "  </tbody>\n",
       "</table>\n",
       "</div>"
      ],
      "text/plain": [
       "                 U                I\n",
       "0   -1.050 ± 0.005    0.000 ± 0.005\n",
       "1   -2.050 ± 0.005    0.000 ± 0.005\n",
       "2   -3.080 ± 0.005    0.000 ± 0.005\n",
       "3   -4.090 ± 0.005    0.000 ± 0.005\n",
       "4   -5.000 ± 0.005    0.000 ± 0.005\n",
       "5   -6.090 ± 0.005    0.000 ± 0.005\n",
       "6   -7.550 ± 0.005    0.000 ± 0.005\n",
       "7   -7.930 ± 0.005   -2.080 ± 0.005\n",
       "8   -7.940 ± 0.005   -4.150 ± 0.005\n",
       "9   -7.960 ± 0.005   -6.650 ± 0.005\n",
       "10  -7.970 ± 0.005   -9.110 ± 0.005\n",
       "11  -7.980 ± 0.005  -12.650 ± 0.005"
      ]
     },
     "execution_count": 29,
     "metadata": {},
     "output_type": "execute_result"
    }
   ],
   "source": [
    "tab2\n",
    "#обратная"
   ]
  },
  {
   "cell_type": "code",
   "execution_count": 30,
   "metadata": {},
   "outputs": [],
   "source": [
    "tab3[\"U\"] = tab3[\"U\"].apply(Value)\n",
    "tab3[\"C\"] = tab3[\"C\"].apply(Value)\n",
    "tab3[\"U\"] += Value(values=[0.0], syst=0.005)\n",
    "tab3[\"C\"] += Value(values=[0.0], syst=0.005)"
   ]
  },
  {
   "cell_type": "code",
   "execution_count": 31,
   "metadata": {},
   "outputs": [
    {
     "data": {
      "text/html": [
       "<div>\n",
       "<style scoped>\n",
       "    .dataframe tbody tr th:only-of-type {\n",
       "        vertical-align: middle;\n",
       "    }\n",
       "\n",
       "    .dataframe tbody tr th {\n",
       "        vertical-align: top;\n",
       "    }\n",
       "\n",
       "    .dataframe thead th {\n",
       "        text-align: right;\n",
       "    }\n",
       "</style>\n",
       "<table border=\"1\" class=\"dataframe\">\n",
       "  <thead>\n",
       "    <tr style=\"text-align: right;\">\n",
       "      <th></th>\n",
       "      <th>U</th>\n",
       "      <th>C</th>\n",
       "    </tr>\n",
       "  </thead>\n",
       "  <tbody>\n",
       "    <tr>\n",
       "      <td>0</td>\n",
       "      <td>-0.030 ± 0.005</td>\n",
       "      <td>0.280 ± 0.005</td>\n",
       "    </tr>\n",
       "    <tr>\n",
       "      <td>1</td>\n",
       "      <td>-0.510 ± 0.005</td>\n",
       "      <td>0.160 ± 0.005</td>\n",
       "    </tr>\n",
       "    <tr>\n",
       "      <td>2</td>\n",
       "      <td>-1.040 ± 0.005</td>\n",
       "      <td>0.100 ± 0.005</td>\n",
       "    </tr>\n",
       "    <tr>\n",
       "      <td>3</td>\n",
       "      <td>-1.510 ± 0.005</td>\n",
       "      <td>0.060 ± 0.005</td>\n",
       "    </tr>\n",
       "    <tr>\n",
       "      <td>4</td>\n",
       "      <td>0.100 ± 0.005</td>\n",
       "      <td>0.380 ± 0.005</td>\n",
       "    </tr>\n",
       "    <tr>\n",
       "      <td>5</td>\n",
       "      <td>0.150 ± 0.005</td>\n",
       "      <td>0.440 ± 0.005</td>\n",
       "    </tr>\n",
       "  </tbody>\n",
       "</table>\n",
       "</div>"
      ],
      "text/plain": [
       "                U              C\n",
       "0  -0.030 ± 0.005  0.280 ± 0.005\n",
       "1  -0.510 ± 0.005  0.160 ± 0.005\n",
       "2  -1.040 ± 0.005  0.100 ± 0.005\n",
       "3  -1.510 ± 0.005  0.060 ± 0.005\n",
       "4   0.100 ± 0.005  0.380 ± 0.005\n",
       "5   0.150 ± 0.005  0.440 ± 0.005"
      ]
     },
     "execution_count": 31,
     "metadata": {},
     "output_type": "execute_result"
    }
   ],
   "source": [
    "tab3"
   ]
  },
  {
   "cell_type": "code",
   "execution_count": 32,
   "metadata": {},
   "outputs": [],
   "source": [
    "tab4[\"U\"] = tab4[\"U\"].apply(Value)\n",
    "tab4[\"t\"] = tab4[\"t\"].apply(Value)\n",
    "tab4[\"U\"] += Value(values=[0.0], syst=0.0005)\n",
    "tab4[\"t\"] += Value(values=[0.0], syst=0.5)"
   ]
  },
  {
   "cell_type": "code",
   "execution_count": 33,
   "metadata": {},
   "outputs": [
    {
     "data": {
      "text/html": [
       "<div>\n",
       "<style scoped>\n",
       "    .dataframe tbody tr th:only-of-type {\n",
       "        vertical-align: middle;\n",
       "    }\n",
       "\n",
       "    .dataframe tbody tr th {\n",
       "        vertical-align: top;\n",
       "    }\n",
       "\n",
       "    .dataframe thead th {\n",
       "        text-align: right;\n",
       "    }\n",
       "</style>\n",
       "<table border=\"1\" class=\"dataframe\">\n",
       "  <thead>\n",
       "    <tr style=\"text-align: right;\">\n",
       "      <th></th>\n",
       "      <th>t</th>\n",
       "      <th>U</th>\n",
       "    </tr>\n",
       "  </thead>\n",
       "  <tbody>\n",
       "    <tr>\n",
       "      <td>0</td>\n",
       "      <td>23.0 ± 0.5</td>\n",
       "      <td>0.7040 ± 0.0005</td>\n",
       "    </tr>\n",
       "    <tr>\n",
       "      <td>1</td>\n",
       "      <td>40.0 ± 0.5</td>\n",
       "      <td>0.6700 ± 0.0005</td>\n",
       "    </tr>\n",
       "    <tr>\n",
       "      <td>2</td>\n",
       "      <td>60.0 ± 0.5</td>\n",
       "      <td>0.6400 ± 0.0005</td>\n",
       "    </tr>\n",
       "    <tr>\n",
       "      <td>3</td>\n",
       "      <td>80.0 ± 0.5</td>\n",
       "      <td>0.6000 ± 0.0005</td>\n",
       "    </tr>\n",
       "  </tbody>\n",
       "</table>\n",
       "</div>"
      ],
      "text/plain": [
       "            t                U\n",
       "0  23.0 ± 0.5  0.7040 ± 0.0005\n",
       "1  40.0 ± 0.5  0.6700 ± 0.0005\n",
       "2  60.0 ± 0.5  0.6400 ± 0.0005\n",
       "3  80.0 ± 0.5  0.6000 ± 0.0005"
      ]
     },
     "execution_count": 33,
     "metadata": {},
     "output_type": "execute_result"
    }
   ],
   "source": [
    "tab4"
   ]
  },
  {
   "cell_type": "code",
   "execution_count": 34,
   "metadata": {},
   "outputs": [
    {
     "data": {
      "text/html": [
       "<div>\n",
       "<style scoped>\n",
       "    .dataframe tbody tr th:only-of-type {\n",
       "        vertical-align: middle;\n",
       "    }\n",
       "\n",
       "    .dataframe tbody tr th {\n",
       "        vertical-align: top;\n",
       "    }\n",
       "\n",
       "    .dataframe thead th {\n",
       "        text-align: right;\n",
       "    }\n",
       "</style>\n",
       "<table border=\"1\" class=\"dataframe\">\n",
       "  <thead>\n",
       "    <tr style=\"text-align: right;\">\n",
       "      <th></th>\n",
       "      <th>U</th>\n",
       "      <th>I</th>\n",
       "    </tr>\n",
       "  </thead>\n",
       "  <tbody>\n",
       "    <tr>\n",
       "      <td>2</td>\n",
       "      <td>0.6120 ± 0.0005</td>\n",
       "      <td>0.260 ± 0.005</td>\n",
       "    </tr>\n",
       "    <tr>\n",
       "      <td>3</td>\n",
       "      <td>0.6290 ± 0.0005</td>\n",
       "      <td>0.420 ± 0.005</td>\n",
       "    </tr>\n",
       "    <tr>\n",
       "      <td>4</td>\n",
       "      <td>0.6400 ± 0.0005</td>\n",
       "      <td>0.600 ± 0.005</td>\n",
       "    </tr>\n",
       "    <tr>\n",
       "      <td>5</td>\n",
       "      <td>0.6490 ± 0.0005</td>\n",
       "      <td>0.800 ± 0.005</td>\n",
       "    </tr>\n",
       "    <tr>\n",
       "      <td>6</td>\n",
       "      <td>0.6550 ± 0.0005</td>\n",
       "      <td>0.980 ± 0.005</td>\n",
       "    </tr>\n",
       "    <tr>\n",
       "      <td>7</td>\n",
       "      <td>0.6760 ± 0.0005</td>\n",
       "      <td>2.060 ± 0.005</td>\n",
       "    </tr>\n",
       "    <tr>\n",
       "      <td>8</td>\n",
       "      <td>0.6880 ± 0.0005</td>\n",
       "      <td>3.070 ± 0.005</td>\n",
       "    </tr>\n",
       "    <tr>\n",
       "      <td>9</td>\n",
       "      <td>0.6970 ± 0.0005</td>\n",
       "      <td>4.070 ± 0.005</td>\n",
       "    </tr>\n",
       "    <tr>\n",
       "      <td>10</td>\n",
       "      <td>0.7040 ± 0.0005</td>\n",
       "      <td>5.050 ± 0.005</td>\n",
       "    </tr>\n",
       "    <tr>\n",
       "      <td>11</td>\n",
       "      <td>0.7100 ± 0.0005</td>\n",
       "      <td>6.120 ± 0.005</td>\n",
       "    </tr>\n",
       "  </tbody>\n",
       "</table>\n",
       "</div>"
      ],
      "text/plain": [
       "                  U              I\n",
       "2   0.6120 ± 0.0005  0.260 ± 0.005\n",
       "3   0.6290 ± 0.0005  0.420 ± 0.005\n",
       "4   0.6400 ± 0.0005  0.600 ± 0.005\n",
       "5   0.6490 ± 0.0005  0.800 ± 0.005\n",
       "6   0.6550 ± 0.0005  0.980 ± 0.005\n",
       "7   0.6760 ± 0.0005  2.060 ± 0.005\n",
       "8   0.6880 ± 0.0005  3.070 ± 0.005\n",
       "9   0.6970 ± 0.0005  4.070 ± 0.005\n",
       "10  0.7040 ± 0.0005  5.050 ± 0.005\n",
       "11  0.7100 ± 0.0005  6.120 ± 0.005"
      ]
     },
     "execution_count": 34,
     "metadata": {},
     "output_type": "execute_result"
    }
   ],
   "source": [
    "tab1[tab1[\"U\"] > Value(0.6)]"
   ]
  },
  {
   "cell_type": "code",
   "execution_count": 35,
   "metadata": {},
   "outputs": [
    {
     "data": {
      "image/png": "[encoded data removed]",
      "text/plain": [
       "<Figure size 576x432 with 1 Axes>"
      ]
     },
     "metadata": {
      "needs_background": "light"
     },
     "output_type": "display_data"
    },
    {
     "data": {
      "text/plain": [
       "[]"
      ]
     },
     "execution_count": 35,
     "metadata": {},
     "output_type": "execute_result"
    }
   ],
   "source": [
    "%matplotlib inline\n",
    "#ВАХ полностью\n",
    "tabFull = tab1.append(tab2, ignore_index=True)\n",
    "from prac_code.plotter import Plotter\n",
    "Plotter(draw_legend=False).set_name(\"323IUFull\").set_title(\"\").set_y_name(\"$I, mA$\").set_x_name(\n",
    "        \"$U, V$\"). \\\n",
    "        add_line(Plotter.get_new_line(y_value=tabFull['I'], x_value=tabFull[\"U\"],\n",
    "                                      draw_error=True, legend='$P_1$', fit=False, color='black', marker=\"s\")).\\\n",
    "        plot(show=True, save=True)"
   ]
  },
  {
   "cell_type": "code",
   "execution_count": 36,
   "metadata": {},
   "outputs": [
    {
     "data": {
      "image/png": "[encoded data removed]",
      "text/plain": [
       "<Figure size 576x432 with 1 Axes>"
      ]
     },
     "metadata": {
      "needs_background": "light"
     },
     "output_type": "display_data"
    },
    {
     "data": {
      "text/plain": [
       "[]"
      ]
     },
     "execution_count": 36,
     "metadata": {},
     "output_type": "execute_result"
    }
   ],
   "source": [
    "Plotter(draw_legend=False).set_name(\"323IULine\").set_title(\"\").set_y_name(\"$I, mA$\").set_x_name(\n",
    "        \"$U, V$\"). \\\n",
    "        add_line(Plotter.get_new_line(y_value=tab1[tab1['U'] > 0.6]['I'], x_value=tab1[tab1['U'] > 0.6][\"U\"],\n",
    "                                      draw_error=True, legend='$P_1$', fit=False, color='black', marker=\"s\")).\\\n",
    "        plot(show=True, save=True)"
   ]
  },
  {
   "cell_type": "code",
   "execution_count": 37,
   "metadata": {},
   "outputs": [
    {
     "data": {
      "image/png": "[encoded data removed]",
      "text/plain": [
       "<Figure size 576x432 with 1 Axes>"
      ]
     },
     "metadata": {
      "needs_background": "light"
     },
     "output_type": "display_data"
    }
   ],
   "source": [
    "from sympy import log\n",
    "import numpy as np\n",
    "f = np.vectorize(lambda v: v.use_func(log))\n",
    "fit = Plotter(draw_legend=False).set_name(\"323IULineFit\").set_title(\"\").set_y_name(\"$\\ln I(U)$\").set_x_name(\n",
    "        \"$U, V$\"). \\\n",
    "        add_line(Plotter.get_new_line(y_value=f(tab1[tab1['U'] > 0.6]['I']), x_value=tab1[tab1['U'] > 0.6][\"U\"],\n",
    "                                      draw_error=True, legend='$P_1$', fit=True, color='black', marker=\"s\")).\\\n",
    "        plot(show=True, save=True)"
   ]
  },
  {
   "cell_type": "code",
   "execution_count": 38,
   "metadata": {},
   "outputs": [
    {
     "name": "stdout",
     "output_type": "stream",
     "text": [
      "A = 32.5 ± 0.3\n",
      "B = -21.2 ± 0.2\n",
      "r = 0.9996356679657259\n"
     ]
    }
   ],
   "source": [
    "A = Value(values=[fit[0].a], syst=fit[0].sigma_a)\n",
    "B = Value(values=[fit[0].b], syst=fit[0].sigma_b)\n",
    "print(\"A = {}\\nB = {}\\nr = {}\".format(A, B, fit[0].r))"
   ]
  },
  {
   "cell_type": "code",
   "execution_count": 39,
   "metadata": {},
   "outputs": [
    {
     "name": "stdout",
     "output_type": "stream",
     "text": [
      "39.222890227183704\n"
     ]
    }
   ],
   "source": [
    "e = 1.60217662e-19\n",
    "k = 1.38e-23\n",
    "T = 273 + 23\n",
    "print(e / (k * T))\n",
    "# вообще говоря чот не сходится в пределах погрешности, хотя близко, надо бы проверить, почему"
   ]
  },
  {
   "cell_type": "code",
   "execution_count": 40,
   "metadata": {},
   "outputs": [
    {
     "data": {
      "image/png": "[encoded data removed]",
      "text/plain": [
       "<Figure size 576x432 with 1 Axes>"
      ]
     },
     "metadata": {
      "needs_background": "light"
     },
     "output_type": "display_data"
    },
    {
     "data": {
      "text/plain": [
       "[]"
      ]
     },
     "execution_count": 40,
     "metadata": {},
     "output_type": "execute_result"
    }
   ],
   "source": [
    "Plotter(draw_legend=False).set_name(\"323CU\").set_title(\"\").set_y_name(\"$C, nF$\").set_x_name(\n",
    "        \"$U, V$\"). \\\n",
    "        add_line(Plotter.get_new_line(y_value=tab3[\"C\"], x_value=tab3[\"U\"],\n",
    "                                      draw_error=True, legend='$P_1$', fit=False, color='black', marker=\"s\")).\\\n",
    "        plot(show=True, save=True)"
   ]
  },
  {
   "cell_type": "code",
   "execution_count": 41,
   "metadata": {},
   "outputs": [
    {
     "data": {
      "image/png": "[encoded data removed]",
      "text/plain": [
       "<Figure size 576x432 with 1 Axes>"
      ]
     },
     "metadata": {
      "needs_background": "light"
     },
     "output_type": "display_data"
    }
   ],
   "source": [
    "fit = Plotter(draw_legend=False).set_name(\"323TU\").set_title(\"\").set_y_name(\"$U, V$\").set_x_name(\n",
    "        \"$T, K$\"). \\\n",
    "        add_line(Plotter.get_new_line(y_value=tab4[\"U\"], x_value=tab4[\"t\"] + 273.15,\n",
    "                                      draw_error=True, legend='$P_1$', fit=True, color='black', marker=\"s\")).\\\n",
    "        plot(show=True, save=True)"
   ]
  },
  {
   "cell_type": "code",
   "execution_count": 42,
   "metadata": {},
   "outputs": [
    {
     "name": "stdout",
     "output_type": "stream",
     "text": [
      "A = -0.00179 ± 0.00007\n",
      "B = 1.23 ± 0.02\n",
      "r = -0.9983915282337138\n"
     ]
    }
   ],
   "source": [
    "A = Value(values=[fit[0].a], syst=fit[0].sigma_a)\n",
    "B = Value(values=[fit[0].b], syst=fit[0].sigma_b)\n",
    "print(\"A = {}\\nB = {}\\nr = {}\".format(A, B, fit[0].r))\n",
    "#окей, это довольно близко к тории, так как B теоретический 1.2 эВ"
   ]
  },
  {
   "cell_type": "code",
   "execution_count": 43,
   "metadata": {},
   "outputs": [
    {
     "name": "stdout",
     "output_type": "stream",
     "text": [
      "5e+6 ± 4e+6\n",
      "5e-15 ± 7e-15\n"
     ]
    }
   ],
   "source": [
    "from sympy import exp\n",
    "e = 1.60217662e-19\n",
    "k = 1.38e-23\n",
    "I0 = (5 * 10**-3) / (A * e / k).use_func(exp)\n",
    "In = I0 * (-(B * 1.602 * 10**-19) / (k * T)).use_func(exp)\n",
    "print(I0)\n",
    "print(In)"
   ]
  },
  {
   "cell_type": "code",
   "execution_count": 44,
   "metadata": {},
   "outputs": [
    {
     "name": "stdout",
     "output_type": "stream",
     "text": [
      "\\begin{tabular}{ll}\n",
      "\\toprule\n",
      "            U, V &          I, mA \\\\\n",
      "\\midrule\n",
      " 0.0000 ± 0.0005 &  0.000 ± 0.005 \\\\\n",
      " 0.3260 ± 0.0005 &  0.000 ± 0.005 \\\\\n",
      " 0.6120 ± 0.0005 &  0.260 ± 0.005 \\\\\n",
      " 0.6290 ± 0.0005 &  0.420 ± 0.005 \\\\\n",
      " 0.6400 ± 0.0005 &  0.600 ± 0.005 \\\\\n",
      " 0.6490 ± 0.0005 &  0.800 ± 0.005 \\\\\n",
      " 0.6550 ± 0.0005 &  0.980 ± 0.005 \\\\\n",
      " 0.6760 ± 0.0005 &  2.060 ± 0.005 \\\\\n",
      " 0.6880 ± 0.0005 &  3.070 ± 0.005 \\\\\n",
      " 0.6970 ± 0.0005 &  4.070 ± 0.005 \\\\\n",
      " 0.7040 ± 0.0005 &  5.050 ± 0.005 \\\\\n",
      " 0.7100 ± 0.0005 &  6.120 ± 0.005 \\\\\n",
      "\\bottomrule\n",
      "\\end{tabular}\n",
      "\n",
      "\\begin{tabular}{ll}\n",
      "\\toprule\n",
      "           U, V &            I, mA \\\\\n",
      "\\midrule\n",
      " -1.050 ± 0.005 &    0.000 ± 0.005 \\\\\n",
      " -2.050 ± 0.005 &    0.000 ± 0.005 \\\\\n",
      " -3.080 ± 0.005 &    0.000 ± 0.005 \\\\\n",
      " -4.090 ± 0.005 &    0.000 ± 0.005 \\\\\n",
      " -5.000 ± 0.005 &    0.000 ± 0.005 \\\\\n",
      " -6.090 ± 0.005 &    0.000 ± 0.005 \\\\\n",
      " -7.550 ± 0.005 &    0.000 ± 0.005 \\\\\n",
      " -7.930 ± 0.005 &   -2.080 ± 0.005 \\\\\n",
      " -7.940 ± 0.005 &   -4.150 ± 0.005 \\\\\n",
      " -7.960 ± 0.005 &   -6.650 ± 0.005 \\\\\n",
      " -7.970 ± 0.005 &   -9.110 ± 0.005 \\\\\n",
      " -7.980 ± 0.005 &  -12.650 ± 0.005 \\\\\n",
      "\\bottomrule\n",
      "\\end{tabular}\n",
      "\n",
      "\\begin{tabular}{ll}\n",
      "\\toprule\n",
      "           U, V &          C, nF \\\\\n",
      "\\midrule\n",
      " -0.030 ± 0.005 &  0.280 ± 0.005 \\\\\n",
      " -0.510 ± 0.005 &  0.160 ± 0.005 \\\\\n",
      " -1.040 ± 0.005 &  0.100 ± 0.005 \\\\\n",
      " -1.510 ± 0.005 &  0.060 ± 0.005 \\\\\n",
      "  0.100 ± 0.005 &  0.380 ± 0.005 \\\\\n",
      "  0.150 ± 0.005 &  0.440 ± 0.005 \\\\\n",
      "\\bottomrule\n",
      "\\end{tabular}\n",
      "\n",
      "\\begin{tabular}{ll}\n",
      "\\toprule\n",
      "$t, ^{\\circ}C$ &             U, V \\\\\n",
      "\\midrule\n",
      "    23.0 ± 0.5 &  0.7040 ± 0.0005 \\\\\n",
      "    40.0 ± 0.5 &  0.6700 ± 0.0005 \\\\\n",
      "    60.0 ± 0.5 &  0.6400 ± 0.0005 \\\\\n",
      "    80.0 ± 0.5 &  0.6000 ± 0.0005 \\\\\n",
      "\\bottomrule\n",
      "\\end{tabular}\n",
      "\n"
     ]
    }
   ],
   "source": [
    "print(tab1.to_latex(index=False, header=[\"U, V\", \"I, mA\"], bold_rows=True))\n",
    "print(tab2.to_latex(index=False, header=[\"U, V\", \"I, mA\"], bold_rows=True))\n",
    "print(tab3.to_latex(index=False, header=[\"U, V\", \"C, nF\"], bold_rows=True))\n",
    "print(tab4.to_latex(index=False, header=[\"$t, ^{\\circ}C$\", \"U, V\"], escape=False, bold_rows=True))"
   ]
  },
  {
   "cell_type": "code",
   "execution_count": null,
   "metadata": {},
   "outputs": [],
   "source": []
  },
  {
   "cell_type": "code",
   "execution_count": null,
   "metadata": {},
   "outputs": [],
   "source": []
  }
 ],
 "metadata": {
  "kernelspec": {
   "display_name": "praclib",
   "language": "python",
   "name": "praclib"
  },
  "language_info": {
   "codemirror_mode": {
    "name": "ipython",
    "version": 3
   },
   "file_extension": ".py",
   "mimetype": "text/x-python",
   "name": "python",
   "nbconvert_exporter": "python",
   "pygments_lexer": "ipython3",
   "version": "3.7.3"
  }
 },
 "nbformat": 4,
 "nbformat_minor": 4
}
