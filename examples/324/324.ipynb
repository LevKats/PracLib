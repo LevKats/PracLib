{
 "cells": [
  {
   "cell_type": "code",
   "execution_count": 2,
   "metadata": {},
   "outputs": [],
   "source": [
    "from prac_code.tables import start\n",
    "start()"
   ]
  },
  {
   "cell_type": "code",
   "execution_count": 70,
   "metadata": {},
   "outputs": [],
   "source": [
    "import pandas as pd\n",
    "tab1 = pd.read_csv(\"tables/1.tab\", sep=\"\\t\")\n",
    "tab2 = pd.read_csv(\"tables/2.tab\", sep=\"\\t\")\n",
    "tab3 = pd.read_csv(\"tables/3.tab\", sep=\"\\t\")"
   ]
  },
  {
   "cell_type": "code",
   "execution_count": 71,
   "metadata": {},
   "outputs": [
    {
     "data": {
      "text/html": [
       "<div>\n",
       "<style scoped>\n",
       "    .dataframe tbody tr th:only-of-type {\n",
       "        vertical-align: middle;\n",
       "    }\n",
       "\n",
       "    .dataframe tbody tr th {\n",
       "        vertical-align: top;\n",
       "    }\n",
       "\n",
       "    .dataframe thead th {\n",
       "        text-align: right;\n",
       "    }\n",
       "</style>\n",
       "<table border=\"1\" class=\"dataframe\">\n",
       "  <thead>\n",
       "    <tr style=\"text-align: right;\">\n",
       "      <th></th>\n",
       "      <th>Ub</th>\n",
       "      <th>Ib</th>\n",
       "    </tr>\n",
       "  </thead>\n",
       "  <tbody>\n",
       "    <tr>\n",
       "      <td>0</td>\n",
       "      <td>0.000 ± 0.010</td>\n",
       "      <td>0.000 ± 0.010</td>\n",
       "    </tr>\n",
       "    <tr>\n",
       "      <td>1</td>\n",
       "      <td>0.100 ± 0.010</td>\n",
       "      <td>0.000 ± 0.010</td>\n",
       "    </tr>\n",
       "    <tr>\n",
       "      <td>2</td>\n",
       "      <td>0.200 ± 0.010</td>\n",
       "      <td>0.000 ± 0.010</td>\n",
       "    </tr>\n",
       "    <tr>\n",
       "      <td>3</td>\n",
       "      <td>0.300 ± 0.010</td>\n",
       "      <td>0.000 ± 0.010</td>\n",
       "    </tr>\n",
       "    <tr>\n",
       "      <td>4</td>\n",
       "      <td>0.400 ± 0.010</td>\n",
       "      <td>0.000 ± 0.010</td>\n",
       "    </tr>\n",
       "    <tr>\n",
       "      <td>5</td>\n",
       "      <td>0.500 ± 0.010</td>\n",
       "      <td>0.000 ± 0.010</td>\n",
       "    </tr>\n",
       "    <tr>\n",
       "      <td>6</td>\n",
       "      <td>0.600 ± 0.010</td>\n",
       "      <td>0.010 ± 0.010</td>\n",
       "    </tr>\n",
       "    <tr>\n",
       "      <td>7</td>\n",
       "      <td>0.620 ± 0.010</td>\n",
       "      <td>0.020 ± 0.010</td>\n",
       "    </tr>\n",
       "    <tr>\n",
       "      <td>8</td>\n",
       "      <td>0.640 ± 0.010</td>\n",
       "      <td>0.030 ± 0.010</td>\n",
       "    </tr>\n",
       "    <tr>\n",
       "      <td>9</td>\n",
       "      <td>0.660 ± 0.010</td>\n",
       "      <td>0.080 ± 0.010</td>\n",
       "    </tr>\n",
       "    <tr>\n",
       "      <td>10</td>\n",
       "      <td>0.680 ± 0.010</td>\n",
       "      <td>0.110 ± 0.010</td>\n",
       "    </tr>\n",
       "    <tr>\n",
       "      <td>11</td>\n",
       "      <td>0.700 ± 0.010</td>\n",
       "      <td>0.230 ± 0.010</td>\n",
       "    </tr>\n",
       "  </tbody>\n",
       "</table>\n",
       "</div>"
      ],
      "text/plain": [
       "               Ub             Ib\n",
       "0   0.000 ± 0.010  0.000 ± 0.010\n",
       "1   0.100 ± 0.010  0.000 ± 0.010\n",
       "2   0.200 ± 0.010  0.000 ± 0.010\n",
       "3   0.300 ± 0.010  0.000 ± 0.010\n",
       "4   0.400 ± 0.010  0.000 ± 0.010\n",
       "5   0.500 ± 0.010  0.000 ± 0.010\n",
       "6   0.600 ± 0.010  0.010 ± 0.010\n",
       "7   0.620 ± 0.010  0.020 ± 0.010\n",
       "8   0.640 ± 0.010  0.030 ± 0.010\n",
       "9   0.660 ± 0.010  0.080 ± 0.010\n",
       "10  0.680 ± 0.010  0.110 ± 0.010\n",
       "11  0.700 ± 0.010  0.230 ± 0.010"
      ]
     },
     "execution_count": 71,
     "metadata": {},
     "output_type": "execute_result"
    }
   ],
   "source": [
    "from prac_code.value import Value\n",
    "tab1[\"Ub\"] = tab1[\"Ub\"].apply(Value)\n",
    "tab1[\"Ib\"] = tab1[\"Ib\"].apply(Value)\n",
    "tab1[\"Ub\"] += Value(values=[0.0], syst=0.01)\n",
    "tab1[\"Ib\"] += Value(values=[0.0], syst=0.01)\n",
    "tab1"
   ]
  },
  {
   "cell_type": "code",
   "execution_count": 72,
   "metadata": {},
   "outputs": [
    {
     "data": {
      "text/html": [
       "<div>\n",
       "<style scoped>\n",
       "    .dataframe tbody tr th:only-of-type {\n",
       "        vertical-align: middle;\n",
       "    }\n",
       "\n",
       "    .dataframe tbody tr th {\n",
       "        vertical-align: top;\n",
       "    }\n",
       "\n",
       "    .dataframe thead th {\n",
       "        text-align: right;\n",
       "    }\n",
       "</style>\n",
       "<table border=\"1\" class=\"dataframe\">\n",
       "  <thead>\n",
       "    <tr style=\"text-align: right;\">\n",
       "      <th></th>\n",
       "      <th>Ib</th>\n",
       "      <th>Ik</th>\n",
       "    </tr>\n",
       "  </thead>\n",
       "  <tbody>\n",
       "    <tr>\n",
       "      <td>0</td>\n",
       "      <td>0.00 ± 0.05</td>\n",
       "      <td>0.0 ± 1.0</td>\n",
       "    </tr>\n",
       "    <tr>\n",
       "      <td>1</td>\n",
       "      <td>0.10 ± 0.05</td>\n",
       "      <td>30.0 ± 1.0</td>\n",
       "    </tr>\n",
       "    <tr>\n",
       "      <td>2</td>\n",
       "      <td>0.20 ± 0.05</td>\n",
       "      <td>70.0 ± 1.0</td>\n",
       "    </tr>\n",
       "    <tr>\n",
       "      <td>3</td>\n",
       "      <td>0.30 ± 0.05</td>\n",
       "      <td>120.0 ± 1.0</td>\n",
       "    </tr>\n",
       "    <tr>\n",
       "      <td>4</td>\n",
       "      <td>0.40 ± 0.05</td>\n",
       "      <td>160.0 ± 1.0</td>\n",
       "    </tr>\n",
       "    <tr>\n",
       "      <td>5</td>\n",
       "      <td>0.50 ± 0.05</td>\n",
       "      <td>200.0 ± 1.0</td>\n",
       "    </tr>\n",
       "    <tr>\n",
       "      <td>6</td>\n",
       "      <td>0.60 ± 0.05</td>\n",
       "      <td>240.0 ± 1.0</td>\n",
       "    </tr>\n",
       "    <tr>\n",
       "      <td>7</td>\n",
       "      <td>0.70 ± 0.05</td>\n",
       "      <td>280.0 ± 1.0</td>\n",
       "    </tr>\n",
       "    <tr>\n",
       "      <td>8</td>\n",
       "      <td>0.80 ± 0.05</td>\n",
       "      <td>320.0 ± 1.0</td>\n",
       "    </tr>\n",
       "  </tbody>\n",
       "</table>\n",
       "</div>"
      ],
      "text/plain": [
       "            Ib           Ik\n",
       "0  0.00 ± 0.05    0.0 ± 1.0\n",
       "1  0.10 ± 0.05   30.0 ± 1.0\n",
       "2  0.20 ± 0.05   70.0 ± 1.0\n",
       "3  0.30 ± 0.05  120.0 ± 1.0\n",
       "4  0.40 ± 0.05  160.0 ± 1.0\n",
       "5  0.50 ± 0.05  200.0 ± 1.0\n",
       "6  0.60 ± 0.05  240.0 ± 1.0\n",
       "7  0.70 ± 0.05  280.0 ± 1.0\n",
       "8  0.80 ± 0.05  320.0 ± 1.0"
      ]
     },
     "execution_count": 72,
     "metadata": {},
     "output_type": "execute_result"
    }
   ],
   "source": [
    "tab2[\"Ib\"] = tab2[\"Ib\"].apply(Value)\n",
    "tab2[\"Ik\"] = tab2[\"Ik\"].apply(Value)\n",
    "tab2[\"Ib\"] += Value(values=[0.0], syst=0.05)\n",
    "tab2[\"Ik\"] += Value(values=[0.0], syst=1)\n",
    "tab2"
   ]
  },
  {
   "cell_type": "code",
   "execution_count": 73,
   "metadata": {},
   "outputs": [],
   "source": [
    "tab3[\"Uk\"] = tab3[\"Uk\"].apply(Value)\n",
    "tab3[\"Ik\"] = tab3[\"Ik\"].apply(Value)\n",
    "tab3[\"Uk\"] += Value(values=[0.0], syst=0.01)\n",
    "tab3[\"Ik\"] += Value(values=[0.0], syst=10)\n",
    "tab3[\"P\"] = tab3[\"Uk\"] * tab3[\"Ik\"]\n",
    "tab3[\"Ik\"][3] = tab3[\"Ik\"][3] - 10\n",
    "tab3[\"Ik\"][4] = tab3[\"Ik\"][4] - 10\n",
    "tab3[\"Ik\"][6] = tab3[\"Ik\"][6] + 10"
   ]
  },
  {
   "cell_type": "code",
   "execution_count": 74,
   "metadata": {},
   "outputs": [
    {
     "data": {
      "text/html": [
       "<div>\n",
       "<style scoped>\n",
       "    .dataframe tbody tr th:only-of-type {\n",
       "        vertical-align: middle;\n",
       "    }\n",
       "\n",
       "    .dataframe tbody tr th {\n",
       "        vertical-align: top;\n",
       "    }\n",
       "\n",
       "    .dataframe thead th {\n",
       "        text-align: right;\n",
       "    }\n",
       "</style>\n",
       "<table border=\"1\" class=\"dataframe\">\n",
       "  <thead>\n",
       "    <tr style=\"text-align: right;\">\n",
       "      <th></th>\n",
       "      <th>Uk</th>\n",
       "      <th>Ik</th>\n",
       "      <th>P</th>\n",
       "    </tr>\n",
       "  </thead>\n",
       "  <tbody>\n",
       "    <tr>\n",
       "      <td>0</td>\n",
       "      <td>0.130 ± 0.010</td>\n",
       "      <td>20 ± 10</td>\n",
       "      <td>2.6 ± 1.3</td>\n",
       "    </tr>\n",
       "    <tr>\n",
       "      <td>1</td>\n",
       "      <td>0.190 ± 0.010</td>\n",
       "      <td>40 ± 10</td>\n",
       "      <td>7.6 ± 1.9</td>\n",
       "    </tr>\n",
       "    <tr>\n",
       "      <td>2</td>\n",
       "      <td>0.250 ± 0.010</td>\n",
       "      <td>50 ± 10</td>\n",
       "      <td>12 ± 3</td>\n",
       "    </tr>\n",
       "    <tr>\n",
       "      <td>3</td>\n",
       "      <td>0.310 ± 0.010</td>\n",
       "      <td>70 ± 10</td>\n",
       "      <td>25 ± 3</td>\n",
       "    </tr>\n",
       "    <tr>\n",
       "      <td>4</td>\n",
       "      <td>0.380 ± 0.010</td>\n",
       "      <td>80 ± 10</td>\n",
       "      <td>34 ± 4</td>\n",
       "    </tr>\n",
       "    <tr>\n",
       "      <td>5</td>\n",
       "      <td>0.450 ± 0.010</td>\n",
       "      <td>130 ± 10</td>\n",
       "      <td>58 ± 5</td>\n",
       "    </tr>\n",
       "    <tr>\n",
       "      <td>6</td>\n",
       "      <td>0.520 ± 0.010</td>\n",
       "      <td>90 ± 10</td>\n",
       "      <td>42 ± 5</td>\n",
       "    </tr>\n",
       "    <tr>\n",
       "      <td>7</td>\n",
       "      <td>0.570 ± 0.010</td>\n",
       "      <td>100 ± 10</td>\n",
       "      <td>57 ± 6</td>\n",
       "    </tr>\n",
       "    <tr>\n",
       "      <td>8</td>\n",
       "      <td>0.610 ± 0.010</td>\n",
       "      <td>120 ± 10</td>\n",
       "      <td>73 ± 6</td>\n",
       "    </tr>\n",
       "    <tr>\n",
       "      <td>9</td>\n",
       "      <td>0.690 ± 0.010</td>\n",
       "      <td>150 ± 10</td>\n",
       "      <td>103 ± 7</td>\n",
       "    </tr>\n",
       "    <tr>\n",
       "      <td>10</td>\n",
       "      <td>0.760 ± 0.010</td>\n",
       "      <td>180 ± 10</td>\n",
       "      <td>137 ± 8</td>\n",
       "    </tr>\n",
       "  </tbody>\n",
       "</table>\n",
       "</div>"
      ],
      "text/plain": [
       "               Uk        Ik          P\n",
       "0   0.130 ± 0.010   20 ± 10  2.6 ± 1.3\n",
       "1   0.190 ± 0.010   40 ± 10  7.6 ± 1.9\n",
       "2   0.250 ± 0.010   50 ± 10     12 ± 3\n",
       "3   0.310 ± 0.010   70 ± 10     25 ± 3\n",
       "4   0.380 ± 0.010   80 ± 10     34 ± 4\n",
       "5   0.450 ± 0.010  130 ± 10     58 ± 5\n",
       "6   0.520 ± 0.010   90 ± 10     42 ± 5\n",
       "7   0.570 ± 0.010  100 ± 10     57 ± 6\n",
       "8   0.610 ± 0.010  120 ± 10     73 ± 6\n",
       "9   0.690 ± 0.010  150 ± 10    103 ± 7\n",
       "10  0.760 ± 0.010  180 ± 10    137 ± 8"
      ]
     },
     "execution_count": 74,
     "metadata": {},
     "output_type": "execute_result"
    }
   ],
   "source": [
    "tab3"
   ]
  },
  {
   "cell_type": "code",
   "execution_count": 75,
   "metadata": {},
   "outputs": [
    {
     "data": {
      "image/png": "[encoded data removed]",
      "text/plain": [
       "<Figure size 576x432 with 1 Axes>"
      ]
     },
     "metadata": {
      "needs_background": "light"
     },
     "output_type": "display_data"
    },
    {
     "data": {
      "text/plain": [
       "[]"
      ]
     },
     "execution_count": 75,
     "metadata": {},
     "output_type": "execute_result"
    }
   ],
   "source": [
    "from prac_code.plotter import Plotter\n",
    "Plotter(draw_legend=False).set_name(\"1\").set_title(\"\").set_y_name(\"$I_b, mA$\").set_x_name(\n",
    "        \"$U_b, V$\"). \\\n",
    "        add_line(Plotter.get_new_line(y_value=tab1['Ib'], x_value=tab1[\"Ub\"],\n",
    "                                      draw_error=True, legend='$P_1$', fit=False, color='black', marker=\"s\")).\\\n",
    "        plot(show=True, save=True)"
   ]
  },
  {
   "cell_type": "code",
   "execution_count": 76,
   "metadata": {},
   "outputs": [
    {
     "data": {
      "image/png": "[encoded data removed]",
      "text/plain": [
       "<Figure size 576x432 with 1 Axes>"
      ]
     },
     "metadata": {
      "needs_background": "light"
     },
     "output_type": "display_data"
    }
   ],
   "source": [
    "[fit, *_] = Plotter(draw_legend=False).set_name(\"2\").set_title(\"\").set_y_name(\"$I_k, mA$\").set_x_name(\n",
    "        \"$I_b, mA$\"). \\\n",
    "        add_line(Plotter.get_new_line(y_value=tab2['Ik'], x_value=tab2[\"Ib\"],\n",
    "                                      draw_error=True, legend='$P_1$', fit=True, color='black', marker=\"s\")).\\\n",
    "        plot(show=True, save=True)"
   ]
  },
  {
   "cell_type": "code",
   "execution_count": 77,
   "metadata": {},
   "outputs": [
    {
     "name": "stdout",
     "output_type": "stream",
     "text": [
      "beta = 408 ± 5\n"
     ]
    }
   ],
   "source": [
    "print(\"beta = {}\".format(Value(values=[fit.a], syst=fit.sigma_a)))"
   ]
  },
  {
   "cell_type": "code",
   "execution_count": 78,
   "metadata": {},
   "outputs": [
    {
     "data": {
      "image/png": "[encoded data removed]",
      "text/plain": [
       "<Figure size 576x432 with 1 Axes>"
      ]
     },
     "metadata": {
      "needs_background": "light"
     },
     "output_type": "display_data"
    },
    {
     "data": {
      "text/plain": [
       "[]"
      ]
     },
     "execution_count": 78,
     "metadata": {},
     "output_type": "execute_result"
    }
   ],
   "source": [
    "Plotter(draw_legend=False).set_name(\"4\").set_title(\"\").set_y_name(\"$P, mW$\").set_x_name(\n",
    "        \"$U_k, V$\"). \\\n",
    "        add_line(Plotter.get_new_line(y_value=tab3[tab3.index != 5]['P'], x_value=tab3[tab3.index != 5][\"Uk\"],\n",
    "                                      draw_error=True, legend='$P_1$', fit=False, color='black', marker=\"s\")).\\\n",
    "        plot(show=True, save=True)"
   ]
  },
  {
   "cell_type": "code",
   "execution_count": 79,
   "metadata": {},
   "outputs": [
    {
     "data": {
      "image/png": "[encoded data removed]",
      "text/plain": [
       "<Figure size 576x432 with 1 Axes>"
      ]
     },
     "metadata": {
      "needs_background": "light"
     },
     "output_type": "display_data"
    },
    {
     "data": {
      "text/plain": [
       "[]"
      ]
     },
     "execution_count": 79,
     "metadata": {},
     "output_type": "execute_result"
    }
   ],
   "source": [
    "Plotter(draw_legend=False).set_name(\"3\").set_title(\"\").set_y_name(\"$I_k, mA$\").set_x_name(\n",
    "        \"$U_k, V$\"). \\\n",
    "        add_line(Plotter.get_new_line(y_value=tab3[tab3.index != 5]['Ik'], x_value=tab3[tab3.index != 5][\"Uk\"],\n",
    "                                      draw_error=True, legend='$P_1$', fit=False, color='black', marker=\"s\")).\\\n",
    "        plot(show=True, save=True)"
   ]
  },
  {
   "cell_type": "code",
   "execution_count": null,
   "metadata": {},
   "outputs": [],
   "source": []
  },
  {
   "cell_type": "code",
   "execution_count": null,
   "metadata": {},
   "outputs": [],
   "source": []
  }
 ],
 "metadata": {
  "kernelspec": {
   "display_name": "venv",
   "language": "python",
   "name": "venv"
  },
  "language_info": {
   "codemirror_mode": {
    "name": "ipython",
    "version": 3
   },
   "file_extension": ".py",
   "mimetype": "text/x-python",
   "name": "python",
   "nbconvert_exporter": "python",
   "pygments_lexer": "ipython3",
   "version": "3.7.3"
  }
 },
 "nbformat": 4,
 "nbformat_minor": 4
}
