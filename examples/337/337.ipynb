{
 "cells": [
  {
   "cell_type": "code",
   "execution_count": 83,
   "metadata": {},
   "outputs": [],
   "source": [
    "from prac_code.tables import start\n",
    "start()"
   ]
  },
  {
   "cell_type": "code",
   "execution_count": 1,
   "metadata": {},
   "outputs": [],
   "source": [
    "import pandas as pd\n",
    "tab1 = pd.read_csv(\"tables/tab1.tab\", sep=\"\\t\")\n",
    "tab2 = pd.read_csv(\"tables/tab2.tab\", sep=\"\\t\")\n",
    "tab3 = pd.read_csv(\"tables/tab3.tab\", sep=\"\\t\")\n",
    "tab4 = pd.read_csv(\"tables/tab4.tab\", sep=\"\\t\")"
   ]
  },
  {
   "cell_type": "code",
   "execution_count": 2,
   "metadata": {},
   "outputs": [
    {
     "data": {
      "text/html": [
       "<div>\n",
       "<style scoped>\n",
       "    .dataframe tbody tr th:only-of-type {\n",
       "        vertical-align: middle;\n",
       "    }\n",
       "\n",
       "    .dataframe tbody tr th {\n",
       "        vertical-align: top;\n",
       "    }\n",
       "\n",
       "    .dataframe thead th {\n",
       "        text-align: right;\n",
       "    }\n",
       "</style>\n",
       "<table border=\"1\" class=\"dataframe\">\n",
       "  <thead>\n",
       "    <tr style=\"text-align: right;\">\n",
       "      <th></th>\n",
       "      <th>f0</th>\n",
       "      <th>Vmax</th>\n",
       "      <th>f_m07</th>\n",
       "      <th>f_p07</th>\n",
       "    </tr>\n",
       "  </thead>\n",
       "  <tbody>\n",
       "    <tr>\n",
       "      <td>0</td>\n",
       "      <td>7194</td>\n",
       "      <td>0.027</td>\n",
       "      <td>6881</td>\n",
       "      <td>7512</td>\n",
       "    </tr>\n",
       "    <tr>\n",
       "      <td>1</td>\n",
       "      <td>7182</td>\n",
       "      <td>0.027</td>\n",
       "      <td>6906</td>\n",
       "      <td>7491</td>\n",
       "    </tr>\n",
       "    <tr>\n",
       "      <td>2</td>\n",
       "      <td>7187</td>\n",
       "      <td>0.027</td>\n",
       "      <td>6900</td>\n",
       "      <td>7506</td>\n",
       "    </tr>\n",
       "  </tbody>\n",
       "</table>\n",
       "</div>"
      ],
      "text/plain": [
       "     f0   Vmax  f_m07  f_p07\n",
       "0  7194  0.027   6881   7512\n",
       "1  7182  0.027   6906   7491\n",
       "2  7187  0.027   6900   7506"
      ]
     },
     "execution_count": 2,
     "metadata": {},
     "output_type": "execute_result"
    }
   ],
   "source": [
    "tab1"
   ]
  },
  {
   "cell_type": "code",
   "execution_count": 3,
   "metadata": {},
   "outputs": [],
   "source": [
    "tab1[\"delta_f\"] = tab1[\"f_p07\"] - tab1[\"f_m07\"]"
   ]
  },
  {
   "cell_type": "code",
   "execution_count": 4,
   "metadata": {},
   "outputs": [
    {
     "data": {
      "text/html": [
       "<div>\n",
       "<style scoped>\n",
       "    .dataframe tbody tr th:only-of-type {\n",
       "        vertical-align: middle;\n",
       "    }\n",
       "\n",
       "    .dataframe tbody tr th {\n",
       "        vertical-align: top;\n",
       "    }\n",
       "\n",
       "    .dataframe thead th {\n",
       "        text-align: right;\n",
       "    }\n",
       "</style>\n",
       "<table border=\"1\" class=\"dataframe\">\n",
       "  <thead>\n",
       "    <tr style=\"text-align: right;\">\n",
       "      <th></th>\n",
       "      <th>f0</th>\n",
       "      <th>Vmax</th>\n",
       "      <th>f_m07</th>\n",
       "      <th>f_p07</th>\n",
       "      <th>delta_f</th>\n",
       "    </tr>\n",
       "  </thead>\n",
       "  <tbody>\n",
       "    <tr>\n",
       "      <td>0</td>\n",
       "      <td>7194</td>\n",
       "      <td>0.027</td>\n",
       "      <td>6881</td>\n",
       "      <td>7512</td>\n",
       "      <td>631</td>\n",
       "    </tr>\n",
       "    <tr>\n",
       "      <td>1</td>\n",
       "      <td>7182</td>\n",
       "      <td>0.027</td>\n",
       "      <td>6906</td>\n",
       "      <td>7491</td>\n",
       "      <td>585</td>\n",
       "    </tr>\n",
       "    <tr>\n",
       "      <td>2</td>\n",
       "      <td>7187</td>\n",
       "      <td>0.027</td>\n",
       "      <td>6900</td>\n",
       "      <td>7506</td>\n",
       "      <td>606</td>\n",
       "    </tr>\n",
       "  </tbody>\n",
       "</table>\n",
       "</div>"
      ],
      "text/plain": [
       "     f0   Vmax  f_m07  f_p07  delta_f\n",
       "0  7194  0.027   6881   7512      631\n",
       "1  7182  0.027   6906   7491      585\n",
       "2  7187  0.027   6900   7506      606"
      ]
     },
     "execution_count": 4,
     "metadata": {},
     "output_type": "execute_result"
    }
   ],
   "source": [
    "tab1"
   ]
  },
  {
   "cell_type": "code",
   "execution_count": 5,
   "metadata": {},
   "outputs": [],
   "source": [
    "from prac_code.value import Value\n",
    "tab1 = tab1.append([{\n",
    "    \"f0\": Value(syst=0.0, values=tab1[\"f0\"]),\n",
    "    \"Vmax\": Value(syst=0.0005, values=tab1[\"Vmax\"]),\n",
    "    \"f_m07\": Value(syst=0.0, values=tab1[\"f_m07\"]),\n",
    "    \"f_p07\": Value(syst=0.0, values=tab1[\"f_p07\"]),\n",
    "    \"delta_f\": Value(syst=0.0, values=tab1[\"f_p07\"]) - Value(syst=0.0, values=tab1[\"f_m07\"])\n",
    "}], ignore_index=True)\n"
   ]
  },
  {
   "cell_type": "code",
   "execution_count": 6,
   "metadata": {},
   "outputs": [
    {
     "name": "stdout",
     "output_type": "stream",
     "text": [
      "11.8 ± 0.3\n"
     ]
    }
   ],
   "source": [
    "import numpy as np\n",
    "Q = tab1[\"f0\"][3] / tab1[\"delta_f\"][3]\n",
    "print(Q)"
   ]
  },
  {
   "cell_type": "code",
   "execution_count": 7,
   "metadata": {},
   "outputs": [
    {
     "name": "stdout",
     "output_type": "stream",
     "text": [
      "0.0010432 ± 0.0000017\n"
     ]
    }
   ],
   "source": [
    "C0 = 0.47e-06\n",
    "from math import pi\n",
    "f0 = tab1[\"f0\"][3]\n",
    "L = (1 / (f0 * 2 * pi)) ** 2 / C0\n",
    "print(L)"
   ]
  },
  {
   "cell_type": "code",
   "execution_count": 8,
   "metadata": {},
   "outputs": [
    {
     "name": "stdout",
     "output_type": "stream",
     "text": [
      "3.98 ± 0.11\n"
     ]
    }
   ],
   "source": [
    "R = 1 / Q * (L / C0) ** 0.5\n",
    "print(R)"
   ]
  },
  {
   "cell_type": "code",
   "execution_count": 9,
   "metadata": {},
   "outputs": [],
   "source": [
    "from pandas.core.series import Series\n",
    "tab2[\"D\"] = tab2[\"D\"].apply(Value)\n",
    "tab2[\"f01\"] = Series([Value(syst=0.0, values=[tab2[\"f011\"][i], tab2[\"f012\"][i], tab2[\"f013\"][i]]) for i in range(7)])\n",
    "tab2[\"f02\"] = Series([Value(syst=0.0, values=[tab2[\"f021\"][i], tab2[\"f022\"][i], tab2[\"f023\"][i]]) for i in range(7)])"
   ]
  },
  {
   "cell_type": "code",
   "execution_count": 10,
   "metadata": {},
   "outputs": [
    {
     "data": {
      "text/html": [
       "<div>\n",
       "<style scoped>\n",
       "    .dataframe tbody tr th:only-of-type {\n",
       "        vertical-align: middle;\n",
       "    }\n",
       "\n",
       "    .dataframe tbody tr th {\n",
       "        vertical-align: top;\n",
       "    }\n",
       "\n",
       "    .dataframe thead th {\n",
       "        text-align: right;\n",
       "    }\n",
       "</style>\n",
       "<table border=\"1\" class=\"dataframe\">\n",
       "  <thead>\n",
       "    <tr style=\"text-align: right;\">\n",
       "      <th></th>\n",
       "      <th>D</th>\n",
       "      <th>f011</th>\n",
       "      <th>f012</th>\n",
       "      <th>f013</th>\n",
       "      <th>f021</th>\n",
       "      <th>f022</th>\n",
       "      <th>f023</th>\n",
       "      <th>f01</th>\n",
       "      <th>f02</th>\n",
       "    </tr>\n",
       "  </thead>\n",
       "  <tbody>\n",
       "    <tr>\n",
       "      <td>0</td>\n",
       "      <td>0 ± 0</td>\n",
       "      <td>6366</td>\n",
       "      <td>6364</td>\n",
       "      <td>6364</td>\n",
       "      <td>8342</td>\n",
       "      <td>8334</td>\n",
       "      <td>8319</td>\n",
       "      <td>6364.7 ± 1.2</td>\n",
       "      <td>8332 ± 12</td>\n",
       "    </tr>\n",
       "    <tr>\n",
       "      <td>1</td>\n",
       "      <td>5 ± 0</td>\n",
       "      <td>6500</td>\n",
       "      <td>6496</td>\n",
       "      <td>6498</td>\n",
       "      <td>8062</td>\n",
       "      <td>8064</td>\n",
       "      <td>8064</td>\n",
       "      <td>6498 ± 2</td>\n",
       "      <td>8063.3 ± 1.2</td>\n",
       "    </tr>\n",
       "    <tr>\n",
       "      <td>2</td>\n",
       "      <td>10 ± 0</td>\n",
       "      <td>6643</td>\n",
       "      <td>6640</td>\n",
       "      <td>6646</td>\n",
       "      <td>7809</td>\n",
       "      <td>7811</td>\n",
       "      <td>7812</td>\n",
       "      <td>6643 ± 3</td>\n",
       "      <td>7810.7 ± 1.5</td>\n",
       "    </tr>\n",
       "    <tr>\n",
       "      <td>3</td>\n",
       "      <td>15 ± 0</td>\n",
       "      <td>6757</td>\n",
       "      <td>6742</td>\n",
       "      <td>6764</td>\n",
       "      <td>7662</td>\n",
       "      <td>7664</td>\n",
       "      <td>7679</td>\n",
       "      <td>6754 ± 11</td>\n",
       "      <td>7668 ± 9</td>\n",
       "    </tr>\n",
       "    <tr>\n",
       "      <td>4</td>\n",
       "      <td>20 ± 0</td>\n",
       "      <td>6840</td>\n",
       "      <td>6832</td>\n",
       "      <td>6832</td>\n",
       "      <td>7495</td>\n",
       "      <td>7488</td>\n",
       "      <td>7503</td>\n",
       "      <td>6835 ± 5</td>\n",
       "      <td>7495 ± 8</td>\n",
       "    </tr>\n",
       "    <tr>\n",
       "      <td>5</td>\n",
       "      <td>25 ± 0</td>\n",
       "      <td>6986</td>\n",
       "      <td>6928</td>\n",
       "      <td>6934</td>\n",
       "      <td>7232</td>\n",
       "      <td>7238</td>\n",
       "      <td>7283</td>\n",
       "      <td>6.95e+3 ± 3e+1</td>\n",
       "      <td>7.25e+3 ± 3e+1</td>\n",
       "    </tr>\n",
       "    <tr>\n",
       "      <td>6</td>\n",
       "      <td>30 ± 0</td>\n",
       "      <td>7056</td>\n",
       "      <td>7069</td>\n",
       "      <td>7045</td>\n",
       "      <td>7056</td>\n",
       "      <td>7069</td>\n",
       "      <td>7045</td>\n",
       "      <td>7057 ± 12</td>\n",
       "      <td>7057 ± 12</td>\n",
       "    </tr>\n",
       "  </tbody>\n",
       "</table>\n",
       "</div>"
      ],
      "text/plain": [
       "        D  f011  f012  f013  f021  f022  f023             f01             f02\n",
       "0   0 ± 0  6366  6364  6364  8342  8334  8319    6364.7 ± 1.2       8332 ± 12\n",
       "1   5 ± 0  6500  6496  6498  8062  8064  8064        6498 ± 2    8063.3 ± 1.2\n",
       "2  10 ± 0  6643  6640  6646  7809  7811  7812        6643 ± 3    7810.7 ± 1.5\n",
       "3  15 ± 0  6757  6742  6764  7662  7664  7679       6754 ± 11        7668 ± 9\n",
       "4  20 ± 0  6840  6832  6832  7495  7488  7503        6835 ± 5        7495 ± 8\n",
       "5  25 ± 0  6986  6928  6934  7232  7238  7283  6.95e+3 ± 3e+1  7.25e+3 ± 3e+1\n",
       "6  30 ± 0  7056  7069  7045  7056  7069  7045       7057 ± 12       7057 ± 12"
      ]
     },
     "execution_count": 10,
     "metadata": {},
     "output_type": "execute_result"
    }
   ],
   "source": [
    "tab2"
   ]
  },
  {
   "cell_type": "code",
   "execution_count": 11,
   "metadata": {},
   "outputs": [],
   "source": [
    "tab2[\"f0\"] = 2**0.5 * tab2[\"f01\"] * tab2[\"f02\"] / (tab2[\"f01\"]**2.0 + tab2[\"f02\"]**2.0)**0.5"
   ]
  },
  {
   "cell_type": "code",
   "execution_count": 12,
   "metadata": {},
   "outputs": [
    {
     "data": {
      "text/html": [
       "<div>\n",
       "<style scoped>\n",
       "    .dataframe tbody tr th:only-of-type {\n",
       "        vertical-align: middle;\n",
       "    }\n",
       "\n",
       "    .dataframe tbody tr th {\n",
       "        vertical-align: top;\n",
       "    }\n",
       "\n",
       "    .dataframe thead th {\n",
       "        text-align: right;\n",
       "    }\n",
       "</style>\n",
       "<table border=\"1\" class=\"dataframe\">\n",
       "  <thead>\n",
       "    <tr style=\"text-align: right;\">\n",
       "      <th></th>\n",
       "      <th>D</th>\n",
       "      <th>f011</th>\n",
       "      <th>f012</th>\n",
       "      <th>f013</th>\n",
       "      <th>f021</th>\n",
       "      <th>f022</th>\n",
       "      <th>f023</th>\n",
       "      <th>f01</th>\n",
       "      <th>f02</th>\n",
       "      <th>f0</th>\n",
       "    </tr>\n",
       "  </thead>\n",
       "  <tbody>\n",
       "    <tr>\n",
       "      <td>0</td>\n",
       "      <td>0 ± 0</td>\n",
       "      <td>6366</td>\n",
       "      <td>6364</td>\n",
       "      <td>6364</td>\n",
       "      <td>8342</td>\n",
       "      <td>8334</td>\n",
       "      <td>8319</td>\n",
       "      <td>6364.7 ± 1.2</td>\n",
       "      <td>8332 ± 12</td>\n",
       "      <td>7153 ± 4</td>\n",
       "    </tr>\n",
       "    <tr>\n",
       "      <td>1</td>\n",
       "      <td>5 ± 0</td>\n",
       "      <td>6500</td>\n",
       "      <td>6496</td>\n",
       "      <td>6498</td>\n",
       "      <td>8062</td>\n",
       "      <td>8064</td>\n",
       "      <td>8064</td>\n",
       "      <td>6498 ± 2</td>\n",
       "      <td>8063.3 ± 1.2</td>\n",
       "      <td>7155.3 ± 1.4</td>\n",
       "    </tr>\n",
       "    <tr>\n",
       "      <td>2</td>\n",
       "      <td>10 ± 0</td>\n",
       "      <td>6643</td>\n",
       "      <td>6640</td>\n",
       "      <td>6646</td>\n",
       "      <td>7809</td>\n",
       "      <td>7811</td>\n",
       "      <td>7812</td>\n",
       "      <td>6643 ± 3</td>\n",
       "      <td>7810.7 ± 1.5</td>\n",
       "      <td>7156.4 ± 2.0</td>\n",
       "    </tr>\n",
       "    <tr>\n",
       "      <td>3</td>\n",
       "      <td>15 ± 0</td>\n",
       "      <td>6757</td>\n",
       "      <td>6742</td>\n",
       "      <td>6764</td>\n",
       "      <td>7662</td>\n",
       "      <td>7664</td>\n",
       "      <td>7679</td>\n",
       "      <td>6754 ± 11</td>\n",
       "      <td>7668 ± 9</td>\n",
       "      <td>7168 ± 8</td>\n",
       "    </tr>\n",
       "    <tr>\n",
       "      <td>4</td>\n",
       "      <td>20 ± 0</td>\n",
       "      <td>6840</td>\n",
       "      <td>6832</td>\n",
       "      <td>6832</td>\n",
       "      <td>7495</td>\n",
       "      <td>7488</td>\n",
       "      <td>7503</td>\n",
       "      <td>6835 ± 5</td>\n",
       "      <td>7495 ± 8</td>\n",
       "      <td>7142 ± 4</td>\n",
       "    </tr>\n",
       "    <tr>\n",
       "      <td>5</td>\n",
       "      <td>25 ± 0</td>\n",
       "      <td>6986</td>\n",
       "      <td>6928</td>\n",
       "      <td>6934</td>\n",
       "      <td>7232</td>\n",
       "      <td>7238</td>\n",
       "      <td>7283</td>\n",
       "      <td>6.95e+3 ± 3e+1</td>\n",
       "      <td>7.25e+3 ± 3e+1</td>\n",
       "      <td>7.10e+3 ± 2e+1</td>\n",
       "    </tr>\n",
       "    <tr>\n",
       "      <td>6</td>\n",
       "      <td>30 ± 0</td>\n",
       "      <td>7056</td>\n",
       "      <td>7069</td>\n",
       "      <td>7045</td>\n",
       "      <td>7056</td>\n",
       "      <td>7069</td>\n",
       "      <td>7045</td>\n",
       "      <td>7057 ± 12</td>\n",
       "      <td>7057 ± 12</td>\n",
       "      <td>7057 ± 8</td>\n",
       "    </tr>\n",
       "  </tbody>\n",
       "</table>\n",
       "</div>"
      ],
      "text/plain": [
       "        D  f011  f012  f013  f021  f022  f023             f01             f02  \\\n",
       "0   0 ± 0  6366  6364  6364  8342  8334  8319    6364.7 ± 1.2       8332 ± 12   \n",
       "1   5 ± 0  6500  6496  6498  8062  8064  8064        6498 ± 2    8063.3 ± 1.2   \n",
       "2  10 ± 0  6643  6640  6646  7809  7811  7812        6643 ± 3    7810.7 ± 1.5   \n",
       "3  15 ± 0  6757  6742  6764  7662  7664  7679       6754 ± 11        7668 ± 9   \n",
       "4  20 ± 0  6840  6832  6832  7495  7488  7503        6835 ± 5        7495 ± 8   \n",
       "5  25 ± 0  6986  6928  6934  7232  7238  7283  6.95e+3 ± 3e+1  7.25e+3 ± 3e+1   \n",
       "6  30 ± 0  7056  7069  7045  7056  7069  7045       7057 ± 12       7057 ± 12   \n",
       "\n",
       "               f0  \n",
       "0        7153 ± 4  \n",
       "1    7155.3 ± 1.4  \n",
       "2    7156.4 ± 2.0  \n",
       "3        7168 ± 8  \n",
       "4        7142 ± 4  \n",
       "5  7.10e+3 ± 2e+1  \n",
       "6        7057 ± 8  "
      ]
     },
     "execution_count": 12,
     "metadata": {},
     "output_type": "execute_result"
    }
   ],
   "source": [
    "tab2"
   ]
  },
  {
   "cell_type": "code",
   "execution_count": null,
   "metadata": {},
   "outputs": [],
   "source": [
    "from prac_code.plotter import Plotter\n",
    "Plotter(draw_legend=True).set_name(\"task2\").set_title(\"Задание 2\").set_y_name(\"$f, Hz$\").set_x_name(\n",
    "        \"$D, mm$\"). \\\n",
    "        add_line(Plotter.get_new_line(y_value=tab2['f01'], x_value=tab2[\"D\"],\n",
    "                                      draw_error=True, legend='$f_{01}$', fit=True, color='red', marker=\"v\")).\\\n",
    "        add_line(Plotter.get_new_line(y_value=tab2['f02'], x_value=tab2[\"D\"],\n",
    "                                      draw_error=True, legend='$f_{02}$', fit=True, color='green', marker=\"^\")).\\\n",
    "        add_line(Plotter.get_new_line(y_value=tab2['f0'], x_value=tab2[\"D\"],\n",
    "                                      draw_error=True, legend='$f_{0}$', fit=False, color='blue', marker=\"v\")).\\\n",
    "        plot(show=True, save=True)"
   ]
  },
  {
   "cell_type": "code",
   "execution_count": 59,
   "metadata": {},
   "outputs": [
    {
     "data": {
      "image/png": "[encoded data removed]",
      "text/plain": [
       "<Figure size 576x432 with 1 Axes>"
      ]
     },
     "metadata": {
      "needs_background": "light"
     },
     "output_type": "display_data"
    },
    {
     "data": {
      "text/plain": [
       "[FitParameters(legend='$f_{01}$', a=-9.25487636388719e-06, sigma_a=5.26640434383432e-07, b=0.0013273436799000162, sigma_b=3.7709581548371896e-06, r=-0.9928289424824166)]"
      ]
     },
     "execution_count": 59,
     "metadata": {},
     "output_type": "execute_result"
    }
   ],
   "source": [
    "from math import pi\n",
    "# w0 = 1 / (L * C0) ** 0.5\n",
    "# w1 = tab2[\"f01\"] / (2 * pi)\n",
    "L12 = 1 / (4 * pi**2 * tab2[\"f01\"] ** 2 * C0)\n",
    "\n",
    "Plotter(draw_legend=False).set_name(\"task2_2\").set_title(\"Задание 2.2\").set_y_name(\"$L_{12}, H$\").set_x_name(\n",
    "        \"$D, mm$\"). \\\n",
    "        add_line(Plotter.get_new_line(y_value=L12, x_value=tab2[\"D\"],\n",
    "                                      draw_error=True, legend='$f_{01}$', fit=True, color='red', marker=\"v\")).\\\n",
    "        plot(show=True, save=True, ylim=(0.001, 0.0014))"
   ]
  },
  {
   "cell_type": "code",
   "execution_count": 60,
   "metadata": {},
   "outputs": [
    {
     "data": {
      "image/png": "[encoded data removed]",
      "text/plain": [
       "<Figure size 576x432 with 1 Axes>"
      ]
     },
     "metadata": {
      "needs_background": "light"
     },
     "output_type": "display_data"
    },
    {
     "data": {
      "text/plain": [
       "[FitParameters(legend='$f_{01}$', a=-0.008107805849488114, sigma_a=0.00046667794280518926, b=1.2652299176843709, sigma_b=0.006314735711295389, r=-0.9929992923301862)]"
      ]
     },
     "execution_count": 60,
     "metadata": {},
     "output_type": "execute_result"
    }
   ],
   "source": [
    "K = L12 / L\n",
    "\n",
    "Plotter(draw_legend=False).set_name(\"task2_3\").set_title(\"Задание 2.3\").set_y_name(\"$K$\").set_x_name(\n",
    "        \"$D, mm$\"). \\\n",
    "        add_line(Plotter.get_new_line(y_value=K, x_value=tab2[\"D\"],\n",
    "                                      draw_error=True, legend='$f_{01}$', fit=True, color='red', marker=\"v\")).\\\n",
    "        plot(show=True, save=True)"
   ]
  },
  {
   "cell_type": "code",
   "execution_count": 49,
   "metadata": {},
   "outputs": [
    {
     "data": {
      "text/html": [
       "<div>\n",
       "<style scoped>\n",
       "    .dataframe tbody tr th:only-of-type {\n",
       "        vertical-align: middle;\n",
       "    }\n",
       "\n",
       "    .dataframe tbody tr th {\n",
       "        vertical-align: top;\n",
       "    }\n",
       "\n",
       "    .dataframe thead th {\n",
       "        text-align: right;\n",
       "    }\n",
       "</style>\n",
       "<table border=\"1\" class=\"dataframe\">\n",
       "  <thead>\n",
       "    <tr style=\"text-align: right;\">\n",
       "      <th></th>\n",
       "      <th>phi</th>\n",
       "      <th>Vmax</th>\n",
       "    </tr>\n",
       "  </thead>\n",
       "  <tbody>\n",
       "    <tr>\n",
       "      <td>0</td>\n",
       "      <td>0.0 ± 1.0</td>\n",
       "      <td>0.0150 ± 0.0005</td>\n",
       "    </tr>\n",
       "    <tr>\n",
       "      <td>1</td>\n",
       "      <td>10.0 ± 1.0</td>\n",
       "      <td>0.0150 ± 0.0005</td>\n",
       "    </tr>\n",
       "    <tr>\n",
       "      <td>2</td>\n",
       "      <td>20.0 ± 1.0</td>\n",
       "      <td>0.0140 ± 0.0005</td>\n",
       "    </tr>\n",
       "    <tr>\n",
       "      <td>3</td>\n",
       "      <td>30.0 ± 1.0</td>\n",
       "      <td>0.0140 ± 0.0005</td>\n",
       "    </tr>\n",
       "    <tr>\n",
       "      <td>4</td>\n",
       "      <td>40.0 ± 1.0</td>\n",
       "      <td>0.0130 ± 0.0005</td>\n",
       "    </tr>\n",
       "    <tr>\n",
       "      <td>5</td>\n",
       "      <td>50.0 ± 1.0</td>\n",
       "      <td>0.0120 ± 0.0005</td>\n",
       "    </tr>\n",
       "    <tr>\n",
       "      <td>6</td>\n",
       "      <td>60.0 ± 1.0</td>\n",
       "      <td>0.0090 ± 0.0005</td>\n",
       "    </tr>\n",
       "    <tr>\n",
       "      <td>7</td>\n",
       "      <td>70.0 ± 1.0</td>\n",
       "      <td>0.0060 ± 0.0005</td>\n",
       "    </tr>\n",
       "    <tr>\n",
       "      <td>8</td>\n",
       "      <td>80.0 ± 1.0</td>\n",
       "      <td>0.0060 ± 0.0005</td>\n",
       "    </tr>\n",
       "    <tr>\n",
       "      <td>9</td>\n",
       "      <td>90.0 ± 1.0</td>\n",
       "      <td>0.0045 ± 0.0005</td>\n",
       "    </tr>\n",
       "  </tbody>\n",
       "</table>\n",
       "</div>"
      ],
      "text/plain": [
       "          phi             Vmax\n",
       "0   0.0 ± 1.0  0.0150 ± 0.0005\n",
       "1  10.0 ± 1.0  0.0150 ± 0.0005\n",
       "2  20.0 ± 1.0  0.0140 ± 0.0005\n",
       "3  30.0 ± 1.0  0.0140 ± 0.0005\n",
       "4  40.0 ± 1.0  0.0130 ± 0.0005\n",
       "5  50.0 ± 1.0  0.0120 ± 0.0005\n",
       "6  60.0 ± 1.0  0.0090 ± 0.0005\n",
       "7  70.0 ± 1.0  0.0060 ± 0.0005\n",
       "8  80.0 ± 1.0  0.0060 ± 0.0005\n",
       "9  90.0 ± 1.0  0.0045 ± 0.0005"
      ]
     },
     "execution_count": 49,
     "metadata": {},
     "output_type": "execute_result"
    }
   ],
   "source": [
    "tab3[\"phi\"] = tab3[\"phi\"].apply(Value) + Value(values=[0.0], syst=1.0)\n",
    "tab3[\"Vmax\"] = tab3[\"Vmax\"].apply(Value) + Value(values=[0.0], syst=0.0005)\n",
    "tab3"
   ]
  },
  {
   "cell_type": "code",
   "execution_count": 50,
   "metadata": {},
   "outputs": [
    {
     "data": {
      "image/png": "[encoded data removed]",
      "text/plain": [
       "<Figure size 576x432 with 1 Axes>"
      ]
     },
     "metadata": {
      "needs_background": "light"
     },
     "output_type": "display_data"
    },
    {
     "data": {
      "text/plain": [
       "[]"
      ]
     },
     "execution_count": 50,
     "metadata": {},
     "output_type": "execute_result"
    }
   ],
   "source": [
    "Plotter(draw_legend=False).set_name(\"task3\").set_title(\"Задание 3\").set_y_name(\"$V_{max}, V$\").set_x_name(\n",
    "        \"$\\phi, ^{\\circ}$\"). \\\n",
    "        add_line(Plotter.get_new_line(y_value=tab3['Vmax'], x_value=tab3[\"phi\"],\n",
    "                                      draw_error=True, legend='$f_{01}$', fit=False, color='red', marker=\"v\")).\\\n",
    "        plot(show=True, save=True)"
   ]
  },
  {
   "cell_type": "code",
   "execution_count": 52,
   "metadata": {},
   "outputs": [
    {
     "data": {
      "text/html": [
       "<div>\n",
       "<style scoped>\n",
       "    .dataframe tbody tr th:only-of-type {\n",
       "        vertical-align: middle;\n",
       "    }\n",
       "\n",
       "    .dataframe tbody tr th {\n",
       "        vertical-align: top;\n",
       "    }\n",
       "\n",
       "    .dataframe thead th {\n",
       "        text-align: right;\n",
       "    }\n",
       "</style>\n",
       "<table border=\"1\" class=\"dataframe\">\n",
       "  <thead>\n",
       "    <tr style=\"text-align: right;\">\n",
       "      <th></th>\n",
       "      <th>C</th>\n",
       "      <th>f011</th>\n",
       "      <th>f012</th>\n",
       "      <th>f013</th>\n",
       "      <th>f021</th>\n",
       "      <th>f022</th>\n",
       "      <th>f023</th>\n",
       "      <th>Csv</th>\n",
       "      <th>f01</th>\n",
       "      <th>f02</th>\n",
       "    </tr>\n",
       "  </thead>\n",
       "  <tbody>\n",
       "    <tr>\n",
       "      <td>0</td>\n",
       "      <td>2.04</td>\n",
       "      <td>7159</td>\n",
       "      <td>7146</td>\n",
       "      <td>7138</td>\n",
       "      <td>8584</td>\n",
       "      <td>8566</td>\n",
       "      <td>8565</td>\n",
       "      <td>2.040 ± 0.005</td>\n",
       "      <td>7148 ± 11</td>\n",
       "      <td>8572 ± 11</td>\n",
       "    </tr>\n",
       "    <tr>\n",
       "      <td>1</td>\n",
       "      <td>1.40</td>\n",
       "      <td>7123</td>\n",
       "      <td>7117</td>\n",
       "      <td>7123</td>\n",
       "      <td>9099</td>\n",
       "      <td>9110</td>\n",
       "      <td>9102</td>\n",
       "      <td>1.400 ± 0.005</td>\n",
       "      <td>7121 ± 3</td>\n",
       "      <td>9104 ± 6</td>\n",
       "    </tr>\n",
       "    <tr>\n",
       "      <td>2</td>\n",
       "      <td>0.95</td>\n",
       "      <td>7089</td>\n",
       "      <td>7106</td>\n",
       "      <td>7104</td>\n",
       "      <td>9947</td>\n",
       "      <td>9959</td>\n",
       "      <td>9975</td>\n",
       "      <td>0.950 ± 0.005</td>\n",
       "      <td>7100 ± 9</td>\n",
       "      <td>9960 ± 14</td>\n",
       "    </tr>\n",
       "    <tr>\n",
       "      <td>3</td>\n",
       "      <td>0.31</td>\n",
       "      <td>7065</td>\n",
       "      <td>7083</td>\n",
       "      <td>7073</td>\n",
       "      <td>14345</td>\n",
       "      <td>14345</td>\n",
       "      <td>14417</td>\n",
       "      <td>0.310 ± 0.005</td>\n",
       "      <td>7074 ± 9</td>\n",
       "      <td>1.437e+4 ± 4e+1</td>\n",
       "    </tr>\n",
       "    <tr>\n",
       "      <td>4</td>\n",
       "      <td>0.22</td>\n",
       "      <td>7093</td>\n",
       "      <td>7063</td>\n",
       "      <td>7071</td>\n",
       "      <td>16047</td>\n",
       "      <td>16009</td>\n",
       "      <td>16032</td>\n",
       "      <td>0.220 ± 0.005</td>\n",
       "      <td>7076 ± 16</td>\n",
       "      <td>16029 ± 19</td>\n",
       "    </tr>\n",
       "  </tbody>\n",
       "</table>\n",
       "</div>"
      ],
      "text/plain": [
       "      C  f011  f012  f013   f021   f022   f023            Csv        f01  \\\n",
       "0  2.04  7159  7146  7138   8584   8566   8565  2.040 ± 0.005  7148 ± 11   \n",
       "1  1.40  7123  7117  7123   9099   9110   9102  1.400 ± 0.005   7121 ± 3   \n",
       "2  0.95  7089  7106  7104   9947   9959   9975  0.950 ± 0.005   7100 ± 9   \n",
       "3  0.31  7065  7083  7073  14345  14345  14417  0.310 ± 0.005   7074 ± 9   \n",
       "4  0.22  7093  7063  7071  16047  16009  16032  0.220 ± 0.005  7076 ± 16   \n",
       "\n",
       "               f02  \n",
       "0        8572 ± 11  \n",
       "1         9104 ± 6  \n",
       "2        9960 ± 14  \n",
       "3  1.437e+4 ± 4e+1  \n",
       "4       16029 ± 19  "
      ]
     },
     "execution_count": 52,
     "metadata": {},
     "output_type": "execute_result"
    }
   ],
   "source": [
    "tab4[\"Csv\"] = tab4[\"C\"].apply(Value) + Value(values=[0.0], syst=0.005)\n",
    "tab4[\"f01\"] = Series([Value(syst=0.0, values=[tab4[\"f011\"][i], tab4[\"f012\"][i], tab4[\"f013\"][i]]) for i in range(5)])\n",
    "tab4[\"f02\"] = Series([Value(syst=0.0, values=[tab4[\"f021\"][i], tab4[\"f022\"][i], tab4[\"f023\"][i]]) for i in range(5)])\n",
    "tab4"
   ]
  },
  {
   "cell_type": "code",
   "execution_count": 56,
   "metadata": {},
   "outputs": [
    {
     "data": {
      "image/png": "[encoded data removed]",
      "text/plain": [
       "<Figure size 576x432 with 1 Axes>"
      ]
     },
     "metadata": {
      "needs_background": "light"
     },
     "output_type": "display_data"
    },
    {
     "data": {
      "text/plain": [
       "[FitParameters(legend='$f_{01}$', a=23.014326195957636, sigma_a=0.4088077818275015, b=-484327.41186848615, sigma_b=777898.6534864011, r=0.9988363178247299)]"
      ]
     },
     "execution_count": 56,
     "metadata": {},
     "output_type": "execute_result"
    }
   ],
   "source": [
    "Plotter(draw_legend=False).set_name(\"task4\").set_title(\"Задание 4\").set_y_name(\"$(f_{02})^2 - (f_{01})^2, Hz^2$\").set_x_name(\n",
    "        \"$2 / C, F^{-1}$\"). \\\n",
    "        add_line(Plotter.get_new_line(y_value=tab4['f02']**2 - tab4[\"f01\"]**2, x_value=2 * (tab4[\"Csv\"] * 10**-6)**-1,\n",
    "                                      draw_error=True, legend='$f_{01}$', fit=True, color='red', marker=\"v\")).\\\n",
    "        plot(show=True, save=True)"
   ]
  },
  {
   "cell_type": "code",
   "execution_count": 64,
   "metadata": {},
   "outputs": [],
   "source": [
    "K = C0 / (C0 + tab4[\"Csv\"] * 1.e-06)"
   ]
  },
  {
   "cell_type": "code",
   "execution_count": 68,
   "metadata": {},
   "outputs": [
    {
     "name": "stderr",
     "output_type": "stream",
     "text": [
      "/home/lev/PycharmProjects/PracLib/venv/lib/python3.7/site-packages/scipy/stats/stats.py:3399: PearsonRConstantInputWarning: An input array is constant; the correlation coefficent is not defined.\n",
      "  warnings.warn(PearsonRConstantInputWarning())\n"
     ]
    },
    {
     "data": {
      "image/png": "[encoded data removed]",
      "text/plain": [
       "<Figure size 576x432 with 1 Axes>"
      ]
     },
     "metadata": {
      "needs_background": "light"
     },
     "output_type": "display_data"
    },
    {
     "data": {
      "text/plain": [
       "[FitParameters(legend='$f_{01}$', a=-134.73960882067894, sigma_a=27.45958556853583, b=7155.403145594557, sigma_b=8.731076831446899, r=-0.9317428529565972),\n",
       " FitParameters(legend='$f_{02}$', a=15184.209125223762, sigma_a=1161.0283075338148, b=5353.0977124183555, sigma_b=352.90494576105334, r=0.995053771803228),\n",
       " FitParameters(legend='$f_{01}$ theory', a=3.685092741448571e-05, sigma_a=9.33918148305067e-06, b=7187.999982302191, sigma_b=4.942746917242325e-06, r=nan),\n",
       " FitParameters(legend='$f_{02}$ theory', a=11299.28707759741, sigma_a=1327.5176621526005, b=6515.835638843885, sigma_b=315.08951135160453, r=0.9928196558559399)]"
      ]
     },
     "execution_count": 68,
     "metadata": {},
     "output_type": "execute_result"
    }
   ],
   "source": [
    "f01t = K / K * 1 / (2 * pi * (L * C0) ** 0.5)\n",
    "f02t = ((K + 1) / (-K + 1)) ** 0.5 * f01t\n",
    "\n",
    "Plotter(draw_legend=True).set_name(\"task4_2\").set_title(\"Задание 4.2\").set_y_name(\"$f, Hz$\").set_x_name(\n",
    "        \"$K$\"). \\\n",
    "        add_line(Plotter.get_new_line(y_value=tab4['f01'], x_value=K,\n",
    "                                      draw_error=True, legend='$f_{01}$', fit=True, color='red', marker=\"v\")).\\\n",
    "        add_line(Plotter.get_new_line(y_value=tab4['f02'], x_value=K,\n",
    "                                      draw_error=True, legend='$f_{02}$', fit=True, color='green', marker=\"v\")).\\\n",
    "        add_line(Plotter.get_new_line(y_value=f01t, x_value=K,\n",
    "                                      draw_error=True, legend='$f_{01}$ theory', fit=True, color='blue', marker=\"v\")).\\\n",
    "        add_line(Plotter.get_new_line(y_value=f02t, x_value=K,\n",
    "                                      draw_error=True, legend='$f_{02}$ theory', fit=True, color='black', marker=\"v\")).\\\n",
    "        plot(show=True, save=True)"
   ]
  },
  {
   "cell_type": "code",
   "execution_count": null,
   "metadata": {},
   "outputs": [],
   "source": []
  }
 ],
 "metadata": {
  "kernelspec": {
   "display_name": "praclib",
   "language": "python",
   "name": "praclib"
  },
  "language_info": {
   "codemirror_mode": {
    "name": "ipython",
    "version": 3
   },
   "file_extension": ".py",
   "mimetype": "text/x-python",
   "name": "python",
   "nbconvert_exporter": "python",
   "pygments_lexer": "ipython3",
   "version": "3.7.3"
  }
 },
 "nbformat": 4,
 "nbformat_minor": 4
}
