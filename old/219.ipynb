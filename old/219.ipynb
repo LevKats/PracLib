{
 "cells": [
  {
   "cell_type": "code",
   "execution_count": null,
   "metadata": {},
   "outputs": [],
   "source": [
    "from tables import start\n",
    "start()"
   ]
  },
  {
   "cell_type": "code",
   "execution_count": 9,
   "metadata": {},
   "outputs": [],
   "source": [
    "import pandas as pd\n",
    "from value import Value\n",
    "tab1 = pd.read_csv(\"tables/219_1.tab\", sep=\"\\t\")\n",
    "tab2 = pd.read_csv(\"tables/219_2.tab\", sep=\"\\t\")\n",
    "tab1[\"I\"] = tab1[\"I\"].apply(lambda x: Value(values=[x], syst=2 + 0.0025 * x))\n",
    "tab1[\"U\"] = tab1[\"U\"].apply(lambda x: Value(values=[x], syst=2 + 0.0025 * x))\n",
    "tab2[\"p\"] = tab2[\"p\"].apply(lambda x: Value(values=[x], syst=2 + 0.0025 * x))\n",
    "tab2[\"flow\"] = tab2[\"flow\"].apply(lambda x: Value(values=[x], syst=0.2 + 0.0025 * x))"
   ]
  },
  {
   "cell_type": "code",
   "execution_count": 10,
   "metadata": {},
   "outputs": [
    {
     "data": {
      "text/html": [
       "<div>\n",
       "<style scoped>\n",
       "    .dataframe tbody tr th:only-of-type {\n",
       "        vertical-align: middle;\n",
       "    }\n",
       "\n",
       "    .dataframe tbody tr th {\n",
       "        vertical-align: top;\n",
       "    }\n",
       "\n",
       "    .dataframe thead th {\n",
       "        text-align: right;\n",
       "    }\n",
       "</style>\n",
       "<table border=\"1\" class=\"dataframe\">\n",
       "  <thead>\n",
       "    <tr style=\"text-align: right;\">\n",
       "      <th></th>\n",
       "      <th>I</th>\n",
       "      <th>U</th>\n",
       "    </tr>\n",
       "  </thead>\n",
       "  <tbody>\n",
       "    <tr>\n",
       "      <th>0</th>\n",
       "      <td>100 ± 2</td>\n",
       "      <td>683 ± 4</td>\n",
       "    </tr>\n",
       "    <tr>\n",
       "      <th>1</th>\n",
       "      <td>120 ± 2</td>\n",
       "      <td>834 ± 4</td>\n",
       "    </tr>\n",
       "    <tr>\n",
       "      <th>2</th>\n",
       "      <td>140 ± 2</td>\n",
       "      <td>970 ± 4</td>\n",
       "    </tr>\n",
       "    <tr>\n",
       "      <th>3</th>\n",
       "      <td>160 ± 2</td>\n",
       "      <td>1131 ± 5</td>\n",
       "    </tr>\n",
       "    <tr>\n",
       "      <th>4</th>\n",
       "      <td>180 ± 2</td>\n",
       "      <td>1289 ± 5</td>\n",
       "    </tr>\n",
       "    <tr>\n",
       "      <th>5</th>\n",
       "      <td>200 ± 2</td>\n",
       "      <td>1447 ± 6</td>\n",
       "    </tr>\n",
       "    <tr>\n",
       "      <th>6</th>\n",
       "      <td>220 ± 3</td>\n",
       "      <td>1614 ± 6</td>\n",
       "    </tr>\n",
       "    <tr>\n",
       "      <th>7</th>\n",
       "      <td>240 ± 3</td>\n",
       "      <td>1791 ± 6</td>\n",
       "    </tr>\n",
       "    <tr>\n",
       "      <th>8</th>\n",
       "      <td>260 ± 3</td>\n",
       "      <td>1968 ± 7</td>\n",
       "    </tr>\n",
       "    <tr>\n",
       "      <th>9</th>\n",
       "      <td>280 ± 3</td>\n",
       "      <td>2180 ± 7</td>\n",
       "    </tr>\n",
       "    <tr>\n",
       "      <th>10</th>\n",
       "      <td>300 ± 3</td>\n",
       "      <td>2390 ± 8</td>\n",
       "    </tr>\n",
       "    <tr>\n",
       "      <th>11</th>\n",
       "      <td>320 ± 3</td>\n",
       "      <td>2610 ± 9</td>\n",
       "    </tr>\n",
       "  </tbody>\n",
       "</table>\n",
       "</div>"
      ],
      "text/plain": [
       "          I         U\n",
       "0   100 ± 2   683 ± 4\n",
       "1   120 ± 2   834 ± 4\n",
       "2   140 ± 2   970 ± 4\n",
       "3   160 ± 2  1131 ± 5\n",
       "4   180 ± 2  1289 ± 5\n",
       "5   200 ± 2  1447 ± 6\n",
       "6   220 ± 3  1614 ± 6\n",
       "7   240 ± 3  1791 ± 6\n",
       "8   260 ± 3  1968 ± 7\n",
       "9   280 ± 3  2180 ± 7\n",
       "10  300 ± 3  2390 ± 8\n",
       "11  320 ± 3  2610 ± 9"
      ]
     },
     "execution_count": 10,
     "metadata": {},
     "output_type": "execute_result"
    }
   ],
   "source": [
    "tab1"
   ]
  },
  {
   "cell_type": "code",
   "execution_count": 13,
   "metadata": {},
   "outputs": [],
   "source": [
    "R = tab1[\"U\"] / tab1[\"I\"]\n",
    "W = tab1[\"U\"] * tab1[\"I\"] * (0.001) ** 2"
   ]
  },
  {
   "cell_type": "code",
   "execution_count": 18,
   "metadata": {},
   "outputs": [
    {
     "data": {
      "image/png": "[encoded data removed]",
      "text/plain": [
       "<Figure size 576x432 with 1 Axes>"
      ]
     },
     "metadata": {
      "needs_background": "light"
     },
     "output_type": "display_data"
    }
   ],
   "source": [
    "%matplotlib inline\n",
    "from plotter import Plotter\n",
    "fit = Plotter(draw_legend=False).set_name(\"219_1\").set_title(\"Сопротивление, упражение 1\").set_x_name(\"W, W\").set_y_name(\"$R(W),\\Omega$\").\\\n",
    "        add_line(Plotter.get_new_line(x_value=W, y_value=R,\n",
    "                                      draw_error=True, legend='$P_1$', fit=True, color='black', marker='v')).\\\n",
    "        plot(show=True, save=True)"
   ]
  },
  {
   "cell_type": "code",
   "execution_count": 20,
   "metadata": {},
   "outputs": [
    {
     "name": "stdout",
     "output_type": "stream",
     "text": [
      "R = 0.9982054525871402\n",
      "R0 = 6.740 ± 0.004 G = 1.699 ± 0.014\n"
     ]
    }
   ],
   "source": [
    "print(\"R = {}\".format(str(fit[0].r)))\n",
    "R0 = Value(values=[float(fit[0].b)], syst=float(fit[0].sigma_b))\n",
    "G = Value(values=[float(fit[0].a)], syst=float(fit[0].sigma_a))\n",
    "print(\"R0 = {} G = {}\".format(str(R0), str(G)))"
   ]
  },
  {
   "cell_type": "code",
   "execution_count": 22,
   "metadata": {},
   "outputs": [
    {
     "name": "stdout",
     "output_type": "stream",
     "text": [
      "k=0.0250 ± 0.0002\n"
     ]
    }
   ],
   "source": [
    "r1 = 0.05 * 10**-3\n",
    "r2 = 4.5 * 10**-3\n",
    "L = 29.5 * 10**-2\n",
    "alpha = 2.6 * 10**-3\n",
    "from math import log, pi\n",
    "kmid = G**-1 * (R0 * alpha * log(r2/r1)) / (2 * pi * L)\n",
    "print(\"k={}\".format(str(kmid)))"
   ]
  },
  {
   "cell_type": "code",
   "execution_count": 23,
   "metadata": {},
   "outputs": [],
   "source": [
    "deltaP = tab1[\"U\"] * 3.66 + 49.5\n",
    "k = W / (R - R0) * (R0 * alpha * log(r2/r1)) / (2 * pi * L)"
   ]
  },
  {
   "cell_type": "code",
   "execution_count": 29,
   "metadata": {},
   "outputs": [
    {
     "data": {
      "image/png": "[encoded data removed]",
      "text/plain": [
       "<Figure size 576x432 with 1 Axes>"
      ]
     },
     "metadata": {
      "needs_background": "light"
     },
     "output_type": "display_data"
    }
   ],
   "source": [
    "from plotter import Plotter\n",
    "fit = Plotter(draw_legend=False).set_name(\"219_2\").set_title(\"k, упражение 1\").set_x_name(\"$\\Delta p, mm\\:Hg$\").set_y_name(\"$k(\\delta p),J m^{-1} K^{-1}$\").\\\n",
    "        add_line(Plotter.get_new_line(x_value=deltaP[1::], y_value=k[1::],\n",
    "                                      draw_error=True, legend='$P_1$', fit=False, color='black', marker='v')).\\\n",
    "        plot(show=True, save=True)"
   ]
  },
  {
   "cell_type": "code",
   "execution_count": 30,
   "metadata": {},
   "outputs": [
    {
     "data": {
      "text/html": [
       "<div>\n",
       "<style scoped>\n",
       "    .dataframe tbody tr th:only-of-type {\n",
       "        vertical-align: middle;\n",
       "    }\n",
       "\n",
       "    .dataframe tbody tr th {\n",
       "        vertical-align: top;\n",
       "    }\n",
       "\n",
       "    .dataframe thead th {\n",
       "        text-align: right;\n",
       "    }\n",
       "</style>\n",
       "<table border=\"1\" class=\"dataframe\">\n",
       "  <thead>\n",
       "    <tr style=\"text-align: right;\">\n",
       "      <th></th>\n",
       "      <th>p</th>\n",
       "      <th>flow</th>\n",
       "    </tr>\n",
       "  </thead>\n",
       "  <tbody>\n",
       "    <tr>\n",
       "      <th>0</th>\n",
       "      <td>-50.0 ± 1.9</td>\n",
       "      <td>-0.10 ± 0.20</td>\n",
       "    </tr>\n",
       "    <tr>\n",
       "      <th>1</th>\n",
       "      <td>50 ± 2</td>\n",
       "      <td>12.1 ± 0.2</td>\n",
       "    </tr>\n",
       "    <tr>\n",
       "      <th>2</th>\n",
       "      <td>152 ± 2</td>\n",
       "      <td>25.6 ± 0.3</td>\n",
       "    </tr>\n",
       "    <tr>\n",
       "      <th>3</th>\n",
       "      <td>253 ± 3</td>\n",
       "      <td>37.3 ± 0.3</td>\n",
       "    </tr>\n",
       "    <tr>\n",
       "      <th>4</th>\n",
       "      <td>387 ± 3</td>\n",
       "      <td>49.6 ± 0.3</td>\n",
       "    </tr>\n",
       "    <tr>\n",
       "      <th>5</th>\n",
       "      <td>451 ± 3</td>\n",
       "      <td>54.5 ± 0.3</td>\n",
       "    </tr>\n",
       "    <tr>\n",
       "      <th>6</th>\n",
       "      <td>550 ± 3</td>\n",
       "      <td>60.9 ± 0.4</td>\n",
       "    </tr>\n",
       "    <tr>\n",
       "      <th>7</th>\n",
       "      <td>640 ± 4</td>\n",
       "      <td>66.3 ± 0.4</td>\n",
       "    </tr>\n",
       "    <tr>\n",
       "      <th>8</th>\n",
       "      <td>744 ± 4</td>\n",
       "      <td>71.5 ± 0.4</td>\n",
       "    </tr>\n",
       "    <tr>\n",
       "      <th>9</th>\n",
       "      <td>855 ± 4</td>\n",
       "      <td>76.6 ± 0.4</td>\n",
       "    </tr>\n",
       "    <tr>\n",
       "      <th>10</th>\n",
       "      <td>930 ± 4</td>\n",
       "      <td>79.4 ± 0.4</td>\n",
       "    </tr>\n",
       "    <tr>\n",
       "      <th>11</th>\n",
       "      <td>1080 ± 5</td>\n",
       "      <td>84.9 ± 0.4</td>\n",
       "    </tr>\n",
       "    <tr>\n",
       "      <th>12</th>\n",
       "      <td>1163 ± 5</td>\n",
       "      <td>87.3 ± 0.4</td>\n",
       "    </tr>\n",
       "    <tr>\n",
       "      <th>13</th>\n",
       "      <td>1244 ± 5</td>\n",
       "      <td>89.5 ± 0.4</td>\n",
       "    </tr>\n",
       "    <tr>\n",
       "      <th>14</th>\n",
       "      <td>1345 ± 5</td>\n",
       "      <td>92.2 ± 0.4</td>\n",
       "    </tr>\n",
       "    <tr>\n",
       "      <th>15</th>\n",
       "      <td>1460 ± 6</td>\n",
       "      <td>94.8 ± 0.4</td>\n",
       "    </tr>\n",
       "    <tr>\n",
       "      <th>16</th>\n",
       "      <td>1529 ± 6</td>\n",
       "      <td>96.2 ± 0.4</td>\n",
       "    </tr>\n",
       "    <tr>\n",
       "      <th>17</th>\n",
       "      <td>1645 ± 6</td>\n",
       "      <td>98.5 ± 0.4</td>\n",
       "    </tr>\n",
       "    <tr>\n",
       "      <th>18</th>\n",
       "      <td>1743 ± 6</td>\n",
       "      <td>100.3 ± 0.5</td>\n",
       "    </tr>\n",
       "    <tr>\n",
       "      <th>19</th>\n",
       "      <td>1864 ± 7</td>\n",
       "      <td>102.4 ± 0.5</td>\n",
       "    </tr>\n",
       "    <tr>\n",
       "      <th>20</th>\n",
       "      <td>1928 ± 7</td>\n",
       "      <td>103.4 ± 0.5</td>\n",
       "    </tr>\n",
       "  </tbody>\n",
       "</table>\n",
       "</div>"
      ],
      "text/plain": [
       "              p          flow\n",
       "0   -50.0 ± 1.9  -0.10 ± 0.20\n",
       "1        50 ± 2    12.1 ± 0.2\n",
       "2       152 ± 2    25.6 ± 0.3\n",
       "3       253 ± 3    37.3 ± 0.3\n",
       "4       387 ± 3    49.6 ± 0.3\n",
       "5       451 ± 3    54.5 ± 0.3\n",
       "6       550 ± 3    60.9 ± 0.4\n",
       "7       640 ± 4    66.3 ± 0.4\n",
       "8       744 ± 4    71.5 ± 0.4\n",
       "9       855 ± 4    76.6 ± 0.4\n",
       "10      930 ± 4    79.4 ± 0.4\n",
       "11     1080 ± 5    84.9 ± 0.4\n",
       "12     1163 ± 5    87.3 ± 0.4\n",
       "13     1244 ± 5    89.5 ± 0.4\n",
       "14     1345 ± 5    92.2 ± 0.4\n",
       "15     1460 ± 6    94.8 ± 0.4\n",
       "16     1529 ± 6    96.2 ± 0.4\n",
       "17     1645 ± 6    98.5 ± 0.4\n",
       "18     1743 ± 6   100.3 ± 0.5\n",
       "19     1864 ± 7   102.4 ± 0.5\n",
       "20     1928 ± 7   103.4 ± 0.5"
      ]
     },
     "execution_count": 30,
     "metadata": {},
     "output_type": "execute_result"
    }
   ],
   "source": [
    "tab2"
   ]
  },
  {
   "cell_type": "code",
   "execution_count": 48,
   "metadata": {},
   "outputs": [
    {
     "name": "stdout",
     "output_type": "stream",
     "text": [
      "-0.57 ± 0.07\n",
      "5.7 ± 0.3\n",
      "3.99 ± 0.07\n",
      "3.26 ± 0.04\n",
      "2.337 ± 0.018\n",
      "1.934 ± 0.016\n",
      "1.383 ± 0.018\n",
      "0.93 ± 0.02\n",
      "0.50 ± 0.03\n",
      "0.09 ± 0.03\n",
      "-0.12 ± 0.03\n",
      "-0.52 ± 0.03\n",
      "-0.68 ± 0.04\n",
      "-0.82 ± 0.04\n",
      "-0.98 ± 0.04\n",
      "-1.12 ± 0.04\n",
      "-1.19 ± 0.04\n",
      "-1.30 ± 0.04\n",
      "-1.38 ± 0.04\n",
      "-1.46 ± 0.04\n",
      "-1.49 ± 0.04\n"
     ]
    }
   ],
   "source": [
    "Iv = tab2[\"flow\"] * 0.559 + tab2[\"flow\"]**2 * 0.0142 - tab2[\"flow\"]**3 * 2.79 * 10**-4 + tab2[\"flow\"]**4 * 2.59 * 10**-8 + 0.998\n",
    "Iv = Iv * 10 ** -6\n",
    "R = 0.001\n",
    "l = 0.23\n",
    "eta = Iv ** -1 * tab2[\"p\"] * pi * R**4 / (8 * l)\n",
    "Cv = eta**-1 * 0.025 / 8.31 / 2.0 / 29.0\n",
    "print(\"\\n\".join(map(str, Cv)))"
   ]
  },
  {
   "cell_type": "code",
   "execution_count": null,
   "metadata": {},
   "outputs": [],
   "source": []
  }
 ],
 "metadata": {
  "kernelspec": {
   "display_name": "Python 3",
   "language": "python",
   "name": "python3"
  },
  "language_info": {
   "codemirror_mode": {
    "name": "ipython",
    "version": 3
   },
   "file_extension": ".py",
   "mimetype": "text/x-python",
   "name": "python",
   "nbconvert_exporter": "python",
   "pygments_lexer": "ipython3",
   "version": "3.7.3"
  }
 },
 "nbformat": 4,
 "nbformat_minor": 4
}
