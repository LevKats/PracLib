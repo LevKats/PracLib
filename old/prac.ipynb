{
 "cells": [
  {
   "cell_type": "code",
   "execution_count": 2,
   "metadata": {},
   "outputs": [],
   "source": [
    "%matplotlib inline"
   ]
  },
  {
   "cell_type": "code",
   "execution_count": 3,
   "metadata": {},
   "outputs": [],
   "source": [
    "from praclib import *\n",
    "from tables import *"
   ]
  },
  {
   "cell_type": "code",
   "execution_count": 4,
   "metadata": {},
   "outputs": [],
   "source": [
    "tab = read_from_file(\"204.tab\", '\\t')"
   ]
  },
  {
   "cell_type": "code",
   "execution_count": 5,
   "metadata": {},
   "outputs": [
    {
     "data": {
      "text/plain": [
       "array([[ 1., 50., 20.],\n",
       "       [ 2., 51., 20.],\n",
       "       [ 3., 51., 20.],\n",
       "       [ 1., 46., 80.],\n",
       "       [ 2., 47., 75.],\n",
       "       [ 3., 46., 70.],\n",
       "       [ 1., 46., 63.],\n",
       "       [ 2., 45., 62.],\n",
       "       [ 3., 46., 59.],\n",
       "       [ 1., 45., 50.],\n",
       "       [ 2., 46., 49.],\n",
       "       [ 3., 46., 48.],\n",
       "       [ 1., 45., 42.],\n",
       "       [ 2., 46., 41.],\n",
       "       [ 3., 47., 40.],\n",
       "       [ 1., 49., 33.],\n",
       "       [ 2., 50., 33.],\n",
       "       [ 3., 50., 33.]])"
      ]
     },
     "execution_count": 5,
     "metadata": {},
     "output_type": "execute_result"
    }
   ],
   "source": [
    "tab"
   ]
  },
  {
   "cell_type": "code",
   "execution_count": 6,
   "metadata": {},
   "outputs": [
    {
     "name": "stdout",
     "output_type": "stream",
     "text": [
      "[[50. 20.]\n",
      " [51. 20.]\n",
      " [51. 20.]\n",
      " [46. 80.]\n",
      " [47. 75.]\n",
      " [46. 70.]\n",
      " [46. 63.]\n",
      " [45. 62.]\n",
      " [46. 59.]\n",
      " [45. 50.]\n",
      " [46. 49.]\n",
      " [46. 48.]\n",
      " [45. 42.]\n",
      " [46. 41.]\n",
      " [47. 40.]\n",
      " [49. 33.]\n",
      " [50. 33.]\n",
      " [50. 33.]]\n"
     ]
    }
   ],
   "source": [
    "b = tab[::, 1::]\n",
    "print(b)"
   ]
  },
  {
   "cell_type": "code",
   "execution_count": 7,
   "metadata": {},
   "outputs": [
    {
     "name": "stdout",
     "output_type": "stream",
     "text": [
      "[0.029 0.03  0.03  0.025 0.026 0.025 0.025 0.024 0.025 0.024 0.025 0.025\n",
      " 0.024 0.025 0.026 0.028 0.029 0.029] [20. 20. 20. 80. 75. 70. 63. 62. 59. 50. 49. 48. 42. 41. 40. 33. 33. 33.]\n"
     ]
    }
   ],
   "source": [
    "first = (b[::, 0] - 21) * 10 ** -3\n",
    "second = b[::, 1]\n",
    "print(first, second)"
   ]
  },
  {
   "cell_type": "code",
   "execution_count": 8,
   "metadata": {},
   "outputs": [
    {
     "data": {
      "text/plain": [
       "array([[2.9e-02, 2.0e+01],\n",
       "       [3.0e-02, 2.0e+01],\n",
       "       [3.0e-02, 2.0e+01],\n",
       "       [2.5e-02, 8.0e+01],\n",
       "       [2.6e-02, 7.5e+01],\n",
       "       [2.5e-02, 7.0e+01],\n",
       "       [2.5e-02, 6.3e+01],\n",
       "       [2.4e-02, 6.2e+01],\n",
       "       [2.5e-02, 5.9e+01],\n",
       "       [2.4e-02, 5.0e+01],\n",
       "       [2.5e-02, 4.9e+01],\n",
       "       [2.5e-02, 4.8e+01],\n",
       "       [2.4e-02, 4.2e+01],\n",
       "       [2.5e-02, 4.1e+01],\n",
       "       [2.6e-02, 4.0e+01],\n",
       "       [2.8e-02, 3.3e+01],\n",
       "       [2.9e-02, 3.3e+01],\n",
       "       [2.9e-02, 3.3e+01]])"
      ]
     },
     "execution_count": 8,
     "metadata": {},
     "output_type": "execute_result"
    }
   ],
   "source": [
    "np.column_stack((first, second))"
   ]
  },
  {
   "cell_type": "code",
   "execution_count": 10,
   "metadata": {},
   "outputs": [
    {
     "name": "stdout",
     "output_type": "stream",
     "text": [
      "[[2.96666667e-02 2.00000000e+01]\n",
      " [2.53333333e-02 7.50000000e+01]\n",
      " [2.46666667e-02 6.13333333e+01]\n",
      " [2.46666667e-02 4.90000000e+01]\n",
      " [2.50000000e-02 4.10000000e+01]\n",
      " [2.86666667e-02 3.30000000e+01]]\n"
     ]
    }
   ],
   "source": [
    "first1 = np.array([np.mean(first[3 * i: 3 * (i + 1):]) for i in range(6)])\n",
    "second1 = np.array([np.mean(second[3 * i: 3 * (i + 1):]) for i in range(6)])\n",
    "tab2 = np.column_stack((first1, second1))\n",
    "print(tab2)"
   ]
  },
  {
   "cell_type": "code",
   "execution_count": null,
   "metadata": {},
   "outputs": [
    {
     "name": "stdout",
     "output_type": "stream",
     "text": [
      "-0.00026181746893169655 0.0890418021591411\n",
      "-0.909736680341317 1.5263387603503246e-09\n"
     ]
    },
    {
     "data": {
      "image/png": "[encoded data removed]",
      "text/plain": [
       "<Figure size 576x432 with 1 Axes>"
      ]
     },
     "metadata": {
      "needs_background": "light"
     },
     "output_type": "display_data"
    }
   ],
   "source": [
    "import matplotlib.pyplot as plt\n",
    "plt.figure(num=1, figsize=(8, 6))\n",
    "plt.title('Зависимость силы поверхностного\\n натяжения от температуры', size=14, loc='left')\n",
    "plt.xlabel('$T,\\: C^{\\circ}$', size=14)\n",
    "plt.ylabel('$\\sigma(T), \\: 10^{-2} N/m$', size=14)\n",
    "# plt.rc('grid', linestyle=\":\", color='black')\n",
    "k = 0.911\n",
    "D = 61 * 10 ** -3\n",
    "coef = 1 / (2 * k * 3.1415 * D)\n",
    "xData = tab2[::, 1]\n",
    "yData = np.array([0.02966667, 0.02533333, 0.02466667, 0.02466667 + 0.001, 0.025 + 0.002, 0.02866667]) * coef\n",
    "size = 1.0\n",
    "plt.scatter(xData, 100 * yData, color = \"black\", marker='o', s=4 * size)\n",
    "\n",
    "ffit = np.polynomial.polynomial.Polynomial(\n",
    "    np.polynomial.polynomial.polyfit(xData, yData, 1)\n",
    ")\n",
    "yData2 = np.array(list(map(ffit, xData)))\n",
    "sigmax = sigmax1\n",
    "sigmay = sigmay1 * coef\n",
    "sigma = [0.001, 0.001, 0.001, 0.001, 0.001, 0.001] # use for good data as yerr\n",
    "plt.plot(xData, yData2 * 100, color='black', linestyle='-', marker='', linewidth=2 * size)\n",
    "print(ffit(1) - ffit(0), ffit(0))\n",
    "print(get_r(yData, xData), get_sigma_a(xData, sigmay))\n",
    "plt.errorbar(xData, yData * 100, color='r', yerr=2 * sigmay * 100, xerr=2 * sigmax, fmt='.k', linewidth=size/2)\n",
    "\n",
    "plt.grid()\n",
    "plt.savefig('images/plot204_change_norm.png', format='png')\n",
    "plt.show()"
   ]
  },
  {
   "cell_type": "code",
   "execution_count": 15,
   "metadata": {},
   "outputs": [
    {
     "data": {
      "text/plain": [
       "array([0.02966667, 0.02533333, 0.02466667, 0.02466667, 0.025     ,\n",
       "       0.02866667])"
      ]
     },
     "execution_count": 15,
     "metadata": {},
     "output_type": "execute_result"
    }
   ],
   "source": [
    "tab2[::, 0]"
   ]
  },
  {
   "cell_type": "code",
   "execution_count": 21,
   "metadata": {},
   "outputs": [],
   "source": [
    "sigmay1 = np.array([(standard_deviation(first[3 * i: 3 * (i + 1):])[1]**2 + 0.0005**2)**0.5 for i in range(6)])\n",
    "sigmax1 = np.array([(standard_deviation(second[3 * i: 3 * (i + 1):])[1]**2 + 0.5**2)**0.5 for i in range(6)])"
   ]
  },
  {
   "cell_type": "code",
   "execution_count": null,
   "metadata": {},
   "outputs": [
    {
     "ename": "NameError",
     "evalue": "name 'sigmay1' is not defined",
     "traceback": [
      "\u001b[0;31m---------------------------------------------------------------------------\u001b[0m",
      "\u001b[0;31mNameError\u001b[0m                                 Traceback (most recent call last)",
      "\u001b[0;32m<ipython-input-1-c2aa2a12197d>\u001b[0m in \u001b[0;36m<module>\u001b[0;34m\u001b[0m\n\u001b[0;32m----> 1\u001b[0;31m \u001b[0msigmay1\u001b[0m\u001b[0;34m\u001b[0m\u001b[0;34m\u001b[0m\u001b[0m\n\u001b[0m",
      "\u001b[0;31mNameError\u001b[0m: name 'sigmay1' is not defined"
     ],
     "output_type": "error"
    }
   ],
   "source": [
    "sigmay1"
   ]
  },
  {
   "cell_type": "code",
   "execution_count": 1,
   "metadata": {},
   "outputs": [],
   "source": [
    "from praclib import read_from_file"
   ]
  },
  {
   "cell_type": "code",
   "execution_count": 17,
   "metadata": {},
   "outputs": [],
   "source": [
    "tab = read_from_file(\"204_ch.tab\", \"\\t\")"
   ]
  },
  {
   "cell_type": "code",
   "execution_count": 18,
   "metadata": {},
   "outputs": [
    {
     "name": "stdout",
     "output_type": "stream",
     "text": [
      "[[ 1. 50. 20.]\n",
      " [ 2. 51. 20.]\n",
      " [ 3. 51. 20.]\n",
      " [ 1. 46. 76.]\n",
      " [ 2. 47. 75.]\n",
      " [ 3. 46. 75.]\n",
      " [ 1. 48. 63.]\n",
      " [ 2. 47. 62.]\n",
      " [ 3. 48. 59.]\n",
      " [ 1. 47. 50.]\n",
      " [ 2. 48. 49.]\n",
      " [ 3. 48. 48.]\n",
      " [ 1. 47. 42.]\n",
      " [ 2. 48. 41.]\n",
      " [ 3. 49. 40.]\n",
      " [ 1. 49. 33.]\n",
      " [ 2. 50. 33.]\n",
      " [ 3. 50. 33.]]\n"
     ]
    }
   ],
   "source": [
    "print(tab)"
   ]
  },
  {
   "cell_type": "code",
   "execution_count": 19,
   "metadata": {},
   "outputs": [],
   "source": [
    "from praclib import cut_array\n",
    "F1, F2, F3, F4, F5, F6 = cut_array(tab[::, 1]- 21, [3, 3, 3, 3, 3, 3])\n",
    "T1, T2, T3, T4, T5, T6 = cut_array(tab[::, 2], [3, 3, 3, 3, 3, 3])"
   ]
  },
  {
   "cell_type": "code",
   "execution_count": 20,
   "metadata": {},
   "outputs": [],
   "source": [
    "from value import Value\n",
    "F1 = Value(name=\"F1\", values=F1, syst=1)\n",
    "F2 = Value(name=\"F2\", values=F2, syst=1)\n",
    "F3 = Value(name=\"F3\", values=F3, syst=1)\n",
    "F4 = Value(name=\"F4\", values=F4, syst=1)\n",
    "F5 = Value(name=\"F5\", values=F5, syst=1)\n",
    "F6 = Value(name=\"F6\", values=F6, syst=1)\n",
    "T1 = Value(name=\"T1\", values=T1, syst=1)\n",
    "T2 = Value(name=\"T2\", values=T2, syst=1)\n",
    "T3 = Value(name=\"T3\", values=T3, syst=1)\n",
    "T4 = Value(name=\"T4\", values=T4, syst=1)\n",
    "T5 = Value(name=\"T5\", values=T5, syst=1)\n",
    "T6 = Value(name=\"T6\", values=T6, syst=1)"
   ]
  },
  {
   "cell_type": "code",
   "execution_count": 48,
   "metadata": {},
   "outputs": [
    {
     "name": "stdout",
     "output_type": "stream",
     "text": [
      "skj: A = -0.210 +- 0.005 B = 88 +- 11 R = -0.9354349139835821\n"
     ]
    },
    {
     "data": {
      "image/png": "[encoded data removed]",
      "text/plain": [
       "<Figure size 576x432 with 1 Axes>"
      ]
     },
     "metadata": {
      "needs_background": "light"
     },
     "output_type": "display_data"
    }
   ],
   "source": [
    "from plotter import Plotter\n",
    "import numpy as np\n",
    "k = 0.911\n",
    "D = 61 * 10 ** -3\n",
    "coef = 1 / (2 * k * 3.1415 * D)\n",
    "X = np.array([T1, T2, T3, T4, T5, T6])\n",
    "Y = np.array([F1, F2, F3, F4, F5, F6]) * Value(current_val=coef)\n",
    "Plotter(draw_legend=False).set_name(\"204_1\").\\\n",
    "set_title(\"Зависимость коэффициента поферхностного\\nнатяжения от температуры\").set_x_name(\"$T,\\\\: ^{\\\\circ}C$\").\\\n",
    "set_y_name(\"$\\sigma(T), \\\\: mN/m$\").\\\n",
    "        add_line(Plotter.get_new_line(x_value=X, y_value=Y,\n",
    "                                      draw_error=True, legend='skj', fit=True, color='black')).\\\n",
    "        plot(show=True, save=True)"
   ]
  },
  {
   "cell_type": "code",
   "execution_count": 14,
   "metadata": {},
   "outputs": [
    {
     "name": "stdout",
     "output_type": "stream",
     "text": [
      "1.396610372\n"
     ]
    }
   ],
   "source": [
    "print(4/coef)"
   ]
  },
  {
   "cell_type": "code",
   "execution_count": 16,
   "metadata": {},
   "outputs": [],
   "source": [
    "from tkinter import Tk\n",
    "from tables import Table\n",
    "root = Tk()\n",
    "app = Table(master=root)\n",
    "app.mainloop()"
   ]
  },
  {
   "cell_type": "code",
   "execution_count": 49,
   "metadata": {},
   "outputs": [
    {
     "name": "stdout",
     "output_type": "stream",
     "text": [
      "skj: A = 0.2096 +- 0.0014 B = 57 +- 3 R = 0.99997423843792\n"
     ]
    },
    {
     "data": {
      "image/png": "[encoded data removed]",
      "text/plain": [
       "<Figure size 576x432 with 1 Axes>"
      ]
     },
     "metadata": {
      "needs_background": "light"
     },
     "output_type": "display_data"
    }
   ],
   "source": [
    "T = X + Value(current_val=273.0)\n",
    "q = -T * Value(name='sigmat', values=[-0.21, -0.21, -0.21], syst=0.005)\n",
    "Plotter(draw_legend=False).set_name(\"204_2\").\\\n",
    "set_title(\"Зависимость теплоты изотермического образования\\nединицы поверхности от температуры\").set_x_name(\"$T,\\\\: ^{\\\\circ}C$\").\\\n",
    "set_y_name(\"$q(T), \\\\: mN/m$\").\\\n",
    "        add_line(Plotter.get_new_line(x_value=X, y_value=q,\n",
    "                                      draw_error=True, legend='skj', fit=True, color='black')).\\\n",
    "        plot(show=True, save=True)"
   ]
  },
  {
   "cell_type": "code",
   "execution_count": 50,
   "metadata": {},
   "outputs": [
    {
     "name": "stdout",
     "output_type": "stream",
     "text": [
      "skj: A = 0.014 +- 0.005 B = 145 +- 12 R = 0.178715927021851\n"
     ]
    },
    {
     "data": {
      "image/png": "[encoded data removed]",
      "text/plain": [
       "<Figure size 576x432 with 1 Axes>"
      ]
     },
     "metadata": {
      "needs_background": "light"
     },
     "output_type": "display_data"
    }
   ],
   "source": [
    "Plotter(draw_legend=False).set_name(\"204_3\").\\\n",
    "set_title(\"Зависимость внутренней энергии единицы\\nповерхности от температуры\").set_x_name(\"$T,\\\\: ^{\\\\circ}C$\").\\\n",
    "set_y_name(\"$U(T), \\\\: mN/m$\").\\\n",
    "        add_line(Plotter.get_new_line(x_value=X, y_value=q + Y,\n",
    "                                      draw_error=True, legend='skj', fit=True, color='black')).\\\n",
    "        plot(show=True, save=True)"
   ]
  },
  {
   "cell_type": "code",
   "execution_count": 36,
   "metadata": {},
   "outputs": [
    {
     "name": "stdout",
     "output_type": "stream",
     "text": [
      "[1140.43814491  438.76551502  412.          328.89696703]\n"
     ]
    }
   ],
   "source": [
    "m = np.array([5.42, 22.1, 23.02, 14.8]) * 10 ** -3\n",
    "t = np.array([320, 502, 491, 252])\n",
    "ce = 412\n",
    "te = 491\n",
    "me = 23.02 * 10**-3\n",
    "c = t/m * me / te * ce\n",
    "print(c)"
   ]
  },
  {
   "cell_type": "code",
   "execution_count": 38,
   "metadata": {},
   "outputs": [
    {
     "name": "stdout",
     "output_type": "stream",
     "text": [
      "[13.68  24.528 26.368 45.902]\n"
     ]
    }
   ],
   "source": [
    "c = np.array([1140, 438, 412, 389])\n",
    "mu = np.array([12, 56, 64, 118])\n",
    "print(c * mu / 1000)"
   ]
  },
  {
   "cell_type": "code",
   "execution_count": 39,
   "metadata": {},
   "outputs": [
    {
     "data": {
      "text/plain": [
       "140.79999999999995"
      ]
     },
     "execution_count": 39,
     "metadata": {},
     "output_type": "execute_result"
    }
   ],
   "source": [
    "1511.27-1370.47"
   ]
  },
  {
   "cell_type": "code",
   "execution_count": 41,
   "metadata": {},
   "outputs": [
    {
     "name": "stdout",
     "output_type": "stream",
     "text": [
      "-0.7378516624040922\n"
     ]
    }
   ],
   "source": [
    "a = np.array([1351.04, 525.99])\n",
    "b = np.array([1382.32, 502.91])\n",
    "c = b - a\n",
    "print(c[1] / c[0])"
   ]
  },
  {
   "cell_type": "code",
   "execution_count": 42,
   "metadata": {},
   "outputs": [
    {
     "data": {
      "text/plain": [
       "-66764.30747999999"
      ]
     },
     "execution_count": 42,
     "metadata": {},
     "output_type": "execute_result"
    }
   ],
   "source": [
    "ce * me / (14.8 * 10 ** -3) * (-0.74) * 140.79"
   ]
  },
  {
   "cell_type": "code",
   "execution_count": 44,
   "metadata": {},
   "outputs": [
    {
     "data": {
      "text/plain": [
       "1.9412715127701377"
      ]
     },
     "execution_count": 44,
     "metadata": {},
     "output_type": "execute_result"
    }
   ],
   "source": [
    "66764 * 14.8 * 10 ** -3 / 509"
   ]
  },
  {
   "cell_type": "markdown",
   "metadata": {},
   "source": [
    "14.8 / 118"
   ]
  },
  {
   "cell_type": "code",
   "execution_count": 45,
   "metadata": {},
   "outputs": [
    {
     "data": {
      "text/plain": [
       "0.12542372881355932"
      ]
     },
     "execution_count": 45,
     "metadata": {},
     "output_type": "execute_result"
    }
   ],
   "source": [
    "14.8/118"
   ]
  },
  {
   "cell_type": "code",
   "execution_count": 46,
   "metadata": {},
   "outputs": [
    {
     "data": {
      "text/plain": [
       "15.52"
      ]
     },
     "execution_count": 46,
     "metadata": {},
     "output_type": "execute_result"
    }
   ],
   "source": [
    "1.94 / 0.125"
   ]
  },
  {
   "cell_type": "code",
   "execution_count": 1,
   "metadata": {},
   "outputs": [],
   "source": [
    "from praclib import read_from_file\n",
    "import numpy as np\n",
    "\n",
    "tab = read_from_file(\"232_vent.txt\", \"\\t\")"
   ]
  },
  {
   "cell_type": "code",
   "execution_count": 2,
   "metadata": {},
   "outputs": [
    {
     "data": {
      "text/plain": [
       "array([[1.0000e+00, 0.0000e+00, 4.8589e-01, ..., 0.0000e+00, 0.0000e+00,\n",
       "        0.0000e+00],\n",
       "       [2.0000e+00, 5.0000e-02, 4.5742e-01, ..., 0.0000e+00, 0.0000e+00,\n",
       "        0.0000e+00],\n",
       "       [3.0000e+00, 1.0000e-01, 4.4183e-01, ..., 0.0000e+00, 0.0000e+00,\n",
       "        0.0000e+00],\n",
       "       ...,\n",
       "       [1.3100e+02, 6.5000e+00, 8.4242e-01, ..., 0.0000e+00, 0.0000e+00,\n",
       "        0.0000e+00],\n",
       "       [1.3200e+02, 6.5500e+00, 8.0582e-01, ..., 0.0000e+00, 0.0000e+00,\n",
       "        0.0000e+00],\n",
       "       [1.3300e+02, 6.6000e+00, 7.5227e-01, ..., 0.0000e+00, 0.0000e+00,\n",
       "        0.0000e+00]])"
      ]
     },
     "execution_count": 2,
     "metadata": {},
     "output_type": "execute_result"
    }
   ],
   "source": [
    "tab"
   ]
  },
  {
   "cell_type": "code",
   "execution_count": 3,
   "metadata": {},
   "outputs": [],
   "source": [
    "Umax = max(tab[::, 2])\n",
    "Umin = min(tab[::, 2])"
   ]
  },
  {
   "cell_type": "code",
   "execution_count": 4,
   "metadata": {},
   "outputs": [],
   "source": [
    "V = -(tab[::, 2]-Umin)/(Umax - Umin)* 15 + 345\n",
    "P = tab[::, 3]"
   ]
  },
  {
   "cell_type": "code",
   "execution_count": 11,
   "metadata": {},
   "outputs": [
    {
     "data": {
      "image/png": "[encoded data removed]",
      "text/plain": [
       "<Figure size 576x432 with 1 Axes>"
      ]
     },
     "metadata": {
      "needs_background": "light"
     },
     "output_type": "display_data"
    }
   ],
   "source": [
    "from plotter import Plotter\n",
    "from value import Value\n",
    "\n",
    "Pplot = np.array([Value(current_val=a) for a in P])\n",
    "Vplot = np.array([Value(current_val=a) for a in V])\n",
    "\n",
    "Plotter(draw_legend=False).set_name(\"232PV_vent\").\\\n",
    "set_title(\"Зависимость относительного давления от объема,\\nвентилятор включен\").set_x_name(\"$V,\\\\: m^3$\").\\\n",
    "set_y_name(\"$p - p_0, \\\\: Pa$\").\\\n",
    "        add_line(Plotter.get_new_line(x_value=Vplot, y_value=Pplot,\n",
    "                                      draw_error=False, legend='skj', fit=False, color='black')).\\\n",
    "        plot(show=True, save=True)"
   ]
  },
  {
   "cell_type": "code",
   "execution_count": 6,
   "metadata": {},
   "outputs": [],
   "source": [
    "from scipy.optimize import curve_fit"
   ]
  },
  {
   "cell_type": "code",
   "execution_count": 7,
   "metadata": {},
   "outputs": [],
   "source": [
    "T = tab[::, 1]"
   ]
  },
  {
   "cell_type": "code",
   "execution_count": 16,
   "metadata": {},
   "outputs": [
    {
     "name": "stdout",
     "output_type": "stream",
     "text": [
      "с вентилятором p0 = 0.44449732760224414 +- 0.06105937690051112\n",
      "с вентилятором p1 = 0.30572778795826966 +- 0.10527471711213611\n",
      "с вентилятором omega = 1.000007211973598 +- 0.00028377580917262967\n",
      "с вентилятором phi1 = 2.339864889969389 +- 0.26067198415576676\n"
     ]
    }
   ],
   "source": [
    "from math import sin\n",
    "def funcP(t, p_0, p_1, omega, phi):\n",
    "    return p_0 + p_1 * np.sin(omega * t + phi)\n",
    "\n",
    "popt, pcov = curve_fit(funcP, P[:20:], T[:20:])\n",
    "er = np.sqrt(np.diag(pcov))\n",
    "print(\"с вентилятором p0 = {} +- {}\".format(popt[0], er[0]))\n",
    "print(\"с вентилятором p1 = {} +- {}\".format(popt[1], er[1]))\n",
    "print(\"с вентилятором omega = {} +- {}\".format(popt[2], er[2]))\n",
    "print(\"с вентилятором phi1 = {} +- {}\".format(popt[3], er[3]))"
   ]
  },
  {
   "cell_type": "code",
   "execution_count": 9,
   "metadata": {},
   "outputs": [
    {
     "name": "stdout",
     "output_type": "stream",
     "text": [
      "период 6.283185307179586\n"
     ]
    }
   ],
   "source": [
    "from math import pi\n",
    "print(\"период\", 2 * pi)"
   ]
  },
  {
   "cell_type": "code",
   "execution_count": 18,
   "metadata": {},
   "outputs": [
    {
     "data": {
      "image/png": "[encoded data removed]",
      "text/plain": [
       "<Figure size 576x432 with 1 Axes>"
      ]
     },
     "metadata": {
      "needs_background": "light"
     },
     "output_type": "display_data"
    }
   ],
   "source": [
    "%matplotlib inline\n",
    "Tplot = np.array([Value(current_val=a) for a in T])\n",
    "Plotter(draw_legend=False).set_name(\"232PT_vent\").\\\n",
    "set_title(\"Зависимость относительного давления от времени,\\nвентилятор включен\").set_x_name(\"$t,\\\\: s$\").\\\n",
    "set_y_name(\"$p - p_0, \\\\: Pa$\").\\\n",
    "        add_line(Plotter.get_new_line(x_value=Tplot, y_value=Pplot,\n",
    "                                      draw_error=False, legend='skj', fit=False, color='black')).\\\n",
    "        plot(show=True, save=True)"
   ]
  },
  {
   "cell_type": "code",
   "execution_count": 12,
   "metadata": {},
   "outputs": [
    {
     "data": {
      "text/plain": [
       "array([0.  , 0.05, 0.1 , 0.15, 0.2 , 0.25, 0.3 , 0.35, 0.4 , 0.45, 0.5 ,\n",
       "       0.55, 0.6 , 0.65, 0.7 , 0.75, 0.8 , 0.85, 0.9 , 0.95, 1.  , 1.05,\n",
       "       1.1 , 1.15, 1.2 , 1.25, 1.3 , 1.35, 1.4 , 1.45, 1.5 , 1.55, 1.6 ,\n",
       "       1.65, 1.7 , 1.75, 1.8 , 1.85, 1.9 , 1.95, 2.  , 2.05, 2.1 , 2.15,\n",
       "       2.2 , 2.25, 2.3 , 2.35, 2.4 , 2.45, 2.5 , 2.55, 2.6 , 2.65, 2.7 ,\n",
       "       2.75, 2.8 , 2.85, 2.9 , 2.95, 3.  , 3.05, 3.1 , 3.15, 3.2 , 3.25,\n",
       "       3.3 , 3.35, 3.4 , 3.45, 3.5 , 3.55, 3.6 , 3.65, 3.7 , 3.75, 3.8 ,\n",
       "       3.85, 3.9 , 3.95, 4.  , 4.05, 4.1 , 4.15, 4.2 , 4.25, 4.3 , 4.35,\n",
       "       4.4 , 4.45, 4.5 , 4.55, 4.6 , 4.65, 4.7 , 4.75, 4.8 , 4.85, 4.9 ,\n",
       "       4.95, 5.  , 5.05, 5.1 , 5.15, 5.2 , 5.25, 5.3 , 5.35, 5.4 , 5.45,\n",
       "       5.5 , 5.55, 5.6 , 5.65, 5.7 , 5.75, 5.8 , 5.85, 5.9 , 5.95, 6.  ,\n",
       "       6.05, 6.1 , 6.15, 6.2 , 6.25, 6.3 , 6.35, 6.4 , 6.45, 6.5 , 6.55,\n",
       "       6.6 ])"
      ]
     },
     "execution_count": 12,
     "metadata": {},
     "output_type": "execute_result"
    }
   ],
   "source": [
    "T"
   ]
  },
  {
   "cell_type": "code",
   "execution_count": 13,
   "metadata": {},
   "outputs": [
    {
     "data": {
      "text/plain": [
       "array([ -746.73 ,  -939.1  , -1039.1  , -1154.6  , -1285.4  , -1377.7  ,\n",
       "       -1331.5  , -1108.4  ,  -885.24 ,  -562.05 ,  -215.78 ,    92.023,\n",
       "         369.04 ,   607.59 ,   776.88 ,   892.3  ,   969.25 ,  1061.6  ,\n",
       "        1161.6  ,  1192.4  ,  1092.4  ,   923.08 ,   730.71 ,   453.69 ,\n",
       "         122.8  ,  -169.61 ,  -423.54 ,  -662.08 ,  -815.98 ,  -985.27 ,\n",
       "       -1123.8  , -1208.4  , -1316.2  , -1331.5  , -1185.3  ,  -969.88 ,\n",
       "        -692.86 ,  -323.51 ,   -46.487,   276.7  ,   522.94 ,   715.32 ,\n",
       "         830.74 ,   946.17 ,  1053.9  ,  1200.1  ,  1184.7  ,  1061.6  ,\n",
       "        1030.8  ,   846.13 ,   569.11 ,   245.92 ,   -92.656,  -346.59 ,\n",
       "        -569.74 ,  -769.81 ,  -962.19 , -1069.9  , -1200.7  , -1285.4  ,\n",
       "       -1400.8  , -1323.9  , -1139.2  ,  -885.24 ,  -538.96 ,  -238.86 ,\n",
       "          53.548,   361.35 ,   607.59 ,   784.57 ,   853.83 ,   923.08 ,\n",
       "        1084.7  ,  1177.   ,  1207.8  ,  1061.6  ,   938.47 ,   730.71 ,\n",
       "         430.6  ,   130.5  ,  -169.61 ,  -423.54 ,  -646.69 ,  -823.68 ,\n",
       "        -962.19 , -1077.6  , -1216.1  , -1323.9  , -1323.9  , -1231.5  ,\n",
       "        -985.27 ,  -700.56 ,  -331.2  ,   -31.097,   269.01 ,   522.94 ,\n",
       "         699.93 ,   846.13 ,   961.56 ,  1061.6  ,  1130.8  ,  1200.1  ,\n",
       "        1169.3  ,  1038.5  ,   846.13 ,   530.64 ,   261.31 ,   -46.487,\n",
       "        -338.9  ,  -569.74 ,  -746.73 ,  -916.02 , -1054.5  , -1193.   ,\n",
       "       -1223.8  , -1331.5  , -1285.4  , -1100.7  ,  -846.76 ,  -508.18 ,\n",
       "        -192.69 ,   130.5  ,   422.91 ,   646.06 ,   746.1  ,   876.91 ,\n",
       "        1007.7  ,  1077.   ,  1169.3  ,  1177.   ,  1084.7  ,   907.69 ,\n",
       "         676.84 ])"
      ]
     },
     "execution_count": 13,
     "metadata": {},
     "output_type": "execute_result"
    }
   ],
   "source": [
    "P"
   ]
  },
  {
   "cell_type": "code",
   "execution_count": 14,
   "metadata": {},
   "outputs": [
    {
     "name": "stdout",
     "output_type": "stream",
     "text": [
      "(Decimal('0'), Decimal('0'))\n",
      "(Decimal('0.05000000000000000277555756156289135105907917022705078125'), Decimal('0'))\n",
      "(Decimal('0.1000000000000000055511151231257827021181583404541015625'), Decimal('0'))\n",
      "(Decimal('0.1499999999999999944488848768742172978818416595458984375'), Decimal('0'))\n",
      "(Decimal('0.200000000000000011102230246251565404236316680908203125'), Decimal('0'))\n",
      "(Decimal('0.25'), Decimal('0'))\n",
      "(Decimal('0.299999999999999988897769753748434595763683319091796875'), Decimal('0'))\n",
      "(Decimal('0.34999999999999997779553950749686919152736663818359375'), Decimal('0'))\n",
      "(Decimal('0.40000000000000002220446049250313080847263336181640625'), Decimal('0'))\n",
      "(Decimal('0.450000000000000011102230246251565404236316680908203125'), Decimal('0'))\n",
      "(Decimal('0.5'), Decimal('0'))\n",
      "(Decimal('0.5500000000000000444089209850062616169452667236328125'), Decimal('0'))\n",
      "(Decimal('0.59999999999999997779553950749686919152736663818359375'), Decimal('0'))\n",
      "(Decimal('0.65000000000000002220446049250313080847263336181640625'), Decimal('0'))\n",
      "(Decimal('0.6999999999999999555910790149937383830547332763671875'), Decimal('0'))\n",
      "(Decimal('0.75'), Decimal('0'))\n",
      "(Decimal('0.8000000000000000444089209850062616169452667236328125'), Decimal('0'))\n",
      "(Decimal('0.84999999999999997779553950749686919152736663818359375'), Decimal('0'))\n",
      "(Decimal('0.90000000000000002220446049250313080847263336181640625'), Decimal('0'))\n",
      "(Decimal('0.9499999999999999555910790149937383830547332763671875'), Decimal('0'))\n",
      "(Decimal('1'), Decimal('0'))\n",
      "(Decimal('1.0500000000000000444089209850062616169452667236328125'), Decimal('0'))\n",
      "(Decimal('1.100000000000000088817841970012523233890533447265625'), Decimal('0'))\n",
      "(Decimal('1.149999999999999911182158029987476766109466552734375'), Decimal('0'))\n",
      "(Decimal('1.1999999999999999555910790149937383830547332763671875'), Decimal('0'))\n",
      "(Decimal('1.25'), Decimal('0'))\n",
      "(Decimal('1.3000000000000000444089209850062616169452667236328125'), Decimal('0'))\n",
      "(Decimal('1.350000000000000088817841970012523233890533447265625'), Decimal('0'))\n",
      "(Decimal('1.399999999999999911182158029987476766109466552734375'), Decimal('0'))\n",
      "(Decimal('1.4499999999999999555910790149937383830547332763671875'), Decimal('0'))\n",
      "(Decimal('1.5'), Decimal('0'))\n",
      "(Decimal('1.5500000000000000444089209850062616169452667236328125'), Decimal('0'))\n",
      "(Decimal('1.600000000000000088817841970012523233890533447265625'), Decimal('0'))\n",
      "(Decimal('1.649999999999999911182158029987476766109466552734375'), Decimal('0'))\n",
      "(Decimal('1.6999999999999999555910790149937383830547332763671875'), Decimal('0'))\n",
      "(Decimal('1.75'), Decimal('0'))\n",
      "(Decimal('1.8000000000000000444089209850062616169452667236328125'), Decimal('0'))\n",
      "(Decimal('1.850000000000000088817841970012523233890533447265625'), Decimal('0'))\n",
      "(Decimal('1.899999999999999911182158029987476766109466552734375'), Decimal('0'))\n",
      "(Decimal('1.9499999999999999555910790149937383830547332763671875'), Decimal('0'))\n",
      "(Decimal('2'), Decimal('0'))\n",
      "(Decimal('2.04999999999999982236431605997495353221893310546875'), Decimal('0'))\n",
      "(Decimal('2.100000000000000088817841970012523233890533447265625'), Decimal('0'))\n",
      "(Decimal('2.149999999999999911182158029987476766109466552734375'), Decimal('0'))\n",
      "(Decimal('2.20000000000000017763568394002504646778106689453125'), Decimal('0'))\n",
      "(Decimal('2.25'), Decimal('0'))\n",
      "(Decimal('2.29999999999999982236431605997495353221893310546875'), Decimal('0'))\n",
      "(Decimal('2.350000000000000088817841970012523233890533447265625'), Decimal('0'))\n",
      "(Decimal('2.399999999999999911182158029987476766109466552734375'), Decimal('0'))\n",
      "(Decimal('2.45000000000000017763568394002504646778106689453125'), Decimal('0'))\n",
      "(Decimal('2.5'), Decimal('0'))\n",
      "(Decimal('2.54999999999999982236431605997495353221893310546875'), Decimal('0'))\n",
      "(Decimal('2.600000000000000088817841970012523233890533447265625'), Decimal('0'))\n",
      "(Decimal('2.649999999999999911182158029987476766109466552734375'), Decimal('0'))\n",
      "(Decimal('2.70000000000000017763568394002504646778106689453125'), Decimal('0'))\n",
      "(Decimal('2.75'), Decimal('0'))\n",
      "(Decimal('2.79999999999999982236431605997495353221893310546875'), Decimal('0'))\n",
      "(Decimal('2.850000000000000088817841970012523233890533447265625'), Decimal('0'))\n",
      "(Decimal('2.899999999999999911182158029987476766109466552734375'), Decimal('0'))\n",
      "(Decimal('2.95000000000000017763568394002504646778106689453125'), Decimal('0'))\n",
      "(Decimal('3'), Decimal('0'))\n",
      "(Decimal('3.04999999999999982236431605997495353221893310546875'), Decimal('0'))\n",
      "(Decimal('3.100000000000000088817841970012523233890533447265625'), Decimal('0'))\n",
      "(Decimal('3.149999999999999911182158029987476766109466552734375'), Decimal('0'))\n",
      "(Decimal('3.20000000000000017763568394002504646778106689453125'), Decimal('0'))\n",
      "(Decimal('3.25'), Decimal('0'))\n",
      "(Decimal('3.29999999999999982236431605997495353221893310546875'), Decimal('0'))\n",
      "(Decimal('3.350000000000000088817841970012523233890533447265625'), Decimal('0'))\n",
      "(Decimal('3.399999999999999911182158029987476766109466552734375'), Decimal('0'))\n",
      "(Decimal('3.45000000000000017763568394002504646778106689453125'), Decimal('0'))\n",
      "(Decimal('3.5'), Decimal('0'))\n",
      "(Decimal('3.54999999999999982236431605997495353221893310546875'), Decimal('0'))\n",
      "(Decimal('3.600000000000000088817841970012523233890533447265625'), Decimal('0'))\n",
      "(Decimal('3.649999999999999911182158029987476766109466552734375'), Decimal('0'))\n",
      "(Decimal('3.70000000000000017763568394002504646778106689453125'), Decimal('0'))\n",
      "(Decimal('3.75'), Decimal('0'))\n",
      "(Decimal('3.79999999999999982236431605997495353221893310546875'), Decimal('0'))\n",
      "(Decimal('3.850000000000000088817841970012523233890533447265625'), Decimal('0'))\n",
      "(Decimal('3.899999999999999911182158029987476766109466552734375'), Decimal('0'))\n",
      "(Decimal('3.95000000000000017763568394002504646778106689453125'), Decimal('0'))\n",
      "(Decimal('4'), Decimal('0'))\n",
      "(Decimal('4.04999999999999982236431605997495353221893310546875'), Decimal('0'))\n",
      "(Decimal('4.0999999999999996447286321199499070644378662109375'), Decimal('0'))\n",
      "(Decimal('4.1500000000000003552713678800500929355621337890625'), Decimal('0'))\n",
      "(Decimal('4.20000000000000017763568394002504646778106689453125'), Decimal('0'))\n",
      "(Decimal('4.25'), Decimal('0'))\n",
      "(Decimal('4.29999999999999982236431605997495353221893310546875'), Decimal('0'))\n",
      "(Decimal('4.3499999999999996447286321199499070644378662109375'), Decimal('0'))\n",
      "(Decimal('4.4000000000000003552713678800500929355621337890625'), Decimal('0'))\n",
      "(Decimal('4.45000000000000017763568394002504646778106689453125'), Decimal('0'))\n",
      "(Decimal('4.5'), Decimal('0'))\n",
      "(Decimal('4.54999999999999982236431605997495353221893310546875'), Decimal('0'))\n",
      "(Decimal('4.5999999999999996447286321199499070644378662109375'), Decimal('0'))\n",
      "(Decimal('4.6500000000000003552713678800500929355621337890625'), Decimal('0'))\n",
      "(Decimal('4.70000000000000017763568394002504646778106689453125'), Decimal('0'))\n",
      "(Decimal('4.75'), Decimal('0'))\n",
      "(Decimal('4.79999999999999982236431605997495353221893310546875'), Decimal('0'))\n",
      "(Decimal('4.8499999999999996447286321199499070644378662109375'), Decimal('0'))\n",
      "(Decimal('4.9000000000000003552713678800500929355621337890625'), Decimal('0'))\n",
      "(Decimal('4.95000000000000017763568394002504646778106689453125'), Decimal('0'))\n",
      "(Decimal('5'), Decimal('0'))\n",
      "(Decimal('5.04999999999999982236431605997495353221893310546875'), Decimal('0'))\n",
      "(Decimal('5.0999999999999996447286321199499070644378662109375'), Decimal('0'))\n",
      "(Decimal('5.1500000000000003552713678800500929355621337890625'), Decimal('0'))\n",
      "(Decimal('5.20000000000000017763568394002504646778106689453125'), Decimal('0'))\n",
      "(Decimal('5.25'), Decimal('0'))\n",
      "(Decimal('5.29999999999999982236431605997495353221893310546875'), Decimal('0'))\n",
      "(Decimal('5.3499999999999996447286321199499070644378662109375'), Decimal('0'))\n",
      "(Decimal('5.4000000000000003552713678800500929355621337890625'), Decimal('0'))\n",
      "(Decimal('5.45000000000000017763568394002504646778106689453125'), Decimal('0'))\n",
      "(Decimal('5.5'), Decimal('0'))\n",
      "(Decimal('5.54999999999999982236431605997495353221893310546875'), Decimal('0'))\n",
      "(Decimal('5.5999999999999996447286321199499070644378662109375'), Decimal('0'))\n",
      "(Decimal('5.6500000000000003552713678800500929355621337890625'), Decimal('0'))\n",
      "(Decimal('5.70000000000000017763568394002504646778106689453125'), Decimal('0'))\n",
      "(Decimal('5.75'), Decimal('0'))\n",
      "(Decimal('5.79999999999999982236431605997495353221893310546875'), Decimal('0'))\n",
      "(Decimal('5.8499999999999996447286321199499070644378662109375'), Decimal('0'))\n",
      "(Decimal('5.9000000000000003552713678800500929355621337890625'), Decimal('0'))\n",
      "(Decimal('5.95000000000000017763568394002504646778106689453125'), Decimal('0'))\n",
      "(Decimal('6'), Decimal('0'))\n",
      "(Decimal('6.04999999999999982236431605997495353221893310546875'), Decimal('0'))\n",
      "(Decimal('6.0999999999999996447286321199499070644378662109375'), Decimal('0'))\n",
      "(Decimal('6.1500000000000003552713678800500929355621337890625'), Decimal('0'))\n",
      "(Decimal('6.20000000000000017763568394002504646778106689453125'), Decimal('0'))\n",
      "(Decimal('6.25'), Decimal('0'))\n",
      "(Decimal('6.29999999999999982236431605997495353221893310546875'), Decimal('0'))\n",
      "(Decimal('6.3499999999999996447286321199499070644378662109375'), Decimal('0'))\n",
      "(Decimal('6.4000000000000003552713678800500929355621337890625'), Decimal('0'))\n",
      "(Decimal('6.45000000000000017763568394002504646778106689453125'), Decimal('0'))\n",
      "(Decimal('6.5'), Decimal('0'))\n",
      "(Decimal('6.54999999999999982236431605997495353221893310546875'), Decimal('0'))\n",
      "(Decimal('6.5999999999999996447286321199499070644378662109375'), Decimal('0'))\n"
     ]
    }
   ],
   "source": [
    "for t in Tplot:\n",
    "    print(t.get_value_error())"
   ]
  },
  {
   "cell_type": "code",
   "execution_count": 15,
   "metadata": {},
   "outputs": [
    {
     "name": "stdout",
     "output_type": "stream",
     "text": [
      "с вентилятором v0 = 2.4754231000405453 +- 0.1483686406181661\n",
      "с вентилятором v1 = 0.15962447235451085 +- 0.19135856048808217\n",
      "с вентилятором omega = 1.1221985042265306 +- 0.3078947191770042\n",
      "с вентилятором phi2 = -36.18250694256112 +- 103.9565151087787\n"
     ]
    }
   ],
   "source": [
    "from math import sin\n",
    "def funcP(t, v0, v1, omega, phi):\n",
    "    return v0 + v1 * np.sin(omega * t + phi)\n",
    "\n",
    "popt, pcov = curve_fit(funcP, V[:100:], T[:100:])\n",
    "er = np.sqrt(np.diag(pcov))\n",
    "print(\"с вентилятором v0 = {} +- {}\".format(popt[0], er[0]))\n",
    "print(\"с вентилятором v1 = {} +- {}\".format(popt[1], er[1]))\n",
    "print(\"с вентилятором omega = {} +- {}\".format(popt[2], er[2]))\n",
    "print(\"с вентилятором phi2 = {} +- {}\".format(popt[3], er[3]))"
   ]
  },
  {
   "cell_type": "code",
   "execution_count": 20,
   "metadata": {},
   "outputs": [
    {
     "data": {
      "image/png": "[encoded data removed]",
      "text/plain": [
       "<Figure size 576x432 with 1 Axes>"
      ]
     },
     "metadata": {
      "needs_background": "light"
     },
     "output_type": "display_data"
    }
   ],
   "source": [
    "Plotter(draw_legend=False).set_name(\"232VT_vent\").\\\n",
    "set_title(\"Зависимосимость объема от времени,\\nвентилятор включен\").set_x_name(\"$t,\\\\: s$\").\\\n",
    "set_y_name(\"$V, \\\\: m^3$\").\\\n",
    "        add_line(Plotter.get_new_line(x_value=Tplot, y_value=Vplot,\n",
    "                                      draw_error=False, legend='skj', fit=False, color='black')).\\\n",
    "        plot(show=True, save=True)"
   ]
  },
  {
   "cell_type": "code",
   "execution_count": 21,
   "metadata": {},
   "outputs": [],
   "source": [
    "from praclib import read_from_file\n",
    "import numpy as np\n",
    "\n",
    "tab = read_from_file(\"232_bez.txt\", \"\\t\")"
   ]
  },
  {
   "cell_type": "code",
   "execution_count": 22,
   "metadata": {},
   "outputs": [],
   "source": [
    "Umax = max(tab[::, 2])\n",
    "Umin = min(tab[::, 2])"
   ]
  },
  {
   "cell_type": "code",
   "execution_count": 23,
   "metadata": {},
   "outputs": [],
   "source": [
    "V = -(tab[::, 2]-Umin)/(Umax - Umin)* 15 + 345\n",
    "P = tab[::, 3]"
   ]
  },
  {
   "cell_type": "code",
   "execution_count": 24,
   "metadata": {},
   "outputs": [
    {
     "data": {
      "image/png": "[encoded data removed]",
      "text/plain": [
       "<Figure size 576x432 with 1 Axes>"
      ]
     },
     "metadata": {
      "needs_background": "light"
     },
     "output_type": "display_data"
    }
   ],
   "source": [
    "from plotter import Plotter\n",
    "from value import Value\n",
    "\n",
    "Pplot = np.array([Value(current_val=a) for a in P])\n",
    "Vplot = np.array([Value(current_val=a) for a in V])\n",
    "\n",
    "Plotter(draw_legend=False).set_name(\"232PV_bez\").\\\n",
    "set_title(\"Зависимость относительного давления от объема,\\nвентилятор выключен\").set_x_name(\"$V,\\\\: m^3$\").\\\n",
    "set_y_name(\"$p - p_0, \\\\: Pa$\").\\\n",
    "        add_line(Plotter.get_new_line(x_value=Vplot, y_value=Pplot,\n",
    "                                      draw_error=False, legend='skj', fit=False, color='black')).\\\n",
    "        plot(show=True, save=True)"
   ]
  },
  {
   "cell_type": "code",
   "execution_count": 25,
   "metadata": {},
   "outputs": [],
   "source": [
    "T = tab[::, 1]"
   ]
  },
  {
   "cell_type": "code",
   "execution_count": 29,
   "metadata": {},
   "outputs": [
    {
     "name": "stdout",
     "output_type": "stream",
     "text": [
      "без вентилятора p0 = 0.5715104104983594 +- 0.05721952315210867\n",
      "без вентилятора p1 = 0.37176094759642203 +- 0.09683885007053045\n",
      "без вентилятора omega = 1.000325050702838 +- 0.0001878371073398267\n",
      "без вентилятора phi1 = 1.713118339555633 +- 0.18528997326058233\n"
     ]
    }
   ],
   "source": [
    "from math import sin\n",
    "def funcP(t, p_0, p_1, omega, phi):\n",
    "    return p_0 + p_1 * np.sin(omega * t + phi)\n",
    "\n",
    "popt, pcov = curve_fit(funcP, P[:20:], T[:20:])\n",
    "er = np.sqrt(np.diag(pcov))\n",
    "print(\"без вентилятора p0 = {} +- {}\".format(popt[0], er[0]))\n",
    "print(\"без вентилятора p1 = {} +- {}\".format(popt[1], er[1]))\n",
    "print(\"без вентилятора omega = {} +- {}\".format(popt[2], er[2]))\n",
    "print(\"без вентилятора phi1 = {} +- {}\".format(popt[3], er[3]))"
   ]
  },
  {
   "cell_type": "code",
   "execution_count": 27,
   "metadata": {},
   "outputs": [
    {
     "data": {
      "image/png": "[encoded data removed]",
      "text/plain": [
       "<Figure size 576x432 with 1 Axes>"
      ]
     },
     "metadata": {
      "needs_background": "light"
     },
     "output_type": "display_data"
    }
   ],
   "source": [
    "%matplotlib inline\n",
    "Tplot = np.array([Value(current_val=a) for a in T])\n",
    "Plotter(draw_legend=False).set_name(\"232PT_bez\").\\\n",
    "set_title(\"Зависимость относительного давления от времени,\\nвентилятор выключен\").set_x_name(\"$t,\\\\: s$\").\\\n",
    "set_y_name(\"$p - p_0, \\\\: Pa$\").\\\n",
    "        add_line(Plotter.get_new_line(x_value=Tplot, y_value=Pplot,\n",
    "                                      draw_error=False, legend='skj', fit=False, color='black')).\\\n",
    "        plot(show=True, save=True)"
   ]
  },
  {
   "cell_type": "code",
   "execution_count": 30,
   "metadata": {},
   "outputs": [
    {
     "name": "stdout",
     "output_type": "stream",
     "text": [
      "без вентилятора v0 = 2.482919025894683 +- 0.16484773509357895\n",
      "без вентилятора v1 = -0.09248782961930972 +- 0.2117570175436088\n",
      "без вентилятора omega = 1.2167494813091264 +- 0.49384895213380436\n",
      "без вентилятора phi2 = -72.53451580705826 +- 166.21217086536004\n"
     ]
    }
   ],
   "source": [
    "from math import sin\n",
    "def funcP(t, v0, v1, omega, phi):\n",
    "    return v0 + v1 * np.sin(omega * t + phi)\n",
    "\n",
    "popt, pcov = curve_fit(funcP, V[:100:], T[:100:])\n",
    "er = np.sqrt(np.diag(pcov))\n",
    "print(\"без вентилятора v0 = {} +- {}\".format(popt[0], er[0]))\n",
    "print(\"без вентилятора v1 = {} +- {}\".format(popt[1], er[1]))\n",
    "print(\"без вентилятора omega = {} +- {}\".format(popt[2], er[2]))\n",
    "print(\"без вентилятора phi2 = {} +- {}\".format(popt[3], er[3]))"
   ]
  },
  {
   "cell_type": "code",
   "execution_count": 31,
   "metadata": {},
   "outputs": [
    {
     "data": {
      "image/png": "[encoded data removed]",
      "text/plain": [
       "<Figure size 576x432 with 1 Axes>"
      ]
     },
     "metadata": {
      "needs_background": "light"
     },
     "output_type": "display_data"
    }
   ],
   "source": [
    "Plotter(draw_legend=False).set_name(\"232VT_bez\").\\\n",
    "set_title(\"Зависимосимость объема от времени,\\nвентилятор выключен\").set_x_name(\"$t,\\\\: s$\").\\\n",
    "set_y_name(\"$V, \\\\: m^3$\").\\\n",
    "        add_line(Plotter.get_new_line(x_value=Tplot, y_value=Vplot,\n",
    "                                      draw_error=False, legend='skj', fit=False, color='black')).\\\n",
    "        plot(show=True, save=True)"
   ]
  },
  {
   "cell_type": "code",
   "execution_count": 34,
   "metadata": {},
   "outputs": [
    {
     "name": "stdout",
     "output_type": "stream",
     "text": [
      "(Decimal('-8.0E+3'), Decimal('5E+2'))\n"
     ]
    }
   ],
   "source": [
    "p1 = Value(name=\"p_1\", values=[1241]*3, syst=12)\n",
    "v1 = Value(name=\"V_1\", values=[7.49]*3, syst=0.03)\n",
    "omega = Value(name=\"omega\", values=[4.575]*3, syst=0.007)\n",
    "dphi = Value(name=\"delta\", values=[3.526]*3, syst=0.024)\n",
    "\n",
    "from sympy import sin\n",
    "pp = p1 * v1 * omega * dphi.use_func(sin) / Value(current_val=2)\n",
    "print(pp.get_value_error())"
   ]
  },
  {
   "cell_type": "markdown",
   "metadata": {},
   "source": [
    "это была мощность и погрешность, мощность положительна"
   ]
  },
  {
   "cell_type": "code",
   "execution_count": null,
   "metadata": {},
   "outputs": [],
   "source": []
  }
 ],
 "metadata": {
  "kernelspec": {
   "display_name": "Python 3",
   "language": "python",
   "name": "python3"
  },
  "language_info": {
   "codemirror_mode": {
    "name": "ipython",
    "version": 3
   },
   "file_extension": ".py",
   "mimetype": "text/x-python",
   "name": "python",
   "nbconvert_exporter": "python",
   "pygments_lexer": "ipython3",
   "version": "3.6.7"
  }
 },
 "nbformat": 4,
 "nbformat_minor": 1
}
