{
 "cells": [
  {
   "cell_type": "code",
   "execution_count": null,
   "metadata": {
    "collapsed": true
   },
   "outputs": [
    {
     "data": {
      "text/plain": [
       "3"
      ]
     },
     "execution_count": 1,
     "metadata": {},
     "output_type": "execute_result"
    }
   ],
   "source": [
    "1 + 2"
   ]
  },
  {
   "cell_type": "code",
   "execution_count": 2,
   "metadata": {},
   "outputs": [
    {
     "name": "stdout",
     "output_type": "stream",
     "text": [
      "1\n"
     ]
    }
   ],
   "source": [
    "print(1)"
   ]
  },
  {
   "cell_type": "code",
   "execution_count": 1,
   "metadata": {},
   "outputs": [],
   "source": [
    "from IPython.display import display, Math, Latex"
   ]
  },
  {
   "cell_type": "code",
   "execution_count": 4,
   "metadata": {},
   "outputs": [],
   "source": [
    "m = Symbol('m')\n",
    "g = Symbol('g')\n",
    "r = Symbol('r')\n",
    "h0 = Symbol('h_0')\n",
    "h1 = Symbol('h_1')\n",
    "t1 = Symbol('t_1')\n",
    "t11 = Symbol('t_11')"
   ]
  },
  {
   "cell_type": "code",
   "execution_count": 3,
   "metadata": {},
   "outputs": [],
   "source": [
    "from praclib import *\n"
   ]
  },
  {
   "cell_type": "code",
   "execution_count": 5,
   "metadata": {},
   "outputs": [
    {
     "data": {
      "text/plain": [
       "m"
      ]
     },
     "execution_count": 5,
     "metadata": {},
     "output_type": "execute_result"
    }
   ],
   "source": [
    "m"
   ]
  },
  {
   "cell_type": "code",
   "execution_count": 6,
   "metadata": {},
   "outputs": [],
   "source": [
    "dct = {\n",
    "    m: (0.1, 0),\n",
    "    r: (0.015, 0),\n",
    "    g: (9.81, 0),\n",
    "    h0: (0.7430, 0.0007),\n",
    "    h1: (0.5882, 0.0008),\n",
    "    t1: (5.9, 0.3),\n",
    "    t11: (10.5, 0.3)\n",
    "}"
   ]
  },
  {
   "cell_type": "code",
   "execution_count": 7,
   "metadata": {},
   "outputs": [],
   "source": [
    "f = (m * g * r) / t1 * (2 * h0) / (h0 / t1 ** 2 + h1 / (t11 - t1) ** 2)"
   ]
  },
  {
   "cell_type": "code",
   "execution_count": 8,
   "metadata": {},
   "outputs": [
    {
     "data": {
      "text/latex": [
       "$\\displaystyle \\frac{2 g h_{0} m r}{t_{1} \\left(\\frac{h_{0}}{t_{1}^{2}} + \\frac{h_{1}}{\\left(- t_{1} + t_{11}\\right)^{2}}\\right)}$"
      ],
      "text/plain": [
       "<IPython.core.display.Math object>"
      ]
     },
     "metadata": {},
     "output_type": "display_data"
    }
   ],
   "source": [
    "display(Math(latex(f)))"
   ]
  },
  {
   "cell_type": "code",
   "execution_count": 9,
   "metadata": {},
   "outputs": [
    {
     "data": {
      "text/latex": [
       "$\\displaystyle \\sqrt{\\frac{16 g^{2} h_{0}^{2} h_{1}^{2} m^{2} r^{2} \\sigma_{t 11}^{2}}{t_{1}^{2} \\left(- t_{1} + t_{11}\\right)^{6} \\left(\\frac{h_{0}}{t_{1}^{2}} + \\frac{h_{1}}{\\left(- t_{1} + t_{11}\\right)^{2}}\\right)^{4}} + \\frac{4 g^{2} h_{0}^{2} m^{2} r^{2} \\sigma_{h 1}^{2}}{t_{1}^{2} \\left(- t_{1} + t_{11}\\right)^{4} \\left(\\frac{h_{0}}{t_{1}^{2}} + \\frac{h_{1}}{\\left(- t_{1} + t_{11}\\right)^{2}}\\right)^{4}} + \\frac{4 g^{2} h_{0}^{2} m^{2} \\sigma_{r}^{2}}{t_{1}^{2} \\left(\\frac{h_{0}}{t_{1}^{2}} + \\frac{h_{1}}{\\left(- t_{1} + t_{11}\\right)^{2}}\\right)^{2}} + \\frac{4 g^{2} h_{0}^{2} r^{2} \\sigma_{m}^{2}}{t_{1}^{2} \\left(\\frac{h_{0}}{t_{1}^{2}} + \\frac{h_{1}}{\\left(- t_{1} + t_{11}\\right)^{2}}\\right)^{2}} + \\frac{4 h_{0}^{2} m^{2} r^{2} \\sigma_{g}^{2}}{t_{1}^{2} \\left(\\frac{h_{0}}{t_{1}^{2}} + \\frac{h_{1}}{\\left(- t_{1} + t_{11}\\right)^{2}}\\right)^{2}} + \\sigma_{h 0}^{2} \\left(- \\frac{2 g h_{0} m r}{t_{1}^{3} \\left(\\frac{h_{0}}{t_{1}^{2}} + \\frac{h_{1}}{\\left(- t_{1} + t_{11}\\right)^{2}}\\right)^{2}} + \\frac{2 g m r}{t_{1} \\left(\\frac{h_{0}}{t_{1}^{2}} + \\frac{h_{1}}{\\left(- t_{1} + t_{11}\\right)^{2}}\\right)}\\right)^{2} + \\sigma_{t 1}^{2} \\left(\\frac{2 g h_{0} m r \\left(\\frac{2 h_{0}}{t_{1}^{3}} - \\frac{2 h_{1}}{\\left(- t_{1} + t_{11}\\right)^{3}}\\right)}{t_{1} \\left(\\frac{h_{0}}{t_{1}^{2}} + \\frac{h_{1}}{\\left(- t_{1} + t_{11}\\right)^{2}}\\right)^{2}} - \\frac{2 g h_{0} m r}{t_{1}^{2} \\left(\\frac{h_{0}}{t_{1}^{2}} + \\frac{h_{1}}{\\left(- t_{1} + t_{11}\\right)^{2}}\\right)}\\right)^{2}}=0.00823339214548730\\\\\\frac{2 g h_{0} m r}{t_{1} \\left(\\frac{h_{0}}{t_{1}^{2}} + \\frac{h_{1}}{\\left(- t_{1} + t_{11}\\right)^{2}}\\right)}= 0.075 \\pm 0.008$"
      ],
      "text/plain": [
       "<IPython.core.display.Math object>"
      ]
     },
     "metadata": {},
     "output_type": "display_data"
    }
   ],
   "source": [
    "display(Math(print_with_deviation(f, dct)))"
   ]
  },
  {
   "cell_type": "code",
   "execution_count": 10,
   "metadata": {},
   "outputs": [
    {
     "data": {
      "text/plain": [
       "0.0756"
      ]
     },
     "execution_count": 10,
     "metadata": {},
     "output_type": "execute_result"
    }
   ],
   "source": [
    "# проверим\n",
    "16.8 * 0.0045"
   ]
  },
  {
   "cell_type": "code",
   "execution_count": 11,
   "metadata": {},
   "outputs": [
    {
     "data": {
      "text/plain": [
       "0.07468999999999999"
      ]
     },
     "execution_count": 11,
     "metadata": {},
     "output_type": "execute_result"
    }
   ],
   "source": [
    "#проверим для второго\n",
    "9.7 * 0.0077"
   ]
  },
  {
   "cell_type": "code",
   "execution_count": 12,
   "metadata": {},
   "outputs": [
    {
     "data": {
      "text/plain": [
       "0.067"
      ]
     },
     "execution_count": 12,
     "metadata": {},
     "output_type": "execute_result"
    }
   ],
   "source": [
    "0.075 - 0.008"
   ]
  },
  {
   "cell_type": "code",
   "execution_count": 13,
   "metadata": {},
   "outputs": [],
   "source": [
    "h12 = Symbol('h_12')\n",
    "h2 = Symbol('h_2')\n",
    "t12u = Symbol('t_12u')\n",
    "t2 = Symbol('t_2')\n",
    "t22 = Symbol('t_22')\n",
    "dct2 = {\n",
    "    m: (0.1, 0),\n",
    "    r: (0.015, 0),\n",
    "    g: (9.81, 0),\n",
    "    h0: (0.7430, 0.0007),\n",
    "    h12: (0.364, 0.003),\n",
    "    h2: (0.5920, 0.0009),\n",
    "    t12u: (5.0, 0.4),\n",
    "    t2: (7.7, 0.3),\n",
    "    t22: (13.8, 0.3)\n",
    "}"
   ]
  },
  {
   "cell_type": "code",
   "execution_count": 14,
   "metadata": {},
   "outputs": [],
   "source": [
    "q = (m * g * r) / t12u * (2 * h12) / (h0 / t2 ** 2 + h2 / (t22 - t2) ** 2)"
   ]
  },
  {
   "cell_type": "code",
   "execution_count": 15,
   "metadata": {},
   "outputs": [
    {
     "data": {
      "text/latex": [
       "$\\displaystyle \\sqrt{\\frac{16 g^{2} h_{12}^{2} h_{2}^{2} m^{2} r^{2} \\sigma_{t 22}^{2}}{t_{12u}^{2} \\left(- t_{2} + t_{22}\\right)^{6} \\left(\\frac{h_{0}}{t_{2}^{2}} + \\frac{h_{2}}{\\left(- t_{2} + t_{22}\\right)^{2}}\\right)^{4}} + \\frac{4 g^{2} h_{12}^{2} m^{2} r^{2} \\sigma_{h 0}^{2}}{t_{12u}^{2} t_{2}^{4} \\left(\\frac{h_{0}}{t_{2}^{2}} + \\frac{h_{2}}{\\left(- t_{2} + t_{22}\\right)^{2}}\\right)^{4}} + \\frac{4 g^{2} h_{12}^{2} m^{2} r^{2} \\sigma_{h 2}^{2}}{t_{12u}^{2} \\left(- t_{2} + t_{22}\\right)^{4} \\left(\\frac{h_{0}}{t_{2}^{2}} + \\frac{h_{2}}{\\left(- t_{2} + t_{22}\\right)^{2}}\\right)^{4}} + \\frac{4 g^{2} h_{12}^{2} m^{2} r^{2} \\sigma_{t 12u}^{2}}{t_{12u}^{4} \\left(\\frac{h_{0}}{t_{2}^{2}} + \\frac{h_{2}}{\\left(- t_{2} + t_{22}\\right)^{2}}\\right)^{2}} + \\frac{4 g^{2} h_{12}^{2} m^{2} r^{2} \\sigma_{t 2}^{2} \\left(\\frac{2 h_{0}}{t_{2}^{3}} - \\frac{2 h_{2}}{\\left(- t_{2} + t_{22}\\right)^{3}}\\right)^{2}}{t_{12u}^{2} \\left(\\frac{h_{0}}{t_{2}^{2}} + \\frac{h_{2}}{\\left(- t_{2} + t_{22}\\right)^{2}}\\right)^{4}} + \\frac{4 g^{2} h_{12}^{2} m^{2} \\sigma_{r}^{2}}{t_{12u}^{2} \\left(\\frac{h_{0}}{t_{2}^{2}} + \\frac{h_{2}}{\\left(- t_{2} + t_{22}\\right)^{2}}\\right)^{2}} + \\frac{4 g^{2} h_{12}^{2} r^{2} \\sigma_{m}^{2}}{t_{12u}^{2} \\left(\\frac{h_{0}}{t_{2}^{2}} + \\frac{h_{2}}{\\left(- t_{2} + t_{22}\\right)^{2}}\\right)^{2}} + \\frac{4 g^{2} m^{2} r^{2} \\sigma_{h 12}^{2}}{t_{12u}^{2} \\left(\\frac{h_{0}}{t_{2}^{2}} + \\frac{h_{2}}{\\left(- t_{2} + t_{22}\\right)^{2}}\\right)^{2}} + \\frac{4 h_{12}^{2} m^{2} r^{2} \\sigma_{g}^{2}}{t_{12u}^{2} \\left(\\frac{h_{0}}{t_{2}^{2}} + \\frac{h_{2}}{\\left(- t_{2} + t_{22}\\right)^{2}}\\right)^{2}}}=0.00750446331860620\\\\\\frac{2 g h_{12} m r}{t_{12u} \\left(\\frac{h_{0}}{t_{2}^{2}} + \\frac{h_{2}}{\\left(- t_{2} + t_{22}\\right)^{2}}\\right)}= 0.075 \\pm 0.008$"
      ],
      "text/plain": [
       "<IPython.core.display.Math object>"
      ]
     },
     "metadata": {},
     "output_type": "display_data"
    }
   ],
   "source": [
    "display(Math(print_with_deviation(q, dct2)))"
   ]
  },
  {
   "cell_type": "code",
   "execution_count": 16,
   "metadata": {},
   "outputs": [],
   "source": [
    "l1 = Symbol('l_1')\n",
    "l2 = Symbol('l_2')\n",
    "h12 = Symbol('h_12')\n",
    "dct3 = {\n",
    "    l1: (0.019, 0.0005),\n",
    "    l2: (0.142, 0.0005),\n",
    "    h12: (0.364, 0.003)\n",
    "}"
   ]
  },
  {
   "cell_type": "code",
   "execution_count": 17,
   "metadata": {},
   "outputs": [],
   "source": [
    "dct3.update(dct)\n",
    "dct3.update(dct2)"
   ]
  },
  {
   "cell_type": "code",
   "execution_count": 18,
   "metadata": {},
   "outputs": [
    {
     "data": {
      "text/plain": [
       "{l_1: (0.019, 0.0005),\n",
       " l_2: (0.142, 0.0005),\n",
       " h_12: (0.364, 0.003),\n",
       " m: (0.1, 0),\n",
       " r: (0.015, 0),\n",
       " g: (9.81, 0),\n",
       " h_0: (0.743, 0.0007),\n",
       " h_1: (0.5882, 0.0008),\n",
       " t_1: (5.9, 0.3),\n",
       " t_11: (10.5, 0.3),\n",
       " h_2: (0.592, 0.0009),\n",
       " t_12u: (5.0, 0.4),\n",
       " t_2: (7.7, 0.3),\n",
       " t_22: (13.8, 0.3)}"
      ]
     },
     "execution_count": 18,
     "metadata": {},
     "output_type": "execute_result"
    }
   ],
   "source": [
    "dct3"
   ]
  },
  {
   "cell_type": "code",
   "execution_count": 19,
   "metadata": {},
   "outputs": [],
   "source": [
    "m0 = (h0 / t1 - h12 / t12u) / (r * (l2 **2 - l1 ** 2))"
   ]
  },
  {
   "cell_type": "code",
   "execution_count": 20,
   "metadata": {},
   "outputs": [
    {
     "data": {
      "text/latex": [
       "$\\displaystyle \\sqrt{\\frac{h_{0}^{2} \\sigma_{t 1}^{2}}{r^{2} t_{1}^{4} \\left(- l_{1}^{2} + l_{2}^{2}\\right)^{2}} + \\frac{h_{12}^{2} \\sigma_{t 12u}^{2}}{r^{2} t_{12u}^{4} \\left(- l_{1}^{2} + l_{2}^{2}\\right)^{2}} + \\frac{4 l_{1}^{2} \\sigma_{l 1}^{2} \\left(\\frac{h_{0}}{t_{1}} - \\frac{h_{12}}{t_{12u}}\\right)^{2}}{r^{2} \\left(- l_{1}^{2} + l_{2}^{2}\\right)^{4}} + \\frac{4 l_{2}^{2} \\sigma_{l 2}^{2} \\left(\\frac{h_{0}}{t_{1}} - \\frac{h_{12}}{t_{12u}}\\right)^{2}}{r^{2} \\left(- l_{1}^{2} + l_{2}^{2}\\right)^{4}} + \\frac{\\sigma_{h 0}^{2}}{r^{2} t_{1}^{2} \\left(- l_{1}^{2} + l_{2}^{2}\\right)^{2}} + \\frac{\\sigma_{h 12}^{2}}{r^{2} t_{12u}^{2} \\left(- l_{1}^{2} + l_{2}^{2}\\right)^{2}} + \\frac{\\sigma_{r}^{2} \\left(\\frac{h_{0}}{t_{1}} - \\frac{h_{12}}{t_{12u}}\\right)^{2}}{r^{4} \\left(- l_{1}^{2} + l_{2}^{2}\\right)^{2}}}=29.2407551629784\\\\\\frac{\\frac{h_{0}}{t_{1}} - \\frac{h_{12}}{t_{12u}}}{r \\left(- l_{1}^{2} + l_{2}^{2}\\right)}= 1.8E+2 \\pm 3E+1$"
      ],
      "text/plain": [
       "<IPython.core.display.Math object>"
      ]
     },
     "metadata": {},
     "output_type": "display_data"
    }
   ],
   "source": [
    "display(Math(print_with_deviation(m0, dct3)))"
   ]
  },
  {
   "cell_type": "code",
   "execution_count": 21,
   "metadata": {},
   "outputs": [
    {
     "data": {
      "text/plain": [
       "0.08079583901429079"
      ]
     },
     "execution_count": 21,
     "metadata": {},
     "output_type": "execute_result"
    }
   ],
   "source": [
    "(0.0077 - 0.0045) / (2 * (0.142 ** 2 - 0.019 ** 2))"
   ]
  },
  {
   "cell_type": "code",
   "execution_count": 22,
   "metadata": {},
   "outputs": [],
   "source": [
    "w1 = 2 * h0 / (r * t1)\n",
    "w2 = 2 * h12 / (r * t12u)\n",
    "m0 = (q / w2 - f / w1) / (r * (l2 ** 2 - l1 ** 2))"
   ]
  },
  {
   "cell_type": "code",
   "execution_count": 30,
   "metadata": {
    "scrolled": true
   },
   "outputs": [
    {
     "data": {
      "text/latex": [
       "$\\displaystyle \\sqrt{\\frac{4 g^{2} h_{1}^{2} m^{2} r^{4} \\sigma_{t 11}^{2}}{\\left(- 2 l_{1}^{2} + 2 l_{2}^{2}\\right)^{2} \\left(- t_{1} + t_{11}\\right)^{6} \\left(\\frac{h_{0}}{t_{1}^{2}} + \\frac{h_{1}}{\\left(- t_{1} + t_{11}\\right)^{2}}\\right)^{4}} + \\frac{4 g^{2} h_{2}^{2} m^{2} r^{4} \\sigma_{t 22}^{2}}{\\left(- 2 l_{1}^{2} + 2 l_{2}^{2}\\right)^{2} \\left(- t_{2} + t_{22}\\right)^{6} \\left(\\frac{h_{0}}{t_{2}^{2}} + \\frac{h_{2}}{\\left(- t_{2} + t_{22}\\right)^{2}}\\right)^{4}} + \\frac{g^{2} m^{2} r^{4} \\sigma_{h 1}^{2}}{\\left(- 2 l_{1}^{2} + 2 l_{2}^{2}\\right)^{2} \\left(- t_{1} + t_{11}\\right)^{4} \\left(\\frac{h_{0}}{t_{1}^{2}} + \\frac{h_{1}}{\\left(- t_{1} + t_{11}\\right)^{2}}\\right)^{4}} + \\frac{g^{2} m^{2} r^{4} \\sigma_{h 2}^{2}}{\\left(- 2 l_{1}^{2} + 2 l_{2}^{2}\\right)^{2} \\left(- t_{2} + t_{22}\\right)^{4} \\left(\\frac{h_{0}}{t_{2}^{2}} + \\frac{h_{2}}{\\left(- t_{2} + t_{22}\\right)^{2}}\\right)^{4}} + \\frac{g^{2} m^{2} r^{4} \\sigma_{t 1}^{2} \\left(\\frac{2 h_{0}}{t_{1}^{3}} - \\frac{2 h_{1}}{\\left(- t_{1} + t_{11}\\right)^{3}}\\right)^{2}}{\\left(- 2 l_{1}^{2} + 2 l_{2}^{2}\\right)^{2} \\left(\\frac{h_{0}}{t_{1}^{2}} + \\frac{h_{1}}{\\left(- t_{1} + t_{11}\\right)^{2}}\\right)^{4}} + \\frac{g^{2} m^{2} r^{4} \\sigma_{t 2}^{2} \\left(\\frac{2 h_{0}}{t_{2}^{3}} - \\frac{2 h_{2}}{\\left(- t_{2} + t_{22}\\right)^{3}}\\right)^{2}}{\\left(- 2 l_{1}^{2} + 2 l_{2}^{2}\\right)^{2} \\left(\\frac{h_{0}}{t_{2}^{2}} + \\frac{h_{2}}{\\left(- t_{2} + t_{22}\\right)^{2}}\\right)^{4}} + \\frac{16 l_{1}^{2} \\sigma_{l 1}^{2} \\left(\\frac{g m r^{2}}{\\frac{h_{0}}{t_{2}^{2}} + \\frac{h_{2}}{\\left(- t_{2} + t_{22}\\right)^{2}}} - \\frac{g m r^{2}}{\\frac{h_{0}}{t_{1}^{2}} + \\frac{h_{1}}{\\left(- t_{1} + t_{11}\\right)^{2}}}\\right)^{2}}{\\left(- 2 l_{1}^{2} + 2 l_{2}^{2}\\right)^{4}} + \\frac{16 l_{2}^{2} \\sigma_{l 2}^{2} \\left(\\frac{g m r^{2}}{\\frac{h_{0}}{t_{2}^{2}} + \\frac{h_{2}}{\\left(- t_{2} + t_{22}\\right)^{2}}} - \\frac{g m r^{2}}{\\frac{h_{0}}{t_{1}^{2}} + \\frac{h_{1}}{\\left(- t_{1} + t_{11}\\right)^{2}}}\\right)^{2}}{\\left(- 2 l_{1}^{2} + 2 l_{2}^{2}\\right)^{4}} + \\frac{\\sigma_{g}^{2} \\left(\\frac{m r^{2}}{\\frac{h_{0}}{t_{2}^{2}} + \\frac{h_{2}}{\\left(- t_{2} + t_{22}\\right)^{2}}} - \\frac{m r^{2}}{\\frac{h_{0}}{t_{1}^{2}} + \\frac{h_{1}}{\\left(- t_{1} + t_{11}\\right)^{2}}}\\right)^{2}}{\\left(- 2 l_{1}^{2} + 2 l_{2}^{2}\\right)^{2}} + \\frac{\\sigma_{h 0}^{2} \\left(- \\frac{g m r^{2}}{t_{2}^{2} \\left(\\frac{h_{0}}{t_{2}^{2}} + \\frac{h_{2}}{\\left(- t_{2} + t_{22}\\right)^{2}}\\right)^{2}} + \\frac{g m r^{2}}{t_{1}^{2} \\left(\\frac{h_{0}}{t_{1}^{2}} + \\frac{h_{1}}{\\left(- t_{1} + t_{11}\\right)^{2}}\\right)^{2}}\\right)^{2}}{\\left(- 2 l_{1}^{2} + 2 l_{2}^{2}\\right)^{2}} + \\frac{\\sigma_{m}^{2} \\left(\\frac{g r^{2}}{\\frac{h_{0}}{t_{2}^{2}} + \\frac{h_{2}}{\\left(- t_{2} + t_{22}\\right)^{2}}} - \\frac{g r^{2}}{\\frac{h_{0}}{t_{1}^{2}} + \\frac{h_{1}}{\\left(- t_{1} + t_{11}\\right)^{2}}}\\right)^{2}}{\\left(- 2 l_{1}^{2} + 2 l_{2}^{2}\\right)^{2}} + \\frac{\\sigma_{r}^{2} \\left(\\frac{2 g m r}{\\frac{h_{0}}{t_{2}^{2}} + \\frac{h_{2}}{\\left(- t_{2} + t_{22}\\right)^{2}}} - \\frac{2 g m r}{\\frac{h_{0}}{t_{1}^{2}} + \\frac{h_{1}}{\\left(- t_{1} + t_{11}\\right)^{2}}}\\right)^{2}}{\\left(- 2 l_{1}^{2} + 2 l_{2}^{2}\\right)^{2}}}=0.0146408004140289\\\\\\frac{\\frac{g m r^{2}}{\\frac{h_{0}}{t_{2}^{2}} + \\frac{h_{2}}{\\left(- t_{2} + t_{22}\\right)^{2}}} - \\frac{g m r^{2}}{\\frac{h_{0}}{t_{1}^{2}} + \\frac{h_{1}}{\\left(- t_{1} + t_{11}\\right)^{2}}}}{- 2 l_{1}^{2} + 2 l_{2}^{2}}= 0.083 \\pm 0.015$"
      ],
      "text/plain": [
       "<IPython.core.display.Math object>"
      ]
     },
     "metadata": {},
     "output_type": "display_data"
    }
   ],
   "source": [
    "display(Math(print_with_deviation(m0, dct3)))"
   ]
  },
  {
   "cell_type": "code",
   "execution_count": 29,
   "metadata": {},
   "outputs": [],
   "source": [
    "m0 = (q / w2 - f / w1) / (2 * l2 ** 2 - 2 * l1 ** 2)"
   ]
  },
  {
   "cell_type": "code",
   "execution_count": 28,
   "metadata": {},
   "outputs": [
    {
     "data": {
      "text/plain": [
       "16.7909604519774"
      ]
     },
     "execution_count": 28,
     "metadata": {},
     "output_type": "execute_result"
    }
   ],
   "source": [
    "w1.subs(dict((s, dct3[s][0]) for s in dct3))"
   ]
  },
  {
   "cell_type": "code",
   "execution_count": 31,
   "metadata": {},
   "outputs": [
    {
     "data": {
      "text/plain": [
       "0.18072289156626503"
      ]
     },
     "execution_count": 31,
     "metadata": {},
     "output_type": "execute_result"
    }
   ],
   "source": [
    "0.015 / 0.083"
   ]
  },
  {
   "cell_type": "code",
   "execution_count": 32,
   "metadata": {},
   "outputs": [
    {
     "data": {
      "text/plain": [
       "2"
      ]
     },
     "execution_count": 32,
     "metadata": {},
     "output_type": "execute_result"
    }
   ],
   "source": [
    "1 + 1"
   ]
  },
  {
   "cell_type": "code",
   "execution_count": 1,
   "metadata": {},
   "outputs": [],
   "source": [
    "from praclib import *"
   ]
  },
  {
   "cell_type": "code",
   "execution_count": 2,
   "metadata": {},
   "outputs": [],
   "source": [
    "tab = read_from_file('table.txt', '\\t')"
   ]
  },
  {
   "cell_type": "code",
   "execution_count": 3,
   "metadata": {},
   "outputs": [
    {
     "data": {
      "text/plain": [
       "array(<map object at 0x7eff745fbc50>, dtype=object)"
      ]
     },
     "execution_count": 3,
     "metadata": {},
     "output_type": "execute_result"
    }
   ],
   "source": [
    "tab"
   ]
  },
  {
   "cell_type": "code",
   "execution_count": 4,
   "metadata": {},
   "outputs": [
    {
     "ename": "IndexError",
     "evalue": "too many indices for array",
     "traceback": [
      "\u001b[0;31m---------------------------------------------------------------------------\u001b[0m",
      "\u001b[0;31mIndexError\u001b[0m                                Traceback (most recent call last)",
      "\u001b[0;32m<ipython-input-4-7c0c63bd7906>\u001b[0m in \u001b[0;36m<module>\u001b[0;34m\u001b[0m\n\u001b[0;32m----> 1\u001b[0;31m \u001b[0mtab\u001b[0m\u001b[0;34m[\u001b[0m\u001b[0;36m0\u001b[0m\u001b[0;34m]\u001b[0m\u001b[0;34m\u001b[0m\u001b[0m\n\u001b[0m",
      "\u001b[0;31mIndexError\u001b[0m: too many indices for array"
     ],
     "output_type": "error"
    }
   ],
   "source": [
    "tab[0]"
   ]
  },
  {
   "cell_type": "code",
   "execution_count": 1,
   "metadata": {},
   "outputs": [],
   "source": [
    "from praclib import *"
   ]
  },
  {
   "cell_type": "code",
   "execution_count": 2,
   "metadata": {},
   "outputs": [],
   "source": [
    "tab = read_from_file('table.txt', '\\t')"
   ]
  },
  {
   "cell_type": "code",
   "execution_count": 3,
   "metadata": {},
   "outputs": [
    {
     "data": {
      "text/plain": [
       "array([['0', '0', '-1', '0', '9', '0', '4\\n'],\n",
       "       ['1', '13', '11', '9', '18', '7', '10\\n'],\n",
       "       ['2', '23', '23', '19', '26', '12', '15\\n'],\n",
       "       ['3', '36', '35', '27', '34', '18', '22\\n'],\n",
       "       ['4', '42', '46', '31', '42', '24', '28\\n'],\n",
       "       ['5', '44', '50', '45', '50', '30', '32\\n'],\n",
       "       ['6', '48', '53', '52', '58', '35', '37\\n'],\n",
       "       ['7', '60', '65', '61', '65', '40', '42\\n'],\n",
       "       ['8', '82', '81', '69', '72', '46', '48\\n'],\n",
       "       ['9', '97', '97', '78', '78', '51', '51']], dtype='<U3')"
      ]
     },
     "execution_count": 3,
     "metadata": {},
     "output_type": "execute_result"
    }
   ],
   "source": [
    "tab"
   ]
  },
  {
   "cell_type": "code",
   "execution_count": 4,
   "metadata": {},
   "outputs": [
    {
     "ename": "SyntaxError",
     "evalue": "invalid syntax (<ipython-input-4-b74246fd4dcd>, line 1)",
     "traceback": [
      "\u001b[0;36m  File \u001b[0;32m\"<ipython-input-4-b74246fd4dcd>\"\u001b[0;36m, line \u001b[0;32m1\u001b[0m\n\u001b[0;31m    tab[,1::]\u001b[0m\n\u001b[0m        ^\u001b[0m\n\u001b[0;31mSyntaxError\u001b[0m\u001b[0;31m:\u001b[0m invalid syntax\n"
     ],
     "output_type": "error"
    }
   ],
   "source": [
    "tab[,1::]"
   ]
  },
  {
   "cell_type": "code",
   "execution_count": 5,
   "metadata": {},
   "outputs": [
    {
     "data": {
      "text/plain": [
       "array([['0', '-1', '0', '9', '0', '4\\n'],\n",
       "       ['13', '11', '9', '18', '7', '10\\n'],\n",
       "       ['23', '23', '19', '26', '12', '15\\n'],\n",
       "       ['36', '35', '27', '34', '18', '22\\n'],\n",
       "       ['42', '46', '31', '42', '24', '28\\n'],\n",
       "       ['44', '50', '45', '50', '30', '32\\n'],\n",
       "       ['48', '53', '52', '58', '35', '37\\n'],\n",
       "       ['60', '65', '61', '65', '40', '42\\n'],\n",
       "       ['82', '81', '69', '72', '46', '48\\n'],\n",
       "       ['97', '97', '78', '78', '51', '51']], dtype='<U3')"
      ]
     },
     "execution_count": 5,
     "metadata": {},
     "output_type": "execute_result"
    }
   ],
   "source": [
    "tab[::, 1::]"
   ]
  },
  {
   "cell_type": "code",
   "execution_count": 6,
   "metadata": {},
   "outputs": [],
   "source": [
    "data = tab[::, 1::]"
   ]
  },
  {
   "cell_type": "code",
   "execution_count": 9,
   "metadata": {},
   "outputs": [
    {
     "ename": "IndexError",
     "evalue": "arrays used as indices must be of integer (or boolean) type",
     "traceback": [
      "\u001b[0;31m---------------------------------------------------------------------------\u001b[0m",
      "\u001b[0;31mIndexError\u001b[0m                                Traceback (most recent call last)",
      "\u001b[0;32m<ipython-input-9-1a2a06194308>\u001b[0m in \u001b[0;36m<module>\u001b[0;34m\u001b[0m\n\u001b[0;32m----> 1\u001b[0;31m \u001b[0mdata\u001b[0m \u001b[0;34m=\u001b[0m \u001b[0mnp\u001b[0m\u001b[0;34m.\u001b[0m\u001b[0mfromfunction\u001b[0m\u001b[0;34m(\u001b[0m\u001b[0;32mlambda\u001b[0m \u001b[0mi\u001b[0m\u001b[0;34m,\u001b[0m \u001b[0mj\u001b[0m\u001b[0;34m:\u001b[0m \u001b[0mfloat\u001b[0m\u001b[0;34m(\u001b[0m\u001b[0mdata\u001b[0m\u001b[0;34m[\u001b[0m\u001b[0mi\u001b[0m\u001b[0;34m,\u001b[0m \u001b[0mj\u001b[0m\u001b[0;34m]\u001b[0m\u001b[0;34m)\u001b[0m\u001b[0;34m,\u001b[0m \u001b[0;34m(\u001b[0m\u001b[0;36m10\u001b[0m\u001b[0;34m,\u001b[0m\u001b[0;36m6\u001b[0m\u001b[0;34m)\u001b[0m\u001b[0;34m)\u001b[0m\u001b[0;34m\u001b[0m\u001b[0m\n\u001b[0m",
      "\u001b[0;32m~/.local/lib/python3.6/site-packages/numpy/core/numeric.py\u001b[0m in \u001b[0;36mfromfunction\u001b[0;34m(function, shape, **kwargs)\u001b[0m\n\u001b[1;32m   1922\u001b[0m     \u001b[0mdtype\u001b[0m \u001b[0;34m=\u001b[0m \u001b[0mkwargs\u001b[0m\u001b[0;34m.\u001b[0m\u001b[0mpop\u001b[0m\u001b[0;34m(\u001b[0m\u001b[0;34m'dtype'\u001b[0m\u001b[0;34m,\u001b[0m \u001b[0mfloat\u001b[0m\u001b[0;34m)\u001b[0m\u001b[0;34m\u001b[0m\u001b[0m\n\u001b[1;32m   1923\u001b[0m     \u001b[0margs\u001b[0m \u001b[0;34m=\u001b[0m \u001b[0mindices\u001b[0m\u001b[0;34m(\u001b[0m\u001b[0mshape\u001b[0m\u001b[0;34m,\u001b[0m \u001b[0mdtype\u001b[0m\u001b[0;34m=\u001b[0m\u001b[0mdtype\u001b[0m\u001b[0;34m)\u001b[0m\u001b[0;34m\u001b[0m\u001b[0m\n\u001b[0;32m-> 1924\u001b[0;31m     \u001b[0;32mreturn\u001b[0m \u001b[0mfunction\u001b[0m\u001b[0;34m(\u001b[0m\u001b[0;34m*\u001b[0m\u001b[0margs\u001b[0m\u001b[0;34m,\u001b[0m \u001b[0;34m**\u001b[0m\u001b[0mkwargs\u001b[0m\u001b[0;34m)\u001b[0m\u001b[0;34m\u001b[0m\u001b[0m\n\u001b[0m\u001b[1;32m   1925\u001b[0m \u001b[0;34m\u001b[0m\u001b[0m\n\u001b[1;32m   1926\u001b[0m \u001b[0;34m\u001b[0m\u001b[0m\n",
      "\u001b[0;32m<ipython-input-9-1a2a06194308>\u001b[0m in \u001b[0;36m<lambda>\u001b[0;34m(i, j)\u001b[0m\n\u001b[0;32m----> 1\u001b[0;31m \u001b[0mdata\u001b[0m \u001b[0;34m=\u001b[0m \u001b[0mnp\u001b[0m\u001b[0;34m.\u001b[0m\u001b[0mfromfunction\u001b[0m\u001b[0;34m(\u001b[0m\u001b[0;32mlambda\u001b[0m \u001b[0mi\u001b[0m\u001b[0;34m,\u001b[0m \u001b[0mj\u001b[0m\u001b[0;34m:\u001b[0m \u001b[0mfloat\u001b[0m\u001b[0;34m(\u001b[0m\u001b[0mdata\u001b[0m\u001b[0;34m[\u001b[0m\u001b[0mi\u001b[0m\u001b[0;34m,\u001b[0m \u001b[0mj\u001b[0m\u001b[0;34m]\u001b[0m\u001b[0;34m)\u001b[0m\u001b[0;34m,\u001b[0m \u001b[0;34m(\u001b[0m\u001b[0;36m10\u001b[0m\u001b[0;34m,\u001b[0m\u001b[0;36m6\u001b[0m\u001b[0;34m)\u001b[0m\u001b[0;34m)\u001b[0m\u001b[0;34m\u001b[0m\u001b[0m\n\u001b[0m",
      "\u001b[0;31mIndexError\u001b[0m: arrays used as indices must be of integer (or boolean) type"
     ],
     "output_type": "error"
    }
   ],
   "source": [
    "data = np.fromfunction(lambda i, j: float(data[i, j]), (10,6))"
   ]
  },
  {
   "cell_type": "code",
   "execution_count": 8,
   "metadata": {},
   "outputs": [
    {
     "data": {
      "text/plain": [
       "(10, 6)"
      ]
     },
     "execution_count": 8,
     "metadata": {},
     "output_type": "execute_result"
    }
   ],
   "source": [
    "data.shape"
   ]
  },
  {
   "cell_type": "code",
   "execution_count": 11,
   "metadata": {},
   "outputs": [
    {
     "ename": "IndexError",
     "evalue": "arrays used as indices must be of integer (or boolean) type",
     "traceback": [
      "\u001b[0;31m---------------------------------------------------------------------------\u001b[0m",
      "\u001b[0;31mIndexError\u001b[0m                                Traceback (most recent call last)",
      "\u001b[0;32m<ipython-input-11-53394781027d>\u001b[0m in \u001b[0;36m<module>\u001b[0;34m\u001b[0m\n\u001b[0;32m----> 1\u001b[0;31m \u001b[0mnp\u001b[0m\u001b[0;34m.\u001b[0m\u001b[0mfromfunction\u001b[0m\u001b[0;34m(\u001b[0m\u001b[0;32mlambda\u001b[0m \u001b[0mi\u001b[0m\u001b[0;34m,\u001b[0m \u001b[0mj\u001b[0m\u001b[0;34m:\u001b[0m \u001b[0mint\u001b[0m\u001b[0;34m(\u001b[0m\u001b[0mdata\u001b[0m\u001b[0;34m[\u001b[0m\u001b[0mi\u001b[0m\u001b[0;34m]\u001b[0m\u001b[0;34m[\u001b[0m\u001b[0mj\u001b[0m\u001b[0;34m]\u001b[0m\u001b[0;34m)\u001b[0m\u001b[0;34m,\u001b[0m \u001b[0;34m(\u001b[0m\u001b[0;36m3\u001b[0m\u001b[0;34m,\u001b[0m \u001b[0;36m4\u001b[0m\u001b[0;34m)\u001b[0m\u001b[0;34m)\u001b[0m\u001b[0;34m\u001b[0m\u001b[0m\n\u001b[0m",
      "\u001b[0;32m~/.local/lib/python3.6/site-packages/numpy/core/numeric.py\u001b[0m in \u001b[0;36mfromfunction\u001b[0;34m(function, shape, **kwargs)\u001b[0m\n\u001b[1;32m   1922\u001b[0m     \u001b[0mdtype\u001b[0m \u001b[0;34m=\u001b[0m \u001b[0mkwargs\u001b[0m\u001b[0;34m.\u001b[0m\u001b[0mpop\u001b[0m\u001b[0;34m(\u001b[0m\u001b[0;34m'dtype'\u001b[0m\u001b[0;34m,\u001b[0m \u001b[0mfloat\u001b[0m\u001b[0;34m)\u001b[0m\u001b[0;34m\u001b[0m\u001b[0m\n\u001b[1;32m   1923\u001b[0m     \u001b[0margs\u001b[0m \u001b[0;34m=\u001b[0m \u001b[0mindices\u001b[0m\u001b[0;34m(\u001b[0m\u001b[0mshape\u001b[0m\u001b[0;34m,\u001b[0m \u001b[0mdtype\u001b[0m\u001b[0;34m=\u001b[0m\u001b[0mdtype\u001b[0m\u001b[0;34m)\u001b[0m\u001b[0;34m\u001b[0m\u001b[0m\n\u001b[0;32m-> 1924\u001b[0;31m     \u001b[0;32mreturn\u001b[0m \u001b[0mfunction\u001b[0m\u001b[0;34m(\u001b[0m\u001b[0;34m*\u001b[0m\u001b[0margs\u001b[0m\u001b[0;34m,\u001b[0m \u001b[0;34m**\u001b[0m\u001b[0mkwargs\u001b[0m\u001b[0;34m)\u001b[0m\u001b[0;34m\u001b[0m\u001b[0m\n\u001b[0m\u001b[1;32m   1925\u001b[0m \u001b[0;34m\u001b[0m\u001b[0m\n\u001b[1;32m   1926\u001b[0m \u001b[0;34m\u001b[0m\u001b[0m\n",
      "\u001b[0;32m<ipython-input-11-53394781027d>\u001b[0m in \u001b[0;36m<lambda>\u001b[0;34m(i, j)\u001b[0m\n\u001b[0;32m----> 1\u001b[0;31m \u001b[0mnp\u001b[0m\u001b[0;34m.\u001b[0m\u001b[0mfromfunction\u001b[0m\u001b[0;34m(\u001b[0m\u001b[0;32mlambda\u001b[0m \u001b[0mi\u001b[0m\u001b[0;34m,\u001b[0m \u001b[0mj\u001b[0m\u001b[0;34m:\u001b[0m \u001b[0mint\u001b[0m\u001b[0;34m(\u001b[0m\u001b[0mdata\u001b[0m\u001b[0;34m[\u001b[0m\u001b[0mi\u001b[0m\u001b[0;34m]\u001b[0m\u001b[0;34m[\u001b[0m\u001b[0mj\u001b[0m\u001b[0;34m]\u001b[0m\u001b[0;34m)\u001b[0m\u001b[0;34m,\u001b[0m \u001b[0;34m(\u001b[0m\u001b[0;36m3\u001b[0m\u001b[0;34m,\u001b[0m \u001b[0;36m4\u001b[0m\u001b[0;34m)\u001b[0m\u001b[0;34m)\u001b[0m\u001b[0;34m\u001b[0m\u001b[0m\n\u001b[0m",
      "\u001b[0;31mIndexError\u001b[0m: arrays used as indices must be of integer (or boolean) type"
     ],
     "output_type": "error"
    }
   ],
   "source": [
    "np.fromfunction(lambda i, j: int(data[i][j]), (3, 4))"
   ]
  },
  {
   "cell_type": "code",
   "execution_count": 12,
   "metadata": {},
   "outputs": [
    {
     "data": {
      "text/plain": [
       "'0'"
      ]
     },
     "execution_count": 12,
     "metadata": {},
     "output_type": "execute_result"
    }
   ],
   "source": [
    "data[0, 0]"
   ]
  },
  {
   "cell_type": "code",
   "execution_count": 1,
   "metadata": {},
   "outputs": [],
   "source": [
    "from praclib import *"
   ]
  },
  {
   "cell_type": "code",
   "execution_count": 2,
   "metadata": {},
   "outputs": [],
   "source": [
    "data = read_from_file('table.txt', '\\t')[::, 1::]"
   ]
  },
  {
   "cell_type": "code",
   "execution_count": 3,
   "metadata": {},
   "outputs": [
    {
     "data": {
      "text/plain": [
       "array([[ 0., -1.,  0.,  9.,  0.,  4.],\n",
       "       [13., 11.,  9., 18.,  7., 10.],\n",
       "       [23., 23., 19., 26., 12., 15.],\n",
       "       [36., 35., 27., 34., 18., 22.],\n",
       "       [42., 46., 31., 42., 24., 28.],\n",
       "       [44., 50., 45., 50., 30., 32.],\n",
       "       [48., 53., 52., 58., 35., 37.],\n",
       "       [60., 65., 61., 65., 40., 42.],\n",
       "       [82., 81., 69., 72., 46., 48.],\n",
       "       [97., 97., 78., 78., 51., 51.]])"
      ]
     },
     "execution_count": 3,
     "metadata": {},
     "output_type": "execute_result"
    }
   ],
   "source": [
    "data"
   ]
  },
  {
   "cell_type": "code",
   "execution_count": 4,
   "metadata": {},
   "outputs": [],
   "source": [
    "data = np.vectorize(lambda f: f / 100)(data)"
   ]
  },
  {
   "cell_type": "code",
   "execution_count": 5,
   "metadata": {},
   "outputs": [
    {
     "data": {
      "text/plain": [
       "array([[ 0.  , -0.01,  0.  ,  0.09,  0.  ,  0.04],\n",
       "       [ 0.13,  0.11,  0.09,  0.18,  0.07,  0.1 ],\n",
       "       [ 0.23,  0.23,  0.19,  0.26,  0.12,  0.15],\n",
       "       [ 0.36,  0.35,  0.27,  0.34,  0.18,  0.22],\n",
       "       [ 0.42,  0.46,  0.31,  0.42,  0.24,  0.28],\n",
       "       [ 0.44,  0.5 ,  0.45,  0.5 ,  0.3 ,  0.32],\n",
       "       [ 0.48,  0.53,  0.52,  0.58,  0.35,  0.37],\n",
       "       [ 0.6 ,  0.65,  0.61,  0.65,  0.4 ,  0.42],\n",
       "       [ 0.82,  0.81,  0.69,  0.72,  0.46,  0.48],\n",
       "       [ 0.97,  0.97,  0.78,  0.78,  0.51,  0.51]])"
      ]
     },
     "execution_count": 5,
     "metadata": {},
     "output_type": "execute_result"
    }
   ],
   "source": [
    "data"
   ]
  },
  {
   "cell_type": "code",
   "execution_count": 6,
   "metadata": {},
   "outputs": [],
   "source": [
    "stal, med, dural = data[::, 0:2:], data[::, 2:4:], data[::, 4:6:]"
   ]
  },
  {
   "cell_type": "code",
   "execution_count": 7,
   "metadata": {},
   "outputs": [],
   "source": [
    "stalmid = (stal[::, 0] + stal[::, 1]) / 2\n",
    "medmid = (med[::, 0] + med[::, 1]) / 2\n",
    "duralmid = (dural[::, 0] + dural[::, 1]) / 2"
   ]
  },
  {
   "cell_type": "code",
   "execution_count": 8,
   "metadata": {},
   "outputs": [
    {
     "data": {
      "text/plain": [
       "array([0.02 , 0.085, 0.135, 0.2  , 0.26 , 0.31 , 0.36 , 0.41 , 0.47 ,\n",
       "       0.51 ])"
      ]
     },
     "execution_count": 8,
     "metadata": {},
     "output_type": "execute_result"
    }
   ],
   "source": [
    "stalmid\n",
    "medmid\n",
    "duralmid"
   ]
  },
  {
   "cell_type": "code",
   "execution_count": 9,
   "metadata": {},
   "outputs": [
    {
     "data": {
      "text/plain": [
       "array([-0.005,  0.12 ,  0.23 ,  0.355,  0.44 ,  0.47 ,  0.505,  0.625,\n",
       "        0.815,  0.97 ])"
      ]
     },
     "execution_count": 9,
     "metadata": {},
     "output_type": "execute_result"
    }
   ],
   "source": [
    "stalmid"
   ]
  },
  {
   "cell_type": "code",
   "execution_count": 10,
   "metadata": {},
   "outputs": [
    {
     "data": {
      "text/plain": [
       "array([0.045, 0.135, 0.225, 0.305, 0.365, 0.475, 0.55 , 0.63 , 0.705,\n",
       "       0.78 ])"
      ]
     },
     "execution_count": 10,
     "metadata": {},
     "output_type": "execute_result"
    }
   ],
   "source": [
    "medmid"
   ]
  },
  {
   "cell_type": "code",
   "execution_count": 11,
   "metadata": {},
   "outputs": [
    {
     "data": {
      "text/plain": [
       "array([0.02 , 0.085, 0.135, 0.2  , 0.26 , 0.31 , 0.36 , 0.41 , 0.47 ,\n",
       "       0.51 ])"
      ]
     },
     "execution_count": 11,
     "metadata": {},
     "output_type": "execute_result"
    }
   ],
   "source": [
    "duralmid"
   ]
  },
  {
   "cell_type": "code",
   "execution_count": null,
   "metadata": {},
   "outputs": [
    {
     "data": {
      "image/png": "[encoded data removed]",
      "text/plain": [
       "<Figure size 576x432 with 1 Axes>"
      ]
     },
     "metadata": {
      "needs_background": "light"
     },
     "output_type": "display_data"
    }
   ],
   "source": [
    "%matplotlib inline\n",
    "import matplotlib.pyplot as plt\n",
    "import numpy\n",
    "plt.figure(num=1, figsize=(8, 6))\n",
    "plt.title('Task 1', size=14)\n",
    "plt.xlabel('n', size=14)\n",
    "plt.ylabel('$\\Delta N$', size=14)\n",
    "plt.rc('grid', linestyle=\":\", color='black')\n",
    "\n",
    "ax = plt.gca()\n",
    "ax.set_xticks(numpy.arange(0, 10, 1))\n",
    "ax.set_yticks(numpy.arange(0, 0.001, 0.0002))\n",
    "\n",
    "xData = list(range(10))\n",
    "yData = list(stalmid / 1000)\n",
    "sigmaY = [0.004 / 1000] * 10\n",
    "ffit = np.polynomial.polynomial.Polynomial(\n",
    "    np.polynomial.polynomial.polyfit(xData, yData, 1)\n",
    ")\n",
    "yData2 = list(map(ffit, xData))\n",
    "\n",
    "plt.plot(xData, yData, color='r', linestyle='', marker='o',\n",
    "         label='{} a = {:1.4e} b = {:1.4e} r = {:1.4f}\\n$S_a$ = {:1.4e} $S_b$ = {:1.4e}'.format('Steel', ffit(1) - ffit(0), ffit(0), get_r(yData, xData), get_sigma_a(xData, sigmaY), get_sigma_b(xData, sigmaY)))\n",
    "plt.plot(xData, yData2, color='r', linestyle='-', marker='', linewidth=1)\n",
    "plt.errorbar(xData, yData, color='r', yerr=sigmaY, fmt='.k')\n",
    "\n",
    "xData = list(range(10))\n",
    "yData = list(medmid / 1000)\n",
    "sigmaY = [0.008 / 1000] * 10\n",
    "ffit = np.polynomial.polynomial.Polynomial(\n",
    "    np.polynomial.polynomial.polyfit(xData, yData, 1)\n",
    ")\n",
    "yData2 = list(map(ffit, xData))\n",
    "\n",
    "plt.plot(xData, yData, color='g', linestyle='', marker='o',\n",
    "         label='{} a = {:1.4e} b = {:1.4e} r = {:1.4f}\\n$S_a$ = {:1.4e} $S_b$ = {:1.4e}'.format('Copper', ffit(1) - ffit(0), ffit(0), get_r(yData, xData), get_sigma_a(xData, sigmaY), get_sigma_b(xData, sigmaY)))\n",
    "plt.plot(xData, yData2, color='g', linestyle='-', marker='', linewidth=1)\n",
    "# plt.errorbar(xData, yData, yerr=SigmaY, fmt='.k', color='g')\n",
    "\n",
    "xData = list(range(10))\n",
    "yData = list(duralmid / 1000)\n",
    "sigmaY = [0.003 / 1000] * 10\n",
    "ffit = np.polynomial.polynomial.Polynomial(\n",
    "    np.polynomial.polynomial.polyfit(xData, yData, 1)\n",
    ")\n",
    "yData2 = list(map(ffit, xData))\n",
    "\n",
    "plt.plot(xData, yData, color='b', linestyle='', marker='o',\n",
    "         label='{} a = {:1.4e} b = {:1.4e} r = {:1.4f}\\n$S_a$ = {:1.4e} $S_b$ = {:1.4e}'.format('Aluminium', ffit(1) - ffit(0), ffit(0), get_r(yData, xData), get_sigma_a(xData, sigmaY), get_sigma_b(xData, sigmaY)))\n",
    "plt.plot(xData, yData2, color='b', linestyle='-', marker='', linewidth=1)\n",
    "\n",
    "plt.legend(loc='upper left')\n",
    "plt.grid()\n",
    "plt.savefig('images/plot120_.png', format='png')\n",
    "plt.show()"
   ]
  },
  {
   "cell_type": "code",
   "execution_count": 1,
   "metadata": {},
   "outputs": [],
   "source": [
    "from tables import *"
   ]
  },
  {
   "cell_type": "code",
   "execution_count": null,
   "metadata": {},
   "outputs": [],
   "source": [
    "root = tk.Tk()\n",
    "app = Table(master=root)\n",
    "app.mainloop()"
   ]
  },
  {
   "cell_type": "code",
   "execution_count": 4,
   "metadata": {},
   "outputs": [
    {
     "data": {
      "text/plain": [
       "2"
      ]
     },
     "execution_count": 4,
     "metadata": {},
     "output_type": "execute_result"
    }
   ],
   "source": [
    "1 + 1\n"
   ]
  },
  {
   "cell_type": "code",
   "execution_count": 1,
   "metadata": {},
   "outputs": [],
   "source": [
    "from praclib import *\n",
    "tab = read_from_file(\"110_1.tab\", '\\t')"
   ]
  },
  {
   "cell_type": "code",
   "execution_count": 2,
   "metadata": {},
   "outputs": [
    {
     "data": {
      "text/plain": [
       "array([[0.75 , 1.   , 6.506],\n",
       "       [0.75 , 2.   , 6.652],\n",
       "       [0.75 , 3.   , 6.238],\n",
       "       [0.7  , 1.   , 5.173],\n",
       "       [0.7  , 2.   , 5.149],\n",
       "       [0.7  , 3.   , 5.236],\n",
       "       [0.65 , 1.   , 4.326],\n",
       "       [0.65 , 2.   , 4.488],\n",
       "       [0.65 , 3.   , 4.59 ],\n",
       "       [0.6  , 1.   , 3.816],\n",
       "       [0.6  , 2.   , 3.836],\n",
       "       [0.6  , 3.   , 3.822],\n",
       "       [0.55 , 1.   , 3.273],\n",
       "       [0.55 , 2.   , 3.308],\n",
       "       [0.55 , 3.   , 3.311]])"
      ]
     },
     "execution_count": 2,
     "metadata": {},
     "output_type": "execute_result"
    }
   ],
   "source": [
    "tab"
   ]
  },
  {
   "cell_type": "code",
   "execution_count": 58,
   "metadata": {},
   "outputs": [],
   "source": [
    "f = lambda mas: rounding(mas[0], mas[1])\n",
    "tmid = np.array([np.array(f(standard_deviation(tab[0 + 3 * i:3 + i * 3:1, 2]))) for i in range(5)])"
   ]
  },
  {
   "cell_type": "code",
   "execution_count": 59,
   "metadata": {},
   "outputs": [
    {
     "data": {
      "text/plain": [
       "array([[Decimal('6.47'), Decimal('0.12')],\n",
       "       [Decimal('5.19'), Decimal('0.03')],\n",
       "       [Decimal('4.47'), Decimal('0.08')],\n",
       "       [Decimal('3.825'), Decimal('0.006')],\n",
       "       [Decimal('3.297'), Decimal('0.012')]], dtype=object)"
      ]
     },
     "execution_count": 59,
     "metadata": {},
     "output_type": "execute_result"
    }
   ],
   "source": [
    "tmid"
   ]
  },
  {
   "cell_type": "code",
   "execution_count": 60,
   "metadata": {},
   "outputs": [],
   "source": [
    "x0 = 0.75\n",
    "x3x0 = (x0 - tab[::, 0]) ** 0.5"
   ]
  },
  {
   "cell_type": "code",
   "execution_count": 61,
   "metadata": {},
   "outputs": [],
   "source": [
    "x3x0 = x3x0[::3]"
   ]
  },
  {
   "cell_type": "code",
   "execution_count": 62,
   "metadata": {},
   "outputs": [
    {
     "data": {
      "text/plain": [
       "array([0.        , 0.2236068 , 0.31622777, 0.38729833, 0.4472136 ])"
      ]
     },
     "execution_count": 62,
     "metadata": {},
     "output_type": "execute_result"
    }
   ],
   "source": [
    "x3x0"
   ]
  },
  {
   "cell_type": "code",
   "execution_count": 63,
   "metadata": {},
   "outputs": [
    {
     "data": {
      "image/png": "[encoded data removed]",
      "text/plain": [
       "<Figure size 576x432 with 1 Axes>"
      ]
     },
     "metadata": {
      "needs_background": "light"
     },
     "output_type": "display_data"
    }
   ],
   "source": [
    "%matplotlib inline\n",
    "import matplotlib.pyplot as plt\n",
    "plt.figure(num=1, figsize=(8, 6))\n",
    "plt.title('Task 1', size=14)\n",
    "plt.xlabel('$t, s$', size=14)\n",
    "plt.ylabel('$\\sqrt{x_3 - x_0}$', size=14)\n",
    "xData = x3x0\n",
    "yData = list(map(float, tmid[::, 0]))\n",
    "sigma = list(map(float, tmid[::, 1]))\n",
    "ffit = np.polynomial.polynomial.Polynomial(\n",
    "    np.polynomial.polynomial.polyfit(xData, yData, 1)\n",
    ")\n",
    "yData2 = list(map(ffit, xData))\n",
    "\n",
    "plt.plot(xData, yData, color='r', linestyle='', marker='o', linewidth=1,\n",
    "         label='$A = {:1.4f}\\\\:B = {:1.4f}\\\\:r = {:1.4f}\\:S_A = {:1.4f}$'.format(ffit(1) - ffit(0), ffit(0),\n",
    "                                                                               get_r(yData, xData), get_sigma_a(xData, sigma)))\n",
    "plt.plot(xData, yData2, color='r', linestyle='-', marker='')\n",
    "\n",
    "\n",
    "plt.legend(loc='upper left')\n",
    "plt.savefig('images/plot110_1.png', format='png')\n",
    "plt.show()"
   ]
  },
  {
   "cell_type": "code",
   "execution_count": 65,
   "metadata": {},
   "outputs": [
    {
     "data": {
      "text/latex": [
       "$\\displaystyle 4 \\sqrt{\\frac{\\sigma_{A}^{2}}{A^{6}}}=4 \\sqrt{\\frac{0.0154^{2}}{122416.719615382}}=0.000176059856430270\\\\\\frac{2}{A^{2}}= 2/(-7.0465)**2 = 0.04028 \\pm 0.00018$"
      ],
      "text/plain": [
       "<IPython.core.display.Math object>"
      ]
     },
     "metadata": {},
     "output_type": "display_data"
    }
   ],
   "source": [
    "A = Symbol(\"A\")\n",
    "S_A = Symbol(\"S_A\")\n",
    "a = 2 / A ** 2\n",
    "from IPython.display import display, Math, Latex\n",
    "display(Math(print_with_deviation(a, {A: get_pair(value=-7.0465, deviation=0.0154)}, set())))"
   ]
  },
  {
   "cell_type": "code",
   "execution_count": 66,
   "metadata": {},
   "outputs": [
    {
     "data": {
      "text/latex": [
       "$\\displaystyle \\sqrt{A^{2} R_{1}^{4} g^{2} m_{1}^{2} \\sigma_{A}^{2} + R_{1}^{4} \\sigma_{m 1}^{2} \\left(\\frac{A^{2} g}{2} - 1\\right)^{2} + 4 R_{1}^{2} m_{1}^{2} \\sigma_{R 1}^{2} \\left(\\frac{A^{2} g}{2} - 1\\right)^{2}}=\\sqrt{0.0001^{2} \\cdot 0.029^{4} \\left(-1 + \\frac{9.81 \\left(-7.0465\\right)^{2}}{2}\\right)^{2} + \\left(-7.0465\\right)^{2} \\cdot 0.0154^{2} \\cdot 0.029^{4} \\cdot 0.2167^{2} \\cdot 9.81^{2} + 4 \\cdot 0.001^{2} \\cdot 0.029^{2} \\cdot 0.2167^{2} \\left(-1 + \\frac{9.81 \\left(-7.0465\\right)^{2}}{2}\\right)^{2}}=0.00305473356477926\\\\R_{1}^{2} m_{1} \\left(\\frac{A^{2} g}{2} - 1\\right)= 0.2167*0.029**2*(-1 + 9.81*(-7.0465)**2/2) = 0.044 \\pm 0.003$"
      ],
      "text/plain": [
       "<IPython.core.display.Math object>"
      ]
     },
     "metadata": {},
     "output_type": "display_data"
    }
   ],
   "source": [
    "g = Symbol(\"g\")\n",
    "m_1 = Symbol(\"m_1\")\n",
    "R_1 = Symbol(\"R_1\")\n",
    "J = m_1 * R_1 ** 2 * (g / a - 1)\n",
    "display(Math(print_with_deviation(J, {\n",
    "    A: get_pair(value=-7.0465, deviation=0.0154),\n",
    "    g: get_pair(value=9.81, deviation=0.0),\n",
    "    m_1: get_pair(value=0.2167, deviation=0.0001),\n",
    "    R_1: get_pair(value=0.029, deviation=0.001)\n",
    "}, {g})))"
   ]
  },
  {
   "cell_type": "code",
   "execution_count": 67,
   "metadata": {},
   "outputs": [],
   "source": [
    "q = f(standard_deviation([0.61, 0.61, 0.62, 0.61, 0.615]))"
   ]
  },
  {
   "cell_type": "code",
   "execution_count": 68,
   "metadata": {},
   "outputs": [
    {
     "data": {
      "text/plain": [
       "(Decimal('0.613'), Decimal('0.002'))"
      ]
     },
     "execution_count": 68,
     "metadata": {},
     "output_type": "execute_result"
    }
   ],
   "source": [
    "q"
   ]
  },
  {
   "cell_type": "code",
   "execution_count": 69,
   "metadata": {},
   "outputs": [
    {
     "data": {
      "text/latex": [
       "$\\displaystyle \\sqrt{\\frac{4 \\sigma_{X 2}^{2} \\left(- x_{0} + x_{1}\\right)^{2}}{\\left(2 X_{2} - x_{0} - x_{1}\\right)^{4}} + \\sigma_{x 0}^{2} \\left(\\frac{- x_{0} + x_{1}}{\\left(2 X_{2} - x_{0} - x_{1}\\right)^{2}} - \\frac{1}{2 X_{2} - x_{0} - x_{1}}\\right)^{2} + \\sigma_{x 1}^{2} \\left(\\frac{- x_{0} + x_{1}}{\\left(2 X_{2} - x_{0} - x_{1}\\right)^{2}} + \\frac{1}{2 X_{2} - x_{0} - x_{1}}\\right)^{2}}=\\sqrt{\\frac{4 \\cdot 0.001^{2} \\left(- 0.75 + 0.613\\right)^{2}}{\\left(- 0.75 - 0.613 + 0.075 \\cdot 2\\right)^{4}} + 0.001^{2} \\left(\\frac{- 0.75 + 0.613}{\\left(- 0.75 - 0.613 + 0.075 \\cdot 2\\right)^{2}} - \\frac{1}{- 0.75 - 0.613 + 0.075 \\cdot 2}\\right)^{2} + 0.002^{2} \\left(\\frac{1}{- 0.75 - 0.613 + 0.075 \\cdot 2} + \\frac{- 0.75 + 0.613}{\\left(- 0.75 - 0.613 + 0.075 \\cdot 2\\right)^{2}}\\right)^{2}}=0.00198413341761216\\\\\\frac{- x_{0} + x_{1}}{2 X_{2} - x_{0} - x_{1}}= (-0.75 + 0.613)/(-0.75 - 0.613 + 0.075*2) = 0.1129 \\pm 0.0020$"
      ],
      "text/plain": [
       "<IPython.core.display.Math object>"
      ]
     },
     "metadata": {},
     "output_type": "display_data"
    }
   ],
   "source": [
    "x_0 = Symbol(\"x_0\")\n",
    "x_2 = Symbol(\"X_2\")\n",
    "x_1 = Symbol(\"x_1\")\n",
    "ep = (x_1 - x_0) / (2 * x_2 - (x_0 + x_1))\n",
    "display(Math(print_with_deviation(ep, {\n",
    "    x_0: get_pair(value=0.75, deviation=0.001),\n",
    "    x_1: get_pair(value=0.613, deviation=0.002),\n",
    "    x_2: get_pair(value=0.075, deviation=0.001)\n",
    "}, set())))"
   ]
  },
  {
   "cell_type": "code",
   "execution_count": 70,
   "metadata": {},
   "outputs": [
    {
     "data": {
      "text/latex": [
       "$\\displaystyle \\sqrt{\\frac{4 R_{1}^{2} g^{2} m_{1}^{2} \\sigma_{X 2}^{2} \\left(- x_{0} + x_{1}\\right)^{2}}{\\left(2 X_{2} - x_{0} - x_{1}\\right)^{4}} + \\frac{R_{1}^{2} g^{2} \\sigma_{m 1}^{2} \\left(- x_{0} + x_{1}\\right)^{2}}{\\left(2 X_{2} - x_{0} - x_{1}\\right)^{2}} + \\frac{g^{2} m_{1}^{2} \\sigma_{R 1}^{2} \\left(- x_{0} + x_{1}\\right)^{2}}{\\left(2 X_{2} - x_{0} - x_{1}\\right)^{2}} + \\sigma_{x 0}^{2} \\left(\\frac{R_{1} g m_{1} \\left(- x_{0} + x_{1}\\right)}{\\left(2 X_{2} - x_{0} - x_{1}\\right)^{2}} - \\frac{R_{1} g m_{1}}{2 X_{2} - x_{0} - x_{1}}\\right)^{2} + \\sigma_{x 1}^{2} \\left(\\frac{R_{1} g m_{1} \\left(- x_{0} + x_{1}\\right)}{\\left(2 X_{2} - x_{0} - x_{1}\\right)^{2}} + \\frac{R_{1} g m_{1}}{2 X_{2} - x_{0} - x_{1}}\\right)^{2}}=\\sqrt{\\frac{0.0001^{2} \\cdot 0.029^{2} \\cdot 9.81^{2} \\left(- 0.75 + 0.613\\right)^{2}}{\\left(- 0.75 - 0.613 + 0.075 \\cdot 2\\right)^{2}} + \\frac{4 \\cdot 0.001^{2} \\cdot 0.029^{2} \\cdot 0.2167^{2} \\cdot 9.81^{2} \\left(- 0.75 + 0.613\\right)^{2}}{\\left(- 0.75 - 0.613 + 0.075 \\cdot 2\\right)^{4}} + 0.001^{2} \\left(\\frac{0.029 \\cdot 0.2167 \\cdot 9.81 \\left(- 0.75 + 0.613\\right)}{\\left(- 0.75 - 0.613 + 0.075 \\cdot 2\\right)^{2}} - \\frac{0.061648983}{- 0.75 - 0.613 + 0.075 \\cdot 2}\\right)^{2} + 0.002^{2} \\left(\\frac{0.029 \\cdot 0.2167 \\cdot 9.81}{- 0.75 - 0.613 + 0.075 \\cdot 2} + \\frac{0.029 \\cdot 0.2167 \\cdot 9.81 \\left(- 0.75 + 0.613\\right)}{\\left(- 0.75 - 0.613 + 0.075 \\cdot 2\\right)^{2}}\\right)^{2} + \\frac{0.001^{2} \\cdot 0.2167^{2} \\cdot 9.81^{2} \\left(- 0.75 + 0.613\\right)^{2}}{\\left(- 0.75 - 0.613 + 0.075 \\cdot 2\\right)^{2}}}=0.000269479649275989\\\\\\frac{R_{1} g m_{1} \\left(- x_{0} + x_{1}\\right)}{2 X_{2} - x_{0} - x_{1}}= 0.029*0.2167*9.81*(-0.75 + 0.613)/(-0.75 - 0.613 + 0.075*2) = 0.0070 \\pm 0.0003$"
      ],
      "text/plain": [
       "<IPython.core.display.Math object>"
      ]
     },
     "metadata": {},
     "output_type": "display_data"
    }
   ],
   "source": [
    "Mt = m_1 * g * R_1 * ep\n",
    "display(Math(print_with_deviation(Mt, {\n",
    "    x_0: get_pair(value=0.75, deviation=0.001),\n",
    "    x_1: get_pair(value=0.613, deviation=0.002),\n",
    "    x_2: get_pair(value=0.075, deviation=0.001),\n",
    "    m_1: get_pair(value=0.2167, deviation=0.0001),\n",
    "    R_1: get_pair(value=0.029, deviation=0.001),\n",
    "    g: get_pair(value=9.81, deviation=0.0)\n",
    "}, {g})))"
   ]
  },
  {
   "cell_type": "code",
   "execution_count": 71,
   "metadata": {},
   "outputs": [],
   "source": [
    "tab3 = read_from_file(\"110_3.tab\", \"\\t\")"
   ]
  },
  {
   "cell_type": "code",
   "execution_count": 72,
   "metadata": {},
   "outputs": [
    {
     "data": {
      "text/plain": [
       "array([[ 3.5  ,  1.   ,  5.401],\n",
       "       [ 3.5  ,  2.   ,  5.665],\n",
       "       [ 3.5  ,  3.   ,  5.723],\n",
       "       [ 6.5  ,  1.   ,  5.961],\n",
       "       [ 6.5  ,  2.   ,  6.142],\n",
       "       [ 6.5  ,  3.   ,  6.145],\n",
       "       [ 9.5  ,  1.   ,  6.97 ],\n",
       "       [ 9.5  ,  2.   ,  5.894],\n",
       "       [ 9.5  ,  3.   ,  5.894],\n",
       "       [12.5  ,  1.   ,  6.119],\n",
       "       [12.5  ,  2.   ,  5.982],\n",
       "       [12.5  ,  3.   ,  6.069],\n",
       "       [15.5  ,  1.   ,  6.374],\n",
       "       [15.5  ,  2.   ,  6.482],\n",
       "       [15.5  ,  3.   ,  6.353],\n",
       "       [18.5  ,  1.   ,  7.111],\n",
       "       [18.5  ,  2.   ,  6.893],\n",
       "       [18.5  ,  3.   ,  7.34 ],\n",
       "       [21.5  ,  1.   ,  7.127],\n",
       "       [21.5  ,  2.   ,  7.57 ],\n",
       "       [21.5  ,  3.   ,  7.372]])"
      ]
     },
     "execution_count": 72,
     "metadata": {},
     "output_type": "execute_result"
    }
   ],
   "source": [
    "tab3"
   ]
  },
  {
   "cell_type": "code",
   "execution_count": 73,
   "metadata": {},
   "outputs": [
    {
     "name": "stdout",
     "output_type": "stream",
     "text": [
      "[[0.035 1.    5.401]\n",
      " [0.035 2.    5.665]\n",
      " [0.035 3.    5.723]\n",
      " [0.065 1.    5.961]\n",
      " [0.065 2.    6.142]\n",
      " [0.065 3.    6.145]\n",
      " [0.095 1.    6.97 ]\n",
      " [0.095 2.    5.894]\n",
      " [0.095 3.    5.894]\n",
      " [0.125 1.    6.119]\n",
      " [0.125 2.    5.982]\n",
      " [0.125 3.    6.069]\n",
      " [0.155 1.    6.374]\n",
      " [0.155 2.    6.482]\n",
      " [0.155 3.    6.353]\n",
      " [0.185 1.    7.111]\n",
      " [0.185 2.    6.893]\n",
      " [0.185 3.    7.34 ]\n",
      " [0.215 1.    7.127]\n",
      " [0.215 2.    7.57 ]\n",
      " [0.215 3.    7.372]]\n"
     ]
    }
   ],
   "source": [
    "tab32 = np.hstack((tab3[::, 0:1] / 100.0, tab3[::,1:2], tab3[::,2:3]))\n",
    "print(tab32)"
   ]
  },
  {
   "cell_type": "code",
   "execution_count": 74,
   "metadata": {},
   "outputs": [
    {
     "name": "stdout",
     "output_type": "stream",
     "text": [
      "[[Decimal('5.60') Decimal('0.10')]\n",
      " [Decimal('6.08') Decimal('0.06')]\n",
      " [Decimal('6.3') Decimal('0.4')]\n",
      " [Decimal('6.06') Decimal('0.04')]\n",
      " [Decimal('6.40') Decimal('0.04')]\n",
      " [Decimal('7.11') Decimal('0.13')]\n",
      " [Decimal('7.36') Decimal('0.13')]]\n"
     ]
    }
   ],
   "source": [
    "tmid = np.array([np.array(f(standard_deviation(tab32[i * 3:3 + i * 3:1, 2]))) for i in range(7)])\n",
    "print(tmid)"
   ]
  },
  {
   "cell_type": "code",
   "execution_count": 75,
   "metadata": {},
   "outputs": [
    {
     "data": {
      "text/plain": [
       "(Decimal('7.36'), Decimal('0.13'))"
      ]
     },
     "execution_count": 75,
     "metadata": {},
     "output_type": "execute_result"
    }
   ],
   "source": [
    "f(standard_deviation([7.127, 7.570, 7.372]))"
   ]
  },
  {
   "cell_type": "code",
   "execution_count": 76,
   "metadata": {},
   "outputs": [
    {
     "data": {
      "text/plain": [
       "0.4472135954999579"
      ]
     },
     "execution_count": 76,
     "metadata": {},
     "output_type": "execute_result"
    }
   ],
   "source": [
    "1 / 5 ** 0.5"
   ]
  },
  {
   "cell_type": "code",
   "execution_count": 80,
   "metadata": {},
   "outputs": [],
   "source": [
    "y = tmid[::,0] ** 2"
   ]
  },
  {
   "cell_type": "code",
   "execution_count": 81,
   "metadata": {},
   "outputs": [],
   "source": [
    "sy = 2 * tmid[::,0] * tmid[::,1]"
   ]
  },
  {
   "cell_type": "code",
   "execution_count": 82,
   "metadata": {},
   "outputs": [
    {
     "name": "stdout",
     "output_type": "stream",
     "text": [
      "(Decimal('31.4'), Decimal('1.1'))\n",
      "(Decimal('37.0'), Decimal('0.7'))\n",
      "(Decimal('40'), Decimal('5'))\n",
      "(Decimal('36.7'), Decimal('0.5'))\n",
      "(Decimal('41.0'), Decimal('0.5'))\n",
      "(Decimal('50.6'), Decimal('1.8'))\n",
      "(Decimal('54.2'), Decimal('1.9'))\n"
     ]
    }
   ],
   "source": [
    "for p in zip(y, sy):\n",
    "    print(rounding(p[0], p[1]))"
   ]
  },
  {
   "cell_type": "code",
   "execution_count": 86,
   "metadata": {},
   "outputs": [
    {
     "name": "stdout",
     "output_type": "stream",
     "text": [
      "(Decimal('0.00123'), Decimal('0.00004'))\n",
      "(Decimal('0.00423'), Decimal('0.00007'))\n",
      "(Decimal('0.00903'), Decimal('0.00010'))\n",
      "(Decimal('0.01562'), Decimal('0.00013'))\n",
      "(Decimal('0.02403'), Decimal('0.00015'))\n",
      "(Decimal('0.03422'), Decimal('0.00018'))\n",
      "(Decimal('0.0462'), Decimal('0.0002'))\n"
     ]
    }
   ],
   "source": [
    "y = tab32[::3,0] ** 2\n",
    "sy = 2 * tab32[::3,0] * 0.0005\n",
    "for p in zip(y, sy):\n",
    "    print(rounding(p[0], p[1]))"
   ]
  },
  {
   "cell_type": "code",
   "execution_count": 90,
   "metadata": {},
   "outputs": [
    {
     "data": {
      "image/png": "[encoded data removed]",
      "text/plain": [
       "<Figure size 576x432 with 1 Axes>"
      ]
     },
     "metadata": {
      "needs_background": "light"
     },
     "output_type": "display_data"
    }
   ],
   "source": [
    "%matplotlib inline\n",
    "import matplotlib.pyplot as plt\n",
    "plt.figure(num=1, figsize=(8, 6))\n",
    "plt.title('Task 2', size=14)\n",
    "plt.xlabel('$l^2, m^2$', size=14)\n",
    "plt.ylabel('$t^2, s^2$', size=14)\n",
    "xData = list(map(float, tab32[::3,0] ** 2))\n",
    "yData = list(map(float, tmid[::,0] ** 2))\n",
    "sigma = list(map(float, 2 * tmid[::,0] * tmid[::,1]))\n",
    "ffit = np.polynomial.polynomial.Polynomial(\n",
    "    np.polynomial.polynomial.polyfit(xData, yData, 1)\n",
    ")\n",
    "yData2 = list(map(ffit, xData))\n",
    "\n",
    "plt.plot(xData, yData, color='r', linestyle='', marker='o', linewidth=1,\n",
    "         label='$A = {:1.4f}\\\\:B = {:1.4f}\\\\:r = {:1.4f}$'.format(ffit(1) - ffit(0), ffit(0),\n",
    "                                                                               get_r(yData, xData)))\n",
    "plt.plot(xData, yData2, color='r', linestyle='-', marker='')\n",
    "\n",
    "\n",
    "plt.legend(loc='upper left')\n",
    "plt.savefig('images/plot110_2.png', format='png')\n",
    "plt.show()"
   ]
  },
  {
   "cell_type": "code",
   "execution_count": 92,
   "metadata": {},
   "outputs": [
    {
     "name": "stdout",
     "output_type": "stream",
     "text": [
      "[[ 1.     6.383]\n",
      " [ 2.     6.68 ]\n",
      " [ 3.     6.421]\n",
      " [ 1.     6.754]\n",
      " [ 2.     9.935]\n",
      " [ 3.    10.115]\n",
      " [ 1.    10.31 ]\n",
      " [ 2.     7.687]\n",
      " [ 3.     8.203]\n",
      " [ 1.    13.065]\n",
      " [ 2.    13.04 ]\n",
      " [ 3.    13.07 ]]\n"
     ]
    }
   ],
   "source": [
    "tab2 = read_from_file(\"110_2.tab\", '\\t')\n",
    "print(tab2)"
   ]
  },
  {
   "cell_type": "code",
   "execution_count": 93,
   "metadata": {},
   "outputs": [
    {
     "name": "stdout",
     "output_type": "stream",
     "text": [
      "(Decimal('6.49'), Decimal('0.09'))\n",
      "(Decimal('8.9'), Decimal('1.1'))\n",
      "(Decimal('8.7'), Decimal('0.8'))\n",
      "(Decimal('13.058'), Decimal('0.009'))\n"
     ]
    }
   ],
   "source": [
    "for i in range(4):\n",
    "    print(f(standard_deviation(tab2[3 * i:3 + i * 3:,1])))"
   ]
  },
  {
   "cell_type": "code",
   "execution_count": 97,
   "metadata": {},
   "outputs": [
    {
     "data": {
      "text/latex": [
       "$\\displaystyle \\sqrt{\\frac{R^{4} g^{2} m^{2} \\sigma_{t}^{2} t^{2}}{\\left(- \\left(- x_{0} + x_{3}\\right)^{0.5} + \\left(- x_{0} + x_{4}\\right)^{0.5}\\right)^{4}} + \\frac{R^{4} g^{2} m^{2} \\sigma_{x 0}^{2} t^{4} \\left(- \\frac{1.0}{\\left(- x_{0} + x_{3}\\right)^{0.5}} + \\left(- x_{0} + x_{4}\\right)^{-0.5}\\right)^{2}}{4 \\left(- \\left(- x_{0} + x_{3}\\right)^{0.5} + \\left(- x_{0} + x_{4}\\right)^{0.5}\\right)^{6}} + \\frac{0.25 R^{4} g^{2} m^{2} \\sigma_{x 3}^{2} t^{4}}{\\left(- x_{0} + x_{3}\\right)^{1.0} \\left(- \\left(- x_{0} + x_{3}\\right)^{0.5} + \\left(- x_{0} + x_{4}\\right)^{0.5}\\right)^{6}} + \\frac{0.25 R^{4} g^{2} m^{2} \\sigma_{x 4}^{2} t^{4}}{\\left(- x_{0} + x_{4}\\right)^{1.0} \\left(- \\left(- x_{0} + x_{3}\\right)^{0.5} + \\left(- x_{0} + x_{4}\\right)^{0.5}\\right)^{6}} + R^{4} \\sigma_{m}^{2} \\left(\\frac{g t^{2}}{2 \\left(- \\left(- x_{0} + x_{3}\\right)^{0.5} + \\left(- x_{0} + x_{4}\\right)^{0.5}\\right)^{2}} - 1\\right)^{2} + 4 R^{2} m^{2} \\sigma_{R}^{2} \\left(\\frac{g t^{2}}{2 \\left(- \\left(- x_{0} + x_{3}\\right)^{0.5} + \\left(- x_{0} + x_{4}\\right)^{0.5}\\right)^{2}} - 1\\right)^{2}}=\\sqrt{0.0001^{2} \\cdot 0.029^{4} \\left(\\frac{0.75 \\cdot 6.49^{2}}{2 \\left(- \\left(- 0.75 + 0.74\\right)^{0.5} + \\left(- 0.75 + 0.075\\right)^{0.5}\\right)^{2}} - 1\\right)^{2} + \\frac{0.25 \\cdot 0.001^{2} \\cdot 0.029^{4} \\cdot 0.2167^{2} \\cdot 0.75^{2} \\cdot 6.49^{4}}{\\left(- 0.75 + 0.075\\right)^{1.0} \\left(- \\left(- 0.75 + 0.74\\right)^{0.5} + \\left(- 0.75 + 0.075\\right)^{0.5}\\right)^{6}} + \\frac{0.001^{2} \\cdot 0.029^{4} \\cdot 0.2167^{2} \\cdot 0.75^{2} \\cdot 6.49^{4} \\left(\\left(- 0.75 + 0.075\\right)^{-0.5} - \\frac{1.0}{\\left(- 0.75 + 0.74\\right)^{0.5}}\\right)^{2}}{4 \\left(- \\left(- 0.75 + 0.74\\right)^{0.5} + \\left(- 0.75 + 0.075\\right)^{0.5}\\right)^{6}} + \\frac{0.25 \\cdot 0.001^{2} \\cdot 0.029^{4} \\cdot 0.2167^{2} \\cdot 0.75^{2} \\cdot 6.49^{4}}{\\left(- 0.75 + 0.74\\right)^{1.0} \\left(- \\left(- 0.75 + 0.74\\right)^{0.5} + \\left(- 0.75 + 0.075\\right)^{0.5}\\right)^{6}} + \\frac{0.029^{4} \\cdot 0.09^{2} \\cdot 0.2167^{2} \\cdot 0.75^{2} \\cdot 6.49^{2}}{\\left(- \\left(- 0.75 + 0.74\\right)^{0.5} + \\left(- 0.75 + 0.075\\right)^{0.5}\\right)^{4}} + 4 \\cdot 0.001^{2} \\cdot 0.029^{2} \\cdot 0.2167^{2} \\left(\\frac{0.75 \\cdot 6.49^{2}}{2 \\left(- \\left(- 0.75 + 0.74\\right)^{0.5} + \\left(- 0.75 + 0.075\\right)^{0.5}\\right)^{2}} - 1\\right)^{2}}=0.000434869958794244\\\\R^{2} m \\left(\\frac{g t^{2}}{2 \\left(- \\left(- x_{0} + x_{3}\\right)^{0.5} + \\left(- x_{0} + x_{4}\\right)^{0.5}\\right)^{2}} - 1\\right)= 0.2167*0.029**2*(0.75*6.49**2/(2*(-(-0.75 + 0.74)**0.5 + (-0.75 + 0.075)**0.5)**2) - 1) = -0.0057 \\pm 0.0004$"
      ],
      "text/plain": [
       "<IPython.core.display.Math object>"
      ]
     },
     "metadata": {},
     "output_type": "display_data"
    }
   ],
   "source": [
    "m = Symbol('m')\n",
    "m_1 = Symbol('m_1')\n",
    "R = Symbol('R')\n",
    "R_1 = Symbol(\"R_1\")\n",
    "x_3 = Symbol('x_3')\n",
    "x_0 = Symbol('x_0')\n",
    "x_4 = Symbol('x_4')\n",
    "t = Symbol('t')\n",
    "g = Symbol('g')\n",
    "J = m * R ** 2 * (g * t ** 2 / (2*((x_4 - x_0) ** 0.5 - (x_3 - x_0) ** 0.5)**2) - 1)\n",
    "display(Math(print_with_deviation(J, {\n",
    "    m: get_pair(value=0.2167, deviation=0.0001),\n",
    "    m_1: get_pair(value=0.1298, deviation=0.0001),\n",
    "    t: get_pair(value=6.49, deviation=0.09),\n",
    "    R: get_pair(value=0.029, deviation=0.001),\n",
    "    R_1: get_pair(value=0.02, deviation=0.001),\n",
    "    x_3: get_pair(value=0.74, deviation=0.001),\n",
    "    x_0: get_pair(value=0.75, deviation=0.001),\n",
    "    x_4: get_pair(value=0.075, deviation=0.001),\n",
    "    g: get_pair(value=0.75, deviation=0.001)\n",
    "}, {g})))"
   ]
  },
  {
   "cell_type": "code",
   "execution_count": 13,
   "metadata": {},
   "outputs": [
    {
     "data": {
      "text/plain": [
       "0.0037870972080417883"
      ]
     },
     "execution_count": 13,
     "metadata": {},
     "output_type": "execute_result"
    }
   ],
   "source": [
    "sum(((stal[::,0] - stalmid) ** 2 + (stal[::,1] - stalmid)**2) / (20 * 19)) ** 0.5 "
   ]
  },
  {
   "cell_type": "code",
   "execution_count": 14,
   "metadata": {},
   "outputs": [
    {
     "data": {
      "text/plain": [
       "0.007838837185517545"
      ]
     },
     "execution_count": 14,
     "metadata": {},
     "output_type": "execute_result"
    }
   ],
   "source": [
    "sum(((med[::,0] - medmid) ** 2 + (med[::,1] - medmid)**2) / (20 * 19)) ** 0.5 "
   ]
  },
  {
   "cell_type": "code",
   "execution_count": 15,
   "metadata": {},
   "outputs": [
    {
     "data": {
      "text/plain": [
       "0.003284733426658932"
      ]
     },
     "execution_count": 15,
     "metadata": {},
     "output_type": "execute_result"
    }
   ],
   "source": [
    "sum(((dural[::,0] - duralmid) ** 2 + (dural[::,1] - duralmid)**2) / (20 * 19)) ** 0.5 "
   ]
  },
  {
   "cell_type": "code",
   "execution_count": 31,
   "metadata": {},
   "outputs": [
    {
     "name": "stdout",
     "output_type": "stream",
     "text": [
      "(Decimal('0.627'), Decimal('0.007'))\n"
     ]
    }
   ],
   "source": [
    "a, b = standard_deviation([0.64, 0.62, 0.62])\n",
    "print(rounding(a, b))"
   ]
  },
  {
   "cell_type": "code",
   "execution_count": 33,
   "metadata": {},
   "outputs": [
    {
     "data": {
      "text/plain": [
       "0.007615773105863909"
      ]
     },
     "execution_count": 33,
     "metadata": {},
     "output_type": "execute_result"
    }
   ],
   "source": [
    "(0.007 ** 2 + 0.003**2) ** 0.5"
   ]
  },
  {
   "cell_type": "code",
   "execution_count": 36,
   "metadata": {},
   "outputs": [],
   "source": [
    "m = Symbol('m')\n",
    "g = Symbol('g')\n",
    "l = Symbol('l')\n",
    "D1 = Symbol('D_1')\n",
    "D2 = Symbol('D_3')\n",
    "D3 = Symbol('D_2')\n",
    "A1 = Symbol('A_1')\n",
    "A2 = Symbol('A_2')\n",
    "A3 = Symbol('A_3')\n",
    "b = Symbol('b')\n",
    "a = Symbol('a')\n",
    "dct = {\n",
    "    g: get_pair(value=9.81, deviation=0.0),\n",
    "    m: get_pair(value=0.2127, deviation=0.0003),\n",
    "    l: get_pair(value=0.955, deviation=0.005),\n",
    "    D1: get_pair(value=0.000497, deviation=0.000006),\n",
    "    D2: get_pair(value=0.000567, deviation=0.000006),\n",
    "    D3: get_pair(value=0.000627, deviation=0.000008),\n",
    "    A1: get_pair(value=9.7545 * 10 ** -5, deviation=0.0),\n",
    "    A2: get_pair(value=8.1667 * 10 ** -5, deviation=0.0),\n",
    "    A3: get_pair(value=5.4606 * 10 ** -5, deviation=0.0),\n",
    "    b: get_pair(value=0.040, deviation=0.001),\n",
    "    a: get_pair(value=0.1065, deviation=0.001)\n",
    "}\n",
    "E1 = (g * 4 * l * a * m) / (numpy.pi * D1 ** 2 * A1 * b)\n",
    "E2 = (g * 4 * l * a * m) / (numpy.pi * D2 ** 2 * A2 * b)\n",
    "E3 = (g * 4 * l * a * m) / (numpy.pi * D3 ** 2 * A3 * b)\n",
    "from IPython.display import display, Math, Latex"
   ]
  },
  {
   "cell_type": "code",
   "execution_count": 38,
   "metadata": {},
   "outputs": [
    {
     "data": {
      "text/latex": [
       "$\\displaystyle \\sqrt{\\frac{1.6211389382774 a^{2} g^{2} l^{2} \\sigma_{m}^{2}}{A_{1}^{2} D_{1}^{4} b^{2}} + \\frac{1.6211389382774 a^{2} g^{2} m^{2} \\sigma_{l}^{2}}{A_{1}^{2} D_{1}^{4} b^{2}} + \\frac{1.6211389382774 a^{2} l^{2} m^{2} \\sigma_{g}^{2}}{A_{1}^{2} D_{1}^{4} b^{2}} + \\frac{1.6211389382774 a^{2} g^{2} l^{2} m^{2} \\sigma_{b}^{2}}{A_{1}^{2} D_{1}^{4} b^{4}} + \\frac{1.6211389382774 g^{2} l^{2} m^{2} \\sigma_{a}^{2}}{A_{1}^{2} D_{1}^{4} b^{2}} + \\frac{6.48455575310962 a^{2} g^{2} l^{2} m^{2} \\sigma_{D 1}^{2}}{A_{1}^{2} D_{1}^{6} b^{2}} + \\frac{1.6211389382774 a^{2} g^{2} l^{2} m^{2} \\sigma_{A 1}^{2}}{A_{1}^{4} D_{1}^{4} b^{2}}}=\\sqrt{\\frac{1.6211389382774 \\cdot 0.0^{2} \\cdot 0.1065^{2} \\cdot 0.2127^{2} \\cdot 0.955^{2}}{6.1013446081 \\cdot 10^{-14} \\cdot 9.515027025 \\cdot 10^{-9} \\cdot 0.0016} + \\frac{1.6211389382774 \\cdot 0.0^{2} \\cdot 0.1065^{2} \\cdot 0.2127^{2} \\cdot 0.955^{2} \\cdot 9.81^{2}}{9.05357392864804 \\cdot 10^{-17} \\cdot 6.1013446081 \\cdot 10^{-14} \\cdot 0.0016} + \\frac{1.6211389382774 \\cdot 0.0003^{2} \\cdot 0.1065^{2} \\cdot 0.955^{2} \\cdot 9.81^{2}}{6.1013446081 \\cdot 10^{-14} \\cdot 9.515027025 \\cdot 10^{-9} \\cdot 0.0016} + \\frac{1.6211389382774 \\cdot 0.005^{2} \\cdot 0.1065^{2} \\cdot 0.2127^{2} \\cdot 9.81^{2}}{6.1013446081 \\cdot 10^{-14} \\cdot 9.515027025 \\cdot 10^{-9} \\cdot 0.0016} + \\frac{1.6211389382774 \\cdot 0.001^{2} \\cdot 0.2127^{2} \\cdot 0.955^{2} \\cdot 9.81^{2}}{6.1013446081 \\cdot 10^{-14} \\cdot 9.515027025 \\cdot 10^{-9} \\cdot 0.0016} + \\frac{6.48455575310962 \\cdot 0.1065^{2} \\cdot 0.2127^{2} \\cdot 0.955^{2} \\cdot 6.0 \\cdot 10^{-6}^{2} \\cdot 9.81^{2}}{1.50708703030217 \\cdot 10^{-20} \\cdot 9.515027025 \\cdot 10^{-9} \\cdot 0.0016} + \\frac{1.6211389382774 \\cdot 0.001^{2} \\cdot 0.1065^{2} \\cdot 0.2127^{2} \\cdot 0.955^{2} \\cdot 9.81^{2}}{6.1013446081 \\cdot 10^{-14} \\cdot 9.515027025 \\cdot 10^{-9} \\cdot 2.56 \\cdot 10^{-6}}}=10207478598.3195\\\\\\frac{1.27323954473516 a g l m}{A_{1} D_{1}^{2} b}= 0.1065*0.2127*0.955*1.27323954473516*9.81/(0.000497**2*0.04*9.7545e-5) = 2.80E+11 \\pm 1.0E+10$"
      ],
      "text/plain": [
       "<IPython.core.display.Math object>"
      ]
     },
     "metadata": {},
     "output_type": "display_data"
    }
   ],
   "source": [
    "display(Math(print_with_deviation(E1, dct, set())))"
   ]
  },
  {
   "cell_type": "code",
   "execution_count": 39,
   "metadata": {},
   "outputs": [
    {
     "data": {
      "text/latex": [
       "$\\displaystyle \\sqrt{\\frac{1.6211389382774 a^{2} g^{2} l^{2} \\sigma_{m}^{2}}{A_{2}^{2} D_{3}^{4} b^{2}} + \\frac{1.6211389382774 a^{2} g^{2} m^{2} \\sigma_{l}^{2}}{A_{2}^{2} D_{3}^{4} b^{2}} + \\frac{1.6211389382774 a^{2} l^{2} m^{2} \\sigma_{g}^{2}}{A_{2}^{2} D_{3}^{4} b^{2}} + \\frac{1.6211389382774 a^{2} g^{2} l^{2} m^{2} \\sigma_{b}^{2}}{A_{2}^{2} D_{3}^{4} b^{4}} + \\frac{1.6211389382774 g^{2} l^{2} m^{2} \\sigma_{a}^{2}}{A_{2}^{2} D_{3}^{4} b^{2}} + \\frac{6.48455575310962 a^{2} g^{2} l^{2} m^{2} \\sigma_{D 3}^{2}}{A_{2}^{2} D_{3}^{6} b^{2}} + \\frac{1.6211389382774 a^{2} g^{2} l^{2} m^{2} \\sigma_{A 2}^{2}}{A_{2}^{4} D_{3}^{4} b^{2}}}=\\sqrt{\\frac{1.6211389382774 \\cdot 0.0^{2} \\cdot 0.1065^{2} \\cdot 0.2127^{2} \\cdot 0.955^{2}}{1.03355177121 \\cdot 10^{-13} \\cdot 6.669498889 \\cdot 10^{-9} \\cdot 0.0016} + \\frac{1.6211389382774 \\cdot 0.0^{2} \\cdot 0.1065^{2} \\cdot 0.2127^{2} \\cdot 0.955^{2} \\cdot 9.81^{2}}{4.44822154303723 \\cdot 10^{-17} \\cdot 1.03355177121 \\cdot 10^{-13} \\cdot 0.0016} + \\frac{1.6211389382774 \\cdot 0.0003^{2} \\cdot 0.1065^{2} \\cdot 0.955^{2} \\cdot 9.81^{2}}{1.03355177121 \\cdot 10^{-13} \\cdot 6.669498889 \\cdot 10^{-9} \\cdot 0.0016} + \\frac{1.6211389382774 \\cdot 0.005^{2} \\cdot 0.1065^{2} \\cdot 0.2127^{2} \\cdot 9.81^{2}}{1.03355177121 \\cdot 10^{-13} \\cdot 6.669498889 \\cdot 10^{-9} \\cdot 0.0016} + \\frac{1.6211389382774 \\cdot 0.001^{2} \\cdot 0.2127^{2} \\cdot 0.955^{2} \\cdot 9.81^{2}}{1.03355177121 \\cdot 10^{-13} \\cdot 6.669498889 \\cdot 10^{-9} \\cdot 0.0016} + \\frac{6.48455575310962 \\cdot 0.1065^{2} \\cdot 0.2127^{2} \\cdot 0.955^{2} \\cdot 6.0 \\cdot 10^{-6}^{2} \\cdot 9.81^{2}}{3.32275525374532 \\cdot 10^{-20} \\cdot 6.669498889 \\cdot 10^{-9} \\cdot 0.0016} + \\frac{1.6211389382774 \\cdot 0.001^{2} \\cdot 0.1065^{2} \\cdot 0.2127^{2} \\cdot 0.955^{2} \\cdot 9.81^{2}}{1.03355177121 \\cdot 10^{-13} \\cdot 6.669498889 \\cdot 10^{-9} \\cdot 2.56 \\cdot 10^{-6}}}=8877453513.30508\\\\\\frac{1.27323954473516 a g l m}{A_{2} D_{3}^{2} b}= 0.1065*0.2127*0.955*1.27323954473516*9.81/(0.000567**2*0.04*8.1667e-5) = 2.57E+11 \\pm 9E+9$"
      ],
      "text/plain": [
       "<IPython.core.display.Math object>"
      ]
     },
     "metadata": {},
     "output_type": "display_data"
    }
   ],
   "source": [
    "display(Math(print_with_deviation(E2, dct, set())))"
   ]
  },
  {
   "cell_type": "code",
   "execution_count": 40,
   "metadata": {},
   "outputs": [
    {
     "data": {
      "text/latex": [
       "$\\displaystyle \\sqrt{\\frac{1.6211389382774 a^{2} g^{2} l^{2} \\sigma_{m}^{2}}{A_{3}^{2} D_{2}^{4} b^{2}} + \\frac{1.6211389382774 a^{2} g^{2} m^{2} \\sigma_{l}^{2}}{A_{3}^{2} D_{2}^{4} b^{2}} + \\frac{1.6211389382774 a^{2} l^{2} m^{2} \\sigma_{g}^{2}}{A_{3}^{2} D_{2}^{4} b^{2}} + \\frac{1.6211389382774 a^{2} g^{2} l^{2} m^{2} \\sigma_{b}^{2}}{A_{3}^{2} D_{2}^{4} b^{4}} + \\frac{1.6211389382774 g^{2} l^{2} m^{2} \\sigma_{a}^{2}}{A_{3}^{2} D_{2}^{4} b^{2}} + \\frac{6.48455575310962 a^{2} g^{2} l^{2} m^{2} \\sigma_{D 2}^{2}}{A_{3}^{2} D_{2}^{6} b^{2}} + \\frac{1.6211389382774 a^{2} g^{2} l^{2} m^{2} \\sigma_{A 3}^{2}}{A_{3}^{4} D_{2}^{4} b^{2}}}=\\sqrt{\\frac{1.6211389382774 \\cdot 0.0^{2} \\cdot 0.1065^{2} \\cdot 0.2127^{2} \\cdot 0.955^{2}}{1.54550410641 \\cdot 10^{-13} \\cdot 2.981815236 \\cdot 10^{-9} \\cdot 0.0016} + \\frac{1.6211389382774 \\cdot 0.0^{2} \\cdot 0.1065^{2} \\cdot 0.2127^{2} \\cdot 0.955^{2} \\cdot 9.81^{2}}{8.89122210164174 \\cdot 10^{-18} \\cdot 1.54550410641 \\cdot 10^{-13} \\cdot 0.0016} + \\frac{1.6211389382774 \\cdot 0.0003^{2} \\cdot 0.1065^{2} \\cdot 0.955^{2} \\cdot 9.81^{2}}{1.54550410641 \\cdot 10^{-13} \\cdot 2.981815236 \\cdot 10^{-9} \\cdot 0.0016} + \\frac{1.6211389382774 \\cdot 0.005^{2} \\cdot 0.1065^{2} \\cdot 0.2127^{2} \\cdot 9.81^{2}}{1.54550410641 \\cdot 10^{-13} \\cdot 2.981815236 \\cdot 10^{-9} \\cdot 0.0016} + \\frac{1.6211389382774 \\cdot 0.001^{2} \\cdot 0.2127^{2} \\cdot 0.955^{2} \\cdot 9.81^{2}}{1.54550410641 \\cdot 10^{-13} \\cdot 2.981815236 \\cdot 10^{-9} \\cdot 0.0016} + \\frac{1.6211389382774 \\cdot 0.001^{2} \\cdot 0.1065^{2} \\cdot 0.2127^{2} \\cdot 0.955^{2} \\cdot 9.81^{2}}{1.54550410641 \\cdot 10^{-13} \\cdot 2.981815236 \\cdot 10^{-9} \\cdot 2.56 \\cdot 10^{-6}} + \\frac{6.48455575310962 \\cdot 0.1065^{2} \\cdot 0.2127^{2} \\cdot 0.955^{2} \\cdot 8.0 \\cdot 10^{-6}^{2} \\cdot 9.81^{2}}{6.07582483848857 \\cdot 10^{-20} \\cdot 2.981815236 \\cdot 10^{-9} \\cdot 0.0016}}=11747812124.6380\\\\\\frac{1.27323954473516 a g l m}{A_{3} D_{2}^{2} b}= 0.1065*0.2127*0.955*1.27323954473516*9.81/(0.000627**2*0.04*5.4606e-5) = 3.15E+11 \\pm 1.2E+10$"
      ],
      "text/plain": [
       "<IPython.core.display.Math object>"
      ]
     },
     "metadata": {},
     "output_type": "display_data"
    }
   ],
   "source": [
    "display(Math(print_with_deviation(E3, dct, set())))"
   ]
  },
  {
   "cell_type": "code",
   "execution_count": 47,
   "metadata": {},
   "outputs": [
    {
     "name": "stdout",
     "output_type": "stream",
     "text": [
      "(Decimal('10.20'), Decimal('0.07'))\n"
     ]
    }
   ],
   "source": [
    "a, b = standard_deviation([10.1, 10.3, 10.1, 10.3, 10.2])\n",
    "b = (b ** 2 + 0.05 ** 2) ** 0.5\n",
    "print(rounding(a, b))"
   ]
  },
  {
   "cell_type": "code",
   "execution_count": 42,
   "metadata": {},
   "outputs": [
    {
     "data": {
      "text/plain": [
       "0.06403124237432849"
      ]
     },
     "execution_count": 42,
     "metadata": {},
     "output_type": "execute_result"
    }
   ],
   "source": [
    "(0.05 ** 2 + 0.04**2)**0.5"
   ]
  },
  {
   "cell_type": "code",
   "execution_count": 53,
   "metadata": {},
   "outputs": [
    {
     "data": {
      "text/latex": [
       "$\\displaystyle 0.0036231884057971 \\sqrt{\\frac{\\sigma_{S}^{2}}{\\left(1.31274942239025 \\cdot 10^{-5} S^{2} + 1\\right)^{2}}}=0.0036231884057971 \\sqrt{\\frac{0.07^{2}}{\\left(1.31274942239025 \\cdot 10^{-5} \\cdot 10.2^{2} + 1\\right)^{2}}}=0.000253277266241601\\\\\\operatorname{atan}{\\left (0.0036231884057971 S \\right )}= atan(0.0036231884057971*10.2) = 0.0369 \\pm 0.0003$"
      ],
      "text/plain": [
       "<IPython.core.display.Math object>"
      ]
     },
     "metadata": {},
     "output_type": "display_data"
    }
   ],
   "source": [
    "S = Symbol('S')\n",
    "a = atan(S / 276.0)\n",
    "display(Math(print_with_deviation(a, {S: (10.20, 0.07)}, set())))"
   ]
  },
  {
   "cell_type": "code",
   "execution_count": 59,
   "metadata": {},
   "outputs": [
    {
     "data": {
      "text/latex": [
       "$\\displaystyle \\sqrt{\\frac{\\sigma_{a}^{2} \\left(g l\\right)^{1.0} \\left(M + m\\right)^{2} \\cos^{2}{\\left (\\frac{a}{2} \\right )}}{m^{2}}}=\\sqrt{\\frac{0.0003^{2} \\left(2.76 \\cdot 9.81\\right)^{1.0} \\left(16.29 + 440.8\\right)^{2} \\cos^{2}{\\left (\\frac{0.0369}{2} \\right )}}{265.3641}}=0.0437942419693552\\\\\\frac{2 \\left(g l\\right)^{0.5} \\left(M + m\\right) \\sin{\\left (\\frac{a}{2} \\right )}}{m}= 2*(2.76*9.81)**0.5*(16.29 + 440.8)*sin(0.0369/2)/16.29 = 5.39 \\pm 0.04$"
      ],
      "text/plain": [
       "<IPython.core.display.Math object>"
      ]
     },
     "metadata": {},
     "output_type": "display_data"
    }
   ],
   "source": [
    "M = Symbol(\"M\")\n",
    "m = Symbol(\"m\")\n",
    "g = Symbol(\"g\")\n",
    "l = Symbol(\"l\")\n",
    "a = Symbol(\"a\")\n",
    "dct = {\n",
    "    g: get_pair(value=9.81, deviation=0.0),\n",
    "    l: get_pair(value=2.76, deviation=0.0),\n",
    "    a: get_pair(value=0.0369, deviation=0.0003),\n",
    "    m: get_pair(value=16.29, deviation=0.0),\n",
    "    M: get_pair(value=440.8, deviation=0.0)\n",
    "}\n",
    "v = (M + m) / m * (g * l) ** 0.5 * 2 * sin(a / 2)\n",
    "display(Math(print_with_deviation(v, dct, {M, m, g, l})))"
   ]
  },
  {
   "cell_type": "code",
   "execution_count": 65,
   "metadata": {},
   "outputs": [
    {
     "data": {
      "text/latex": [
       "$\\displaystyle 2 \\sqrt{\\frac{\\sigma_{v}^{2}}{v^{6}}}=2 \\sqrt{\\frac{0.04^{2}}{24520.6845950908}}=0.000510885635000095\\\\\\frac{1}{v^{2}}= 5.39**(-2) = 0.0344 \\pm 0.0005$"
      ],
      "text/plain": [
       "<IPython.core.display.Math object>"
      ]
     },
     "metadata": {},
     "output_type": "display_data"
    }
   ],
   "source": [
    "v = Symbol('v')\n",
    "f = 1 / v**2\n",
    "dct = {v : (5.39, 0.04)}\n",
    "display(Math(print_with_deviation(f, dct, set())))"
   ]
  },
  {
   "cell_type": "code",
   "execution_count": 7,
   "metadata": {},
   "outputs": [
    {
     "data": {
      "image/png": "[encoded data removed]",
      "text/plain": [
       "<Figure size 576x432 with 1 Axes>"
      ]
     },
     "metadata": {
      "needs_background": "light"
     },
     "output_type": "display_data"
    }
   ],
   "source": [
    "%matplotlib inline\n",
    "import numpy as np\n",
    "from praclib import *\n",
    "import matplotlib.pyplot as plt\n",
    "plt.figure(num=1, figsize=(8, 6))\n",
    "plt.title('Task 2', size=14)\n",
    "plt.xlabel('$m, kg$', size=14)\n",
    "plt.ylabel('$f, s^2 / m ^2$', size=14)\n",
    "xData = [0.00313, 0.01016, 0.01275, 0.01629]\n",
    "yData = [0.0326, 0.0329, 0.0327, 0.0344]\n",
    "sigma = [0.0018, 0.0011, 0.0005, 0.0005]\n",
    "ffit = np.polynomial.polynomial.Polynomial(\n",
    "    np.polynomial.polynomial.polyfit(xData, yData, 1)\n",
    ")\n",
    "yData2 = list(map(ffit, xData))\n",
    "\n",
    "plt.plot(xData, yData, color='r', linestyle='', marker='o', linewidth=1,\n",
    "         label='$A = {:1.4f}\\\\:B = {:1.4f}\\\\:r = {:1.4f}\\\\:\\\\sigma_a = {:1.4f}$'.format(ffit(1) - ffit(0), ffit(0),\n",
    "                                                                               get_r(yData, xData), get_sigma_a(xData, sigma)))\n",
    "plt.plot(xData, yData2, color='r', linestyle='-', marker='')\n",
    "\n",
    "\n",
    "plt.legend(loc='upper left')\n",
    "plt.savefig('images/plot103_3.png', format='png')\n",
    "plt.show()"
   ]
  },
  {
   "cell_type": "code",
   "execution_count": 6,
   "metadata": {},
   "outputs": [
    {
     "data": {
      "text/latex": [
       "$\\displaystyle \\frac{\\sqrt{\\frac{\\sigma_{a}^{2}}{a^{4}}}}{2}=\\frac{\\sqrt{\\frac{0.0247^{2}}{0.0158644126350801}}}{2}=0.0980516618724565\\\\\\frac{1}{2 a}= 1/(2*0.3549) = 1.41 \\pm 0.10$"
      ],
      "text/plain": [
       "<IPython.core.display.Math object>"
      ]
     },
     "metadata": {},
     "output_type": "display_data"
    }
   ],
   "source": [
    "from IPython.display import display, Math, Latex\n",
    "a = Symbol('a')\n",
    "E = 1 / (2 * a)\n",
    "display(Math(print_with_deviation(E, {a: (0.3549, 0.0247)}, set())))"
   ]
  },
  {
   "cell_type": "code",
   "execution_count": null,
   "metadata": {},
   "outputs": [],
   "source": []
  }
 ],
 "metadata": {
  "kernelspec": {
   "display_name": "Python 3",
   "language": "python",
   "name": "python3"
  },
  "language_info": {
   "codemirror_mode": {
    "name": "ipython",
    "version": 3
   },
   "file_extension": ".py",
   "mimetype": "text/x-python",
   "name": "python",
   "nbconvert_exporter": "python",
   "pygments_lexer": "ipython3",
   "version": "3.6.7"
  }
 },
 "nbformat": 4,
 "nbformat_minor": 1
}
